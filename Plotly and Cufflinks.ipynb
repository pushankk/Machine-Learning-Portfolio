{
 "cells": [
  {
   "cell_type": "markdown",
   "metadata": {},
   "source": [
    "\n",
    "# Plotly and Cufflinks"
   ]
  },
  {
   "cell_type": "markdown",
   "metadata": {},
   "source": [
    "Plotly is a library that allows you to create interactive plots that you can use in dashboards or websites (you can save them as html files or static images).\n",
    "\n",
    "## Installation\n",
    "\n",
    "In order for this all to work, you'll need to install plotly and cufflinks to call plots directly off of a pandas dataframe. These libraries are not currently available through **conda** but are available through **pip**. Install the libraries at your command line/terminal using:\n",
    "\n",
    "    pip install plotly\n",
    "    pip install cufflinks\n",
    "\n",
    "** NOTE: Make sure you only have one installation of Python on your computer when you do this, otherwise the installation may not work. **\n",
    "\n",
    "## Imports and Set-up"
   ]
  },
  {
   "cell_type": "code",
   "execution_count": 1,
   "metadata": {},
   "outputs": [],
   "source": [
    "import pandas as pd\n",
    "import numpy as np\n",
    "%matplotlib inline"
   ]
  },
  {
   "cell_type": "code",
   "execution_count": 11,
   "metadata": {},
   "outputs": [
    {
     "name": "stdout",
     "output_type": "stream",
     "text": [
      "5.6.0\n"
     ]
    }
   ],
   "source": [
    "from plotly import __version__\n",
    "from plotly.offline import download_plotlyjs, init_notebook_mode, plot, iplot\n",
    "import chart_studio.plotly as py\n",
    "\n",
    "print(__version__) # requires version >= 1.9.0"
   ]
  },
  {
   "cell_type": "code",
   "execution_count": 12,
   "metadata": {},
   "outputs": [],
   "source": [
    "import cufflinks as cf"
   ]
  },
  {
   "cell_type": "code",
   "execution_count": 13,
   "metadata": {},
   "outputs": [
    {
     "data": {
      "text/html": [
       "        <script type=\"text/javascript\">\n",
       "        window.PlotlyConfig = {MathJaxConfig: 'local'};\n",
       "        if (window.MathJax) {MathJax.Hub.Config({SVG: {font: \"STIX-Web\"}});}\n",
       "        if (typeof require !== 'undefined') {\n",
       "        require.undef(\"plotly\");\n",
       "        requirejs.config({\n",
       "            paths: {\n",
       "                'plotly': ['https://cdn.plot.ly/plotly-2.9.0.min']\n",
       "            }\n",
       "        });\n",
       "        require(['plotly'], function(Plotly) {\n",
       "            window._Plotly = Plotly;\n",
       "        });\n",
       "        }\n",
       "        </script>\n",
       "        "
      ]
     },
     "metadata": {},
     "output_type": "display_data"
    }
   ],
   "source": [
    "# For Notebooks\n",
    "init_notebook_mode(connected=True)"
   ]
  },
  {
   "cell_type": "code",
   "execution_count": 14,
   "metadata": {},
   "outputs": [
    {
     "data": {
      "text/html": [
       "        <script type=\"text/javascript\">\n",
       "        window.PlotlyConfig = {MathJaxConfig: 'local'};\n",
       "        if (window.MathJax) {MathJax.Hub.Config({SVG: {font: \"STIX-Web\"}});}\n",
       "        if (typeof require !== 'undefined') {\n",
       "        require.undef(\"plotly\");\n",
       "        requirejs.config({\n",
       "            paths: {\n",
       "                'plotly': ['https://cdn.plot.ly/plotly-2.9.0.min']\n",
       "            }\n",
       "        });\n",
       "        require(['plotly'], function(Plotly) {\n",
       "            window._Plotly = Plotly;\n",
       "        });\n",
       "        }\n",
       "        </script>\n",
       "        "
      ]
     },
     "metadata": {},
     "output_type": "display_data"
    }
   ],
   "source": [
    "# For offline use\n",
    "cf.go_offline()"
   ]
  },
  {
   "cell_type": "markdown",
   "metadata": {},
   "source": [
    "### Fake Data"
   ]
  },
  {
   "cell_type": "code",
   "execution_count": 15,
   "metadata": {},
   "outputs": [],
   "source": [
    "df = pd.DataFrame(np.random.randn(100,4),columns='A B C D'.split())"
   ]
  },
  {
   "cell_type": "code",
   "execution_count": 16,
   "metadata": {},
   "outputs": [
    {
     "data": {
      "text/html": [
       "<div>\n",
       "<style scoped>\n",
       "    .dataframe tbody tr th:only-of-type {\n",
       "        vertical-align: middle;\n",
       "    }\n",
       "\n",
       "    .dataframe tbody tr th {\n",
       "        vertical-align: top;\n",
       "    }\n",
       "\n",
       "    .dataframe thead th {\n",
       "        text-align: right;\n",
       "    }\n",
       "</style>\n",
       "<table border=\"1\" class=\"dataframe\">\n",
       "  <thead>\n",
       "    <tr style=\"text-align: right;\">\n",
       "      <th></th>\n",
       "      <th>A</th>\n",
       "      <th>B</th>\n",
       "      <th>C</th>\n",
       "      <th>D</th>\n",
       "    </tr>\n",
       "  </thead>\n",
       "  <tbody>\n",
       "    <tr>\n",
       "      <th>0</th>\n",
       "      <td>-0.705183</td>\n",
       "      <td>-1.701301</td>\n",
       "      <td>-0.019997</td>\n",
       "      <td>0.060192</td>\n",
       "    </tr>\n",
       "    <tr>\n",
       "      <th>1</th>\n",
       "      <td>0.439223</td>\n",
       "      <td>0.372611</td>\n",
       "      <td>-0.260255</td>\n",
       "      <td>-0.316476</td>\n",
       "    </tr>\n",
       "    <tr>\n",
       "      <th>2</th>\n",
       "      <td>-0.248701</td>\n",
       "      <td>-0.975405</td>\n",
       "      <td>-0.221525</td>\n",
       "      <td>-1.143121</td>\n",
       "    </tr>\n",
       "    <tr>\n",
       "      <th>3</th>\n",
       "      <td>2.057259</td>\n",
       "      <td>-1.431091</td>\n",
       "      <td>-0.860249</td>\n",
       "      <td>0.988954</td>\n",
       "    </tr>\n",
       "    <tr>\n",
       "      <th>4</th>\n",
       "      <td>0.992803</td>\n",
       "      <td>-0.494956</td>\n",
       "      <td>1.687386</td>\n",
       "      <td>-0.524658</td>\n",
       "    </tr>\n",
       "  </tbody>\n",
       "</table>\n",
       "</div>"
      ],
      "text/plain": [
       "          A         B         C         D\n",
       "0 -0.705183 -1.701301 -0.019997  0.060192\n",
       "1  0.439223  0.372611 -0.260255 -0.316476\n",
       "2 -0.248701 -0.975405 -0.221525 -1.143121\n",
       "3  2.057259 -1.431091 -0.860249  0.988954\n",
       "4  0.992803 -0.494956  1.687386 -0.524658"
      ]
     },
     "execution_count": 16,
     "metadata": {},
     "output_type": "execute_result"
    }
   ],
   "source": [
    "df.head()"
   ]
  },
  {
   "cell_type": "code",
   "execution_count": 17,
   "metadata": {},
   "outputs": [],
   "source": [
    "df2 = pd.DataFrame({'Category':['A','B','C'],'Values':[32,43,50]})"
   ]
  },
  {
   "cell_type": "code",
   "execution_count": 18,
   "metadata": {},
   "outputs": [
    {
     "data": {
      "text/html": [
       "<div>\n",
       "<style scoped>\n",
       "    .dataframe tbody tr th:only-of-type {\n",
       "        vertical-align: middle;\n",
       "    }\n",
       "\n",
       "    .dataframe tbody tr th {\n",
       "        vertical-align: top;\n",
       "    }\n",
       "\n",
       "    .dataframe thead th {\n",
       "        text-align: right;\n",
       "    }\n",
       "</style>\n",
       "<table border=\"1\" class=\"dataframe\">\n",
       "  <thead>\n",
       "    <tr style=\"text-align: right;\">\n",
       "      <th></th>\n",
       "      <th>Category</th>\n",
       "      <th>Values</th>\n",
       "    </tr>\n",
       "  </thead>\n",
       "  <tbody>\n",
       "    <tr>\n",
       "      <th>0</th>\n",
       "      <td>A</td>\n",
       "      <td>32</td>\n",
       "    </tr>\n",
       "    <tr>\n",
       "      <th>1</th>\n",
       "      <td>B</td>\n",
       "      <td>43</td>\n",
       "    </tr>\n",
       "    <tr>\n",
       "      <th>2</th>\n",
       "      <td>C</td>\n",
       "      <td>50</td>\n",
       "    </tr>\n",
       "  </tbody>\n",
       "</table>\n",
       "</div>"
      ],
      "text/plain": [
       "  Category  Values\n",
       "0        A      32\n",
       "1        B      43\n",
       "2        C      50"
      ]
     },
     "execution_count": 18,
     "metadata": {},
     "output_type": "execute_result"
    }
   ],
   "source": [
    "df2.head()"
   ]
  },
  {
   "cell_type": "markdown",
   "metadata": {},
   "source": [
    "## Using Cufflinks and iplot()\n",
    "\n",
    "* scatter\n",
    "* bar\n",
    "* box\n",
    "* spread\n",
    "* ratio\n",
    "* heatmap\n",
    "* surface\n",
    "* histogram\n",
    "* bubble"
   ]
  },
  {
   "cell_type": "markdown",
   "metadata": {},
   "source": [
    "## Scatter"
   ]
  },
  {
   "cell_type": "code",
   "execution_count": 19,
   "metadata": {},
   "outputs": [
    {
     "data": {
      "application/vnd.plotly.v1+json": {
       "config": {
        "linkText": "Export to plot.ly",
        "plotlyServerURL": "https://plot.ly",
        "showLink": true
       },
       "data": [
        {
         "line": {
          "color": "rgba(255, 153, 51, 1.0)",
          "dash": "solid",
          "shape": "linear",
          "width": 1.3
         },
         "marker": {
          "size": 10,
          "symbol": "circle"
         },
         "mode": "markers",
         "name": "B",
         "text": "",
         "type": "scatter",
         "x": [
          -0.7051831481220451,
          0.43922270603827557,
          -0.24870124121465462,
          2.057258717584174,
          0.9928029700879529,
          -0.5614200505011286,
          -0.4525971471128819,
          -0.8425476141815342,
          0.22452019875816207,
          -1.0419304921342696,
          -0.596979459798248,
          -0.5136433270420201,
          -0.30109082273899646,
          -0.8437793523718262,
          -1.3019298542708193,
          -0.7469286394475176,
          -0.15606362034286694,
          1.0414201604476443,
          -1.6083459626882008,
          0.39757187428806584,
          0.9088622126821246,
          0.1288342090116408,
          0.9148982966185591,
          -0.9919522699380063,
          -0.3555543177539484,
          -0.0945839771416839,
          0.07575588211214367,
          -0.030106281406176865,
          -1.0074275350290345,
          0.13408162979612936,
          0.17796399981688318,
          -0.13570033957890884,
          0.784454763128047,
          1.5097312060988817,
          -0.8963002615710953,
          -0.6482105493446612,
          0.9841767167594909,
          1.241599591298693,
          0.2830256966654552,
          -0.6214143312238146,
          -0.09812462802196699,
          1.7546021754331227,
          -0.4020619004488187,
          2.687347057037032,
          0.35357279144602843,
          1.8980457695588686,
          -0.44205016471097835,
          1.342302156302457,
          -2.6086746796664086,
          -0.2422383762343922,
          0.020171641164645333,
          0.038833475065560404,
          0.7611381770555126,
          0.15908773656704006,
          0.06468045369400825,
          0.9822092545872925,
          -0.8066539137936216,
          -2.131153972171354,
          0.914030903086248,
          0.014514507630141022,
          0.3247783307436006,
          -1.0623521273207823,
          -0.5627431869802589,
          -1.1557172843024368,
          -0.3798027873441633,
          -0.1438001174563708,
          1.2573609083720851,
          0.43751117368337294,
          -0.22503926746541883,
          0.4090682819088985,
          0.6237103778312871,
          -1.229011584355428,
          1.5871669025342217,
          0.0407574102693247,
          -1.4536960876806284,
          -0.6222411663434749,
          0.10286155555958691,
          0.24028167035807485,
          1.4704070810483008,
          -0.18727545016936312,
          -0.5227882042145175,
          -0.41843157353403804,
          0.5095772093194731,
          0.5769946056343663,
          1.7298184287290328,
          -0.5459541749316872,
          -2.397909800294627,
          -0.4875778238404372,
          0.30477659153794356,
          -0.023161571453009136,
          -1.4053406325800621,
          2.1471994716512177,
          0.09979825143961732,
          -0.1643652940012639,
          -1.3072456396882137,
          0.29508527262263246,
          0.33142503229300063,
          -0.1601889859460664,
          -0.732556289003857,
          -0.7623909274097523
         ],
         "y": [
          -1.7013006760508602,
          0.3726110922373725,
          -0.9754051723074265,
          -1.4310905116703005,
          -0.49495580410156426,
          -0.23792853733818523,
          0.6820747164655667,
          -1.3244121992950646,
          0.844853852654464,
          -0.12712387910761966,
          0.07727653845877015,
          -1.6178919682285964,
          1.6620560366530401,
          1.699485017671733,
          -1.4933662810763182,
          -1.4420375546757855,
          0.00741199240362949,
          -2.061084183065256,
          -1.7697645039107246,
          1.9526086513272267,
          -0.20318056893072264,
          -1.3995600619671336,
          0.010642637425180183,
          1.0358081462914928,
          -0.37242494277677585,
          0.20667476003049706,
          -0.16267298076775957,
          0.7798128841823275,
          -0.35179459123935136,
          1.081467422627341,
          0.7077613301512333,
          -0.6110458049423005,
          -0.7446518379211517,
          0.47949213837655,
          -0.9540988719737546,
          0.1123688035076602,
          0.26169480514641313,
          -1.9475558614432522,
          -0.09404948355237926,
          -0.579998779191727,
          -0.9162076738199042,
          -1.3393615273245074,
          0.0788299847120889,
          0.6379938373868258,
          -0.8130888257415996,
          1.6611778058206665,
          -0.4813116087170946,
          -0.019547948800238503,
          1.331918402584154,
          -0.6571735272751751,
          -1.0682608537423943,
          -0.5733998113617014,
          0.29800706286622497,
          -1.365369741686114,
          1.3060602621305004,
          -0.4857256708152363,
          0.3445712175703463,
          1.2459952091278363,
          0.4409296584019077,
          -1.241525679399955,
          -0.017717831482726706,
          0.5284160702894732,
          0.7957565688596141,
          -0.7970539399473027,
          0.8452111615611503,
          0.6862207008234761,
          0.3928558456506407,
          0.21363798837630205,
          -1.1432047801812812,
          -0.09517977719340225,
          0.5218475516192701,
          -0.19272219613099298,
          1.05964041604494,
          0.2761071357701667,
          -0.7943275870137153,
          -1.1404461350535857,
          0.8603468722255645,
          -0.05852670388260969,
          1.3662802340147435,
          -0.7567889152604271,
          -0.3474788034623021,
          -0.23554292992878703,
          1.197373609772019,
          0.5754650080324972,
          -1.4125808720783122,
          0.30494901967571725,
          -1.5416465431940984,
          0.016412502071598608,
          0.3720332248482546,
          -1.3428792774194924,
          0.8857193838349164,
          0.6703174061080518,
          -0.7172600720684109,
          -0.21520251053018347,
          0.8786850026750797,
          -0.27803441786860095,
          1.8524411743566065,
          0.4529031345378013,
          -0.693555130039683,
          -0.72858737200973
         ]
        }
       ],
       "layout": {
        "legend": {
         "bgcolor": "#F5F6F9",
         "font": {
          "color": "#4D5663"
         }
        },
        "paper_bgcolor": "#F5F6F9",
        "plot_bgcolor": "#F5F6F9",
        "template": {
         "data": {
          "bar": [
           {
            "error_x": {
             "color": "#2a3f5f"
            },
            "error_y": {
             "color": "#2a3f5f"
            },
            "marker": {
             "line": {
              "color": "#E5ECF6",
              "width": 0.5
             },
             "pattern": {
              "fillmode": "overlay",
              "size": 10,
              "solidity": 0.2
             }
            },
            "type": "bar"
           }
          ],
          "barpolar": [
           {
            "marker": {
             "line": {
              "color": "#E5ECF6",
              "width": 0.5
             },
             "pattern": {
              "fillmode": "overlay",
              "size": 10,
              "solidity": 0.2
             }
            },
            "type": "barpolar"
           }
          ],
          "carpet": [
           {
            "aaxis": {
             "endlinecolor": "#2a3f5f",
             "gridcolor": "white",
             "linecolor": "white",
             "minorgridcolor": "white",
             "startlinecolor": "#2a3f5f"
            },
            "baxis": {
             "endlinecolor": "#2a3f5f",
             "gridcolor": "white",
             "linecolor": "white",
             "minorgridcolor": "white",
             "startlinecolor": "#2a3f5f"
            },
            "type": "carpet"
           }
          ],
          "choropleth": [
           {
            "colorbar": {
             "outlinewidth": 0,
             "ticks": ""
            },
            "type": "choropleth"
           }
          ],
          "contour": [
           {
            "colorbar": {
             "outlinewidth": 0,
             "ticks": ""
            },
            "colorscale": [
             [
              0,
              "#0d0887"
             ],
             [
              0.1111111111111111,
              "#46039f"
             ],
             [
              0.2222222222222222,
              "#7201a8"
             ],
             [
              0.3333333333333333,
              "#9c179e"
             ],
             [
              0.4444444444444444,
              "#bd3786"
             ],
             [
              0.5555555555555556,
              "#d8576b"
             ],
             [
              0.6666666666666666,
              "#ed7953"
             ],
             [
              0.7777777777777778,
              "#fb9f3a"
             ],
             [
              0.8888888888888888,
              "#fdca26"
             ],
             [
              1,
              "#f0f921"
             ]
            ],
            "type": "contour"
           }
          ],
          "contourcarpet": [
           {
            "colorbar": {
             "outlinewidth": 0,
             "ticks": ""
            },
            "type": "contourcarpet"
           }
          ],
          "heatmap": [
           {
            "colorbar": {
             "outlinewidth": 0,
             "ticks": ""
            },
            "colorscale": [
             [
              0,
              "#0d0887"
             ],
             [
              0.1111111111111111,
              "#46039f"
             ],
             [
              0.2222222222222222,
              "#7201a8"
             ],
             [
              0.3333333333333333,
              "#9c179e"
             ],
             [
              0.4444444444444444,
              "#bd3786"
             ],
             [
              0.5555555555555556,
              "#d8576b"
             ],
             [
              0.6666666666666666,
              "#ed7953"
             ],
             [
              0.7777777777777778,
              "#fb9f3a"
             ],
             [
              0.8888888888888888,
              "#fdca26"
             ],
             [
              1,
              "#f0f921"
             ]
            ],
            "type": "heatmap"
           }
          ],
          "heatmapgl": [
           {
            "colorbar": {
             "outlinewidth": 0,
             "ticks": ""
            },
            "colorscale": [
             [
              0,
              "#0d0887"
             ],
             [
              0.1111111111111111,
              "#46039f"
             ],
             [
              0.2222222222222222,
              "#7201a8"
             ],
             [
              0.3333333333333333,
              "#9c179e"
             ],
             [
              0.4444444444444444,
              "#bd3786"
             ],
             [
              0.5555555555555556,
              "#d8576b"
             ],
             [
              0.6666666666666666,
              "#ed7953"
             ],
             [
              0.7777777777777778,
              "#fb9f3a"
             ],
             [
              0.8888888888888888,
              "#fdca26"
             ],
             [
              1,
              "#f0f921"
             ]
            ],
            "type": "heatmapgl"
           }
          ],
          "histogram": [
           {
            "marker": {
             "pattern": {
              "fillmode": "overlay",
              "size": 10,
              "solidity": 0.2
             }
            },
            "type": "histogram"
           }
          ],
          "histogram2d": [
           {
            "colorbar": {
             "outlinewidth": 0,
             "ticks": ""
            },
            "colorscale": [
             [
              0,
              "#0d0887"
             ],
             [
              0.1111111111111111,
              "#46039f"
             ],
             [
              0.2222222222222222,
              "#7201a8"
             ],
             [
              0.3333333333333333,
              "#9c179e"
             ],
             [
              0.4444444444444444,
              "#bd3786"
             ],
             [
              0.5555555555555556,
              "#d8576b"
             ],
             [
              0.6666666666666666,
              "#ed7953"
             ],
             [
              0.7777777777777778,
              "#fb9f3a"
             ],
             [
              0.8888888888888888,
              "#fdca26"
             ],
             [
              1,
              "#f0f921"
             ]
            ],
            "type": "histogram2d"
           }
          ],
          "histogram2dcontour": [
           {
            "colorbar": {
             "outlinewidth": 0,
             "ticks": ""
            },
            "colorscale": [
             [
              0,
              "#0d0887"
             ],
             [
              0.1111111111111111,
              "#46039f"
             ],
             [
              0.2222222222222222,
              "#7201a8"
             ],
             [
              0.3333333333333333,
              "#9c179e"
             ],
             [
              0.4444444444444444,
              "#bd3786"
             ],
             [
              0.5555555555555556,
              "#d8576b"
             ],
             [
              0.6666666666666666,
              "#ed7953"
             ],
             [
              0.7777777777777778,
              "#fb9f3a"
             ],
             [
              0.8888888888888888,
              "#fdca26"
             ],
             [
              1,
              "#f0f921"
             ]
            ],
            "type": "histogram2dcontour"
           }
          ],
          "mesh3d": [
           {
            "colorbar": {
             "outlinewidth": 0,
             "ticks": ""
            },
            "type": "mesh3d"
           }
          ],
          "parcoords": [
           {
            "line": {
             "colorbar": {
              "outlinewidth": 0,
              "ticks": ""
             }
            },
            "type": "parcoords"
           }
          ],
          "pie": [
           {
            "automargin": true,
            "type": "pie"
           }
          ],
          "scatter": [
           {
            "marker": {
             "colorbar": {
              "outlinewidth": 0,
              "ticks": ""
             }
            },
            "type": "scatter"
           }
          ],
          "scatter3d": [
           {
            "line": {
             "colorbar": {
              "outlinewidth": 0,
              "ticks": ""
             }
            },
            "marker": {
             "colorbar": {
              "outlinewidth": 0,
              "ticks": ""
             }
            },
            "type": "scatter3d"
           }
          ],
          "scattercarpet": [
           {
            "marker": {
             "colorbar": {
              "outlinewidth": 0,
              "ticks": ""
             }
            },
            "type": "scattercarpet"
           }
          ],
          "scattergeo": [
           {
            "marker": {
             "colorbar": {
              "outlinewidth": 0,
              "ticks": ""
             }
            },
            "type": "scattergeo"
           }
          ],
          "scattergl": [
           {
            "marker": {
             "colorbar": {
              "outlinewidth": 0,
              "ticks": ""
             }
            },
            "type": "scattergl"
           }
          ],
          "scattermapbox": [
           {
            "marker": {
             "colorbar": {
              "outlinewidth": 0,
              "ticks": ""
             }
            },
            "type": "scattermapbox"
           }
          ],
          "scatterpolar": [
           {
            "marker": {
             "colorbar": {
              "outlinewidth": 0,
              "ticks": ""
             }
            },
            "type": "scatterpolar"
           }
          ],
          "scatterpolargl": [
           {
            "marker": {
             "colorbar": {
              "outlinewidth": 0,
              "ticks": ""
             }
            },
            "type": "scatterpolargl"
           }
          ],
          "scatterternary": [
           {
            "marker": {
             "colorbar": {
              "outlinewidth": 0,
              "ticks": ""
             }
            },
            "type": "scatterternary"
           }
          ],
          "surface": [
           {
            "colorbar": {
             "outlinewidth": 0,
             "ticks": ""
            },
            "colorscale": [
             [
              0,
              "#0d0887"
             ],
             [
              0.1111111111111111,
              "#46039f"
             ],
             [
              0.2222222222222222,
              "#7201a8"
             ],
             [
              0.3333333333333333,
              "#9c179e"
             ],
             [
              0.4444444444444444,
              "#bd3786"
             ],
             [
              0.5555555555555556,
              "#d8576b"
             ],
             [
              0.6666666666666666,
              "#ed7953"
             ],
             [
              0.7777777777777778,
              "#fb9f3a"
             ],
             [
              0.8888888888888888,
              "#fdca26"
             ],
             [
              1,
              "#f0f921"
             ]
            ],
            "type": "surface"
           }
          ],
          "table": [
           {
            "cells": {
             "fill": {
              "color": "#EBF0F8"
             },
             "line": {
              "color": "white"
             }
            },
            "header": {
             "fill": {
              "color": "#C8D4E3"
             },
             "line": {
              "color": "white"
             }
            },
            "type": "table"
           }
          ]
         },
         "layout": {
          "annotationdefaults": {
           "arrowcolor": "#2a3f5f",
           "arrowhead": 0,
           "arrowwidth": 1
          },
          "autotypenumbers": "strict",
          "coloraxis": {
           "colorbar": {
            "outlinewidth": 0,
            "ticks": ""
           }
          },
          "colorscale": {
           "diverging": [
            [
             0,
             "#8e0152"
            ],
            [
             0.1,
             "#c51b7d"
            ],
            [
             0.2,
             "#de77ae"
            ],
            [
             0.3,
             "#f1b6da"
            ],
            [
             0.4,
             "#fde0ef"
            ],
            [
             0.5,
             "#f7f7f7"
            ],
            [
             0.6,
             "#e6f5d0"
            ],
            [
             0.7,
             "#b8e186"
            ],
            [
             0.8,
             "#7fbc41"
            ],
            [
             0.9,
             "#4d9221"
            ],
            [
             1,
             "#276419"
            ]
           ],
           "sequential": [
            [
             0,
             "#0d0887"
            ],
            [
             0.1111111111111111,
             "#46039f"
            ],
            [
             0.2222222222222222,
             "#7201a8"
            ],
            [
             0.3333333333333333,
             "#9c179e"
            ],
            [
             0.4444444444444444,
             "#bd3786"
            ],
            [
             0.5555555555555556,
             "#d8576b"
            ],
            [
             0.6666666666666666,
             "#ed7953"
            ],
            [
             0.7777777777777778,
             "#fb9f3a"
            ],
            [
             0.8888888888888888,
             "#fdca26"
            ],
            [
             1,
             "#f0f921"
            ]
           ],
           "sequentialminus": [
            [
             0,
             "#0d0887"
            ],
            [
             0.1111111111111111,
             "#46039f"
            ],
            [
             0.2222222222222222,
             "#7201a8"
            ],
            [
             0.3333333333333333,
             "#9c179e"
            ],
            [
             0.4444444444444444,
             "#bd3786"
            ],
            [
             0.5555555555555556,
             "#d8576b"
            ],
            [
             0.6666666666666666,
             "#ed7953"
            ],
            [
             0.7777777777777778,
             "#fb9f3a"
            ],
            [
             0.8888888888888888,
             "#fdca26"
            ],
            [
             1,
             "#f0f921"
            ]
           ]
          },
          "colorway": [
           "#636efa",
           "#EF553B",
           "#00cc96",
           "#ab63fa",
           "#FFA15A",
           "#19d3f3",
           "#FF6692",
           "#B6E880",
           "#FF97FF",
           "#FECB52"
          ],
          "font": {
           "color": "#2a3f5f"
          },
          "geo": {
           "bgcolor": "white",
           "lakecolor": "white",
           "landcolor": "#E5ECF6",
           "showlakes": true,
           "showland": true,
           "subunitcolor": "white"
          },
          "hoverlabel": {
           "align": "left"
          },
          "hovermode": "closest",
          "mapbox": {
           "style": "light"
          },
          "paper_bgcolor": "white",
          "plot_bgcolor": "#E5ECF6",
          "polar": {
           "angularaxis": {
            "gridcolor": "white",
            "linecolor": "white",
            "ticks": ""
           },
           "bgcolor": "#E5ECF6",
           "radialaxis": {
            "gridcolor": "white",
            "linecolor": "white",
            "ticks": ""
           }
          },
          "scene": {
           "xaxis": {
            "backgroundcolor": "#E5ECF6",
            "gridcolor": "white",
            "gridwidth": 2,
            "linecolor": "white",
            "showbackground": true,
            "ticks": "",
            "zerolinecolor": "white"
           },
           "yaxis": {
            "backgroundcolor": "#E5ECF6",
            "gridcolor": "white",
            "gridwidth": 2,
            "linecolor": "white",
            "showbackground": true,
            "ticks": "",
            "zerolinecolor": "white"
           },
           "zaxis": {
            "backgroundcolor": "#E5ECF6",
            "gridcolor": "white",
            "gridwidth": 2,
            "linecolor": "white",
            "showbackground": true,
            "ticks": "",
            "zerolinecolor": "white"
           }
          },
          "shapedefaults": {
           "line": {
            "color": "#2a3f5f"
           }
          },
          "ternary": {
           "aaxis": {
            "gridcolor": "white",
            "linecolor": "white",
            "ticks": ""
           },
           "baxis": {
            "gridcolor": "white",
            "linecolor": "white",
            "ticks": ""
           },
           "bgcolor": "#E5ECF6",
           "caxis": {
            "gridcolor": "white",
            "linecolor": "white",
            "ticks": ""
           }
          },
          "title": {
           "x": 0.05
          },
          "xaxis": {
           "automargin": true,
           "gridcolor": "white",
           "linecolor": "white",
           "ticks": "",
           "title": {
            "standoff": 15
           },
           "zerolinecolor": "white",
           "zerolinewidth": 2
          },
          "yaxis": {
           "automargin": true,
           "gridcolor": "white",
           "linecolor": "white",
           "ticks": "",
           "title": {
            "standoff": 15
           },
           "zerolinecolor": "white",
           "zerolinewidth": 2
          }
         }
        },
        "title": {
         "font": {
          "color": "#4D5663"
         }
        },
        "xaxis": {
         "gridcolor": "#E1E5ED",
         "showgrid": true,
         "tickfont": {
          "color": "#4D5663"
         },
         "title": {
          "font": {
           "color": "#4D5663"
          },
          "text": ""
         },
         "zerolinecolor": "#E1E5ED"
        },
        "yaxis": {
         "gridcolor": "#E1E5ED",
         "showgrid": true,
         "tickfont": {
          "color": "#4D5663"
         },
         "title": {
          "font": {
           "color": "#4D5663"
          },
          "text": ""
         },
         "zerolinecolor": "#E1E5ED"
        }
       }
      },
      "text/html": [
       "<div>                            <div id=\"8fa03054-4d43-407b-8607-04c8b18f4f1b\" class=\"plotly-graph-div\" style=\"height:525px; width:100%;\"></div>            <script type=\"text/javascript\">                require([\"plotly\"], function(Plotly) {                    window.PLOTLYENV=window.PLOTLYENV || {};\n",
       "                    window.PLOTLYENV.BASE_URL='https://plot.ly';                                    if (document.getElementById(\"8fa03054-4d43-407b-8607-04c8b18f4f1b\")) {                    Plotly.newPlot(                        \"8fa03054-4d43-407b-8607-04c8b18f4f1b\",                        [{\"line\":{\"color\":\"rgba(255, 153, 51, 1.0)\",\"dash\":\"solid\",\"shape\":\"linear\",\"width\":1.3},\"marker\":{\"size\":10,\"symbol\":\"circle\"},\"mode\":\"markers\",\"name\":\"B\",\"text\":\"\",\"x\":[-0.7051831481220451,0.43922270603827557,-0.24870124121465462,2.057258717584174,0.9928029700879529,-0.5614200505011286,-0.4525971471128819,-0.8425476141815342,0.22452019875816207,-1.0419304921342696,-0.596979459798248,-0.5136433270420201,-0.30109082273899646,-0.8437793523718262,-1.3019298542708193,-0.7469286394475176,-0.15606362034286694,1.0414201604476443,-1.6083459626882008,0.39757187428806584,0.9088622126821246,0.1288342090116408,0.9148982966185591,-0.9919522699380063,-0.3555543177539484,-0.0945839771416839,0.07575588211214367,-0.030106281406176865,-1.0074275350290345,0.13408162979612936,0.17796399981688318,-0.13570033957890884,0.784454763128047,1.5097312060988817,-0.8963002615710953,-0.6482105493446612,0.9841767167594909,1.241599591298693,0.2830256966654552,-0.6214143312238146,-0.09812462802196699,1.7546021754331227,-0.4020619004488187,2.687347057037032,0.35357279144602843,1.8980457695588686,-0.44205016471097835,1.342302156302457,-2.6086746796664086,-0.2422383762343922,0.020171641164645333,0.038833475065560404,0.7611381770555126,0.15908773656704006,0.06468045369400825,0.9822092545872925,-0.8066539137936216,-2.131153972171354,0.914030903086248,0.014514507630141022,0.3247783307436006,-1.0623521273207823,-0.5627431869802589,-1.1557172843024368,-0.3798027873441633,-0.1438001174563708,1.2573609083720851,0.43751117368337294,-0.22503926746541883,0.4090682819088985,0.6237103778312871,-1.229011584355428,1.5871669025342217,0.0407574102693247,-1.4536960876806284,-0.6222411663434749,0.10286155555958691,0.24028167035807485,1.4704070810483008,-0.18727545016936312,-0.5227882042145175,-0.41843157353403804,0.5095772093194731,0.5769946056343663,1.7298184287290328,-0.5459541749316872,-2.397909800294627,-0.4875778238404372,0.30477659153794356,-0.023161571453009136,-1.4053406325800621,2.1471994716512177,0.09979825143961732,-0.1643652940012639,-1.3072456396882137,0.29508527262263246,0.33142503229300063,-0.1601889859460664,-0.732556289003857,-0.7623909274097523],\"y\":[-1.7013006760508602,0.3726110922373725,-0.9754051723074265,-1.4310905116703005,-0.49495580410156426,-0.23792853733818523,0.6820747164655667,-1.3244121992950646,0.844853852654464,-0.12712387910761966,0.07727653845877015,-1.6178919682285964,1.6620560366530401,1.699485017671733,-1.4933662810763182,-1.4420375546757855,0.00741199240362949,-2.061084183065256,-1.7697645039107246,1.9526086513272267,-0.20318056893072264,-1.3995600619671336,0.010642637425180183,1.0358081462914928,-0.37242494277677585,0.20667476003049706,-0.16267298076775957,0.7798128841823275,-0.35179459123935136,1.081467422627341,0.7077613301512333,-0.6110458049423005,-0.7446518379211517,0.47949213837655,-0.9540988719737546,0.1123688035076602,0.26169480514641313,-1.9475558614432522,-0.09404948355237926,-0.579998779191727,-0.9162076738199042,-1.3393615273245074,0.0788299847120889,0.6379938373868258,-0.8130888257415996,1.6611778058206665,-0.4813116087170946,-0.019547948800238503,1.331918402584154,-0.6571735272751751,-1.0682608537423943,-0.5733998113617014,0.29800706286622497,-1.365369741686114,1.3060602621305004,-0.4857256708152363,0.3445712175703463,1.2459952091278363,0.4409296584019077,-1.241525679399955,-0.017717831482726706,0.5284160702894732,0.7957565688596141,-0.7970539399473027,0.8452111615611503,0.6862207008234761,0.3928558456506407,0.21363798837630205,-1.1432047801812812,-0.09517977719340225,0.5218475516192701,-0.19272219613099298,1.05964041604494,0.2761071357701667,-0.7943275870137153,-1.1404461350535857,0.8603468722255645,-0.05852670388260969,1.3662802340147435,-0.7567889152604271,-0.3474788034623021,-0.23554292992878703,1.197373609772019,0.5754650080324972,-1.4125808720783122,0.30494901967571725,-1.5416465431940984,0.016412502071598608,0.3720332248482546,-1.3428792774194924,0.8857193838349164,0.6703174061080518,-0.7172600720684109,-0.21520251053018347,0.8786850026750797,-0.27803441786860095,1.8524411743566065,0.4529031345378013,-0.693555130039683,-0.72858737200973],\"type\":\"scatter\"}],                        {\"legend\":{\"bgcolor\":\"#F5F6F9\",\"font\":{\"color\":\"#4D5663\"}},\"paper_bgcolor\":\"#F5F6F9\",\"plot_bgcolor\":\"#F5F6F9\",\"template\":{\"data\":{\"barpolar\":[{\"marker\":{\"line\":{\"color\":\"#E5ECF6\",\"width\":0.5},\"pattern\":{\"fillmode\":\"overlay\",\"size\":10,\"solidity\":0.2}},\"type\":\"barpolar\"}],\"bar\":[{\"error_x\":{\"color\":\"#2a3f5f\"},\"error_y\":{\"color\":\"#2a3f5f\"},\"marker\":{\"line\":{\"color\":\"#E5ECF6\",\"width\":0.5},\"pattern\":{\"fillmode\":\"overlay\",\"size\":10,\"solidity\":0.2}},\"type\":\"bar\"}],\"carpet\":[{\"aaxis\":{\"endlinecolor\":\"#2a3f5f\",\"gridcolor\":\"white\",\"linecolor\":\"white\",\"minorgridcolor\":\"white\",\"startlinecolor\":\"#2a3f5f\"},\"baxis\":{\"endlinecolor\":\"#2a3f5f\",\"gridcolor\":\"white\",\"linecolor\":\"white\",\"minorgridcolor\":\"white\",\"startlinecolor\":\"#2a3f5f\"},\"type\":\"carpet\"}],\"choropleth\":[{\"colorbar\":{\"outlinewidth\":0,\"ticks\":\"\"},\"type\":\"choropleth\"}],\"contourcarpet\":[{\"colorbar\":{\"outlinewidth\":0,\"ticks\":\"\"},\"type\":\"contourcarpet\"}],\"contour\":[{\"colorbar\":{\"outlinewidth\":0,\"ticks\":\"\"},\"colorscale\":[[0.0,\"#0d0887\"],[0.1111111111111111,\"#46039f\"],[0.2222222222222222,\"#7201a8\"],[0.3333333333333333,\"#9c179e\"],[0.4444444444444444,\"#bd3786\"],[0.5555555555555556,\"#d8576b\"],[0.6666666666666666,\"#ed7953\"],[0.7777777777777778,\"#fb9f3a\"],[0.8888888888888888,\"#fdca26\"],[1.0,\"#f0f921\"]],\"type\":\"contour\"}],\"heatmapgl\":[{\"colorbar\":{\"outlinewidth\":0,\"ticks\":\"\"},\"colorscale\":[[0.0,\"#0d0887\"],[0.1111111111111111,\"#46039f\"],[0.2222222222222222,\"#7201a8\"],[0.3333333333333333,\"#9c179e\"],[0.4444444444444444,\"#bd3786\"],[0.5555555555555556,\"#d8576b\"],[0.6666666666666666,\"#ed7953\"],[0.7777777777777778,\"#fb9f3a\"],[0.8888888888888888,\"#fdca26\"],[1.0,\"#f0f921\"]],\"type\":\"heatmapgl\"}],\"heatmap\":[{\"colorbar\":{\"outlinewidth\":0,\"ticks\":\"\"},\"colorscale\":[[0.0,\"#0d0887\"],[0.1111111111111111,\"#46039f\"],[0.2222222222222222,\"#7201a8\"],[0.3333333333333333,\"#9c179e\"],[0.4444444444444444,\"#bd3786\"],[0.5555555555555556,\"#d8576b\"],[0.6666666666666666,\"#ed7953\"],[0.7777777777777778,\"#fb9f3a\"],[0.8888888888888888,\"#fdca26\"],[1.0,\"#f0f921\"]],\"type\":\"heatmap\"}],\"histogram2dcontour\":[{\"colorbar\":{\"outlinewidth\":0,\"ticks\":\"\"},\"colorscale\":[[0.0,\"#0d0887\"],[0.1111111111111111,\"#46039f\"],[0.2222222222222222,\"#7201a8\"],[0.3333333333333333,\"#9c179e\"],[0.4444444444444444,\"#bd3786\"],[0.5555555555555556,\"#d8576b\"],[0.6666666666666666,\"#ed7953\"],[0.7777777777777778,\"#fb9f3a\"],[0.8888888888888888,\"#fdca26\"],[1.0,\"#f0f921\"]],\"type\":\"histogram2dcontour\"}],\"histogram2d\":[{\"colorbar\":{\"outlinewidth\":0,\"ticks\":\"\"},\"colorscale\":[[0.0,\"#0d0887\"],[0.1111111111111111,\"#46039f\"],[0.2222222222222222,\"#7201a8\"],[0.3333333333333333,\"#9c179e\"],[0.4444444444444444,\"#bd3786\"],[0.5555555555555556,\"#d8576b\"],[0.6666666666666666,\"#ed7953\"],[0.7777777777777778,\"#fb9f3a\"],[0.8888888888888888,\"#fdca26\"],[1.0,\"#f0f921\"]],\"type\":\"histogram2d\"}],\"histogram\":[{\"marker\":{\"pattern\":{\"fillmode\":\"overlay\",\"size\":10,\"solidity\":0.2}},\"type\":\"histogram\"}],\"mesh3d\":[{\"colorbar\":{\"outlinewidth\":0,\"ticks\":\"\"},\"type\":\"mesh3d\"}],\"parcoords\":[{\"line\":{\"colorbar\":{\"outlinewidth\":0,\"ticks\":\"\"}},\"type\":\"parcoords\"}],\"pie\":[{\"automargin\":true,\"type\":\"pie\"}],\"scatter3d\":[{\"line\":{\"colorbar\":{\"outlinewidth\":0,\"ticks\":\"\"}},\"marker\":{\"colorbar\":{\"outlinewidth\":0,\"ticks\":\"\"}},\"type\":\"scatter3d\"}],\"scattercarpet\":[{\"marker\":{\"colorbar\":{\"outlinewidth\":0,\"ticks\":\"\"}},\"type\":\"scattercarpet\"}],\"scattergeo\":[{\"marker\":{\"colorbar\":{\"outlinewidth\":0,\"ticks\":\"\"}},\"type\":\"scattergeo\"}],\"scattergl\":[{\"marker\":{\"colorbar\":{\"outlinewidth\":0,\"ticks\":\"\"}},\"type\":\"scattergl\"}],\"scattermapbox\":[{\"marker\":{\"colorbar\":{\"outlinewidth\":0,\"ticks\":\"\"}},\"type\":\"scattermapbox\"}],\"scatterpolargl\":[{\"marker\":{\"colorbar\":{\"outlinewidth\":0,\"ticks\":\"\"}},\"type\":\"scatterpolargl\"}],\"scatterpolar\":[{\"marker\":{\"colorbar\":{\"outlinewidth\":0,\"ticks\":\"\"}},\"type\":\"scatterpolar\"}],\"scatter\":[{\"marker\":{\"colorbar\":{\"outlinewidth\":0,\"ticks\":\"\"}},\"type\":\"scatter\"}],\"scatterternary\":[{\"marker\":{\"colorbar\":{\"outlinewidth\":0,\"ticks\":\"\"}},\"type\":\"scatterternary\"}],\"surface\":[{\"colorbar\":{\"outlinewidth\":0,\"ticks\":\"\"},\"colorscale\":[[0.0,\"#0d0887\"],[0.1111111111111111,\"#46039f\"],[0.2222222222222222,\"#7201a8\"],[0.3333333333333333,\"#9c179e\"],[0.4444444444444444,\"#bd3786\"],[0.5555555555555556,\"#d8576b\"],[0.6666666666666666,\"#ed7953\"],[0.7777777777777778,\"#fb9f3a\"],[0.8888888888888888,\"#fdca26\"],[1.0,\"#f0f921\"]],\"type\":\"surface\"}],\"table\":[{\"cells\":{\"fill\":{\"color\":\"#EBF0F8\"},\"line\":{\"color\":\"white\"}},\"header\":{\"fill\":{\"color\":\"#C8D4E3\"},\"line\":{\"color\":\"white\"}},\"type\":\"table\"}]},\"layout\":{\"annotationdefaults\":{\"arrowcolor\":\"#2a3f5f\",\"arrowhead\":0,\"arrowwidth\":1},\"autotypenumbers\":\"strict\",\"coloraxis\":{\"colorbar\":{\"outlinewidth\":0,\"ticks\":\"\"}},\"colorscale\":{\"diverging\":[[0,\"#8e0152\"],[0.1,\"#c51b7d\"],[0.2,\"#de77ae\"],[0.3,\"#f1b6da\"],[0.4,\"#fde0ef\"],[0.5,\"#f7f7f7\"],[0.6,\"#e6f5d0\"],[0.7,\"#b8e186\"],[0.8,\"#7fbc41\"],[0.9,\"#4d9221\"],[1,\"#276419\"]],\"sequential\":[[0.0,\"#0d0887\"],[0.1111111111111111,\"#46039f\"],[0.2222222222222222,\"#7201a8\"],[0.3333333333333333,\"#9c179e\"],[0.4444444444444444,\"#bd3786\"],[0.5555555555555556,\"#d8576b\"],[0.6666666666666666,\"#ed7953\"],[0.7777777777777778,\"#fb9f3a\"],[0.8888888888888888,\"#fdca26\"],[1.0,\"#f0f921\"]],\"sequentialminus\":[[0.0,\"#0d0887\"],[0.1111111111111111,\"#46039f\"],[0.2222222222222222,\"#7201a8\"],[0.3333333333333333,\"#9c179e\"],[0.4444444444444444,\"#bd3786\"],[0.5555555555555556,\"#d8576b\"],[0.6666666666666666,\"#ed7953\"],[0.7777777777777778,\"#fb9f3a\"],[0.8888888888888888,\"#fdca26\"],[1.0,\"#f0f921\"]]},\"colorway\":[\"#636efa\",\"#EF553B\",\"#00cc96\",\"#ab63fa\",\"#FFA15A\",\"#19d3f3\",\"#FF6692\",\"#B6E880\",\"#FF97FF\",\"#FECB52\"],\"font\":{\"color\":\"#2a3f5f\"},\"geo\":{\"bgcolor\":\"white\",\"lakecolor\":\"white\",\"landcolor\":\"#E5ECF6\",\"showlakes\":true,\"showland\":true,\"subunitcolor\":\"white\"},\"hoverlabel\":{\"align\":\"left\"},\"hovermode\":\"closest\",\"mapbox\":{\"style\":\"light\"},\"paper_bgcolor\":\"white\",\"plot_bgcolor\":\"#E5ECF6\",\"polar\":{\"angularaxis\":{\"gridcolor\":\"white\",\"linecolor\":\"white\",\"ticks\":\"\"},\"bgcolor\":\"#E5ECF6\",\"radialaxis\":{\"gridcolor\":\"white\",\"linecolor\":\"white\",\"ticks\":\"\"}},\"scene\":{\"xaxis\":{\"backgroundcolor\":\"#E5ECF6\",\"gridcolor\":\"white\",\"gridwidth\":2,\"linecolor\":\"white\",\"showbackground\":true,\"ticks\":\"\",\"zerolinecolor\":\"white\"},\"yaxis\":{\"backgroundcolor\":\"#E5ECF6\",\"gridcolor\":\"white\",\"gridwidth\":2,\"linecolor\":\"white\",\"showbackground\":true,\"ticks\":\"\",\"zerolinecolor\":\"white\"},\"zaxis\":{\"backgroundcolor\":\"#E5ECF6\",\"gridcolor\":\"white\",\"gridwidth\":2,\"linecolor\":\"white\",\"showbackground\":true,\"ticks\":\"\",\"zerolinecolor\":\"white\"}},\"shapedefaults\":{\"line\":{\"color\":\"#2a3f5f\"}},\"ternary\":{\"aaxis\":{\"gridcolor\":\"white\",\"linecolor\":\"white\",\"ticks\":\"\"},\"baxis\":{\"gridcolor\":\"white\",\"linecolor\":\"white\",\"ticks\":\"\"},\"bgcolor\":\"#E5ECF6\",\"caxis\":{\"gridcolor\":\"white\",\"linecolor\":\"white\",\"ticks\":\"\"}},\"title\":{\"x\":0.05},\"xaxis\":{\"automargin\":true,\"gridcolor\":\"white\",\"linecolor\":\"white\",\"ticks\":\"\",\"title\":{\"standoff\":15},\"zerolinecolor\":\"white\",\"zerolinewidth\":2},\"yaxis\":{\"automargin\":true,\"gridcolor\":\"white\",\"linecolor\":\"white\",\"ticks\":\"\",\"title\":{\"standoff\":15},\"zerolinecolor\":\"white\",\"zerolinewidth\":2}}},\"title\":{\"font\":{\"color\":\"#4D5663\"}},\"xaxis\":{\"gridcolor\":\"#E1E5ED\",\"showgrid\":true,\"tickfont\":{\"color\":\"#4D5663\"},\"title\":{\"font\":{\"color\":\"#4D5663\"},\"text\":\"\"},\"zerolinecolor\":\"#E1E5ED\"},\"yaxis\":{\"gridcolor\":\"#E1E5ED\",\"showgrid\":true,\"tickfont\":{\"color\":\"#4D5663\"},\"title\":{\"font\":{\"color\":\"#4D5663\"},\"text\":\"\"},\"zerolinecolor\":\"#E1E5ED\"}},                        {\"showLink\": true, \"linkText\": \"Export to plot.ly\", \"plotlyServerURL\": \"https://plot.ly\", \"responsive\": true}                    ).then(function(){\n",
       "                            \n",
       "var gd = document.getElementById('8fa03054-4d43-407b-8607-04c8b18f4f1b');\n",
       "var x = new MutationObserver(function (mutations, observer) {{\n",
       "        var display = window.getComputedStyle(gd).display;\n",
       "        if (!display || display === 'none') {{\n",
       "            console.log([gd, 'removed!']);\n",
       "            Plotly.purge(gd);\n",
       "            observer.disconnect();\n",
       "        }}\n",
       "}});\n",
       "\n",
       "// Listen for the removal of the full notebook cells\n",
       "var notebookContainer = gd.closest('#notebook-container');\n",
       "if (notebookContainer) {{\n",
       "    x.observe(notebookContainer, {childList: true});\n",
       "}}\n",
       "\n",
       "// Listen for the clearing of the current output cell\n",
       "var outputEl = gd.closest('.output');\n",
       "if (outputEl) {{\n",
       "    x.observe(outputEl, {childList: true});\n",
       "}}\n",
       "\n",
       "                        })                };                });            </script>        </div>"
      ]
     },
     "metadata": {},
     "output_type": "display_data"
    }
   ],
   "source": [
    "df.iplot(kind='scatter',x='A',y='B',mode='markers',size=10)"
   ]
  },
  {
   "cell_type": "markdown",
   "metadata": {},
   "source": [
    "## Bar Plots"
   ]
  },
  {
   "cell_type": "code",
   "execution_count": 20,
   "metadata": {},
   "outputs": [
    {
     "data": {
      "application/vnd.plotly.v1+json": {
       "config": {
        "linkText": "Export to plot.ly",
        "plotlyServerURL": "https://plot.ly",
        "showLink": true
       },
       "data": [
        {
         "marker": {
          "color": "rgba(255, 153, 51, 0.6)",
          "line": {
           "color": "rgba(255, 153, 51, 1.0)",
           "width": 1
          }
         },
         "name": "Values",
         "orientation": "v",
         "text": "",
         "type": "bar",
         "x": [
          "A",
          "B",
          "C"
         ],
         "y": [
          32,
          43,
          50
         ]
        }
       ],
       "layout": {
        "legend": {
         "bgcolor": "#F5F6F9",
         "font": {
          "color": "#4D5663"
         }
        },
        "paper_bgcolor": "#F5F6F9",
        "plot_bgcolor": "#F5F6F9",
        "template": {
         "data": {
          "bar": [
           {
            "error_x": {
             "color": "#2a3f5f"
            },
            "error_y": {
             "color": "#2a3f5f"
            },
            "marker": {
             "line": {
              "color": "#E5ECF6",
              "width": 0.5
             },
             "pattern": {
              "fillmode": "overlay",
              "size": 10,
              "solidity": 0.2
             }
            },
            "type": "bar"
           }
          ],
          "barpolar": [
           {
            "marker": {
             "line": {
              "color": "#E5ECF6",
              "width": 0.5
             },
             "pattern": {
              "fillmode": "overlay",
              "size": 10,
              "solidity": 0.2
             }
            },
            "type": "barpolar"
           }
          ],
          "carpet": [
           {
            "aaxis": {
             "endlinecolor": "#2a3f5f",
             "gridcolor": "white",
             "linecolor": "white",
             "minorgridcolor": "white",
             "startlinecolor": "#2a3f5f"
            },
            "baxis": {
             "endlinecolor": "#2a3f5f",
             "gridcolor": "white",
             "linecolor": "white",
             "minorgridcolor": "white",
             "startlinecolor": "#2a3f5f"
            },
            "type": "carpet"
           }
          ],
          "choropleth": [
           {
            "colorbar": {
             "outlinewidth": 0,
             "ticks": ""
            },
            "type": "choropleth"
           }
          ],
          "contour": [
           {
            "colorbar": {
             "outlinewidth": 0,
             "ticks": ""
            },
            "colorscale": [
             [
              0,
              "#0d0887"
             ],
             [
              0.1111111111111111,
              "#46039f"
             ],
             [
              0.2222222222222222,
              "#7201a8"
             ],
             [
              0.3333333333333333,
              "#9c179e"
             ],
             [
              0.4444444444444444,
              "#bd3786"
             ],
             [
              0.5555555555555556,
              "#d8576b"
             ],
             [
              0.6666666666666666,
              "#ed7953"
             ],
             [
              0.7777777777777778,
              "#fb9f3a"
             ],
             [
              0.8888888888888888,
              "#fdca26"
             ],
             [
              1,
              "#f0f921"
             ]
            ],
            "type": "contour"
           }
          ],
          "contourcarpet": [
           {
            "colorbar": {
             "outlinewidth": 0,
             "ticks": ""
            },
            "type": "contourcarpet"
           }
          ],
          "heatmap": [
           {
            "colorbar": {
             "outlinewidth": 0,
             "ticks": ""
            },
            "colorscale": [
             [
              0,
              "#0d0887"
             ],
             [
              0.1111111111111111,
              "#46039f"
             ],
             [
              0.2222222222222222,
              "#7201a8"
             ],
             [
              0.3333333333333333,
              "#9c179e"
             ],
             [
              0.4444444444444444,
              "#bd3786"
             ],
             [
              0.5555555555555556,
              "#d8576b"
             ],
             [
              0.6666666666666666,
              "#ed7953"
             ],
             [
              0.7777777777777778,
              "#fb9f3a"
             ],
             [
              0.8888888888888888,
              "#fdca26"
             ],
             [
              1,
              "#f0f921"
             ]
            ],
            "type": "heatmap"
           }
          ],
          "heatmapgl": [
           {
            "colorbar": {
             "outlinewidth": 0,
             "ticks": ""
            },
            "colorscale": [
             [
              0,
              "#0d0887"
             ],
             [
              0.1111111111111111,
              "#46039f"
             ],
             [
              0.2222222222222222,
              "#7201a8"
             ],
             [
              0.3333333333333333,
              "#9c179e"
             ],
             [
              0.4444444444444444,
              "#bd3786"
             ],
             [
              0.5555555555555556,
              "#d8576b"
             ],
             [
              0.6666666666666666,
              "#ed7953"
             ],
             [
              0.7777777777777778,
              "#fb9f3a"
             ],
             [
              0.8888888888888888,
              "#fdca26"
             ],
             [
              1,
              "#f0f921"
             ]
            ],
            "type": "heatmapgl"
           }
          ],
          "histogram": [
           {
            "marker": {
             "pattern": {
              "fillmode": "overlay",
              "size": 10,
              "solidity": 0.2
             }
            },
            "type": "histogram"
           }
          ],
          "histogram2d": [
           {
            "colorbar": {
             "outlinewidth": 0,
             "ticks": ""
            },
            "colorscale": [
             [
              0,
              "#0d0887"
             ],
             [
              0.1111111111111111,
              "#46039f"
             ],
             [
              0.2222222222222222,
              "#7201a8"
             ],
             [
              0.3333333333333333,
              "#9c179e"
             ],
             [
              0.4444444444444444,
              "#bd3786"
             ],
             [
              0.5555555555555556,
              "#d8576b"
             ],
             [
              0.6666666666666666,
              "#ed7953"
             ],
             [
              0.7777777777777778,
              "#fb9f3a"
             ],
             [
              0.8888888888888888,
              "#fdca26"
             ],
             [
              1,
              "#f0f921"
             ]
            ],
            "type": "histogram2d"
           }
          ],
          "histogram2dcontour": [
           {
            "colorbar": {
             "outlinewidth": 0,
             "ticks": ""
            },
            "colorscale": [
             [
              0,
              "#0d0887"
             ],
             [
              0.1111111111111111,
              "#46039f"
             ],
             [
              0.2222222222222222,
              "#7201a8"
             ],
             [
              0.3333333333333333,
              "#9c179e"
             ],
             [
              0.4444444444444444,
              "#bd3786"
             ],
             [
              0.5555555555555556,
              "#d8576b"
             ],
             [
              0.6666666666666666,
              "#ed7953"
             ],
             [
              0.7777777777777778,
              "#fb9f3a"
             ],
             [
              0.8888888888888888,
              "#fdca26"
             ],
             [
              1,
              "#f0f921"
             ]
            ],
            "type": "histogram2dcontour"
           }
          ],
          "mesh3d": [
           {
            "colorbar": {
             "outlinewidth": 0,
             "ticks": ""
            },
            "type": "mesh3d"
           }
          ],
          "parcoords": [
           {
            "line": {
             "colorbar": {
              "outlinewidth": 0,
              "ticks": ""
             }
            },
            "type": "parcoords"
           }
          ],
          "pie": [
           {
            "automargin": true,
            "type": "pie"
           }
          ],
          "scatter": [
           {
            "marker": {
             "colorbar": {
              "outlinewidth": 0,
              "ticks": ""
             }
            },
            "type": "scatter"
           }
          ],
          "scatter3d": [
           {
            "line": {
             "colorbar": {
              "outlinewidth": 0,
              "ticks": ""
             }
            },
            "marker": {
             "colorbar": {
              "outlinewidth": 0,
              "ticks": ""
             }
            },
            "type": "scatter3d"
           }
          ],
          "scattercarpet": [
           {
            "marker": {
             "colorbar": {
              "outlinewidth": 0,
              "ticks": ""
             }
            },
            "type": "scattercarpet"
           }
          ],
          "scattergeo": [
           {
            "marker": {
             "colorbar": {
              "outlinewidth": 0,
              "ticks": ""
             }
            },
            "type": "scattergeo"
           }
          ],
          "scattergl": [
           {
            "marker": {
             "colorbar": {
              "outlinewidth": 0,
              "ticks": ""
             }
            },
            "type": "scattergl"
           }
          ],
          "scattermapbox": [
           {
            "marker": {
             "colorbar": {
              "outlinewidth": 0,
              "ticks": ""
             }
            },
            "type": "scattermapbox"
           }
          ],
          "scatterpolar": [
           {
            "marker": {
             "colorbar": {
              "outlinewidth": 0,
              "ticks": ""
             }
            },
            "type": "scatterpolar"
           }
          ],
          "scatterpolargl": [
           {
            "marker": {
             "colorbar": {
              "outlinewidth": 0,
              "ticks": ""
             }
            },
            "type": "scatterpolargl"
           }
          ],
          "scatterternary": [
           {
            "marker": {
             "colorbar": {
              "outlinewidth": 0,
              "ticks": ""
             }
            },
            "type": "scatterternary"
           }
          ],
          "surface": [
           {
            "colorbar": {
             "outlinewidth": 0,
             "ticks": ""
            },
            "colorscale": [
             [
              0,
              "#0d0887"
             ],
             [
              0.1111111111111111,
              "#46039f"
             ],
             [
              0.2222222222222222,
              "#7201a8"
             ],
             [
              0.3333333333333333,
              "#9c179e"
             ],
             [
              0.4444444444444444,
              "#bd3786"
             ],
             [
              0.5555555555555556,
              "#d8576b"
             ],
             [
              0.6666666666666666,
              "#ed7953"
             ],
             [
              0.7777777777777778,
              "#fb9f3a"
             ],
             [
              0.8888888888888888,
              "#fdca26"
             ],
             [
              1,
              "#f0f921"
             ]
            ],
            "type": "surface"
           }
          ],
          "table": [
           {
            "cells": {
             "fill": {
              "color": "#EBF0F8"
             },
             "line": {
              "color": "white"
             }
            },
            "header": {
             "fill": {
              "color": "#C8D4E3"
             },
             "line": {
              "color": "white"
             }
            },
            "type": "table"
           }
          ]
         },
         "layout": {
          "annotationdefaults": {
           "arrowcolor": "#2a3f5f",
           "arrowhead": 0,
           "arrowwidth": 1
          },
          "autotypenumbers": "strict",
          "coloraxis": {
           "colorbar": {
            "outlinewidth": 0,
            "ticks": ""
           }
          },
          "colorscale": {
           "diverging": [
            [
             0,
             "#8e0152"
            ],
            [
             0.1,
             "#c51b7d"
            ],
            [
             0.2,
             "#de77ae"
            ],
            [
             0.3,
             "#f1b6da"
            ],
            [
             0.4,
             "#fde0ef"
            ],
            [
             0.5,
             "#f7f7f7"
            ],
            [
             0.6,
             "#e6f5d0"
            ],
            [
             0.7,
             "#b8e186"
            ],
            [
             0.8,
             "#7fbc41"
            ],
            [
             0.9,
             "#4d9221"
            ],
            [
             1,
             "#276419"
            ]
           ],
           "sequential": [
            [
             0,
             "#0d0887"
            ],
            [
             0.1111111111111111,
             "#46039f"
            ],
            [
             0.2222222222222222,
             "#7201a8"
            ],
            [
             0.3333333333333333,
             "#9c179e"
            ],
            [
             0.4444444444444444,
             "#bd3786"
            ],
            [
             0.5555555555555556,
             "#d8576b"
            ],
            [
             0.6666666666666666,
             "#ed7953"
            ],
            [
             0.7777777777777778,
             "#fb9f3a"
            ],
            [
             0.8888888888888888,
             "#fdca26"
            ],
            [
             1,
             "#f0f921"
            ]
           ],
           "sequentialminus": [
            [
             0,
             "#0d0887"
            ],
            [
             0.1111111111111111,
             "#46039f"
            ],
            [
             0.2222222222222222,
             "#7201a8"
            ],
            [
             0.3333333333333333,
             "#9c179e"
            ],
            [
             0.4444444444444444,
             "#bd3786"
            ],
            [
             0.5555555555555556,
             "#d8576b"
            ],
            [
             0.6666666666666666,
             "#ed7953"
            ],
            [
             0.7777777777777778,
             "#fb9f3a"
            ],
            [
             0.8888888888888888,
             "#fdca26"
            ],
            [
             1,
             "#f0f921"
            ]
           ]
          },
          "colorway": [
           "#636efa",
           "#EF553B",
           "#00cc96",
           "#ab63fa",
           "#FFA15A",
           "#19d3f3",
           "#FF6692",
           "#B6E880",
           "#FF97FF",
           "#FECB52"
          ],
          "font": {
           "color": "#2a3f5f"
          },
          "geo": {
           "bgcolor": "white",
           "lakecolor": "white",
           "landcolor": "#E5ECF6",
           "showlakes": true,
           "showland": true,
           "subunitcolor": "white"
          },
          "hoverlabel": {
           "align": "left"
          },
          "hovermode": "closest",
          "mapbox": {
           "style": "light"
          },
          "paper_bgcolor": "white",
          "plot_bgcolor": "#E5ECF6",
          "polar": {
           "angularaxis": {
            "gridcolor": "white",
            "linecolor": "white",
            "ticks": ""
           },
           "bgcolor": "#E5ECF6",
           "radialaxis": {
            "gridcolor": "white",
            "linecolor": "white",
            "ticks": ""
           }
          },
          "scene": {
           "xaxis": {
            "backgroundcolor": "#E5ECF6",
            "gridcolor": "white",
            "gridwidth": 2,
            "linecolor": "white",
            "showbackground": true,
            "ticks": "",
            "zerolinecolor": "white"
           },
           "yaxis": {
            "backgroundcolor": "#E5ECF6",
            "gridcolor": "white",
            "gridwidth": 2,
            "linecolor": "white",
            "showbackground": true,
            "ticks": "",
            "zerolinecolor": "white"
           },
           "zaxis": {
            "backgroundcolor": "#E5ECF6",
            "gridcolor": "white",
            "gridwidth": 2,
            "linecolor": "white",
            "showbackground": true,
            "ticks": "",
            "zerolinecolor": "white"
           }
          },
          "shapedefaults": {
           "line": {
            "color": "#2a3f5f"
           }
          },
          "ternary": {
           "aaxis": {
            "gridcolor": "white",
            "linecolor": "white",
            "ticks": ""
           },
           "baxis": {
            "gridcolor": "white",
            "linecolor": "white",
            "ticks": ""
           },
           "bgcolor": "#E5ECF6",
           "caxis": {
            "gridcolor": "white",
            "linecolor": "white",
            "ticks": ""
           }
          },
          "title": {
           "x": 0.05
          },
          "xaxis": {
           "automargin": true,
           "gridcolor": "white",
           "linecolor": "white",
           "ticks": "",
           "title": {
            "standoff": 15
           },
           "zerolinecolor": "white",
           "zerolinewidth": 2
          },
          "yaxis": {
           "automargin": true,
           "gridcolor": "white",
           "linecolor": "white",
           "ticks": "",
           "title": {
            "standoff": 15
           },
           "zerolinecolor": "white",
           "zerolinewidth": 2
          }
         }
        },
        "title": {
         "font": {
          "color": "#4D5663"
         }
        },
        "xaxis": {
         "gridcolor": "#E1E5ED",
         "showgrid": true,
         "tickfont": {
          "color": "#4D5663"
         },
         "title": {
          "font": {
           "color": "#4D5663"
          },
          "text": ""
         },
         "zerolinecolor": "#E1E5ED"
        },
        "yaxis": {
         "gridcolor": "#E1E5ED",
         "showgrid": true,
         "tickfont": {
          "color": "#4D5663"
         },
         "title": {
          "font": {
           "color": "#4D5663"
          },
          "text": ""
         },
         "zerolinecolor": "#E1E5ED"
        }
       }
      },
      "text/html": [
       "<div>                            <div id=\"81429468-290e-48b3-af12-0936c61584ca\" class=\"plotly-graph-div\" style=\"height:525px; width:100%;\"></div>            <script type=\"text/javascript\">                require([\"plotly\"], function(Plotly) {                    window.PLOTLYENV=window.PLOTLYENV || {};\n",
       "                    window.PLOTLYENV.BASE_URL='https://plot.ly';                                    if (document.getElementById(\"81429468-290e-48b3-af12-0936c61584ca\")) {                    Plotly.newPlot(                        \"81429468-290e-48b3-af12-0936c61584ca\",                        [{\"marker\":{\"color\":\"rgba(255, 153, 51, 0.6)\",\"line\":{\"color\":\"rgba(255, 153, 51, 1.0)\",\"width\":1}},\"name\":\"Values\",\"orientation\":\"v\",\"text\":\"\",\"x\":[\"A\",\"B\",\"C\"],\"y\":[32,43,50],\"type\":\"bar\"}],                        {\"legend\":{\"bgcolor\":\"#F5F6F9\",\"font\":{\"color\":\"#4D5663\"}},\"paper_bgcolor\":\"#F5F6F9\",\"plot_bgcolor\":\"#F5F6F9\",\"template\":{\"data\":{\"barpolar\":[{\"marker\":{\"line\":{\"color\":\"#E5ECF6\",\"width\":0.5},\"pattern\":{\"fillmode\":\"overlay\",\"size\":10,\"solidity\":0.2}},\"type\":\"barpolar\"}],\"bar\":[{\"error_x\":{\"color\":\"#2a3f5f\"},\"error_y\":{\"color\":\"#2a3f5f\"},\"marker\":{\"line\":{\"color\":\"#E5ECF6\",\"width\":0.5},\"pattern\":{\"fillmode\":\"overlay\",\"size\":10,\"solidity\":0.2}},\"type\":\"bar\"}],\"carpet\":[{\"aaxis\":{\"endlinecolor\":\"#2a3f5f\",\"gridcolor\":\"white\",\"linecolor\":\"white\",\"minorgridcolor\":\"white\",\"startlinecolor\":\"#2a3f5f\"},\"baxis\":{\"endlinecolor\":\"#2a3f5f\",\"gridcolor\":\"white\",\"linecolor\":\"white\",\"minorgridcolor\":\"white\",\"startlinecolor\":\"#2a3f5f\"},\"type\":\"carpet\"}],\"choropleth\":[{\"colorbar\":{\"outlinewidth\":0,\"ticks\":\"\"},\"type\":\"choropleth\"}],\"contourcarpet\":[{\"colorbar\":{\"outlinewidth\":0,\"ticks\":\"\"},\"type\":\"contourcarpet\"}],\"contour\":[{\"colorbar\":{\"outlinewidth\":0,\"ticks\":\"\"},\"colorscale\":[[0.0,\"#0d0887\"],[0.1111111111111111,\"#46039f\"],[0.2222222222222222,\"#7201a8\"],[0.3333333333333333,\"#9c179e\"],[0.4444444444444444,\"#bd3786\"],[0.5555555555555556,\"#d8576b\"],[0.6666666666666666,\"#ed7953\"],[0.7777777777777778,\"#fb9f3a\"],[0.8888888888888888,\"#fdca26\"],[1.0,\"#f0f921\"]],\"type\":\"contour\"}],\"heatmapgl\":[{\"colorbar\":{\"outlinewidth\":0,\"ticks\":\"\"},\"colorscale\":[[0.0,\"#0d0887\"],[0.1111111111111111,\"#46039f\"],[0.2222222222222222,\"#7201a8\"],[0.3333333333333333,\"#9c179e\"],[0.4444444444444444,\"#bd3786\"],[0.5555555555555556,\"#d8576b\"],[0.6666666666666666,\"#ed7953\"],[0.7777777777777778,\"#fb9f3a\"],[0.8888888888888888,\"#fdca26\"],[1.0,\"#f0f921\"]],\"type\":\"heatmapgl\"}],\"heatmap\":[{\"colorbar\":{\"outlinewidth\":0,\"ticks\":\"\"},\"colorscale\":[[0.0,\"#0d0887\"],[0.1111111111111111,\"#46039f\"],[0.2222222222222222,\"#7201a8\"],[0.3333333333333333,\"#9c179e\"],[0.4444444444444444,\"#bd3786\"],[0.5555555555555556,\"#d8576b\"],[0.6666666666666666,\"#ed7953\"],[0.7777777777777778,\"#fb9f3a\"],[0.8888888888888888,\"#fdca26\"],[1.0,\"#f0f921\"]],\"type\":\"heatmap\"}],\"histogram2dcontour\":[{\"colorbar\":{\"outlinewidth\":0,\"ticks\":\"\"},\"colorscale\":[[0.0,\"#0d0887\"],[0.1111111111111111,\"#46039f\"],[0.2222222222222222,\"#7201a8\"],[0.3333333333333333,\"#9c179e\"],[0.4444444444444444,\"#bd3786\"],[0.5555555555555556,\"#d8576b\"],[0.6666666666666666,\"#ed7953\"],[0.7777777777777778,\"#fb9f3a\"],[0.8888888888888888,\"#fdca26\"],[1.0,\"#f0f921\"]],\"type\":\"histogram2dcontour\"}],\"histogram2d\":[{\"colorbar\":{\"outlinewidth\":0,\"ticks\":\"\"},\"colorscale\":[[0.0,\"#0d0887\"],[0.1111111111111111,\"#46039f\"],[0.2222222222222222,\"#7201a8\"],[0.3333333333333333,\"#9c179e\"],[0.4444444444444444,\"#bd3786\"],[0.5555555555555556,\"#d8576b\"],[0.6666666666666666,\"#ed7953\"],[0.7777777777777778,\"#fb9f3a\"],[0.8888888888888888,\"#fdca26\"],[1.0,\"#f0f921\"]],\"type\":\"histogram2d\"}],\"histogram\":[{\"marker\":{\"pattern\":{\"fillmode\":\"overlay\",\"size\":10,\"solidity\":0.2}},\"type\":\"histogram\"}],\"mesh3d\":[{\"colorbar\":{\"outlinewidth\":0,\"ticks\":\"\"},\"type\":\"mesh3d\"}],\"parcoords\":[{\"line\":{\"colorbar\":{\"outlinewidth\":0,\"ticks\":\"\"}},\"type\":\"parcoords\"}],\"pie\":[{\"automargin\":true,\"type\":\"pie\"}],\"scatter3d\":[{\"line\":{\"colorbar\":{\"outlinewidth\":0,\"ticks\":\"\"}},\"marker\":{\"colorbar\":{\"outlinewidth\":0,\"ticks\":\"\"}},\"type\":\"scatter3d\"}],\"scattercarpet\":[{\"marker\":{\"colorbar\":{\"outlinewidth\":0,\"ticks\":\"\"}},\"type\":\"scattercarpet\"}],\"scattergeo\":[{\"marker\":{\"colorbar\":{\"outlinewidth\":0,\"ticks\":\"\"}},\"type\":\"scattergeo\"}],\"scattergl\":[{\"marker\":{\"colorbar\":{\"outlinewidth\":0,\"ticks\":\"\"}},\"type\":\"scattergl\"}],\"scattermapbox\":[{\"marker\":{\"colorbar\":{\"outlinewidth\":0,\"ticks\":\"\"}},\"type\":\"scattermapbox\"}],\"scatterpolargl\":[{\"marker\":{\"colorbar\":{\"outlinewidth\":0,\"ticks\":\"\"}},\"type\":\"scatterpolargl\"}],\"scatterpolar\":[{\"marker\":{\"colorbar\":{\"outlinewidth\":0,\"ticks\":\"\"}},\"type\":\"scatterpolar\"}],\"scatter\":[{\"marker\":{\"colorbar\":{\"outlinewidth\":0,\"ticks\":\"\"}},\"type\":\"scatter\"}],\"scatterternary\":[{\"marker\":{\"colorbar\":{\"outlinewidth\":0,\"ticks\":\"\"}},\"type\":\"scatterternary\"}],\"surface\":[{\"colorbar\":{\"outlinewidth\":0,\"ticks\":\"\"},\"colorscale\":[[0.0,\"#0d0887\"],[0.1111111111111111,\"#46039f\"],[0.2222222222222222,\"#7201a8\"],[0.3333333333333333,\"#9c179e\"],[0.4444444444444444,\"#bd3786\"],[0.5555555555555556,\"#d8576b\"],[0.6666666666666666,\"#ed7953\"],[0.7777777777777778,\"#fb9f3a\"],[0.8888888888888888,\"#fdca26\"],[1.0,\"#f0f921\"]],\"type\":\"surface\"}],\"table\":[{\"cells\":{\"fill\":{\"color\":\"#EBF0F8\"},\"line\":{\"color\":\"white\"}},\"header\":{\"fill\":{\"color\":\"#C8D4E3\"},\"line\":{\"color\":\"white\"}},\"type\":\"table\"}]},\"layout\":{\"annotationdefaults\":{\"arrowcolor\":\"#2a3f5f\",\"arrowhead\":0,\"arrowwidth\":1},\"autotypenumbers\":\"strict\",\"coloraxis\":{\"colorbar\":{\"outlinewidth\":0,\"ticks\":\"\"}},\"colorscale\":{\"diverging\":[[0,\"#8e0152\"],[0.1,\"#c51b7d\"],[0.2,\"#de77ae\"],[0.3,\"#f1b6da\"],[0.4,\"#fde0ef\"],[0.5,\"#f7f7f7\"],[0.6,\"#e6f5d0\"],[0.7,\"#b8e186\"],[0.8,\"#7fbc41\"],[0.9,\"#4d9221\"],[1,\"#276419\"]],\"sequential\":[[0.0,\"#0d0887\"],[0.1111111111111111,\"#46039f\"],[0.2222222222222222,\"#7201a8\"],[0.3333333333333333,\"#9c179e\"],[0.4444444444444444,\"#bd3786\"],[0.5555555555555556,\"#d8576b\"],[0.6666666666666666,\"#ed7953\"],[0.7777777777777778,\"#fb9f3a\"],[0.8888888888888888,\"#fdca26\"],[1.0,\"#f0f921\"]],\"sequentialminus\":[[0.0,\"#0d0887\"],[0.1111111111111111,\"#46039f\"],[0.2222222222222222,\"#7201a8\"],[0.3333333333333333,\"#9c179e\"],[0.4444444444444444,\"#bd3786\"],[0.5555555555555556,\"#d8576b\"],[0.6666666666666666,\"#ed7953\"],[0.7777777777777778,\"#fb9f3a\"],[0.8888888888888888,\"#fdca26\"],[1.0,\"#f0f921\"]]},\"colorway\":[\"#636efa\",\"#EF553B\",\"#00cc96\",\"#ab63fa\",\"#FFA15A\",\"#19d3f3\",\"#FF6692\",\"#B6E880\",\"#FF97FF\",\"#FECB52\"],\"font\":{\"color\":\"#2a3f5f\"},\"geo\":{\"bgcolor\":\"white\",\"lakecolor\":\"white\",\"landcolor\":\"#E5ECF6\",\"showlakes\":true,\"showland\":true,\"subunitcolor\":\"white\"},\"hoverlabel\":{\"align\":\"left\"},\"hovermode\":\"closest\",\"mapbox\":{\"style\":\"light\"},\"paper_bgcolor\":\"white\",\"plot_bgcolor\":\"#E5ECF6\",\"polar\":{\"angularaxis\":{\"gridcolor\":\"white\",\"linecolor\":\"white\",\"ticks\":\"\"},\"bgcolor\":\"#E5ECF6\",\"radialaxis\":{\"gridcolor\":\"white\",\"linecolor\":\"white\",\"ticks\":\"\"}},\"scene\":{\"xaxis\":{\"backgroundcolor\":\"#E5ECF6\",\"gridcolor\":\"white\",\"gridwidth\":2,\"linecolor\":\"white\",\"showbackground\":true,\"ticks\":\"\",\"zerolinecolor\":\"white\"},\"yaxis\":{\"backgroundcolor\":\"#E5ECF6\",\"gridcolor\":\"white\",\"gridwidth\":2,\"linecolor\":\"white\",\"showbackground\":true,\"ticks\":\"\",\"zerolinecolor\":\"white\"},\"zaxis\":{\"backgroundcolor\":\"#E5ECF6\",\"gridcolor\":\"white\",\"gridwidth\":2,\"linecolor\":\"white\",\"showbackground\":true,\"ticks\":\"\",\"zerolinecolor\":\"white\"}},\"shapedefaults\":{\"line\":{\"color\":\"#2a3f5f\"}},\"ternary\":{\"aaxis\":{\"gridcolor\":\"white\",\"linecolor\":\"white\",\"ticks\":\"\"},\"baxis\":{\"gridcolor\":\"white\",\"linecolor\":\"white\",\"ticks\":\"\"},\"bgcolor\":\"#E5ECF6\",\"caxis\":{\"gridcolor\":\"white\",\"linecolor\":\"white\",\"ticks\":\"\"}},\"title\":{\"x\":0.05},\"xaxis\":{\"automargin\":true,\"gridcolor\":\"white\",\"linecolor\":\"white\",\"ticks\":\"\",\"title\":{\"standoff\":15},\"zerolinecolor\":\"white\",\"zerolinewidth\":2},\"yaxis\":{\"automargin\":true,\"gridcolor\":\"white\",\"linecolor\":\"white\",\"ticks\":\"\",\"title\":{\"standoff\":15},\"zerolinecolor\":\"white\",\"zerolinewidth\":2}}},\"title\":{\"font\":{\"color\":\"#4D5663\"}},\"xaxis\":{\"gridcolor\":\"#E1E5ED\",\"showgrid\":true,\"tickfont\":{\"color\":\"#4D5663\"},\"title\":{\"font\":{\"color\":\"#4D5663\"},\"text\":\"\"},\"zerolinecolor\":\"#E1E5ED\"},\"yaxis\":{\"gridcolor\":\"#E1E5ED\",\"showgrid\":true,\"tickfont\":{\"color\":\"#4D5663\"},\"title\":{\"font\":{\"color\":\"#4D5663\"},\"text\":\"\"},\"zerolinecolor\":\"#E1E5ED\"}},                        {\"showLink\": true, \"linkText\": \"Export to plot.ly\", \"plotlyServerURL\": \"https://plot.ly\", \"responsive\": true}                    ).then(function(){\n",
       "                            \n",
       "var gd = document.getElementById('81429468-290e-48b3-af12-0936c61584ca');\n",
       "var x = new MutationObserver(function (mutations, observer) {{\n",
       "        var display = window.getComputedStyle(gd).display;\n",
       "        if (!display || display === 'none') {{\n",
       "            console.log([gd, 'removed!']);\n",
       "            Plotly.purge(gd);\n",
       "            observer.disconnect();\n",
       "        }}\n",
       "}});\n",
       "\n",
       "// Listen for the removal of the full notebook cells\n",
       "var notebookContainer = gd.closest('#notebook-container');\n",
       "if (notebookContainer) {{\n",
       "    x.observe(notebookContainer, {childList: true});\n",
       "}}\n",
       "\n",
       "// Listen for the clearing of the current output cell\n",
       "var outputEl = gd.closest('.output');\n",
       "if (outputEl) {{\n",
       "    x.observe(outputEl, {childList: true});\n",
       "}}\n",
       "\n",
       "                        })                };                });            </script>        </div>"
      ]
     },
     "metadata": {},
     "output_type": "display_data"
    }
   ],
   "source": [
    "df2.iplot(kind='bar',x='Category',y='Values')"
   ]
  },
  {
   "cell_type": "code",
   "execution_count": 21,
   "metadata": {},
   "outputs": [
    {
     "data": {
      "application/vnd.plotly.v1+json": {
       "config": {
        "linkText": "Export to plot.ly",
        "plotlyServerURL": "https://plot.ly",
        "showLink": true
       },
       "data": [
        {
         "marker": {
          "color": "rgba(255, 153, 51, 0.6)",
          "line": {
           "color": "rgba(255, 153, 51, 1.0)",
           "width": 1
          }
         },
         "name": "None",
         "orientation": "v",
         "text": "",
         "type": "bar",
         "x": [
          "A",
          "B",
          "C",
          "D"
         ],
         "y": [
          -1.6076427209614192,
          -9.494899441604643,
          9.336845689629891,
          14.958649573910034
         ]
        }
       ],
       "layout": {
        "legend": {
         "bgcolor": "#F5F6F9",
         "font": {
          "color": "#4D5663"
         }
        },
        "paper_bgcolor": "#F5F6F9",
        "plot_bgcolor": "#F5F6F9",
        "template": {
         "data": {
          "bar": [
           {
            "error_x": {
             "color": "#2a3f5f"
            },
            "error_y": {
             "color": "#2a3f5f"
            },
            "marker": {
             "line": {
              "color": "#E5ECF6",
              "width": 0.5
             },
             "pattern": {
              "fillmode": "overlay",
              "size": 10,
              "solidity": 0.2
             }
            },
            "type": "bar"
           }
          ],
          "barpolar": [
           {
            "marker": {
             "line": {
              "color": "#E5ECF6",
              "width": 0.5
             },
             "pattern": {
              "fillmode": "overlay",
              "size": 10,
              "solidity": 0.2
             }
            },
            "type": "barpolar"
           }
          ],
          "carpet": [
           {
            "aaxis": {
             "endlinecolor": "#2a3f5f",
             "gridcolor": "white",
             "linecolor": "white",
             "minorgridcolor": "white",
             "startlinecolor": "#2a3f5f"
            },
            "baxis": {
             "endlinecolor": "#2a3f5f",
             "gridcolor": "white",
             "linecolor": "white",
             "minorgridcolor": "white",
             "startlinecolor": "#2a3f5f"
            },
            "type": "carpet"
           }
          ],
          "choropleth": [
           {
            "colorbar": {
             "outlinewidth": 0,
             "ticks": ""
            },
            "type": "choropleth"
           }
          ],
          "contour": [
           {
            "colorbar": {
             "outlinewidth": 0,
             "ticks": ""
            },
            "colorscale": [
             [
              0,
              "#0d0887"
             ],
             [
              0.1111111111111111,
              "#46039f"
             ],
             [
              0.2222222222222222,
              "#7201a8"
             ],
             [
              0.3333333333333333,
              "#9c179e"
             ],
             [
              0.4444444444444444,
              "#bd3786"
             ],
             [
              0.5555555555555556,
              "#d8576b"
             ],
             [
              0.6666666666666666,
              "#ed7953"
             ],
             [
              0.7777777777777778,
              "#fb9f3a"
             ],
             [
              0.8888888888888888,
              "#fdca26"
             ],
             [
              1,
              "#f0f921"
             ]
            ],
            "type": "contour"
           }
          ],
          "contourcarpet": [
           {
            "colorbar": {
             "outlinewidth": 0,
             "ticks": ""
            },
            "type": "contourcarpet"
           }
          ],
          "heatmap": [
           {
            "colorbar": {
             "outlinewidth": 0,
             "ticks": ""
            },
            "colorscale": [
             [
              0,
              "#0d0887"
             ],
             [
              0.1111111111111111,
              "#46039f"
             ],
             [
              0.2222222222222222,
              "#7201a8"
             ],
             [
              0.3333333333333333,
              "#9c179e"
             ],
             [
              0.4444444444444444,
              "#bd3786"
             ],
             [
              0.5555555555555556,
              "#d8576b"
             ],
             [
              0.6666666666666666,
              "#ed7953"
             ],
             [
              0.7777777777777778,
              "#fb9f3a"
             ],
             [
              0.8888888888888888,
              "#fdca26"
             ],
             [
              1,
              "#f0f921"
             ]
            ],
            "type": "heatmap"
           }
          ],
          "heatmapgl": [
           {
            "colorbar": {
             "outlinewidth": 0,
             "ticks": ""
            },
            "colorscale": [
             [
              0,
              "#0d0887"
             ],
             [
              0.1111111111111111,
              "#46039f"
             ],
             [
              0.2222222222222222,
              "#7201a8"
             ],
             [
              0.3333333333333333,
              "#9c179e"
             ],
             [
              0.4444444444444444,
              "#bd3786"
             ],
             [
              0.5555555555555556,
              "#d8576b"
             ],
             [
              0.6666666666666666,
              "#ed7953"
             ],
             [
              0.7777777777777778,
              "#fb9f3a"
             ],
             [
              0.8888888888888888,
              "#fdca26"
             ],
             [
              1,
              "#f0f921"
             ]
            ],
            "type": "heatmapgl"
           }
          ],
          "histogram": [
           {
            "marker": {
             "pattern": {
              "fillmode": "overlay",
              "size": 10,
              "solidity": 0.2
             }
            },
            "type": "histogram"
           }
          ],
          "histogram2d": [
           {
            "colorbar": {
             "outlinewidth": 0,
             "ticks": ""
            },
            "colorscale": [
             [
              0,
              "#0d0887"
             ],
             [
              0.1111111111111111,
              "#46039f"
             ],
             [
              0.2222222222222222,
              "#7201a8"
             ],
             [
              0.3333333333333333,
              "#9c179e"
             ],
             [
              0.4444444444444444,
              "#bd3786"
             ],
             [
              0.5555555555555556,
              "#d8576b"
             ],
             [
              0.6666666666666666,
              "#ed7953"
             ],
             [
              0.7777777777777778,
              "#fb9f3a"
             ],
             [
              0.8888888888888888,
              "#fdca26"
             ],
             [
              1,
              "#f0f921"
             ]
            ],
            "type": "histogram2d"
           }
          ],
          "histogram2dcontour": [
           {
            "colorbar": {
             "outlinewidth": 0,
             "ticks": ""
            },
            "colorscale": [
             [
              0,
              "#0d0887"
             ],
             [
              0.1111111111111111,
              "#46039f"
             ],
             [
              0.2222222222222222,
              "#7201a8"
             ],
             [
              0.3333333333333333,
              "#9c179e"
             ],
             [
              0.4444444444444444,
              "#bd3786"
             ],
             [
              0.5555555555555556,
              "#d8576b"
             ],
             [
              0.6666666666666666,
              "#ed7953"
             ],
             [
              0.7777777777777778,
              "#fb9f3a"
             ],
             [
              0.8888888888888888,
              "#fdca26"
             ],
             [
              1,
              "#f0f921"
             ]
            ],
            "type": "histogram2dcontour"
           }
          ],
          "mesh3d": [
           {
            "colorbar": {
             "outlinewidth": 0,
             "ticks": ""
            },
            "type": "mesh3d"
           }
          ],
          "parcoords": [
           {
            "line": {
             "colorbar": {
              "outlinewidth": 0,
              "ticks": ""
             }
            },
            "type": "parcoords"
           }
          ],
          "pie": [
           {
            "automargin": true,
            "type": "pie"
           }
          ],
          "scatter": [
           {
            "marker": {
             "colorbar": {
              "outlinewidth": 0,
              "ticks": ""
             }
            },
            "type": "scatter"
           }
          ],
          "scatter3d": [
           {
            "line": {
             "colorbar": {
              "outlinewidth": 0,
              "ticks": ""
             }
            },
            "marker": {
             "colorbar": {
              "outlinewidth": 0,
              "ticks": ""
             }
            },
            "type": "scatter3d"
           }
          ],
          "scattercarpet": [
           {
            "marker": {
             "colorbar": {
              "outlinewidth": 0,
              "ticks": ""
             }
            },
            "type": "scattercarpet"
           }
          ],
          "scattergeo": [
           {
            "marker": {
             "colorbar": {
              "outlinewidth": 0,
              "ticks": ""
             }
            },
            "type": "scattergeo"
           }
          ],
          "scattergl": [
           {
            "marker": {
             "colorbar": {
              "outlinewidth": 0,
              "ticks": ""
             }
            },
            "type": "scattergl"
           }
          ],
          "scattermapbox": [
           {
            "marker": {
             "colorbar": {
              "outlinewidth": 0,
              "ticks": ""
             }
            },
            "type": "scattermapbox"
           }
          ],
          "scatterpolar": [
           {
            "marker": {
             "colorbar": {
              "outlinewidth": 0,
              "ticks": ""
             }
            },
            "type": "scatterpolar"
           }
          ],
          "scatterpolargl": [
           {
            "marker": {
             "colorbar": {
              "outlinewidth": 0,
              "ticks": ""
             }
            },
            "type": "scatterpolargl"
           }
          ],
          "scatterternary": [
           {
            "marker": {
             "colorbar": {
              "outlinewidth": 0,
              "ticks": ""
             }
            },
            "type": "scatterternary"
           }
          ],
          "surface": [
           {
            "colorbar": {
             "outlinewidth": 0,
             "ticks": ""
            },
            "colorscale": [
             [
              0,
              "#0d0887"
             ],
             [
              0.1111111111111111,
              "#46039f"
             ],
             [
              0.2222222222222222,
              "#7201a8"
             ],
             [
              0.3333333333333333,
              "#9c179e"
             ],
             [
              0.4444444444444444,
              "#bd3786"
             ],
             [
              0.5555555555555556,
              "#d8576b"
             ],
             [
              0.6666666666666666,
              "#ed7953"
             ],
             [
              0.7777777777777778,
              "#fb9f3a"
             ],
             [
              0.8888888888888888,
              "#fdca26"
             ],
             [
              1,
              "#f0f921"
             ]
            ],
            "type": "surface"
           }
          ],
          "table": [
           {
            "cells": {
             "fill": {
              "color": "#EBF0F8"
             },
             "line": {
              "color": "white"
             }
            },
            "header": {
             "fill": {
              "color": "#C8D4E3"
             },
             "line": {
              "color": "white"
             }
            },
            "type": "table"
           }
          ]
         },
         "layout": {
          "annotationdefaults": {
           "arrowcolor": "#2a3f5f",
           "arrowhead": 0,
           "arrowwidth": 1
          },
          "autotypenumbers": "strict",
          "coloraxis": {
           "colorbar": {
            "outlinewidth": 0,
            "ticks": ""
           }
          },
          "colorscale": {
           "diverging": [
            [
             0,
             "#8e0152"
            ],
            [
             0.1,
             "#c51b7d"
            ],
            [
             0.2,
             "#de77ae"
            ],
            [
             0.3,
             "#f1b6da"
            ],
            [
             0.4,
             "#fde0ef"
            ],
            [
             0.5,
             "#f7f7f7"
            ],
            [
             0.6,
             "#e6f5d0"
            ],
            [
             0.7,
             "#b8e186"
            ],
            [
             0.8,
             "#7fbc41"
            ],
            [
             0.9,
             "#4d9221"
            ],
            [
             1,
             "#276419"
            ]
           ],
           "sequential": [
            [
             0,
             "#0d0887"
            ],
            [
             0.1111111111111111,
             "#46039f"
            ],
            [
             0.2222222222222222,
             "#7201a8"
            ],
            [
             0.3333333333333333,
             "#9c179e"
            ],
            [
             0.4444444444444444,
             "#bd3786"
            ],
            [
             0.5555555555555556,
             "#d8576b"
            ],
            [
             0.6666666666666666,
             "#ed7953"
            ],
            [
             0.7777777777777778,
             "#fb9f3a"
            ],
            [
             0.8888888888888888,
             "#fdca26"
            ],
            [
             1,
             "#f0f921"
            ]
           ],
           "sequentialminus": [
            [
             0,
             "#0d0887"
            ],
            [
             0.1111111111111111,
             "#46039f"
            ],
            [
             0.2222222222222222,
             "#7201a8"
            ],
            [
             0.3333333333333333,
             "#9c179e"
            ],
            [
             0.4444444444444444,
             "#bd3786"
            ],
            [
             0.5555555555555556,
             "#d8576b"
            ],
            [
             0.6666666666666666,
             "#ed7953"
            ],
            [
             0.7777777777777778,
             "#fb9f3a"
            ],
            [
             0.8888888888888888,
             "#fdca26"
            ],
            [
             1,
             "#f0f921"
            ]
           ]
          },
          "colorway": [
           "#636efa",
           "#EF553B",
           "#00cc96",
           "#ab63fa",
           "#FFA15A",
           "#19d3f3",
           "#FF6692",
           "#B6E880",
           "#FF97FF",
           "#FECB52"
          ],
          "font": {
           "color": "#2a3f5f"
          },
          "geo": {
           "bgcolor": "white",
           "lakecolor": "white",
           "landcolor": "#E5ECF6",
           "showlakes": true,
           "showland": true,
           "subunitcolor": "white"
          },
          "hoverlabel": {
           "align": "left"
          },
          "hovermode": "closest",
          "mapbox": {
           "style": "light"
          },
          "paper_bgcolor": "white",
          "plot_bgcolor": "#E5ECF6",
          "polar": {
           "angularaxis": {
            "gridcolor": "white",
            "linecolor": "white",
            "ticks": ""
           },
           "bgcolor": "#E5ECF6",
           "radialaxis": {
            "gridcolor": "white",
            "linecolor": "white",
            "ticks": ""
           }
          },
          "scene": {
           "xaxis": {
            "backgroundcolor": "#E5ECF6",
            "gridcolor": "white",
            "gridwidth": 2,
            "linecolor": "white",
            "showbackground": true,
            "ticks": "",
            "zerolinecolor": "white"
           },
           "yaxis": {
            "backgroundcolor": "#E5ECF6",
            "gridcolor": "white",
            "gridwidth": 2,
            "linecolor": "white",
            "showbackground": true,
            "ticks": "",
            "zerolinecolor": "white"
           },
           "zaxis": {
            "backgroundcolor": "#E5ECF6",
            "gridcolor": "white",
            "gridwidth": 2,
            "linecolor": "white",
            "showbackground": true,
            "ticks": "",
            "zerolinecolor": "white"
           }
          },
          "shapedefaults": {
           "line": {
            "color": "#2a3f5f"
           }
          },
          "ternary": {
           "aaxis": {
            "gridcolor": "white",
            "linecolor": "white",
            "ticks": ""
           },
           "baxis": {
            "gridcolor": "white",
            "linecolor": "white",
            "ticks": ""
           },
           "bgcolor": "#E5ECF6",
           "caxis": {
            "gridcolor": "white",
            "linecolor": "white",
            "ticks": ""
           }
          },
          "title": {
           "x": 0.05
          },
          "xaxis": {
           "automargin": true,
           "gridcolor": "white",
           "linecolor": "white",
           "ticks": "",
           "title": {
            "standoff": 15
           },
           "zerolinecolor": "white",
           "zerolinewidth": 2
          },
          "yaxis": {
           "automargin": true,
           "gridcolor": "white",
           "linecolor": "white",
           "ticks": "",
           "title": {
            "standoff": 15
           },
           "zerolinecolor": "white",
           "zerolinewidth": 2
          }
         }
        },
        "title": {
         "font": {
          "color": "#4D5663"
         }
        },
        "xaxis": {
         "gridcolor": "#E1E5ED",
         "showgrid": true,
         "tickfont": {
          "color": "#4D5663"
         },
         "title": {
          "font": {
           "color": "#4D5663"
          },
          "text": ""
         },
         "zerolinecolor": "#E1E5ED"
        },
        "yaxis": {
         "gridcolor": "#E1E5ED",
         "showgrid": true,
         "tickfont": {
          "color": "#4D5663"
         },
         "title": {
          "font": {
           "color": "#4D5663"
          },
          "text": ""
         },
         "zerolinecolor": "#E1E5ED"
        }
       }
      },
      "text/html": [
       "<div>                            <div id=\"f915e24b-eacd-4903-ac5f-fdb67b7e42ae\" class=\"plotly-graph-div\" style=\"height:525px; width:100%;\"></div>            <script type=\"text/javascript\">                require([\"plotly\"], function(Plotly) {                    window.PLOTLYENV=window.PLOTLYENV || {};\n",
       "                    window.PLOTLYENV.BASE_URL='https://plot.ly';                                    if (document.getElementById(\"f915e24b-eacd-4903-ac5f-fdb67b7e42ae\")) {                    Plotly.newPlot(                        \"f915e24b-eacd-4903-ac5f-fdb67b7e42ae\",                        [{\"marker\":{\"color\":\"rgba(255, 153, 51, 0.6)\",\"line\":{\"color\":\"rgba(255, 153, 51, 1.0)\",\"width\":1}},\"name\":\"None\",\"orientation\":\"v\",\"text\":\"\",\"x\":[\"A\",\"B\",\"C\",\"D\"],\"y\":[-1.6076427209614192,-9.494899441604643,9.336845689629891,14.958649573910034],\"type\":\"bar\"}],                        {\"legend\":{\"bgcolor\":\"#F5F6F9\",\"font\":{\"color\":\"#4D5663\"}},\"paper_bgcolor\":\"#F5F6F9\",\"plot_bgcolor\":\"#F5F6F9\",\"template\":{\"data\":{\"barpolar\":[{\"marker\":{\"line\":{\"color\":\"#E5ECF6\",\"width\":0.5},\"pattern\":{\"fillmode\":\"overlay\",\"size\":10,\"solidity\":0.2}},\"type\":\"barpolar\"}],\"bar\":[{\"error_x\":{\"color\":\"#2a3f5f\"},\"error_y\":{\"color\":\"#2a3f5f\"},\"marker\":{\"line\":{\"color\":\"#E5ECF6\",\"width\":0.5},\"pattern\":{\"fillmode\":\"overlay\",\"size\":10,\"solidity\":0.2}},\"type\":\"bar\"}],\"carpet\":[{\"aaxis\":{\"endlinecolor\":\"#2a3f5f\",\"gridcolor\":\"white\",\"linecolor\":\"white\",\"minorgridcolor\":\"white\",\"startlinecolor\":\"#2a3f5f\"},\"baxis\":{\"endlinecolor\":\"#2a3f5f\",\"gridcolor\":\"white\",\"linecolor\":\"white\",\"minorgridcolor\":\"white\",\"startlinecolor\":\"#2a3f5f\"},\"type\":\"carpet\"}],\"choropleth\":[{\"colorbar\":{\"outlinewidth\":0,\"ticks\":\"\"},\"type\":\"choropleth\"}],\"contourcarpet\":[{\"colorbar\":{\"outlinewidth\":0,\"ticks\":\"\"},\"type\":\"contourcarpet\"}],\"contour\":[{\"colorbar\":{\"outlinewidth\":0,\"ticks\":\"\"},\"colorscale\":[[0.0,\"#0d0887\"],[0.1111111111111111,\"#46039f\"],[0.2222222222222222,\"#7201a8\"],[0.3333333333333333,\"#9c179e\"],[0.4444444444444444,\"#bd3786\"],[0.5555555555555556,\"#d8576b\"],[0.6666666666666666,\"#ed7953\"],[0.7777777777777778,\"#fb9f3a\"],[0.8888888888888888,\"#fdca26\"],[1.0,\"#f0f921\"]],\"type\":\"contour\"}],\"heatmapgl\":[{\"colorbar\":{\"outlinewidth\":0,\"ticks\":\"\"},\"colorscale\":[[0.0,\"#0d0887\"],[0.1111111111111111,\"#46039f\"],[0.2222222222222222,\"#7201a8\"],[0.3333333333333333,\"#9c179e\"],[0.4444444444444444,\"#bd3786\"],[0.5555555555555556,\"#d8576b\"],[0.6666666666666666,\"#ed7953\"],[0.7777777777777778,\"#fb9f3a\"],[0.8888888888888888,\"#fdca26\"],[1.0,\"#f0f921\"]],\"type\":\"heatmapgl\"}],\"heatmap\":[{\"colorbar\":{\"outlinewidth\":0,\"ticks\":\"\"},\"colorscale\":[[0.0,\"#0d0887\"],[0.1111111111111111,\"#46039f\"],[0.2222222222222222,\"#7201a8\"],[0.3333333333333333,\"#9c179e\"],[0.4444444444444444,\"#bd3786\"],[0.5555555555555556,\"#d8576b\"],[0.6666666666666666,\"#ed7953\"],[0.7777777777777778,\"#fb9f3a\"],[0.8888888888888888,\"#fdca26\"],[1.0,\"#f0f921\"]],\"type\":\"heatmap\"}],\"histogram2dcontour\":[{\"colorbar\":{\"outlinewidth\":0,\"ticks\":\"\"},\"colorscale\":[[0.0,\"#0d0887\"],[0.1111111111111111,\"#46039f\"],[0.2222222222222222,\"#7201a8\"],[0.3333333333333333,\"#9c179e\"],[0.4444444444444444,\"#bd3786\"],[0.5555555555555556,\"#d8576b\"],[0.6666666666666666,\"#ed7953\"],[0.7777777777777778,\"#fb9f3a\"],[0.8888888888888888,\"#fdca26\"],[1.0,\"#f0f921\"]],\"type\":\"histogram2dcontour\"}],\"histogram2d\":[{\"colorbar\":{\"outlinewidth\":0,\"ticks\":\"\"},\"colorscale\":[[0.0,\"#0d0887\"],[0.1111111111111111,\"#46039f\"],[0.2222222222222222,\"#7201a8\"],[0.3333333333333333,\"#9c179e\"],[0.4444444444444444,\"#bd3786\"],[0.5555555555555556,\"#d8576b\"],[0.6666666666666666,\"#ed7953\"],[0.7777777777777778,\"#fb9f3a\"],[0.8888888888888888,\"#fdca26\"],[1.0,\"#f0f921\"]],\"type\":\"histogram2d\"}],\"histogram\":[{\"marker\":{\"pattern\":{\"fillmode\":\"overlay\",\"size\":10,\"solidity\":0.2}},\"type\":\"histogram\"}],\"mesh3d\":[{\"colorbar\":{\"outlinewidth\":0,\"ticks\":\"\"},\"type\":\"mesh3d\"}],\"parcoords\":[{\"line\":{\"colorbar\":{\"outlinewidth\":0,\"ticks\":\"\"}},\"type\":\"parcoords\"}],\"pie\":[{\"automargin\":true,\"type\":\"pie\"}],\"scatter3d\":[{\"line\":{\"colorbar\":{\"outlinewidth\":0,\"ticks\":\"\"}},\"marker\":{\"colorbar\":{\"outlinewidth\":0,\"ticks\":\"\"}},\"type\":\"scatter3d\"}],\"scattercarpet\":[{\"marker\":{\"colorbar\":{\"outlinewidth\":0,\"ticks\":\"\"}},\"type\":\"scattercarpet\"}],\"scattergeo\":[{\"marker\":{\"colorbar\":{\"outlinewidth\":0,\"ticks\":\"\"}},\"type\":\"scattergeo\"}],\"scattergl\":[{\"marker\":{\"colorbar\":{\"outlinewidth\":0,\"ticks\":\"\"}},\"type\":\"scattergl\"}],\"scattermapbox\":[{\"marker\":{\"colorbar\":{\"outlinewidth\":0,\"ticks\":\"\"}},\"type\":\"scattermapbox\"}],\"scatterpolargl\":[{\"marker\":{\"colorbar\":{\"outlinewidth\":0,\"ticks\":\"\"}},\"type\":\"scatterpolargl\"}],\"scatterpolar\":[{\"marker\":{\"colorbar\":{\"outlinewidth\":0,\"ticks\":\"\"}},\"type\":\"scatterpolar\"}],\"scatter\":[{\"marker\":{\"colorbar\":{\"outlinewidth\":0,\"ticks\":\"\"}},\"type\":\"scatter\"}],\"scatterternary\":[{\"marker\":{\"colorbar\":{\"outlinewidth\":0,\"ticks\":\"\"}},\"type\":\"scatterternary\"}],\"surface\":[{\"colorbar\":{\"outlinewidth\":0,\"ticks\":\"\"},\"colorscale\":[[0.0,\"#0d0887\"],[0.1111111111111111,\"#46039f\"],[0.2222222222222222,\"#7201a8\"],[0.3333333333333333,\"#9c179e\"],[0.4444444444444444,\"#bd3786\"],[0.5555555555555556,\"#d8576b\"],[0.6666666666666666,\"#ed7953\"],[0.7777777777777778,\"#fb9f3a\"],[0.8888888888888888,\"#fdca26\"],[1.0,\"#f0f921\"]],\"type\":\"surface\"}],\"table\":[{\"cells\":{\"fill\":{\"color\":\"#EBF0F8\"},\"line\":{\"color\":\"white\"}},\"header\":{\"fill\":{\"color\":\"#C8D4E3\"},\"line\":{\"color\":\"white\"}},\"type\":\"table\"}]},\"layout\":{\"annotationdefaults\":{\"arrowcolor\":\"#2a3f5f\",\"arrowhead\":0,\"arrowwidth\":1},\"autotypenumbers\":\"strict\",\"coloraxis\":{\"colorbar\":{\"outlinewidth\":0,\"ticks\":\"\"}},\"colorscale\":{\"diverging\":[[0,\"#8e0152\"],[0.1,\"#c51b7d\"],[0.2,\"#de77ae\"],[0.3,\"#f1b6da\"],[0.4,\"#fde0ef\"],[0.5,\"#f7f7f7\"],[0.6,\"#e6f5d0\"],[0.7,\"#b8e186\"],[0.8,\"#7fbc41\"],[0.9,\"#4d9221\"],[1,\"#276419\"]],\"sequential\":[[0.0,\"#0d0887\"],[0.1111111111111111,\"#46039f\"],[0.2222222222222222,\"#7201a8\"],[0.3333333333333333,\"#9c179e\"],[0.4444444444444444,\"#bd3786\"],[0.5555555555555556,\"#d8576b\"],[0.6666666666666666,\"#ed7953\"],[0.7777777777777778,\"#fb9f3a\"],[0.8888888888888888,\"#fdca26\"],[1.0,\"#f0f921\"]],\"sequentialminus\":[[0.0,\"#0d0887\"],[0.1111111111111111,\"#46039f\"],[0.2222222222222222,\"#7201a8\"],[0.3333333333333333,\"#9c179e\"],[0.4444444444444444,\"#bd3786\"],[0.5555555555555556,\"#d8576b\"],[0.6666666666666666,\"#ed7953\"],[0.7777777777777778,\"#fb9f3a\"],[0.8888888888888888,\"#fdca26\"],[1.0,\"#f0f921\"]]},\"colorway\":[\"#636efa\",\"#EF553B\",\"#00cc96\",\"#ab63fa\",\"#FFA15A\",\"#19d3f3\",\"#FF6692\",\"#B6E880\",\"#FF97FF\",\"#FECB52\"],\"font\":{\"color\":\"#2a3f5f\"},\"geo\":{\"bgcolor\":\"white\",\"lakecolor\":\"white\",\"landcolor\":\"#E5ECF6\",\"showlakes\":true,\"showland\":true,\"subunitcolor\":\"white\"},\"hoverlabel\":{\"align\":\"left\"},\"hovermode\":\"closest\",\"mapbox\":{\"style\":\"light\"},\"paper_bgcolor\":\"white\",\"plot_bgcolor\":\"#E5ECF6\",\"polar\":{\"angularaxis\":{\"gridcolor\":\"white\",\"linecolor\":\"white\",\"ticks\":\"\"},\"bgcolor\":\"#E5ECF6\",\"radialaxis\":{\"gridcolor\":\"white\",\"linecolor\":\"white\",\"ticks\":\"\"}},\"scene\":{\"xaxis\":{\"backgroundcolor\":\"#E5ECF6\",\"gridcolor\":\"white\",\"gridwidth\":2,\"linecolor\":\"white\",\"showbackground\":true,\"ticks\":\"\",\"zerolinecolor\":\"white\"},\"yaxis\":{\"backgroundcolor\":\"#E5ECF6\",\"gridcolor\":\"white\",\"gridwidth\":2,\"linecolor\":\"white\",\"showbackground\":true,\"ticks\":\"\",\"zerolinecolor\":\"white\"},\"zaxis\":{\"backgroundcolor\":\"#E5ECF6\",\"gridcolor\":\"white\",\"gridwidth\":2,\"linecolor\":\"white\",\"showbackground\":true,\"ticks\":\"\",\"zerolinecolor\":\"white\"}},\"shapedefaults\":{\"line\":{\"color\":\"#2a3f5f\"}},\"ternary\":{\"aaxis\":{\"gridcolor\":\"white\",\"linecolor\":\"white\",\"ticks\":\"\"},\"baxis\":{\"gridcolor\":\"white\",\"linecolor\":\"white\",\"ticks\":\"\"},\"bgcolor\":\"#E5ECF6\",\"caxis\":{\"gridcolor\":\"white\",\"linecolor\":\"white\",\"ticks\":\"\"}},\"title\":{\"x\":0.05},\"xaxis\":{\"automargin\":true,\"gridcolor\":\"white\",\"linecolor\":\"white\",\"ticks\":\"\",\"title\":{\"standoff\":15},\"zerolinecolor\":\"white\",\"zerolinewidth\":2},\"yaxis\":{\"automargin\":true,\"gridcolor\":\"white\",\"linecolor\":\"white\",\"ticks\":\"\",\"title\":{\"standoff\":15},\"zerolinecolor\":\"white\",\"zerolinewidth\":2}}},\"title\":{\"font\":{\"color\":\"#4D5663\"}},\"xaxis\":{\"gridcolor\":\"#E1E5ED\",\"showgrid\":true,\"tickfont\":{\"color\":\"#4D5663\"},\"title\":{\"font\":{\"color\":\"#4D5663\"},\"text\":\"\"},\"zerolinecolor\":\"#E1E5ED\"},\"yaxis\":{\"gridcolor\":\"#E1E5ED\",\"showgrid\":true,\"tickfont\":{\"color\":\"#4D5663\"},\"title\":{\"font\":{\"color\":\"#4D5663\"},\"text\":\"\"},\"zerolinecolor\":\"#E1E5ED\"}},                        {\"showLink\": true, \"linkText\": \"Export to plot.ly\", \"plotlyServerURL\": \"https://plot.ly\", \"responsive\": true}                    ).then(function(){\n",
       "                            \n",
       "var gd = document.getElementById('f915e24b-eacd-4903-ac5f-fdb67b7e42ae');\n",
       "var x = new MutationObserver(function (mutations, observer) {{\n",
       "        var display = window.getComputedStyle(gd).display;\n",
       "        if (!display || display === 'none') {{\n",
       "            console.log([gd, 'removed!']);\n",
       "            Plotly.purge(gd);\n",
       "            observer.disconnect();\n",
       "        }}\n",
       "}});\n",
       "\n",
       "// Listen for the removal of the full notebook cells\n",
       "var notebookContainer = gd.closest('#notebook-container');\n",
       "if (notebookContainer) {{\n",
       "    x.observe(notebookContainer, {childList: true});\n",
       "}}\n",
       "\n",
       "// Listen for the clearing of the current output cell\n",
       "var outputEl = gd.closest('.output');\n",
       "if (outputEl) {{\n",
       "    x.observe(outputEl, {childList: true});\n",
       "}}\n",
       "\n",
       "                        })                };                });            </script>        </div>"
      ]
     },
     "metadata": {},
     "output_type": "display_data"
    }
   ],
   "source": [
    "df.sum().iplot(kind='bar')"
   ]
  },
  {
   "cell_type": "markdown",
   "metadata": {},
   "source": [
    "## Boxplots"
   ]
  },
  {
   "cell_type": "code",
   "execution_count": 22,
   "metadata": {},
   "outputs": [
    {
     "data": {
      "application/vnd.plotly.v1+json": {
       "config": {
        "linkText": "Export to plot.ly",
        "plotlyServerURL": "https://plot.ly",
        "showLink": true
       },
       "data": [
        {
         "boxpoints": false,
         "line": {
          "width": 1.3
         },
         "marker": {
          "color": "rgba(255, 153, 51, 1.0)"
         },
         "name": "A",
         "orientation": "v",
         "type": "box",
         "y": [
          -0.7051831481220451,
          0.43922270603827557,
          -0.24870124121465462,
          2.057258717584174,
          0.9928029700879529,
          -0.5614200505011286,
          -0.4525971471128819,
          -0.8425476141815342,
          0.22452019875816207,
          -1.0419304921342696,
          -0.596979459798248,
          -0.5136433270420201,
          -0.30109082273899646,
          -0.8437793523718262,
          -1.3019298542708193,
          -0.7469286394475176,
          -0.15606362034286694,
          1.0414201604476443,
          -1.6083459626882008,
          0.39757187428806584,
          0.9088622126821246,
          0.1288342090116408,
          0.9148982966185591,
          -0.9919522699380063,
          -0.3555543177539484,
          -0.0945839771416839,
          0.07575588211214367,
          -0.030106281406176865,
          -1.0074275350290345,
          0.13408162979612936,
          0.17796399981688318,
          -0.13570033957890884,
          0.784454763128047,
          1.5097312060988817,
          -0.8963002615710953,
          -0.6482105493446612,
          0.9841767167594909,
          1.241599591298693,
          0.2830256966654552,
          -0.6214143312238146,
          -0.09812462802196699,
          1.7546021754331227,
          -0.4020619004488187,
          2.687347057037032,
          0.35357279144602843,
          1.8980457695588686,
          -0.44205016471097835,
          1.342302156302457,
          -2.6086746796664086,
          -0.2422383762343922,
          0.020171641164645333,
          0.038833475065560404,
          0.7611381770555126,
          0.15908773656704006,
          0.06468045369400825,
          0.9822092545872925,
          -0.8066539137936216,
          -2.131153972171354,
          0.914030903086248,
          0.014514507630141022,
          0.3247783307436006,
          -1.0623521273207823,
          -0.5627431869802589,
          -1.1557172843024368,
          -0.3798027873441633,
          -0.1438001174563708,
          1.2573609083720851,
          0.43751117368337294,
          -0.22503926746541883,
          0.4090682819088985,
          0.6237103778312871,
          -1.229011584355428,
          1.5871669025342217,
          0.0407574102693247,
          -1.4536960876806284,
          -0.6222411663434749,
          0.10286155555958691,
          0.24028167035807485,
          1.4704070810483008,
          -0.18727545016936312,
          -0.5227882042145175,
          -0.41843157353403804,
          0.5095772093194731,
          0.5769946056343663,
          1.7298184287290328,
          -0.5459541749316872,
          -2.397909800294627,
          -0.4875778238404372,
          0.30477659153794356,
          -0.023161571453009136,
          -1.4053406325800621,
          2.1471994716512177,
          0.09979825143961732,
          -0.1643652940012639,
          -1.3072456396882137,
          0.29508527262263246,
          0.33142503229300063,
          -0.1601889859460664,
          -0.732556289003857,
          -0.7623909274097523
         ]
        },
        {
         "boxpoints": false,
         "line": {
          "width": 1.3
         },
         "marker": {
          "color": "rgba(55, 128, 191, 1.0)"
         },
         "name": "B",
         "orientation": "v",
         "type": "box",
         "y": [
          -1.7013006760508602,
          0.3726110922373725,
          -0.9754051723074265,
          -1.4310905116703005,
          -0.49495580410156426,
          -0.23792853733818523,
          0.6820747164655667,
          -1.3244121992950646,
          0.844853852654464,
          -0.12712387910761966,
          0.07727653845877015,
          -1.6178919682285964,
          1.6620560366530401,
          1.699485017671733,
          -1.4933662810763182,
          -1.4420375546757855,
          0.00741199240362949,
          -2.061084183065256,
          -1.7697645039107246,
          1.9526086513272267,
          -0.20318056893072264,
          -1.3995600619671336,
          0.010642637425180183,
          1.0358081462914928,
          -0.37242494277677585,
          0.20667476003049706,
          -0.16267298076775957,
          0.7798128841823275,
          -0.35179459123935136,
          1.081467422627341,
          0.7077613301512333,
          -0.6110458049423005,
          -0.7446518379211517,
          0.47949213837655,
          -0.9540988719737546,
          0.1123688035076602,
          0.26169480514641313,
          -1.9475558614432522,
          -0.09404948355237926,
          -0.579998779191727,
          -0.9162076738199042,
          -1.3393615273245074,
          0.0788299847120889,
          0.6379938373868258,
          -0.8130888257415996,
          1.6611778058206665,
          -0.4813116087170946,
          -0.019547948800238503,
          1.331918402584154,
          -0.6571735272751751,
          -1.0682608537423943,
          -0.5733998113617014,
          0.29800706286622497,
          -1.365369741686114,
          1.3060602621305004,
          -0.4857256708152363,
          0.3445712175703463,
          1.2459952091278363,
          0.4409296584019077,
          -1.241525679399955,
          -0.017717831482726706,
          0.5284160702894732,
          0.7957565688596141,
          -0.7970539399473027,
          0.8452111615611503,
          0.6862207008234761,
          0.3928558456506407,
          0.21363798837630205,
          -1.1432047801812812,
          -0.09517977719340225,
          0.5218475516192701,
          -0.19272219613099298,
          1.05964041604494,
          0.2761071357701667,
          -0.7943275870137153,
          -1.1404461350535857,
          0.8603468722255645,
          -0.05852670388260969,
          1.3662802340147435,
          -0.7567889152604271,
          -0.3474788034623021,
          -0.23554292992878703,
          1.197373609772019,
          0.5754650080324972,
          -1.4125808720783122,
          0.30494901967571725,
          -1.5416465431940984,
          0.016412502071598608,
          0.3720332248482546,
          -1.3428792774194924,
          0.8857193838349164,
          0.6703174061080518,
          -0.7172600720684109,
          -0.21520251053018347,
          0.8786850026750797,
          -0.27803441786860095,
          1.8524411743566065,
          0.4529031345378013,
          -0.693555130039683,
          -0.72858737200973
         ]
        },
        {
         "boxpoints": false,
         "line": {
          "width": 1.3
         },
         "marker": {
          "color": "rgba(50, 171, 96, 1.0)"
         },
         "name": "C",
         "orientation": "v",
         "type": "box",
         "y": [
          -0.019996894482532116,
          -0.2602553169003833,
          -0.2215248167300281,
          -0.8602485863574177,
          1.6873855685921646,
          -0.3287933403432567,
          2.212736908665413,
          -0.11343478774285223,
          0.4201314292366824,
          0.03579290776835197,
          -0.9223600415129647,
          0.2566551527685251,
          0.17497476752677876,
          0.14219386457951017,
          0.17761185561904086,
          0.6720934145063548,
          -0.30185818568293404,
          1.9392089899558609,
          0.6343369545960236,
          0.11724097376126452,
          0.5945537333890104,
          1.0823320997300003,
          0.015143848950196532,
          -0.4376871148491534,
          -0.7153924792724057,
          -0.7510303704897234,
          -0.3791411826102001,
          0.22631772385145377,
          -0.18637294864949822,
          -0.6271657787161323,
          -0.4662937032315267,
          -0.7455839956502811,
          -0.01950529932959586,
          0.603973934592031,
          0.36057853675762874,
          0.6925336725138185,
          -0.5201817419416065,
          1.6238757654046803,
          1.4911996042527316,
          -0.47990335261790784,
          -1.4511541185179837,
          -1.8146380630287766,
          1.133526738920183,
          -0.8060500385510251,
          2.3843731838406415,
          1.777019838947044,
          1.3526758611542338,
          -0.903346237828229,
          -0.08431983012892895,
          -0.31617224338074273,
          0.6869448004732898,
          0.3681502549924151,
          -0.9131754235222048,
          -0.9712348010319604,
          1.2256720296497043,
          -0.24663550342134388,
          1.2595994629479532,
          -0.2975746098721045,
          1.240791709837519,
          -0.5949595894075386,
          -0.17904950497807356,
          0.44546460567180246,
          1.3285003579844963,
          1.5974210037903287,
          -1.7516955599012078,
          0.5838479935591269,
          -1.456749784734076,
          0.5784208466973598,
          -1.100358845557394,
          -0.959172123564169,
          -0.3939085956468053,
          -1.632687118245128,
          0.008848318748572514,
          -1.2360334005904456,
          0.3329082688608831,
          -0.3888152669006266,
          0.06654334697309092,
          -0.39818435630663646,
          -0.3777926079042949,
          -0.10358331404241641,
          1.5509137738090428,
          -0.18388268418772813,
          0.44633468185763964,
          1.6187106738289636,
          -0.5749255574505231,
          -0.5937847496041464,
          -0.34509751361624874,
          -0.12938947331030054,
          -0.7110103065764183,
          -0.9579480600494636,
          1.312673174584851,
          -0.04148206860367141,
          -0.6838387657243769,
          0.19961747036822602,
          0.5409465763236752,
          1.1818710027484864,
          1.173119639445139,
          -0.15964691859267258,
          0.5254805439905126,
          0.37062479449525154
         ]
        },
        {
         "boxpoints": false,
         "line": {
          "width": 1.3
         },
         "marker": {
          "color": "rgba(128, 0, 128, 1.0)"
         },
         "name": "D",
         "orientation": "v",
         "type": "box",
         "y": [
          0.06019172523097076,
          -0.3164762147460986,
          -1.1431214593094021,
          0.988954441989928,
          -0.5246581629896405,
          0.3775899213866819,
          0.36853112522714376,
          -0.9899420171442083,
          0.1133917687325859,
          0.605539817851534,
          1.2049104271517652,
          -1.5031003865147754,
          1.4700788773018643,
          1.0642055929786205,
          -0.9109532886750104,
          0.684452525489341,
          -0.822918543882324,
          -0.3343470233828204,
          0.4502557185476605,
          2.2995410507704244,
          0.42405820656141413,
          1.0579285774817733,
          1.6730098523395402,
          2.141661207362836,
          0.39945239824490575,
          0.7430436236811725,
          0.8005467059269081,
          1.4113799584790845,
          -1.6458440941331192,
          -0.9512014597907744,
          -1.3679538525295512,
          -0.45605737059048407,
          0.24363953217264975,
          2.2627119526523414,
          -1.2836675626885568,
          1.5845758412218696,
          1.1586609088892865,
          0.5031938063621324,
          -1.3140130431585808,
          0.3448173975032927,
          -0.21159866501086064,
          -0.29016634575411904,
          -0.07334809688600948,
          0.21931938600014184,
          -0.4498496146329854,
          0.6462420193706621,
          0.4911779993597168,
          0.5445573655916676,
          -1.4380076966885829,
          1.488264386286784,
          -0.06646086711891994,
          -0.7667310937149749,
          0.8308825128244485,
          2.3795136616166235,
          -0.4570644652463601,
          -0.0003693884963840633,
          -1.7701542856769128,
          -0.30541636027929614,
          1.7969633617858682,
          -0.7733699053345111,
          -0.09951868470434512,
          1.9739166938462196,
          -0.6701603249898898,
          -1.1639900169641726,
          0.5703800793491294,
          0.45885481437099834,
          0.9439912083164357,
          1.1445980770515547,
          2.0470841754796365,
          -1.6993638703662,
          -1.954057694441885,
          0.40409787838588546,
          0.7441990342740958,
          0.8940087175365565,
          1.7968885795833933,
          -1.4263406954286055,
          -0.052352829613267995,
          -0.6045778132902017,
          0.6255708191710183,
          1.4349459682051686,
          -1.623214989387944,
          1.299646570104817,
          1.8428334970880769,
          0.32999413456451193,
          0.213803796614734,
          -0.9389200023125681,
          -2.2817314341578783,
          -1.0058849248931288,
          -0.9041307318463464,
          -0.377606207933437,
          0.9082038889641426,
          0.05267930843748459,
          0.2075046377655566,
          -0.6189363327383898,
          0.5064605832447548,
          0.5802166730092401,
          1.6821761073481274,
          -1.6038621207491588,
          -2.2732260368459842,
          0.9280166518635189
         ]
        }
       ],
       "layout": {
        "legend": {
         "bgcolor": "#F5F6F9",
         "font": {
          "color": "#4D5663"
         }
        },
        "paper_bgcolor": "#F5F6F9",
        "plot_bgcolor": "#F5F6F9",
        "template": {
         "data": {
          "bar": [
           {
            "error_x": {
             "color": "#2a3f5f"
            },
            "error_y": {
             "color": "#2a3f5f"
            },
            "marker": {
             "line": {
              "color": "#E5ECF6",
              "width": 0.5
             },
             "pattern": {
              "fillmode": "overlay",
              "size": 10,
              "solidity": 0.2
             }
            },
            "type": "bar"
           }
          ],
          "barpolar": [
           {
            "marker": {
             "line": {
              "color": "#E5ECF6",
              "width": 0.5
             },
             "pattern": {
              "fillmode": "overlay",
              "size": 10,
              "solidity": 0.2
             }
            },
            "type": "barpolar"
           }
          ],
          "carpet": [
           {
            "aaxis": {
             "endlinecolor": "#2a3f5f",
             "gridcolor": "white",
             "linecolor": "white",
             "minorgridcolor": "white",
             "startlinecolor": "#2a3f5f"
            },
            "baxis": {
             "endlinecolor": "#2a3f5f",
             "gridcolor": "white",
             "linecolor": "white",
             "minorgridcolor": "white",
             "startlinecolor": "#2a3f5f"
            },
            "type": "carpet"
           }
          ],
          "choropleth": [
           {
            "colorbar": {
             "outlinewidth": 0,
             "ticks": ""
            },
            "type": "choropleth"
           }
          ],
          "contour": [
           {
            "colorbar": {
             "outlinewidth": 0,
             "ticks": ""
            },
            "colorscale": [
             [
              0,
              "#0d0887"
             ],
             [
              0.1111111111111111,
              "#46039f"
             ],
             [
              0.2222222222222222,
              "#7201a8"
             ],
             [
              0.3333333333333333,
              "#9c179e"
             ],
             [
              0.4444444444444444,
              "#bd3786"
             ],
             [
              0.5555555555555556,
              "#d8576b"
             ],
             [
              0.6666666666666666,
              "#ed7953"
             ],
             [
              0.7777777777777778,
              "#fb9f3a"
             ],
             [
              0.8888888888888888,
              "#fdca26"
             ],
             [
              1,
              "#f0f921"
             ]
            ],
            "type": "contour"
           }
          ],
          "contourcarpet": [
           {
            "colorbar": {
             "outlinewidth": 0,
             "ticks": ""
            },
            "type": "contourcarpet"
           }
          ],
          "heatmap": [
           {
            "colorbar": {
             "outlinewidth": 0,
             "ticks": ""
            },
            "colorscale": [
             [
              0,
              "#0d0887"
             ],
             [
              0.1111111111111111,
              "#46039f"
             ],
             [
              0.2222222222222222,
              "#7201a8"
             ],
             [
              0.3333333333333333,
              "#9c179e"
             ],
             [
              0.4444444444444444,
              "#bd3786"
             ],
             [
              0.5555555555555556,
              "#d8576b"
             ],
             [
              0.6666666666666666,
              "#ed7953"
             ],
             [
              0.7777777777777778,
              "#fb9f3a"
             ],
             [
              0.8888888888888888,
              "#fdca26"
             ],
             [
              1,
              "#f0f921"
             ]
            ],
            "type": "heatmap"
           }
          ],
          "heatmapgl": [
           {
            "colorbar": {
             "outlinewidth": 0,
             "ticks": ""
            },
            "colorscale": [
             [
              0,
              "#0d0887"
             ],
             [
              0.1111111111111111,
              "#46039f"
             ],
             [
              0.2222222222222222,
              "#7201a8"
             ],
             [
              0.3333333333333333,
              "#9c179e"
             ],
             [
              0.4444444444444444,
              "#bd3786"
             ],
             [
              0.5555555555555556,
              "#d8576b"
             ],
             [
              0.6666666666666666,
              "#ed7953"
             ],
             [
              0.7777777777777778,
              "#fb9f3a"
             ],
             [
              0.8888888888888888,
              "#fdca26"
             ],
             [
              1,
              "#f0f921"
             ]
            ],
            "type": "heatmapgl"
           }
          ],
          "histogram": [
           {
            "marker": {
             "pattern": {
              "fillmode": "overlay",
              "size": 10,
              "solidity": 0.2
             }
            },
            "type": "histogram"
           }
          ],
          "histogram2d": [
           {
            "colorbar": {
             "outlinewidth": 0,
             "ticks": ""
            },
            "colorscale": [
             [
              0,
              "#0d0887"
             ],
             [
              0.1111111111111111,
              "#46039f"
             ],
             [
              0.2222222222222222,
              "#7201a8"
             ],
             [
              0.3333333333333333,
              "#9c179e"
             ],
             [
              0.4444444444444444,
              "#bd3786"
             ],
             [
              0.5555555555555556,
              "#d8576b"
             ],
             [
              0.6666666666666666,
              "#ed7953"
             ],
             [
              0.7777777777777778,
              "#fb9f3a"
             ],
             [
              0.8888888888888888,
              "#fdca26"
             ],
             [
              1,
              "#f0f921"
             ]
            ],
            "type": "histogram2d"
           }
          ],
          "histogram2dcontour": [
           {
            "colorbar": {
             "outlinewidth": 0,
             "ticks": ""
            },
            "colorscale": [
             [
              0,
              "#0d0887"
             ],
             [
              0.1111111111111111,
              "#46039f"
             ],
             [
              0.2222222222222222,
              "#7201a8"
             ],
             [
              0.3333333333333333,
              "#9c179e"
             ],
             [
              0.4444444444444444,
              "#bd3786"
             ],
             [
              0.5555555555555556,
              "#d8576b"
             ],
             [
              0.6666666666666666,
              "#ed7953"
             ],
             [
              0.7777777777777778,
              "#fb9f3a"
             ],
             [
              0.8888888888888888,
              "#fdca26"
             ],
             [
              1,
              "#f0f921"
             ]
            ],
            "type": "histogram2dcontour"
           }
          ],
          "mesh3d": [
           {
            "colorbar": {
             "outlinewidth": 0,
             "ticks": ""
            },
            "type": "mesh3d"
           }
          ],
          "parcoords": [
           {
            "line": {
             "colorbar": {
              "outlinewidth": 0,
              "ticks": ""
             }
            },
            "type": "parcoords"
           }
          ],
          "pie": [
           {
            "automargin": true,
            "type": "pie"
           }
          ],
          "scatter": [
           {
            "marker": {
             "colorbar": {
              "outlinewidth": 0,
              "ticks": ""
             }
            },
            "type": "scatter"
           }
          ],
          "scatter3d": [
           {
            "line": {
             "colorbar": {
              "outlinewidth": 0,
              "ticks": ""
             }
            },
            "marker": {
             "colorbar": {
              "outlinewidth": 0,
              "ticks": ""
             }
            },
            "type": "scatter3d"
           }
          ],
          "scattercarpet": [
           {
            "marker": {
             "colorbar": {
              "outlinewidth": 0,
              "ticks": ""
             }
            },
            "type": "scattercarpet"
           }
          ],
          "scattergeo": [
           {
            "marker": {
             "colorbar": {
              "outlinewidth": 0,
              "ticks": ""
             }
            },
            "type": "scattergeo"
           }
          ],
          "scattergl": [
           {
            "marker": {
             "colorbar": {
              "outlinewidth": 0,
              "ticks": ""
             }
            },
            "type": "scattergl"
           }
          ],
          "scattermapbox": [
           {
            "marker": {
             "colorbar": {
              "outlinewidth": 0,
              "ticks": ""
             }
            },
            "type": "scattermapbox"
           }
          ],
          "scatterpolar": [
           {
            "marker": {
             "colorbar": {
              "outlinewidth": 0,
              "ticks": ""
             }
            },
            "type": "scatterpolar"
           }
          ],
          "scatterpolargl": [
           {
            "marker": {
             "colorbar": {
              "outlinewidth": 0,
              "ticks": ""
             }
            },
            "type": "scatterpolargl"
           }
          ],
          "scatterternary": [
           {
            "marker": {
             "colorbar": {
              "outlinewidth": 0,
              "ticks": ""
             }
            },
            "type": "scatterternary"
           }
          ],
          "surface": [
           {
            "colorbar": {
             "outlinewidth": 0,
             "ticks": ""
            },
            "colorscale": [
             [
              0,
              "#0d0887"
             ],
             [
              0.1111111111111111,
              "#46039f"
             ],
             [
              0.2222222222222222,
              "#7201a8"
             ],
             [
              0.3333333333333333,
              "#9c179e"
             ],
             [
              0.4444444444444444,
              "#bd3786"
             ],
             [
              0.5555555555555556,
              "#d8576b"
             ],
             [
              0.6666666666666666,
              "#ed7953"
             ],
             [
              0.7777777777777778,
              "#fb9f3a"
             ],
             [
              0.8888888888888888,
              "#fdca26"
             ],
             [
              1,
              "#f0f921"
             ]
            ],
            "type": "surface"
           }
          ],
          "table": [
           {
            "cells": {
             "fill": {
              "color": "#EBF0F8"
             },
             "line": {
              "color": "white"
             }
            },
            "header": {
             "fill": {
              "color": "#C8D4E3"
             },
             "line": {
              "color": "white"
             }
            },
            "type": "table"
           }
          ]
         },
         "layout": {
          "annotationdefaults": {
           "arrowcolor": "#2a3f5f",
           "arrowhead": 0,
           "arrowwidth": 1
          },
          "autotypenumbers": "strict",
          "coloraxis": {
           "colorbar": {
            "outlinewidth": 0,
            "ticks": ""
           }
          },
          "colorscale": {
           "diverging": [
            [
             0,
             "#8e0152"
            ],
            [
             0.1,
             "#c51b7d"
            ],
            [
             0.2,
             "#de77ae"
            ],
            [
             0.3,
             "#f1b6da"
            ],
            [
             0.4,
             "#fde0ef"
            ],
            [
             0.5,
             "#f7f7f7"
            ],
            [
             0.6,
             "#e6f5d0"
            ],
            [
             0.7,
             "#b8e186"
            ],
            [
             0.8,
             "#7fbc41"
            ],
            [
             0.9,
             "#4d9221"
            ],
            [
             1,
             "#276419"
            ]
           ],
           "sequential": [
            [
             0,
             "#0d0887"
            ],
            [
             0.1111111111111111,
             "#46039f"
            ],
            [
             0.2222222222222222,
             "#7201a8"
            ],
            [
             0.3333333333333333,
             "#9c179e"
            ],
            [
             0.4444444444444444,
             "#bd3786"
            ],
            [
             0.5555555555555556,
             "#d8576b"
            ],
            [
             0.6666666666666666,
             "#ed7953"
            ],
            [
             0.7777777777777778,
             "#fb9f3a"
            ],
            [
             0.8888888888888888,
             "#fdca26"
            ],
            [
             1,
             "#f0f921"
            ]
           ],
           "sequentialminus": [
            [
             0,
             "#0d0887"
            ],
            [
             0.1111111111111111,
             "#46039f"
            ],
            [
             0.2222222222222222,
             "#7201a8"
            ],
            [
             0.3333333333333333,
             "#9c179e"
            ],
            [
             0.4444444444444444,
             "#bd3786"
            ],
            [
             0.5555555555555556,
             "#d8576b"
            ],
            [
             0.6666666666666666,
             "#ed7953"
            ],
            [
             0.7777777777777778,
             "#fb9f3a"
            ],
            [
             0.8888888888888888,
             "#fdca26"
            ],
            [
             1,
             "#f0f921"
            ]
           ]
          },
          "colorway": [
           "#636efa",
           "#EF553B",
           "#00cc96",
           "#ab63fa",
           "#FFA15A",
           "#19d3f3",
           "#FF6692",
           "#B6E880",
           "#FF97FF",
           "#FECB52"
          ],
          "font": {
           "color": "#2a3f5f"
          },
          "geo": {
           "bgcolor": "white",
           "lakecolor": "white",
           "landcolor": "#E5ECF6",
           "showlakes": true,
           "showland": true,
           "subunitcolor": "white"
          },
          "hoverlabel": {
           "align": "left"
          },
          "hovermode": "closest",
          "mapbox": {
           "style": "light"
          },
          "paper_bgcolor": "white",
          "plot_bgcolor": "#E5ECF6",
          "polar": {
           "angularaxis": {
            "gridcolor": "white",
            "linecolor": "white",
            "ticks": ""
           },
           "bgcolor": "#E5ECF6",
           "radialaxis": {
            "gridcolor": "white",
            "linecolor": "white",
            "ticks": ""
           }
          },
          "scene": {
           "xaxis": {
            "backgroundcolor": "#E5ECF6",
            "gridcolor": "white",
            "gridwidth": 2,
            "linecolor": "white",
            "showbackground": true,
            "ticks": "",
            "zerolinecolor": "white"
           },
           "yaxis": {
            "backgroundcolor": "#E5ECF6",
            "gridcolor": "white",
            "gridwidth": 2,
            "linecolor": "white",
            "showbackground": true,
            "ticks": "",
            "zerolinecolor": "white"
           },
           "zaxis": {
            "backgroundcolor": "#E5ECF6",
            "gridcolor": "white",
            "gridwidth": 2,
            "linecolor": "white",
            "showbackground": true,
            "ticks": "",
            "zerolinecolor": "white"
           }
          },
          "shapedefaults": {
           "line": {
            "color": "#2a3f5f"
           }
          },
          "ternary": {
           "aaxis": {
            "gridcolor": "white",
            "linecolor": "white",
            "ticks": ""
           },
           "baxis": {
            "gridcolor": "white",
            "linecolor": "white",
            "ticks": ""
           },
           "bgcolor": "#E5ECF6",
           "caxis": {
            "gridcolor": "white",
            "linecolor": "white",
            "ticks": ""
           }
          },
          "title": {
           "x": 0.05
          },
          "xaxis": {
           "automargin": true,
           "gridcolor": "white",
           "linecolor": "white",
           "ticks": "",
           "title": {
            "standoff": 15
           },
           "zerolinecolor": "white",
           "zerolinewidth": 2
          },
          "yaxis": {
           "automargin": true,
           "gridcolor": "white",
           "linecolor": "white",
           "ticks": "",
           "title": {
            "standoff": 15
           },
           "zerolinecolor": "white",
           "zerolinewidth": 2
          }
         }
        },
        "title": {
         "font": {
          "color": "#4D5663"
         }
        },
        "xaxis": {
         "gridcolor": "#E1E5ED",
         "showgrid": true,
         "tickfont": {
          "color": "#4D5663"
         },
         "title": {
          "font": {
           "color": "#4D5663"
          },
          "text": ""
         },
         "zerolinecolor": "#E1E5ED"
        },
        "yaxis": {
         "gridcolor": "#E1E5ED",
         "showgrid": true,
         "tickfont": {
          "color": "#4D5663"
         },
         "title": {
          "font": {
           "color": "#4D5663"
          },
          "text": ""
         },
         "zerolinecolor": "#E1E5ED"
        }
       }
      },
      "text/html": [
       "<div>                            <div id=\"5c97fb24-ae32-46e7-a2a7-9c8cc1cf579b\" class=\"plotly-graph-div\" style=\"height:525px; width:100%;\"></div>            <script type=\"text/javascript\">                require([\"plotly\"], function(Plotly) {                    window.PLOTLYENV=window.PLOTLYENV || {};\n",
       "                    window.PLOTLYENV.BASE_URL='https://plot.ly';                                    if (document.getElementById(\"5c97fb24-ae32-46e7-a2a7-9c8cc1cf579b\")) {                    Plotly.newPlot(                        \"5c97fb24-ae32-46e7-a2a7-9c8cc1cf579b\",                        [{\"boxpoints\":false,\"line\":{\"width\":1.3},\"marker\":{\"color\":\"rgba(255, 153, 51, 1.0)\"},\"name\":\"A\",\"orientation\":\"v\",\"y\":[-0.7051831481220451,0.43922270603827557,-0.24870124121465462,2.057258717584174,0.9928029700879529,-0.5614200505011286,-0.4525971471128819,-0.8425476141815342,0.22452019875816207,-1.0419304921342696,-0.596979459798248,-0.5136433270420201,-0.30109082273899646,-0.8437793523718262,-1.3019298542708193,-0.7469286394475176,-0.15606362034286694,1.0414201604476443,-1.6083459626882008,0.39757187428806584,0.9088622126821246,0.1288342090116408,0.9148982966185591,-0.9919522699380063,-0.3555543177539484,-0.0945839771416839,0.07575588211214367,-0.030106281406176865,-1.0074275350290345,0.13408162979612936,0.17796399981688318,-0.13570033957890884,0.784454763128047,1.5097312060988817,-0.8963002615710953,-0.6482105493446612,0.9841767167594909,1.241599591298693,0.2830256966654552,-0.6214143312238146,-0.09812462802196699,1.7546021754331227,-0.4020619004488187,2.687347057037032,0.35357279144602843,1.8980457695588686,-0.44205016471097835,1.342302156302457,-2.6086746796664086,-0.2422383762343922,0.020171641164645333,0.038833475065560404,0.7611381770555126,0.15908773656704006,0.06468045369400825,0.9822092545872925,-0.8066539137936216,-2.131153972171354,0.914030903086248,0.014514507630141022,0.3247783307436006,-1.0623521273207823,-0.5627431869802589,-1.1557172843024368,-0.3798027873441633,-0.1438001174563708,1.2573609083720851,0.43751117368337294,-0.22503926746541883,0.4090682819088985,0.6237103778312871,-1.229011584355428,1.5871669025342217,0.0407574102693247,-1.4536960876806284,-0.6222411663434749,0.10286155555958691,0.24028167035807485,1.4704070810483008,-0.18727545016936312,-0.5227882042145175,-0.41843157353403804,0.5095772093194731,0.5769946056343663,1.7298184287290328,-0.5459541749316872,-2.397909800294627,-0.4875778238404372,0.30477659153794356,-0.023161571453009136,-1.4053406325800621,2.1471994716512177,0.09979825143961732,-0.1643652940012639,-1.3072456396882137,0.29508527262263246,0.33142503229300063,-0.1601889859460664,-0.732556289003857,-0.7623909274097523],\"type\":\"box\"},{\"boxpoints\":false,\"line\":{\"width\":1.3},\"marker\":{\"color\":\"rgba(55, 128, 191, 1.0)\"},\"name\":\"B\",\"orientation\":\"v\",\"y\":[-1.7013006760508602,0.3726110922373725,-0.9754051723074265,-1.4310905116703005,-0.49495580410156426,-0.23792853733818523,0.6820747164655667,-1.3244121992950646,0.844853852654464,-0.12712387910761966,0.07727653845877015,-1.6178919682285964,1.6620560366530401,1.699485017671733,-1.4933662810763182,-1.4420375546757855,0.00741199240362949,-2.061084183065256,-1.7697645039107246,1.9526086513272267,-0.20318056893072264,-1.3995600619671336,0.010642637425180183,1.0358081462914928,-0.37242494277677585,0.20667476003049706,-0.16267298076775957,0.7798128841823275,-0.35179459123935136,1.081467422627341,0.7077613301512333,-0.6110458049423005,-0.7446518379211517,0.47949213837655,-0.9540988719737546,0.1123688035076602,0.26169480514641313,-1.9475558614432522,-0.09404948355237926,-0.579998779191727,-0.9162076738199042,-1.3393615273245074,0.0788299847120889,0.6379938373868258,-0.8130888257415996,1.6611778058206665,-0.4813116087170946,-0.019547948800238503,1.331918402584154,-0.6571735272751751,-1.0682608537423943,-0.5733998113617014,0.29800706286622497,-1.365369741686114,1.3060602621305004,-0.4857256708152363,0.3445712175703463,1.2459952091278363,0.4409296584019077,-1.241525679399955,-0.017717831482726706,0.5284160702894732,0.7957565688596141,-0.7970539399473027,0.8452111615611503,0.6862207008234761,0.3928558456506407,0.21363798837630205,-1.1432047801812812,-0.09517977719340225,0.5218475516192701,-0.19272219613099298,1.05964041604494,0.2761071357701667,-0.7943275870137153,-1.1404461350535857,0.8603468722255645,-0.05852670388260969,1.3662802340147435,-0.7567889152604271,-0.3474788034623021,-0.23554292992878703,1.197373609772019,0.5754650080324972,-1.4125808720783122,0.30494901967571725,-1.5416465431940984,0.016412502071598608,0.3720332248482546,-1.3428792774194924,0.8857193838349164,0.6703174061080518,-0.7172600720684109,-0.21520251053018347,0.8786850026750797,-0.27803441786860095,1.8524411743566065,0.4529031345378013,-0.693555130039683,-0.72858737200973],\"type\":\"box\"},{\"boxpoints\":false,\"line\":{\"width\":1.3},\"marker\":{\"color\":\"rgba(50, 171, 96, 1.0)\"},\"name\":\"C\",\"orientation\":\"v\",\"y\":[-0.019996894482532116,-0.2602553169003833,-0.2215248167300281,-0.8602485863574177,1.6873855685921646,-0.3287933403432567,2.212736908665413,-0.11343478774285223,0.4201314292366824,0.03579290776835197,-0.9223600415129647,0.2566551527685251,0.17497476752677876,0.14219386457951017,0.17761185561904086,0.6720934145063548,-0.30185818568293404,1.9392089899558609,0.6343369545960236,0.11724097376126452,0.5945537333890104,1.0823320997300003,0.015143848950196532,-0.4376871148491534,-0.7153924792724057,-0.7510303704897234,-0.3791411826102001,0.22631772385145377,-0.18637294864949822,-0.6271657787161323,-0.4662937032315267,-0.7455839956502811,-0.01950529932959586,0.603973934592031,0.36057853675762874,0.6925336725138185,-0.5201817419416065,1.6238757654046803,1.4911996042527316,-0.47990335261790784,-1.4511541185179837,-1.8146380630287766,1.133526738920183,-0.8060500385510251,2.3843731838406415,1.777019838947044,1.3526758611542338,-0.903346237828229,-0.08431983012892895,-0.31617224338074273,0.6869448004732898,0.3681502549924151,-0.9131754235222048,-0.9712348010319604,1.2256720296497043,-0.24663550342134388,1.2595994629479532,-0.2975746098721045,1.240791709837519,-0.5949595894075386,-0.17904950497807356,0.44546460567180246,1.3285003579844963,1.5974210037903287,-1.7516955599012078,0.5838479935591269,-1.456749784734076,0.5784208466973598,-1.100358845557394,-0.959172123564169,-0.3939085956468053,-1.632687118245128,0.008848318748572514,-1.2360334005904456,0.3329082688608831,-0.3888152669006266,0.06654334697309092,-0.39818435630663646,-0.3777926079042949,-0.10358331404241641,1.5509137738090428,-0.18388268418772813,0.44633468185763964,1.6187106738289636,-0.5749255574505231,-0.5937847496041464,-0.34509751361624874,-0.12938947331030054,-0.7110103065764183,-0.9579480600494636,1.312673174584851,-0.04148206860367141,-0.6838387657243769,0.19961747036822602,0.5409465763236752,1.1818710027484864,1.173119639445139,-0.15964691859267258,0.5254805439905126,0.37062479449525154],\"type\":\"box\"},{\"boxpoints\":false,\"line\":{\"width\":1.3},\"marker\":{\"color\":\"rgba(128, 0, 128, 1.0)\"},\"name\":\"D\",\"orientation\":\"v\",\"y\":[0.06019172523097076,-0.3164762147460986,-1.1431214593094021,0.988954441989928,-0.5246581629896405,0.3775899213866819,0.36853112522714376,-0.9899420171442083,0.1133917687325859,0.605539817851534,1.2049104271517652,-1.5031003865147754,1.4700788773018643,1.0642055929786205,-0.9109532886750104,0.684452525489341,-0.822918543882324,-0.3343470233828204,0.4502557185476605,2.2995410507704244,0.42405820656141413,1.0579285774817733,1.6730098523395402,2.141661207362836,0.39945239824490575,0.7430436236811725,0.8005467059269081,1.4113799584790845,-1.6458440941331192,-0.9512014597907744,-1.3679538525295512,-0.45605737059048407,0.24363953217264975,2.2627119526523414,-1.2836675626885568,1.5845758412218696,1.1586609088892865,0.5031938063621324,-1.3140130431585808,0.3448173975032927,-0.21159866501086064,-0.29016634575411904,-0.07334809688600948,0.21931938600014184,-0.4498496146329854,0.6462420193706621,0.4911779993597168,0.5445573655916676,-1.4380076966885829,1.488264386286784,-0.06646086711891994,-0.7667310937149749,0.8308825128244485,2.3795136616166235,-0.4570644652463601,-0.0003693884963840633,-1.7701542856769128,-0.30541636027929614,1.7969633617858682,-0.7733699053345111,-0.09951868470434512,1.9739166938462196,-0.6701603249898898,-1.1639900169641726,0.5703800793491294,0.45885481437099834,0.9439912083164357,1.1445980770515547,2.0470841754796365,-1.6993638703662,-1.954057694441885,0.40409787838588546,0.7441990342740958,0.8940087175365565,1.7968885795833933,-1.4263406954286055,-0.052352829613267995,-0.6045778132902017,0.6255708191710183,1.4349459682051686,-1.623214989387944,1.299646570104817,1.8428334970880769,0.32999413456451193,0.213803796614734,-0.9389200023125681,-2.2817314341578783,-1.0058849248931288,-0.9041307318463464,-0.377606207933437,0.9082038889641426,0.05267930843748459,0.2075046377655566,-0.6189363327383898,0.5064605832447548,0.5802166730092401,1.6821761073481274,-1.6038621207491588,-2.2732260368459842,0.9280166518635189],\"type\":\"box\"}],                        {\"legend\":{\"bgcolor\":\"#F5F6F9\",\"font\":{\"color\":\"#4D5663\"}},\"paper_bgcolor\":\"#F5F6F9\",\"plot_bgcolor\":\"#F5F6F9\",\"template\":{\"data\":{\"barpolar\":[{\"marker\":{\"line\":{\"color\":\"#E5ECF6\",\"width\":0.5},\"pattern\":{\"fillmode\":\"overlay\",\"size\":10,\"solidity\":0.2}},\"type\":\"barpolar\"}],\"bar\":[{\"error_x\":{\"color\":\"#2a3f5f\"},\"error_y\":{\"color\":\"#2a3f5f\"},\"marker\":{\"line\":{\"color\":\"#E5ECF6\",\"width\":0.5},\"pattern\":{\"fillmode\":\"overlay\",\"size\":10,\"solidity\":0.2}},\"type\":\"bar\"}],\"carpet\":[{\"aaxis\":{\"endlinecolor\":\"#2a3f5f\",\"gridcolor\":\"white\",\"linecolor\":\"white\",\"minorgridcolor\":\"white\",\"startlinecolor\":\"#2a3f5f\"},\"baxis\":{\"endlinecolor\":\"#2a3f5f\",\"gridcolor\":\"white\",\"linecolor\":\"white\",\"minorgridcolor\":\"white\",\"startlinecolor\":\"#2a3f5f\"},\"type\":\"carpet\"}],\"choropleth\":[{\"colorbar\":{\"outlinewidth\":0,\"ticks\":\"\"},\"type\":\"choropleth\"}],\"contourcarpet\":[{\"colorbar\":{\"outlinewidth\":0,\"ticks\":\"\"},\"type\":\"contourcarpet\"}],\"contour\":[{\"colorbar\":{\"outlinewidth\":0,\"ticks\":\"\"},\"colorscale\":[[0.0,\"#0d0887\"],[0.1111111111111111,\"#46039f\"],[0.2222222222222222,\"#7201a8\"],[0.3333333333333333,\"#9c179e\"],[0.4444444444444444,\"#bd3786\"],[0.5555555555555556,\"#d8576b\"],[0.6666666666666666,\"#ed7953\"],[0.7777777777777778,\"#fb9f3a\"],[0.8888888888888888,\"#fdca26\"],[1.0,\"#f0f921\"]],\"type\":\"contour\"}],\"heatmapgl\":[{\"colorbar\":{\"outlinewidth\":0,\"ticks\":\"\"},\"colorscale\":[[0.0,\"#0d0887\"],[0.1111111111111111,\"#46039f\"],[0.2222222222222222,\"#7201a8\"],[0.3333333333333333,\"#9c179e\"],[0.4444444444444444,\"#bd3786\"],[0.5555555555555556,\"#d8576b\"],[0.6666666666666666,\"#ed7953\"],[0.7777777777777778,\"#fb9f3a\"],[0.8888888888888888,\"#fdca26\"],[1.0,\"#f0f921\"]],\"type\":\"heatmapgl\"}],\"heatmap\":[{\"colorbar\":{\"outlinewidth\":0,\"ticks\":\"\"},\"colorscale\":[[0.0,\"#0d0887\"],[0.1111111111111111,\"#46039f\"],[0.2222222222222222,\"#7201a8\"],[0.3333333333333333,\"#9c179e\"],[0.4444444444444444,\"#bd3786\"],[0.5555555555555556,\"#d8576b\"],[0.6666666666666666,\"#ed7953\"],[0.7777777777777778,\"#fb9f3a\"],[0.8888888888888888,\"#fdca26\"],[1.0,\"#f0f921\"]],\"type\":\"heatmap\"}],\"histogram2dcontour\":[{\"colorbar\":{\"outlinewidth\":0,\"ticks\":\"\"},\"colorscale\":[[0.0,\"#0d0887\"],[0.1111111111111111,\"#46039f\"],[0.2222222222222222,\"#7201a8\"],[0.3333333333333333,\"#9c179e\"],[0.4444444444444444,\"#bd3786\"],[0.5555555555555556,\"#d8576b\"],[0.6666666666666666,\"#ed7953\"],[0.7777777777777778,\"#fb9f3a\"],[0.8888888888888888,\"#fdca26\"],[1.0,\"#f0f921\"]],\"type\":\"histogram2dcontour\"}],\"histogram2d\":[{\"colorbar\":{\"outlinewidth\":0,\"ticks\":\"\"},\"colorscale\":[[0.0,\"#0d0887\"],[0.1111111111111111,\"#46039f\"],[0.2222222222222222,\"#7201a8\"],[0.3333333333333333,\"#9c179e\"],[0.4444444444444444,\"#bd3786\"],[0.5555555555555556,\"#d8576b\"],[0.6666666666666666,\"#ed7953\"],[0.7777777777777778,\"#fb9f3a\"],[0.8888888888888888,\"#fdca26\"],[1.0,\"#f0f921\"]],\"type\":\"histogram2d\"}],\"histogram\":[{\"marker\":{\"pattern\":{\"fillmode\":\"overlay\",\"size\":10,\"solidity\":0.2}},\"type\":\"histogram\"}],\"mesh3d\":[{\"colorbar\":{\"outlinewidth\":0,\"ticks\":\"\"},\"type\":\"mesh3d\"}],\"parcoords\":[{\"line\":{\"colorbar\":{\"outlinewidth\":0,\"ticks\":\"\"}},\"type\":\"parcoords\"}],\"pie\":[{\"automargin\":true,\"type\":\"pie\"}],\"scatter3d\":[{\"line\":{\"colorbar\":{\"outlinewidth\":0,\"ticks\":\"\"}},\"marker\":{\"colorbar\":{\"outlinewidth\":0,\"ticks\":\"\"}},\"type\":\"scatter3d\"}],\"scattercarpet\":[{\"marker\":{\"colorbar\":{\"outlinewidth\":0,\"ticks\":\"\"}},\"type\":\"scattercarpet\"}],\"scattergeo\":[{\"marker\":{\"colorbar\":{\"outlinewidth\":0,\"ticks\":\"\"}},\"type\":\"scattergeo\"}],\"scattergl\":[{\"marker\":{\"colorbar\":{\"outlinewidth\":0,\"ticks\":\"\"}},\"type\":\"scattergl\"}],\"scattermapbox\":[{\"marker\":{\"colorbar\":{\"outlinewidth\":0,\"ticks\":\"\"}},\"type\":\"scattermapbox\"}],\"scatterpolargl\":[{\"marker\":{\"colorbar\":{\"outlinewidth\":0,\"ticks\":\"\"}},\"type\":\"scatterpolargl\"}],\"scatterpolar\":[{\"marker\":{\"colorbar\":{\"outlinewidth\":0,\"ticks\":\"\"}},\"type\":\"scatterpolar\"}],\"scatter\":[{\"marker\":{\"colorbar\":{\"outlinewidth\":0,\"ticks\":\"\"}},\"type\":\"scatter\"}],\"scatterternary\":[{\"marker\":{\"colorbar\":{\"outlinewidth\":0,\"ticks\":\"\"}},\"type\":\"scatterternary\"}],\"surface\":[{\"colorbar\":{\"outlinewidth\":0,\"ticks\":\"\"},\"colorscale\":[[0.0,\"#0d0887\"],[0.1111111111111111,\"#46039f\"],[0.2222222222222222,\"#7201a8\"],[0.3333333333333333,\"#9c179e\"],[0.4444444444444444,\"#bd3786\"],[0.5555555555555556,\"#d8576b\"],[0.6666666666666666,\"#ed7953\"],[0.7777777777777778,\"#fb9f3a\"],[0.8888888888888888,\"#fdca26\"],[1.0,\"#f0f921\"]],\"type\":\"surface\"}],\"table\":[{\"cells\":{\"fill\":{\"color\":\"#EBF0F8\"},\"line\":{\"color\":\"white\"}},\"header\":{\"fill\":{\"color\":\"#C8D4E3\"},\"line\":{\"color\":\"white\"}},\"type\":\"table\"}]},\"layout\":{\"annotationdefaults\":{\"arrowcolor\":\"#2a3f5f\",\"arrowhead\":0,\"arrowwidth\":1},\"autotypenumbers\":\"strict\",\"coloraxis\":{\"colorbar\":{\"outlinewidth\":0,\"ticks\":\"\"}},\"colorscale\":{\"diverging\":[[0,\"#8e0152\"],[0.1,\"#c51b7d\"],[0.2,\"#de77ae\"],[0.3,\"#f1b6da\"],[0.4,\"#fde0ef\"],[0.5,\"#f7f7f7\"],[0.6,\"#e6f5d0\"],[0.7,\"#b8e186\"],[0.8,\"#7fbc41\"],[0.9,\"#4d9221\"],[1,\"#276419\"]],\"sequential\":[[0.0,\"#0d0887\"],[0.1111111111111111,\"#46039f\"],[0.2222222222222222,\"#7201a8\"],[0.3333333333333333,\"#9c179e\"],[0.4444444444444444,\"#bd3786\"],[0.5555555555555556,\"#d8576b\"],[0.6666666666666666,\"#ed7953\"],[0.7777777777777778,\"#fb9f3a\"],[0.8888888888888888,\"#fdca26\"],[1.0,\"#f0f921\"]],\"sequentialminus\":[[0.0,\"#0d0887\"],[0.1111111111111111,\"#46039f\"],[0.2222222222222222,\"#7201a8\"],[0.3333333333333333,\"#9c179e\"],[0.4444444444444444,\"#bd3786\"],[0.5555555555555556,\"#d8576b\"],[0.6666666666666666,\"#ed7953\"],[0.7777777777777778,\"#fb9f3a\"],[0.8888888888888888,\"#fdca26\"],[1.0,\"#f0f921\"]]},\"colorway\":[\"#636efa\",\"#EF553B\",\"#00cc96\",\"#ab63fa\",\"#FFA15A\",\"#19d3f3\",\"#FF6692\",\"#B6E880\",\"#FF97FF\",\"#FECB52\"],\"font\":{\"color\":\"#2a3f5f\"},\"geo\":{\"bgcolor\":\"white\",\"lakecolor\":\"white\",\"landcolor\":\"#E5ECF6\",\"showlakes\":true,\"showland\":true,\"subunitcolor\":\"white\"},\"hoverlabel\":{\"align\":\"left\"},\"hovermode\":\"closest\",\"mapbox\":{\"style\":\"light\"},\"paper_bgcolor\":\"white\",\"plot_bgcolor\":\"#E5ECF6\",\"polar\":{\"angularaxis\":{\"gridcolor\":\"white\",\"linecolor\":\"white\",\"ticks\":\"\"},\"bgcolor\":\"#E5ECF6\",\"radialaxis\":{\"gridcolor\":\"white\",\"linecolor\":\"white\",\"ticks\":\"\"}},\"scene\":{\"xaxis\":{\"backgroundcolor\":\"#E5ECF6\",\"gridcolor\":\"white\",\"gridwidth\":2,\"linecolor\":\"white\",\"showbackground\":true,\"ticks\":\"\",\"zerolinecolor\":\"white\"},\"yaxis\":{\"backgroundcolor\":\"#E5ECF6\",\"gridcolor\":\"white\",\"gridwidth\":2,\"linecolor\":\"white\",\"showbackground\":true,\"ticks\":\"\",\"zerolinecolor\":\"white\"},\"zaxis\":{\"backgroundcolor\":\"#E5ECF6\",\"gridcolor\":\"white\",\"gridwidth\":2,\"linecolor\":\"white\",\"showbackground\":true,\"ticks\":\"\",\"zerolinecolor\":\"white\"}},\"shapedefaults\":{\"line\":{\"color\":\"#2a3f5f\"}},\"ternary\":{\"aaxis\":{\"gridcolor\":\"white\",\"linecolor\":\"white\",\"ticks\":\"\"},\"baxis\":{\"gridcolor\":\"white\",\"linecolor\":\"white\",\"ticks\":\"\"},\"bgcolor\":\"#E5ECF6\",\"caxis\":{\"gridcolor\":\"white\",\"linecolor\":\"white\",\"ticks\":\"\"}},\"title\":{\"x\":0.05},\"xaxis\":{\"automargin\":true,\"gridcolor\":\"white\",\"linecolor\":\"white\",\"ticks\":\"\",\"title\":{\"standoff\":15},\"zerolinecolor\":\"white\",\"zerolinewidth\":2},\"yaxis\":{\"automargin\":true,\"gridcolor\":\"white\",\"linecolor\":\"white\",\"ticks\":\"\",\"title\":{\"standoff\":15},\"zerolinecolor\":\"white\",\"zerolinewidth\":2}}},\"title\":{\"font\":{\"color\":\"#4D5663\"}},\"xaxis\":{\"gridcolor\":\"#E1E5ED\",\"showgrid\":true,\"tickfont\":{\"color\":\"#4D5663\"},\"title\":{\"font\":{\"color\":\"#4D5663\"},\"text\":\"\"},\"zerolinecolor\":\"#E1E5ED\"},\"yaxis\":{\"gridcolor\":\"#E1E5ED\",\"showgrid\":true,\"tickfont\":{\"color\":\"#4D5663\"},\"title\":{\"font\":{\"color\":\"#4D5663\"},\"text\":\"\"},\"zerolinecolor\":\"#E1E5ED\"}},                        {\"showLink\": true, \"linkText\": \"Export to plot.ly\", \"plotlyServerURL\": \"https://plot.ly\", \"responsive\": true}                    ).then(function(){\n",
       "                            \n",
       "var gd = document.getElementById('5c97fb24-ae32-46e7-a2a7-9c8cc1cf579b');\n",
       "var x = new MutationObserver(function (mutations, observer) {{\n",
       "        var display = window.getComputedStyle(gd).display;\n",
       "        if (!display || display === 'none') {{\n",
       "            console.log([gd, 'removed!']);\n",
       "            Plotly.purge(gd);\n",
       "            observer.disconnect();\n",
       "        }}\n",
       "}});\n",
       "\n",
       "// Listen for the removal of the full notebook cells\n",
       "var notebookContainer = gd.closest('#notebook-container');\n",
       "if (notebookContainer) {{\n",
       "    x.observe(notebookContainer, {childList: true});\n",
       "}}\n",
       "\n",
       "// Listen for the clearing of the current output cell\n",
       "var outputEl = gd.closest('.output');\n",
       "if (outputEl) {{\n",
       "    x.observe(outputEl, {childList: true});\n",
       "}}\n",
       "\n",
       "                        })                };                });            </script>        </div>"
      ]
     },
     "metadata": {},
     "output_type": "display_data"
    }
   ],
   "source": [
    "df.iplot(kind='box')"
   ]
  },
  {
   "cell_type": "markdown",
   "metadata": {},
   "source": [
    "## 3d Surface"
   ]
  },
  {
   "cell_type": "code",
   "execution_count": 23,
   "metadata": {},
   "outputs": [
    {
     "data": {
      "application/vnd.plotly.v1+json": {
       "config": {
        "linkText": "Export to plot.ly",
        "plotlyServerURL": "https://plot.ly",
        "showLink": true
       },
       "data": [
        {
         "colorscale": [
          [
           0,
           "rgb(165,0,38)"
          ],
          [
           0.1,
           "rgb(215,48,39)"
          ],
          [
           0.2,
           "rgb(244,109,67)"
          ],
          [
           0.3,
           "rgb(253,174,97)"
          ],
          [
           0.4,
           "rgb(254,224,144)"
          ],
          [
           0.5,
           "rgb(255,255,191)"
          ],
          [
           0.6,
           "rgb(224,243,248)"
          ],
          [
           0.7,
           "rgb(171,217,233)"
          ],
          [
           0.8,
           "rgb(116,173,209)"
          ],
          [
           0.9,
           "rgb(69,117,180)"
          ],
          [
           1,
           "rgb(49,54,149)"
          ]
         ],
         "type": "surface",
         "x": [
          0,
          1,
          2,
          3,
          4
         ],
         "y": [
          "x",
          "y",
          "z"
         ],
         "z": [
          [
           1,
           2,
           3,
           4,
           5
          ],
          [
           10,
           20,
           30,
           20,
           10
          ],
          [
           5,
           4,
           3,
           2,
           1
          ]
         ]
        }
       ],
       "layout": {
        "legend": {
         "bgcolor": "#F5F6F9",
         "font": {
          "color": "#4D5663"
         }
        },
        "paper_bgcolor": "#F5F6F9",
        "plot_bgcolor": "#F5F6F9",
        "template": {
         "data": {
          "bar": [
           {
            "error_x": {
             "color": "#2a3f5f"
            },
            "error_y": {
             "color": "#2a3f5f"
            },
            "marker": {
             "line": {
              "color": "#E5ECF6",
              "width": 0.5
             },
             "pattern": {
              "fillmode": "overlay",
              "size": 10,
              "solidity": 0.2
             }
            },
            "type": "bar"
           }
          ],
          "barpolar": [
           {
            "marker": {
             "line": {
              "color": "#E5ECF6",
              "width": 0.5
             },
             "pattern": {
              "fillmode": "overlay",
              "size": 10,
              "solidity": 0.2
             }
            },
            "type": "barpolar"
           }
          ],
          "carpet": [
           {
            "aaxis": {
             "endlinecolor": "#2a3f5f",
             "gridcolor": "white",
             "linecolor": "white",
             "minorgridcolor": "white",
             "startlinecolor": "#2a3f5f"
            },
            "baxis": {
             "endlinecolor": "#2a3f5f",
             "gridcolor": "white",
             "linecolor": "white",
             "minorgridcolor": "white",
             "startlinecolor": "#2a3f5f"
            },
            "type": "carpet"
           }
          ],
          "choropleth": [
           {
            "colorbar": {
             "outlinewidth": 0,
             "ticks": ""
            },
            "type": "choropleth"
           }
          ],
          "contour": [
           {
            "colorbar": {
             "outlinewidth": 0,
             "ticks": ""
            },
            "colorscale": [
             [
              0,
              "#0d0887"
             ],
             [
              0.1111111111111111,
              "#46039f"
             ],
             [
              0.2222222222222222,
              "#7201a8"
             ],
             [
              0.3333333333333333,
              "#9c179e"
             ],
             [
              0.4444444444444444,
              "#bd3786"
             ],
             [
              0.5555555555555556,
              "#d8576b"
             ],
             [
              0.6666666666666666,
              "#ed7953"
             ],
             [
              0.7777777777777778,
              "#fb9f3a"
             ],
             [
              0.8888888888888888,
              "#fdca26"
             ],
             [
              1,
              "#f0f921"
             ]
            ],
            "type": "contour"
           }
          ],
          "contourcarpet": [
           {
            "colorbar": {
             "outlinewidth": 0,
             "ticks": ""
            },
            "type": "contourcarpet"
           }
          ],
          "heatmap": [
           {
            "colorbar": {
             "outlinewidth": 0,
             "ticks": ""
            },
            "colorscale": [
             [
              0,
              "#0d0887"
             ],
             [
              0.1111111111111111,
              "#46039f"
             ],
             [
              0.2222222222222222,
              "#7201a8"
             ],
             [
              0.3333333333333333,
              "#9c179e"
             ],
             [
              0.4444444444444444,
              "#bd3786"
             ],
             [
              0.5555555555555556,
              "#d8576b"
             ],
             [
              0.6666666666666666,
              "#ed7953"
             ],
             [
              0.7777777777777778,
              "#fb9f3a"
             ],
             [
              0.8888888888888888,
              "#fdca26"
             ],
             [
              1,
              "#f0f921"
             ]
            ],
            "type": "heatmap"
           }
          ],
          "heatmapgl": [
           {
            "colorbar": {
             "outlinewidth": 0,
             "ticks": ""
            },
            "colorscale": [
             [
              0,
              "#0d0887"
             ],
             [
              0.1111111111111111,
              "#46039f"
             ],
             [
              0.2222222222222222,
              "#7201a8"
             ],
             [
              0.3333333333333333,
              "#9c179e"
             ],
             [
              0.4444444444444444,
              "#bd3786"
             ],
             [
              0.5555555555555556,
              "#d8576b"
             ],
             [
              0.6666666666666666,
              "#ed7953"
             ],
             [
              0.7777777777777778,
              "#fb9f3a"
             ],
             [
              0.8888888888888888,
              "#fdca26"
             ],
             [
              1,
              "#f0f921"
             ]
            ],
            "type": "heatmapgl"
           }
          ],
          "histogram": [
           {
            "marker": {
             "pattern": {
              "fillmode": "overlay",
              "size": 10,
              "solidity": 0.2
             }
            },
            "type": "histogram"
           }
          ],
          "histogram2d": [
           {
            "colorbar": {
             "outlinewidth": 0,
             "ticks": ""
            },
            "colorscale": [
             [
              0,
              "#0d0887"
             ],
             [
              0.1111111111111111,
              "#46039f"
             ],
             [
              0.2222222222222222,
              "#7201a8"
             ],
             [
              0.3333333333333333,
              "#9c179e"
             ],
             [
              0.4444444444444444,
              "#bd3786"
             ],
             [
              0.5555555555555556,
              "#d8576b"
             ],
             [
              0.6666666666666666,
              "#ed7953"
             ],
             [
              0.7777777777777778,
              "#fb9f3a"
             ],
             [
              0.8888888888888888,
              "#fdca26"
             ],
             [
              1,
              "#f0f921"
             ]
            ],
            "type": "histogram2d"
           }
          ],
          "histogram2dcontour": [
           {
            "colorbar": {
             "outlinewidth": 0,
             "ticks": ""
            },
            "colorscale": [
             [
              0,
              "#0d0887"
             ],
             [
              0.1111111111111111,
              "#46039f"
             ],
             [
              0.2222222222222222,
              "#7201a8"
             ],
             [
              0.3333333333333333,
              "#9c179e"
             ],
             [
              0.4444444444444444,
              "#bd3786"
             ],
             [
              0.5555555555555556,
              "#d8576b"
             ],
             [
              0.6666666666666666,
              "#ed7953"
             ],
             [
              0.7777777777777778,
              "#fb9f3a"
             ],
             [
              0.8888888888888888,
              "#fdca26"
             ],
             [
              1,
              "#f0f921"
             ]
            ],
            "type": "histogram2dcontour"
           }
          ],
          "mesh3d": [
           {
            "colorbar": {
             "outlinewidth": 0,
             "ticks": ""
            },
            "type": "mesh3d"
           }
          ],
          "parcoords": [
           {
            "line": {
             "colorbar": {
              "outlinewidth": 0,
              "ticks": ""
             }
            },
            "type": "parcoords"
           }
          ],
          "pie": [
           {
            "automargin": true,
            "type": "pie"
           }
          ],
          "scatter": [
           {
            "marker": {
             "colorbar": {
              "outlinewidth": 0,
              "ticks": ""
             }
            },
            "type": "scatter"
           }
          ],
          "scatter3d": [
           {
            "line": {
             "colorbar": {
              "outlinewidth": 0,
              "ticks": ""
             }
            },
            "marker": {
             "colorbar": {
              "outlinewidth": 0,
              "ticks": ""
             }
            },
            "type": "scatter3d"
           }
          ],
          "scattercarpet": [
           {
            "marker": {
             "colorbar": {
              "outlinewidth": 0,
              "ticks": ""
             }
            },
            "type": "scattercarpet"
           }
          ],
          "scattergeo": [
           {
            "marker": {
             "colorbar": {
              "outlinewidth": 0,
              "ticks": ""
             }
            },
            "type": "scattergeo"
           }
          ],
          "scattergl": [
           {
            "marker": {
             "colorbar": {
              "outlinewidth": 0,
              "ticks": ""
             }
            },
            "type": "scattergl"
           }
          ],
          "scattermapbox": [
           {
            "marker": {
             "colorbar": {
              "outlinewidth": 0,
              "ticks": ""
             }
            },
            "type": "scattermapbox"
           }
          ],
          "scatterpolar": [
           {
            "marker": {
             "colorbar": {
              "outlinewidth": 0,
              "ticks": ""
             }
            },
            "type": "scatterpolar"
           }
          ],
          "scatterpolargl": [
           {
            "marker": {
             "colorbar": {
              "outlinewidth": 0,
              "ticks": ""
             }
            },
            "type": "scatterpolargl"
           }
          ],
          "scatterternary": [
           {
            "marker": {
             "colorbar": {
              "outlinewidth": 0,
              "ticks": ""
             }
            },
            "type": "scatterternary"
           }
          ],
          "surface": [
           {
            "colorbar": {
             "outlinewidth": 0,
             "ticks": ""
            },
            "colorscale": [
             [
              0,
              "#0d0887"
             ],
             [
              0.1111111111111111,
              "#46039f"
             ],
             [
              0.2222222222222222,
              "#7201a8"
             ],
             [
              0.3333333333333333,
              "#9c179e"
             ],
             [
              0.4444444444444444,
              "#bd3786"
             ],
             [
              0.5555555555555556,
              "#d8576b"
             ],
             [
              0.6666666666666666,
              "#ed7953"
             ],
             [
              0.7777777777777778,
              "#fb9f3a"
             ],
             [
              0.8888888888888888,
              "#fdca26"
             ],
             [
              1,
              "#f0f921"
             ]
            ],
            "type": "surface"
           }
          ],
          "table": [
           {
            "cells": {
             "fill": {
              "color": "#EBF0F8"
             },
             "line": {
              "color": "white"
             }
            },
            "header": {
             "fill": {
              "color": "#C8D4E3"
             },
             "line": {
              "color": "white"
             }
            },
            "type": "table"
           }
          ]
         },
         "layout": {
          "annotationdefaults": {
           "arrowcolor": "#2a3f5f",
           "arrowhead": 0,
           "arrowwidth": 1
          },
          "autotypenumbers": "strict",
          "coloraxis": {
           "colorbar": {
            "outlinewidth": 0,
            "ticks": ""
           }
          },
          "colorscale": {
           "diverging": [
            [
             0,
             "#8e0152"
            ],
            [
             0.1,
             "#c51b7d"
            ],
            [
             0.2,
             "#de77ae"
            ],
            [
             0.3,
             "#f1b6da"
            ],
            [
             0.4,
             "#fde0ef"
            ],
            [
             0.5,
             "#f7f7f7"
            ],
            [
             0.6,
             "#e6f5d0"
            ],
            [
             0.7,
             "#b8e186"
            ],
            [
             0.8,
             "#7fbc41"
            ],
            [
             0.9,
             "#4d9221"
            ],
            [
             1,
             "#276419"
            ]
           ],
           "sequential": [
            [
             0,
             "#0d0887"
            ],
            [
             0.1111111111111111,
             "#46039f"
            ],
            [
             0.2222222222222222,
             "#7201a8"
            ],
            [
             0.3333333333333333,
             "#9c179e"
            ],
            [
             0.4444444444444444,
             "#bd3786"
            ],
            [
             0.5555555555555556,
             "#d8576b"
            ],
            [
             0.6666666666666666,
             "#ed7953"
            ],
            [
             0.7777777777777778,
             "#fb9f3a"
            ],
            [
             0.8888888888888888,
             "#fdca26"
            ],
            [
             1,
             "#f0f921"
            ]
           ],
           "sequentialminus": [
            [
             0,
             "#0d0887"
            ],
            [
             0.1111111111111111,
             "#46039f"
            ],
            [
             0.2222222222222222,
             "#7201a8"
            ],
            [
             0.3333333333333333,
             "#9c179e"
            ],
            [
             0.4444444444444444,
             "#bd3786"
            ],
            [
             0.5555555555555556,
             "#d8576b"
            ],
            [
             0.6666666666666666,
             "#ed7953"
            ],
            [
             0.7777777777777778,
             "#fb9f3a"
            ],
            [
             0.8888888888888888,
             "#fdca26"
            ],
            [
             1,
             "#f0f921"
            ]
           ]
          },
          "colorway": [
           "#636efa",
           "#EF553B",
           "#00cc96",
           "#ab63fa",
           "#FFA15A",
           "#19d3f3",
           "#FF6692",
           "#B6E880",
           "#FF97FF",
           "#FECB52"
          ],
          "font": {
           "color": "#2a3f5f"
          },
          "geo": {
           "bgcolor": "white",
           "lakecolor": "white",
           "landcolor": "#E5ECF6",
           "showlakes": true,
           "showland": true,
           "subunitcolor": "white"
          },
          "hoverlabel": {
           "align": "left"
          },
          "hovermode": "closest",
          "mapbox": {
           "style": "light"
          },
          "paper_bgcolor": "white",
          "plot_bgcolor": "#E5ECF6",
          "polar": {
           "angularaxis": {
            "gridcolor": "white",
            "linecolor": "white",
            "ticks": ""
           },
           "bgcolor": "#E5ECF6",
           "radialaxis": {
            "gridcolor": "white",
            "linecolor": "white",
            "ticks": ""
           }
          },
          "scene": {
           "xaxis": {
            "backgroundcolor": "#E5ECF6",
            "gridcolor": "white",
            "gridwidth": 2,
            "linecolor": "white",
            "showbackground": true,
            "ticks": "",
            "zerolinecolor": "white"
           },
           "yaxis": {
            "backgroundcolor": "#E5ECF6",
            "gridcolor": "white",
            "gridwidth": 2,
            "linecolor": "white",
            "showbackground": true,
            "ticks": "",
            "zerolinecolor": "white"
           },
           "zaxis": {
            "backgroundcolor": "#E5ECF6",
            "gridcolor": "white",
            "gridwidth": 2,
            "linecolor": "white",
            "showbackground": true,
            "ticks": "",
            "zerolinecolor": "white"
           }
          },
          "shapedefaults": {
           "line": {
            "color": "#2a3f5f"
           }
          },
          "ternary": {
           "aaxis": {
            "gridcolor": "white",
            "linecolor": "white",
            "ticks": ""
           },
           "baxis": {
            "gridcolor": "white",
            "linecolor": "white",
            "ticks": ""
           },
           "bgcolor": "#E5ECF6",
           "caxis": {
            "gridcolor": "white",
            "linecolor": "white",
            "ticks": ""
           }
          },
          "title": {
           "x": 0.05
          },
          "xaxis": {
           "automargin": true,
           "gridcolor": "white",
           "linecolor": "white",
           "ticks": "",
           "title": {
            "standoff": 15
           },
           "zerolinecolor": "white",
           "zerolinewidth": 2
          },
          "yaxis": {
           "automargin": true,
           "gridcolor": "white",
           "linecolor": "white",
           "ticks": "",
           "title": {
            "standoff": 15
           },
           "zerolinecolor": "white",
           "zerolinewidth": 2
          }
         }
        },
        "title": {
         "font": {
          "color": "#4D5663"
         }
        },
        "xaxis": {
         "gridcolor": "#E1E5ED",
         "showgrid": true,
         "tickfont": {
          "color": "#4D5663"
         },
         "title": {
          "font": {
           "color": "#4D5663"
          },
          "text": ""
         },
         "zerolinecolor": "#E1E5ED"
        },
        "yaxis": {
         "gridcolor": "#E1E5ED",
         "showgrid": true,
         "tickfont": {
          "color": "#4D5663"
         },
         "title": {
          "font": {
           "color": "#4D5663"
          },
          "text": ""
         },
         "zerolinecolor": "#E1E5ED"
        }
       }
      },
      "text/html": [
       "<div>                            <div id=\"2ed90a79-7a05-41d1-9f86-4ed85a974f8b\" class=\"plotly-graph-div\" style=\"height:525px; width:100%;\"></div>            <script type=\"text/javascript\">                require([\"plotly\"], function(Plotly) {                    window.PLOTLYENV=window.PLOTLYENV || {};\n",
       "                    window.PLOTLYENV.BASE_URL='https://plot.ly';                                    if (document.getElementById(\"2ed90a79-7a05-41d1-9f86-4ed85a974f8b\")) {                    Plotly.newPlot(                        \"2ed90a79-7a05-41d1-9f86-4ed85a974f8b\",                        [{\"colorscale\":[[0.0,\"rgb(165,0,38)\"],[0.1,\"rgb(215,48,39)\"],[0.2,\"rgb(244,109,67)\"],[0.3,\"rgb(253,174,97)\"],[0.4,\"rgb(254,224,144)\"],[0.5,\"rgb(255,255,191)\"],[0.6,\"rgb(224,243,248)\"],[0.7,\"rgb(171,217,233)\"],[0.8,\"rgb(116,173,209)\"],[0.9,\"rgb(69,117,180)\"],[1.0,\"rgb(49,54,149)\"]],\"x\":[0,1,2,3,4],\"y\":[\"x\",\"y\",\"z\"],\"z\":[[1,2,3,4,5],[10,20,30,20,10],[5,4,3,2,1]],\"type\":\"surface\"}],                        {\"legend\":{\"bgcolor\":\"#F5F6F9\",\"font\":{\"color\":\"#4D5663\"}},\"paper_bgcolor\":\"#F5F6F9\",\"plot_bgcolor\":\"#F5F6F9\",\"template\":{\"data\":{\"barpolar\":[{\"marker\":{\"line\":{\"color\":\"#E5ECF6\",\"width\":0.5},\"pattern\":{\"fillmode\":\"overlay\",\"size\":10,\"solidity\":0.2}},\"type\":\"barpolar\"}],\"bar\":[{\"error_x\":{\"color\":\"#2a3f5f\"},\"error_y\":{\"color\":\"#2a3f5f\"},\"marker\":{\"line\":{\"color\":\"#E5ECF6\",\"width\":0.5},\"pattern\":{\"fillmode\":\"overlay\",\"size\":10,\"solidity\":0.2}},\"type\":\"bar\"}],\"carpet\":[{\"aaxis\":{\"endlinecolor\":\"#2a3f5f\",\"gridcolor\":\"white\",\"linecolor\":\"white\",\"minorgridcolor\":\"white\",\"startlinecolor\":\"#2a3f5f\"},\"baxis\":{\"endlinecolor\":\"#2a3f5f\",\"gridcolor\":\"white\",\"linecolor\":\"white\",\"minorgridcolor\":\"white\",\"startlinecolor\":\"#2a3f5f\"},\"type\":\"carpet\"}],\"choropleth\":[{\"colorbar\":{\"outlinewidth\":0,\"ticks\":\"\"},\"type\":\"choropleth\"}],\"contourcarpet\":[{\"colorbar\":{\"outlinewidth\":0,\"ticks\":\"\"},\"type\":\"contourcarpet\"}],\"contour\":[{\"colorbar\":{\"outlinewidth\":0,\"ticks\":\"\"},\"colorscale\":[[0.0,\"#0d0887\"],[0.1111111111111111,\"#46039f\"],[0.2222222222222222,\"#7201a8\"],[0.3333333333333333,\"#9c179e\"],[0.4444444444444444,\"#bd3786\"],[0.5555555555555556,\"#d8576b\"],[0.6666666666666666,\"#ed7953\"],[0.7777777777777778,\"#fb9f3a\"],[0.8888888888888888,\"#fdca26\"],[1.0,\"#f0f921\"]],\"type\":\"contour\"}],\"heatmapgl\":[{\"colorbar\":{\"outlinewidth\":0,\"ticks\":\"\"},\"colorscale\":[[0.0,\"#0d0887\"],[0.1111111111111111,\"#46039f\"],[0.2222222222222222,\"#7201a8\"],[0.3333333333333333,\"#9c179e\"],[0.4444444444444444,\"#bd3786\"],[0.5555555555555556,\"#d8576b\"],[0.6666666666666666,\"#ed7953\"],[0.7777777777777778,\"#fb9f3a\"],[0.8888888888888888,\"#fdca26\"],[1.0,\"#f0f921\"]],\"type\":\"heatmapgl\"}],\"heatmap\":[{\"colorbar\":{\"outlinewidth\":0,\"ticks\":\"\"},\"colorscale\":[[0.0,\"#0d0887\"],[0.1111111111111111,\"#46039f\"],[0.2222222222222222,\"#7201a8\"],[0.3333333333333333,\"#9c179e\"],[0.4444444444444444,\"#bd3786\"],[0.5555555555555556,\"#d8576b\"],[0.6666666666666666,\"#ed7953\"],[0.7777777777777778,\"#fb9f3a\"],[0.8888888888888888,\"#fdca26\"],[1.0,\"#f0f921\"]],\"type\":\"heatmap\"}],\"histogram2dcontour\":[{\"colorbar\":{\"outlinewidth\":0,\"ticks\":\"\"},\"colorscale\":[[0.0,\"#0d0887\"],[0.1111111111111111,\"#46039f\"],[0.2222222222222222,\"#7201a8\"],[0.3333333333333333,\"#9c179e\"],[0.4444444444444444,\"#bd3786\"],[0.5555555555555556,\"#d8576b\"],[0.6666666666666666,\"#ed7953\"],[0.7777777777777778,\"#fb9f3a\"],[0.8888888888888888,\"#fdca26\"],[1.0,\"#f0f921\"]],\"type\":\"histogram2dcontour\"}],\"histogram2d\":[{\"colorbar\":{\"outlinewidth\":0,\"ticks\":\"\"},\"colorscale\":[[0.0,\"#0d0887\"],[0.1111111111111111,\"#46039f\"],[0.2222222222222222,\"#7201a8\"],[0.3333333333333333,\"#9c179e\"],[0.4444444444444444,\"#bd3786\"],[0.5555555555555556,\"#d8576b\"],[0.6666666666666666,\"#ed7953\"],[0.7777777777777778,\"#fb9f3a\"],[0.8888888888888888,\"#fdca26\"],[1.0,\"#f0f921\"]],\"type\":\"histogram2d\"}],\"histogram\":[{\"marker\":{\"pattern\":{\"fillmode\":\"overlay\",\"size\":10,\"solidity\":0.2}},\"type\":\"histogram\"}],\"mesh3d\":[{\"colorbar\":{\"outlinewidth\":0,\"ticks\":\"\"},\"type\":\"mesh3d\"}],\"parcoords\":[{\"line\":{\"colorbar\":{\"outlinewidth\":0,\"ticks\":\"\"}},\"type\":\"parcoords\"}],\"pie\":[{\"automargin\":true,\"type\":\"pie\"}],\"scatter3d\":[{\"line\":{\"colorbar\":{\"outlinewidth\":0,\"ticks\":\"\"}},\"marker\":{\"colorbar\":{\"outlinewidth\":0,\"ticks\":\"\"}},\"type\":\"scatter3d\"}],\"scattercarpet\":[{\"marker\":{\"colorbar\":{\"outlinewidth\":0,\"ticks\":\"\"}},\"type\":\"scattercarpet\"}],\"scattergeo\":[{\"marker\":{\"colorbar\":{\"outlinewidth\":0,\"ticks\":\"\"}},\"type\":\"scattergeo\"}],\"scattergl\":[{\"marker\":{\"colorbar\":{\"outlinewidth\":0,\"ticks\":\"\"}},\"type\":\"scattergl\"}],\"scattermapbox\":[{\"marker\":{\"colorbar\":{\"outlinewidth\":0,\"ticks\":\"\"}},\"type\":\"scattermapbox\"}],\"scatterpolargl\":[{\"marker\":{\"colorbar\":{\"outlinewidth\":0,\"ticks\":\"\"}},\"type\":\"scatterpolargl\"}],\"scatterpolar\":[{\"marker\":{\"colorbar\":{\"outlinewidth\":0,\"ticks\":\"\"}},\"type\":\"scatterpolar\"}],\"scatter\":[{\"marker\":{\"colorbar\":{\"outlinewidth\":0,\"ticks\":\"\"}},\"type\":\"scatter\"}],\"scatterternary\":[{\"marker\":{\"colorbar\":{\"outlinewidth\":0,\"ticks\":\"\"}},\"type\":\"scatterternary\"}],\"surface\":[{\"colorbar\":{\"outlinewidth\":0,\"ticks\":\"\"},\"colorscale\":[[0.0,\"#0d0887\"],[0.1111111111111111,\"#46039f\"],[0.2222222222222222,\"#7201a8\"],[0.3333333333333333,\"#9c179e\"],[0.4444444444444444,\"#bd3786\"],[0.5555555555555556,\"#d8576b\"],[0.6666666666666666,\"#ed7953\"],[0.7777777777777778,\"#fb9f3a\"],[0.8888888888888888,\"#fdca26\"],[1.0,\"#f0f921\"]],\"type\":\"surface\"}],\"table\":[{\"cells\":{\"fill\":{\"color\":\"#EBF0F8\"},\"line\":{\"color\":\"white\"}},\"header\":{\"fill\":{\"color\":\"#C8D4E3\"},\"line\":{\"color\":\"white\"}},\"type\":\"table\"}]},\"layout\":{\"annotationdefaults\":{\"arrowcolor\":\"#2a3f5f\",\"arrowhead\":0,\"arrowwidth\":1},\"autotypenumbers\":\"strict\",\"coloraxis\":{\"colorbar\":{\"outlinewidth\":0,\"ticks\":\"\"}},\"colorscale\":{\"diverging\":[[0,\"#8e0152\"],[0.1,\"#c51b7d\"],[0.2,\"#de77ae\"],[0.3,\"#f1b6da\"],[0.4,\"#fde0ef\"],[0.5,\"#f7f7f7\"],[0.6,\"#e6f5d0\"],[0.7,\"#b8e186\"],[0.8,\"#7fbc41\"],[0.9,\"#4d9221\"],[1,\"#276419\"]],\"sequential\":[[0.0,\"#0d0887\"],[0.1111111111111111,\"#46039f\"],[0.2222222222222222,\"#7201a8\"],[0.3333333333333333,\"#9c179e\"],[0.4444444444444444,\"#bd3786\"],[0.5555555555555556,\"#d8576b\"],[0.6666666666666666,\"#ed7953\"],[0.7777777777777778,\"#fb9f3a\"],[0.8888888888888888,\"#fdca26\"],[1.0,\"#f0f921\"]],\"sequentialminus\":[[0.0,\"#0d0887\"],[0.1111111111111111,\"#46039f\"],[0.2222222222222222,\"#7201a8\"],[0.3333333333333333,\"#9c179e\"],[0.4444444444444444,\"#bd3786\"],[0.5555555555555556,\"#d8576b\"],[0.6666666666666666,\"#ed7953\"],[0.7777777777777778,\"#fb9f3a\"],[0.8888888888888888,\"#fdca26\"],[1.0,\"#f0f921\"]]},\"colorway\":[\"#636efa\",\"#EF553B\",\"#00cc96\",\"#ab63fa\",\"#FFA15A\",\"#19d3f3\",\"#FF6692\",\"#B6E880\",\"#FF97FF\",\"#FECB52\"],\"font\":{\"color\":\"#2a3f5f\"},\"geo\":{\"bgcolor\":\"white\",\"lakecolor\":\"white\",\"landcolor\":\"#E5ECF6\",\"showlakes\":true,\"showland\":true,\"subunitcolor\":\"white\"},\"hoverlabel\":{\"align\":\"left\"},\"hovermode\":\"closest\",\"mapbox\":{\"style\":\"light\"},\"paper_bgcolor\":\"white\",\"plot_bgcolor\":\"#E5ECF6\",\"polar\":{\"angularaxis\":{\"gridcolor\":\"white\",\"linecolor\":\"white\",\"ticks\":\"\"},\"bgcolor\":\"#E5ECF6\",\"radialaxis\":{\"gridcolor\":\"white\",\"linecolor\":\"white\",\"ticks\":\"\"}},\"scene\":{\"xaxis\":{\"backgroundcolor\":\"#E5ECF6\",\"gridcolor\":\"white\",\"gridwidth\":2,\"linecolor\":\"white\",\"showbackground\":true,\"ticks\":\"\",\"zerolinecolor\":\"white\"},\"yaxis\":{\"backgroundcolor\":\"#E5ECF6\",\"gridcolor\":\"white\",\"gridwidth\":2,\"linecolor\":\"white\",\"showbackground\":true,\"ticks\":\"\",\"zerolinecolor\":\"white\"},\"zaxis\":{\"backgroundcolor\":\"#E5ECF6\",\"gridcolor\":\"white\",\"gridwidth\":2,\"linecolor\":\"white\",\"showbackground\":true,\"ticks\":\"\",\"zerolinecolor\":\"white\"}},\"shapedefaults\":{\"line\":{\"color\":\"#2a3f5f\"}},\"ternary\":{\"aaxis\":{\"gridcolor\":\"white\",\"linecolor\":\"white\",\"ticks\":\"\"},\"baxis\":{\"gridcolor\":\"white\",\"linecolor\":\"white\",\"ticks\":\"\"},\"bgcolor\":\"#E5ECF6\",\"caxis\":{\"gridcolor\":\"white\",\"linecolor\":\"white\",\"ticks\":\"\"}},\"title\":{\"x\":0.05},\"xaxis\":{\"automargin\":true,\"gridcolor\":\"white\",\"linecolor\":\"white\",\"ticks\":\"\",\"title\":{\"standoff\":15},\"zerolinecolor\":\"white\",\"zerolinewidth\":2},\"yaxis\":{\"automargin\":true,\"gridcolor\":\"white\",\"linecolor\":\"white\",\"ticks\":\"\",\"title\":{\"standoff\":15},\"zerolinecolor\":\"white\",\"zerolinewidth\":2}}},\"title\":{\"font\":{\"color\":\"#4D5663\"}},\"xaxis\":{\"gridcolor\":\"#E1E5ED\",\"showgrid\":true,\"tickfont\":{\"color\":\"#4D5663\"},\"title\":{\"font\":{\"color\":\"#4D5663\"},\"text\":\"\"},\"zerolinecolor\":\"#E1E5ED\"},\"yaxis\":{\"gridcolor\":\"#E1E5ED\",\"showgrid\":true,\"tickfont\":{\"color\":\"#4D5663\"},\"title\":{\"font\":{\"color\":\"#4D5663\"},\"text\":\"\"},\"zerolinecolor\":\"#E1E5ED\"}},                        {\"showLink\": true, \"linkText\": \"Export to plot.ly\", \"plotlyServerURL\": \"https://plot.ly\", \"responsive\": true}                    ).then(function(){\n",
       "                            \n",
       "var gd = document.getElementById('2ed90a79-7a05-41d1-9f86-4ed85a974f8b');\n",
       "var x = new MutationObserver(function (mutations, observer) {{\n",
       "        var display = window.getComputedStyle(gd).display;\n",
       "        if (!display || display === 'none') {{\n",
       "            console.log([gd, 'removed!']);\n",
       "            Plotly.purge(gd);\n",
       "            observer.disconnect();\n",
       "        }}\n",
       "}});\n",
       "\n",
       "// Listen for the removal of the full notebook cells\n",
       "var notebookContainer = gd.closest('#notebook-container');\n",
       "if (notebookContainer) {{\n",
       "    x.observe(notebookContainer, {childList: true});\n",
       "}}\n",
       "\n",
       "// Listen for the clearing of the current output cell\n",
       "var outputEl = gd.closest('.output');\n",
       "if (outputEl) {{\n",
       "    x.observe(outputEl, {childList: true});\n",
       "}}\n",
       "\n",
       "                        })                };                });            </script>        </div>"
      ]
     },
     "metadata": {},
     "output_type": "display_data"
    }
   ],
   "source": [
    "df3 = pd.DataFrame({'x':[1,2,3,4,5],'y':[10,20,30,20,10],'z':[5,4,3,2,1]})\n",
    "df3.iplot(kind='surface',colorscale='rdylbu')"
   ]
  },
  {
   "cell_type": "markdown",
   "metadata": {},
   "source": [
    "## Spread"
   ]
  },
  {
   "cell_type": "code",
   "execution_count": 24,
   "metadata": {},
   "outputs": [
    {
     "name": "stderr",
     "output_type": "stream",
     "text": [
      "C:\\Users\\pusha\\anaconda3\\lib\\site-packages\\cufflinks\\plotlytools.py:849: FutureWarning:\n",
      "\n",
      "The pandas.np module is deprecated and will be removed from pandas in a future version. Import numpy directly instead.\n",
      "\n",
      "C:\\Users\\pusha\\anaconda3\\lib\\site-packages\\cufflinks\\plotlytools.py:850: FutureWarning:\n",
      "\n",
      "The pandas.np module is deprecated and will be removed from pandas in a future version. Import numpy directly instead.\n",
      "\n"
     ]
    },
    {
     "data": {
      "application/vnd.plotly.v1+json": {
       "config": {
        "linkText": "Export to plot.ly",
        "plotlyServerURL": "https://plot.ly",
        "showLink": true
       },
       "data": [
        {
         "line": {
          "color": "rgba(255, 153, 51, 1.0)",
          "dash": "solid",
          "shape": "linear",
          "width": 1.3
         },
         "mode": "lines",
         "name": "A",
         "text": "",
         "type": "scatter",
         "x": [
          0,
          1,
          2,
          3,
          4,
          5,
          6,
          7,
          8,
          9,
          10,
          11,
          12,
          13,
          14,
          15,
          16,
          17,
          18,
          19,
          20,
          21,
          22,
          23,
          24,
          25,
          26,
          27,
          28,
          29,
          30,
          31,
          32,
          33,
          34,
          35,
          36,
          37,
          38,
          39,
          40,
          41,
          42,
          43,
          44,
          45,
          46,
          47,
          48,
          49,
          50,
          51,
          52,
          53,
          54,
          55,
          56,
          57,
          58,
          59,
          60,
          61,
          62,
          63,
          64,
          65,
          66,
          67,
          68,
          69,
          70,
          71,
          72,
          73,
          74,
          75,
          76,
          77,
          78,
          79,
          80,
          81,
          82,
          83,
          84,
          85,
          86,
          87,
          88,
          89,
          90,
          91,
          92,
          93,
          94,
          95,
          96,
          97,
          98,
          99
         ],
         "y": [
          -0.7051831481220451,
          0.43922270603827557,
          -0.24870124121465462,
          2.057258717584174,
          0.9928029700879529,
          -0.5614200505011286,
          -0.4525971471128819,
          -0.8425476141815342,
          0.22452019875816207,
          -1.0419304921342696,
          -0.596979459798248,
          -0.5136433270420201,
          -0.30109082273899646,
          -0.8437793523718262,
          -1.3019298542708193,
          -0.7469286394475176,
          -0.15606362034286694,
          1.0414201604476443,
          -1.6083459626882008,
          0.39757187428806584,
          0.9088622126821246,
          0.1288342090116408,
          0.9148982966185591,
          -0.9919522699380063,
          -0.3555543177539484,
          -0.0945839771416839,
          0.07575588211214367,
          -0.030106281406176865,
          -1.0074275350290345,
          0.13408162979612936,
          0.17796399981688318,
          -0.13570033957890884,
          0.784454763128047,
          1.5097312060988817,
          -0.8963002615710953,
          -0.6482105493446612,
          0.9841767167594909,
          1.241599591298693,
          0.2830256966654552,
          -0.6214143312238146,
          -0.09812462802196699,
          1.7546021754331227,
          -0.4020619004488187,
          2.687347057037032,
          0.35357279144602843,
          1.8980457695588686,
          -0.44205016471097835,
          1.342302156302457,
          -2.6086746796664086,
          -0.2422383762343922,
          0.020171641164645333,
          0.038833475065560404,
          0.7611381770555126,
          0.15908773656704006,
          0.06468045369400825,
          0.9822092545872925,
          -0.8066539137936216,
          -2.131153972171354,
          0.914030903086248,
          0.014514507630141022,
          0.3247783307436006,
          -1.0623521273207823,
          -0.5627431869802589,
          -1.1557172843024368,
          -0.3798027873441633,
          -0.1438001174563708,
          1.2573609083720851,
          0.43751117368337294,
          -0.22503926746541883,
          0.4090682819088985,
          0.6237103778312871,
          -1.229011584355428,
          1.5871669025342217,
          0.0407574102693247,
          -1.4536960876806284,
          -0.6222411663434749,
          0.10286155555958691,
          0.24028167035807485,
          1.4704070810483008,
          -0.18727545016936312,
          -0.5227882042145175,
          -0.41843157353403804,
          0.5095772093194731,
          0.5769946056343663,
          1.7298184287290328,
          -0.5459541749316872,
          -2.397909800294627,
          -0.4875778238404372,
          0.30477659153794356,
          -0.023161571453009136,
          -1.4053406325800621,
          2.1471994716512177,
          0.09979825143961732,
          -0.1643652940012639,
          -1.3072456396882137,
          0.29508527262263246,
          0.33142503229300063,
          -0.1601889859460664,
          -0.732556289003857,
          -0.7623909274097523
         ]
        },
        {
         "line": {
          "color": "rgba(55, 128, 191, 1.0)",
          "dash": "solid",
          "shape": "linear",
          "width": 1.3
         },
         "mode": "lines",
         "name": "B",
         "text": "",
         "type": "scatter",
         "x": [
          0,
          1,
          2,
          3,
          4,
          5,
          6,
          7,
          8,
          9,
          10,
          11,
          12,
          13,
          14,
          15,
          16,
          17,
          18,
          19,
          20,
          21,
          22,
          23,
          24,
          25,
          26,
          27,
          28,
          29,
          30,
          31,
          32,
          33,
          34,
          35,
          36,
          37,
          38,
          39,
          40,
          41,
          42,
          43,
          44,
          45,
          46,
          47,
          48,
          49,
          50,
          51,
          52,
          53,
          54,
          55,
          56,
          57,
          58,
          59,
          60,
          61,
          62,
          63,
          64,
          65,
          66,
          67,
          68,
          69,
          70,
          71,
          72,
          73,
          74,
          75,
          76,
          77,
          78,
          79,
          80,
          81,
          82,
          83,
          84,
          85,
          86,
          87,
          88,
          89,
          90,
          91,
          92,
          93,
          94,
          95,
          96,
          97,
          98,
          99
         ],
         "y": [
          -1.7013006760508602,
          0.3726110922373725,
          -0.9754051723074265,
          -1.4310905116703005,
          -0.49495580410156426,
          -0.23792853733818523,
          0.6820747164655667,
          -1.3244121992950646,
          0.844853852654464,
          -0.12712387910761966,
          0.07727653845877015,
          -1.6178919682285964,
          1.6620560366530401,
          1.699485017671733,
          -1.4933662810763182,
          -1.4420375546757855,
          0.00741199240362949,
          -2.061084183065256,
          -1.7697645039107246,
          1.9526086513272267,
          -0.20318056893072264,
          -1.3995600619671336,
          0.010642637425180183,
          1.0358081462914928,
          -0.37242494277677585,
          0.20667476003049706,
          -0.16267298076775957,
          0.7798128841823275,
          -0.35179459123935136,
          1.081467422627341,
          0.7077613301512333,
          -0.6110458049423005,
          -0.7446518379211517,
          0.47949213837655,
          -0.9540988719737546,
          0.1123688035076602,
          0.26169480514641313,
          -1.9475558614432522,
          -0.09404948355237926,
          -0.579998779191727,
          -0.9162076738199042,
          -1.3393615273245074,
          0.0788299847120889,
          0.6379938373868258,
          -0.8130888257415996,
          1.6611778058206665,
          -0.4813116087170946,
          -0.019547948800238503,
          1.331918402584154,
          -0.6571735272751751,
          -1.0682608537423943,
          -0.5733998113617014,
          0.29800706286622497,
          -1.365369741686114,
          1.3060602621305004,
          -0.4857256708152363,
          0.3445712175703463,
          1.2459952091278363,
          0.4409296584019077,
          -1.241525679399955,
          -0.017717831482726706,
          0.5284160702894732,
          0.7957565688596141,
          -0.7970539399473027,
          0.8452111615611503,
          0.6862207008234761,
          0.3928558456506407,
          0.21363798837630205,
          -1.1432047801812812,
          -0.09517977719340225,
          0.5218475516192701,
          -0.19272219613099298,
          1.05964041604494,
          0.2761071357701667,
          -0.7943275870137153,
          -1.1404461350535857,
          0.8603468722255645,
          -0.05852670388260969,
          1.3662802340147435,
          -0.7567889152604271,
          -0.3474788034623021,
          -0.23554292992878703,
          1.197373609772019,
          0.5754650080324972,
          -1.4125808720783122,
          0.30494901967571725,
          -1.5416465431940984,
          0.016412502071598608,
          0.3720332248482546,
          -1.3428792774194924,
          0.8857193838349164,
          0.6703174061080518,
          -0.7172600720684109,
          -0.21520251053018347,
          0.8786850026750797,
          -0.27803441786860095,
          1.8524411743566065,
          0.4529031345378013,
          -0.693555130039683,
          -0.72858737200973
         ]
        },
        {
         "connectgaps": false,
         "fill": "tozeroy",
         "line": {
          "color": "green",
          "dash": "solid",
          "shape": "linear",
          "width": 0.5
         },
         "mode": "lines",
         "name": "Spread",
         "showlegend": false,
         "type": "scatter",
         "x": [
          0,
          1,
          2,
          3,
          4,
          5,
          6,
          7,
          8,
          9,
          10,
          11,
          12,
          13,
          14,
          15,
          16,
          17,
          18,
          19,
          20,
          21,
          22,
          23,
          24,
          25,
          26,
          27,
          28,
          29,
          30,
          31,
          32,
          33,
          34,
          35,
          36,
          37,
          38,
          39,
          40,
          41,
          42,
          43,
          44,
          45,
          46,
          47,
          48,
          49,
          50,
          51,
          52,
          53,
          54,
          55,
          56,
          57,
          58,
          59,
          60,
          61,
          62,
          63,
          64,
          65,
          66,
          67,
          68,
          69,
          70,
          71,
          72,
          73,
          74,
          75,
          76,
          77,
          78,
          79,
          80,
          81,
          82,
          83,
          84,
          85,
          86,
          87,
          88,
          89,
          90,
          91,
          92,
          93,
          94,
          95,
          96,
          97,
          98,
          99
         ],
         "xaxis": "x2",
         "y": [
          0.9961175279288151,
          0.06661161380090308,
          0.7267039310927719,
          3.4883492292544744,
          1.4877587741895173,
          "",
          "",
          0.48186458511353036,
          "",
          "",
          "",
          1.1042486411865764,
          "",
          "",
          0.19143642680549888,
          0.6951089152282679,
          "",
          3.1025043435129005,
          0.16141854122252375,
          "",
          1.1120427816128473,
          1.5283942709787743,
          0.9042556591933789,
          "",
          0.016870625022827435,
          "",
          0.23842886287990323,
          "",
          "",
          "",
          "",
          0.47534546536339173,
          1.5291066010491987,
          1.0302390677223316,
          0.05779861040265932,
          "",
          0.7224819116130778,
          3.1891554527419452,
          0.3770751802178344,
          "",
          0.8180830457979372,
          3.0939637027576303,
          "",
          2.049353219650206,
          1.166661617187628,
          0.23686796373820207,
          0.03926144400611625,
          1.3618501051026957,
          "",
          0.4149351510407829,
          1.0884324949070396,
          0.6122332864272618,
          0.4631311141892876,
          1.524457478253154,
          "",
          1.467934925402529,
          "",
          "",
          0.47310124468434034,
          1.256040187030096,
          0.3424961622263273,
          "",
          "",
          "",
          "",
          "",
          0.8645050627214445,
          0.2238731853070709,
          0.9181655127158624,
          0.5042480591023007,
          0.10186282621201703,
          "",
          0.5275264864892817,
          "",
          "",
          0.5182049687101108,
          "",
          0.2988083742406845,
          0.10412684703355723,
          0.569513465091064,
          "",
          "",
          "",
          0.0015295976018691038,
          3.142399300807345,
          "",
          "",
          "",
          "",
          1.3197177059664833,
          "",
          1.4768820655431658,
          0.8170583235080282,
          0.050837216528919565,
          "",
          0.5731196904912335,
          "",
          "",
          "",
          ""
         ],
         "yaxis": "y2"
        },
        {
         "connectgaps": false,
         "fill": "tozeroy",
         "line": {
          "color": "red",
          "dash": "solid",
          "shape": "linear",
          "width": 0.5
         },
         "mode": "lines",
         "name": "Spread",
         "showlegend": false,
         "type": "scatter",
         "x": [
          0,
          1,
          2,
          3,
          4,
          5,
          6,
          7,
          8,
          9,
          10,
          11,
          12,
          13,
          14,
          15,
          16,
          17,
          18,
          19,
          20,
          21,
          22,
          23,
          24,
          25,
          26,
          27,
          28,
          29,
          30,
          31,
          32,
          33,
          34,
          35,
          36,
          37,
          38,
          39,
          40,
          41,
          42,
          43,
          44,
          45,
          46,
          47,
          48,
          49,
          50,
          51,
          52,
          53,
          54,
          55,
          56,
          57,
          58,
          59,
          60,
          61,
          62,
          63,
          64,
          65,
          66,
          67,
          68,
          69,
          70,
          71,
          72,
          73,
          74,
          75,
          76,
          77,
          78,
          79,
          80,
          81,
          82,
          83,
          84,
          85,
          86,
          87,
          88,
          89,
          90,
          91,
          92,
          93,
          94,
          95,
          96,
          97,
          98,
          99
         ],
         "xaxis": "x2",
         "y": [
          "",
          "",
          "",
          "",
          "",
          -0.32349151316294344,
          -1.1346718635784487,
          "",
          -0.6203336538963019,
          -0.9148066130266499,
          -0.6742559982570181,
          "",
          -1.9631468593920367,
          -2.543264370043559,
          "",
          "",
          -0.16347561274649644,
          "",
          "",
          -1.5550367770391609,
          "",
          "",
          "",
          -2.027760416229499,
          "",
          -0.301258737172181,
          "",
          -0.8099191655885044,
          -0.6556329437896831,
          -0.9473857928312117,
          -0.5297973303343502,
          "",
          "",
          "",
          "",
          -0.7605793528523214,
          "",
          "",
          "",
          -0.04141555203208758,
          "",
          "",
          -0.4808918851609076,
          "",
          "",
          "",
          "",
          "",
          -3.9405930822505626,
          "",
          "",
          "",
          "",
          "",
          -1.2413798084364922,
          "",
          -1.1512251313639679,
          -3.37714918129919,
          "",
          "",
          "",
          -1.5907681976102555,
          -1.358499755839873,
          -0.35866334435513414,
          -1.2250139489053136,
          -0.8300208182798469,
          "",
          "",
          "",
          "",
          "",
          -1.0362893882244348,
          "",
          -0.23534972550084202,
          -0.6593685006669131,
          "",
          -0.7574853166659776,
          "",
          "",
          "",
          -0.17530940075221546,
          -0.182888643605251,
          -0.6877964004525458,
          "",
          "",
          -0.8509031946074044,
          -0.8562632571005284,
          -0.5039903259120357,
          -0.06725663331031101,
          "",
          -2.2910600164149786,
          "",
          "",
          "",
          -2.185930642363293,
          "",
          -1.521016142063606,
          -0.6130921204838677,
          -0.039001158964174,
          -0.033803555400022334
         ],
         "yaxis": "y2"
        }
       ],
       "layout": {
        "hovermode": "x",
        "legend": {
         "bgcolor": "#F5F6F9",
         "font": {
          "color": "#4D5663"
         }
        },
        "paper_bgcolor": "#F5F6F9",
        "plot_bgcolor": "#F5F6F9",
        "template": {
         "data": {
          "bar": [
           {
            "error_x": {
             "color": "#2a3f5f"
            },
            "error_y": {
             "color": "#2a3f5f"
            },
            "marker": {
             "line": {
              "color": "#E5ECF6",
              "width": 0.5
             },
             "pattern": {
              "fillmode": "overlay",
              "size": 10,
              "solidity": 0.2
             }
            },
            "type": "bar"
           }
          ],
          "barpolar": [
           {
            "marker": {
             "line": {
              "color": "#E5ECF6",
              "width": 0.5
             },
             "pattern": {
              "fillmode": "overlay",
              "size": 10,
              "solidity": 0.2
             }
            },
            "type": "barpolar"
           }
          ],
          "carpet": [
           {
            "aaxis": {
             "endlinecolor": "#2a3f5f",
             "gridcolor": "white",
             "linecolor": "white",
             "minorgridcolor": "white",
             "startlinecolor": "#2a3f5f"
            },
            "baxis": {
             "endlinecolor": "#2a3f5f",
             "gridcolor": "white",
             "linecolor": "white",
             "minorgridcolor": "white",
             "startlinecolor": "#2a3f5f"
            },
            "type": "carpet"
           }
          ],
          "choropleth": [
           {
            "colorbar": {
             "outlinewidth": 0,
             "ticks": ""
            },
            "type": "choropleth"
           }
          ],
          "contour": [
           {
            "colorbar": {
             "outlinewidth": 0,
             "ticks": ""
            },
            "colorscale": [
             [
              0,
              "#0d0887"
             ],
             [
              0.1111111111111111,
              "#46039f"
             ],
             [
              0.2222222222222222,
              "#7201a8"
             ],
             [
              0.3333333333333333,
              "#9c179e"
             ],
             [
              0.4444444444444444,
              "#bd3786"
             ],
             [
              0.5555555555555556,
              "#d8576b"
             ],
             [
              0.6666666666666666,
              "#ed7953"
             ],
             [
              0.7777777777777778,
              "#fb9f3a"
             ],
             [
              0.8888888888888888,
              "#fdca26"
             ],
             [
              1,
              "#f0f921"
             ]
            ],
            "type": "contour"
           }
          ],
          "contourcarpet": [
           {
            "colorbar": {
             "outlinewidth": 0,
             "ticks": ""
            },
            "type": "contourcarpet"
           }
          ],
          "heatmap": [
           {
            "colorbar": {
             "outlinewidth": 0,
             "ticks": ""
            },
            "colorscale": [
             [
              0,
              "#0d0887"
             ],
             [
              0.1111111111111111,
              "#46039f"
             ],
             [
              0.2222222222222222,
              "#7201a8"
             ],
             [
              0.3333333333333333,
              "#9c179e"
             ],
             [
              0.4444444444444444,
              "#bd3786"
             ],
             [
              0.5555555555555556,
              "#d8576b"
             ],
             [
              0.6666666666666666,
              "#ed7953"
             ],
             [
              0.7777777777777778,
              "#fb9f3a"
             ],
             [
              0.8888888888888888,
              "#fdca26"
             ],
             [
              1,
              "#f0f921"
             ]
            ],
            "type": "heatmap"
           }
          ],
          "heatmapgl": [
           {
            "colorbar": {
             "outlinewidth": 0,
             "ticks": ""
            },
            "colorscale": [
             [
              0,
              "#0d0887"
             ],
             [
              0.1111111111111111,
              "#46039f"
             ],
             [
              0.2222222222222222,
              "#7201a8"
             ],
             [
              0.3333333333333333,
              "#9c179e"
             ],
             [
              0.4444444444444444,
              "#bd3786"
             ],
             [
              0.5555555555555556,
              "#d8576b"
             ],
             [
              0.6666666666666666,
              "#ed7953"
             ],
             [
              0.7777777777777778,
              "#fb9f3a"
             ],
             [
              0.8888888888888888,
              "#fdca26"
             ],
             [
              1,
              "#f0f921"
             ]
            ],
            "type": "heatmapgl"
           }
          ],
          "histogram": [
           {
            "marker": {
             "pattern": {
              "fillmode": "overlay",
              "size": 10,
              "solidity": 0.2
             }
            },
            "type": "histogram"
           }
          ],
          "histogram2d": [
           {
            "colorbar": {
             "outlinewidth": 0,
             "ticks": ""
            },
            "colorscale": [
             [
              0,
              "#0d0887"
             ],
             [
              0.1111111111111111,
              "#46039f"
             ],
             [
              0.2222222222222222,
              "#7201a8"
             ],
             [
              0.3333333333333333,
              "#9c179e"
             ],
             [
              0.4444444444444444,
              "#bd3786"
             ],
             [
              0.5555555555555556,
              "#d8576b"
             ],
             [
              0.6666666666666666,
              "#ed7953"
             ],
             [
              0.7777777777777778,
              "#fb9f3a"
             ],
             [
              0.8888888888888888,
              "#fdca26"
             ],
             [
              1,
              "#f0f921"
             ]
            ],
            "type": "histogram2d"
           }
          ],
          "histogram2dcontour": [
           {
            "colorbar": {
             "outlinewidth": 0,
             "ticks": ""
            },
            "colorscale": [
             [
              0,
              "#0d0887"
             ],
             [
              0.1111111111111111,
              "#46039f"
             ],
             [
              0.2222222222222222,
              "#7201a8"
             ],
             [
              0.3333333333333333,
              "#9c179e"
             ],
             [
              0.4444444444444444,
              "#bd3786"
             ],
             [
              0.5555555555555556,
              "#d8576b"
             ],
             [
              0.6666666666666666,
              "#ed7953"
             ],
             [
              0.7777777777777778,
              "#fb9f3a"
             ],
             [
              0.8888888888888888,
              "#fdca26"
             ],
             [
              1,
              "#f0f921"
             ]
            ],
            "type": "histogram2dcontour"
           }
          ],
          "mesh3d": [
           {
            "colorbar": {
             "outlinewidth": 0,
             "ticks": ""
            },
            "type": "mesh3d"
           }
          ],
          "parcoords": [
           {
            "line": {
             "colorbar": {
              "outlinewidth": 0,
              "ticks": ""
             }
            },
            "type": "parcoords"
           }
          ],
          "pie": [
           {
            "automargin": true,
            "type": "pie"
           }
          ],
          "scatter": [
           {
            "marker": {
             "colorbar": {
              "outlinewidth": 0,
              "ticks": ""
             }
            },
            "type": "scatter"
           }
          ],
          "scatter3d": [
           {
            "line": {
             "colorbar": {
              "outlinewidth": 0,
              "ticks": ""
             }
            },
            "marker": {
             "colorbar": {
              "outlinewidth": 0,
              "ticks": ""
             }
            },
            "type": "scatter3d"
           }
          ],
          "scattercarpet": [
           {
            "marker": {
             "colorbar": {
              "outlinewidth": 0,
              "ticks": ""
             }
            },
            "type": "scattercarpet"
           }
          ],
          "scattergeo": [
           {
            "marker": {
             "colorbar": {
              "outlinewidth": 0,
              "ticks": ""
             }
            },
            "type": "scattergeo"
           }
          ],
          "scattergl": [
           {
            "marker": {
             "colorbar": {
              "outlinewidth": 0,
              "ticks": ""
             }
            },
            "type": "scattergl"
           }
          ],
          "scattermapbox": [
           {
            "marker": {
             "colorbar": {
              "outlinewidth": 0,
              "ticks": ""
             }
            },
            "type": "scattermapbox"
           }
          ],
          "scatterpolar": [
           {
            "marker": {
             "colorbar": {
              "outlinewidth": 0,
              "ticks": ""
             }
            },
            "type": "scatterpolar"
           }
          ],
          "scatterpolargl": [
           {
            "marker": {
             "colorbar": {
              "outlinewidth": 0,
              "ticks": ""
             }
            },
            "type": "scatterpolargl"
           }
          ],
          "scatterternary": [
           {
            "marker": {
             "colorbar": {
              "outlinewidth": 0,
              "ticks": ""
             }
            },
            "type": "scatterternary"
           }
          ],
          "surface": [
           {
            "colorbar": {
             "outlinewidth": 0,
             "ticks": ""
            },
            "colorscale": [
             [
              0,
              "#0d0887"
             ],
             [
              0.1111111111111111,
              "#46039f"
             ],
             [
              0.2222222222222222,
              "#7201a8"
             ],
             [
              0.3333333333333333,
              "#9c179e"
             ],
             [
              0.4444444444444444,
              "#bd3786"
             ],
             [
              0.5555555555555556,
              "#d8576b"
             ],
             [
              0.6666666666666666,
              "#ed7953"
             ],
             [
              0.7777777777777778,
              "#fb9f3a"
             ],
             [
              0.8888888888888888,
              "#fdca26"
             ],
             [
              1,
              "#f0f921"
             ]
            ],
            "type": "surface"
           }
          ],
          "table": [
           {
            "cells": {
             "fill": {
              "color": "#EBF0F8"
             },
             "line": {
              "color": "white"
             }
            },
            "header": {
             "fill": {
              "color": "#C8D4E3"
             },
             "line": {
              "color": "white"
             }
            },
            "type": "table"
           }
          ]
         },
         "layout": {
          "annotationdefaults": {
           "arrowcolor": "#2a3f5f",
           "arrowhead": 0,
           "arrowwidth": 1
          },
          "autotypenumbers": "strict",
          "coloraxis": {
           "colorbar": {
            "outlinewidth": 0,
            "ticks": ""
           }
          },
          "colorscale": {
           "diverging": [
            [
             0,
             "#8e0152"
            ],
            [
             0.1,
             "#c51b7d"
            ],
            [
             0.2,
             "#de77ae"
            ],
            [
             0.3,
             "#f1b6da"
            ],
            [
             0.4,
             "#fde0ef"
            ],
            [
             0.5,
             "#f7f7f7"
            ],
            [
             0.6,
             "#e6f5d0"
            ],
            [
             0.7,
             "#b8e186"
            ],
            [
             0.8,
             "#7fbc41"
            ],
            [
             0.9,
             "#4d9221"
            ],
            [
             1,
             "#276419"
            ]
           ],
           "sequential": [
            [
             0,
             "#0d0887"
            ],
            [
             0.1111111111111111,
             "#46039f"
            ],
            [
             0.2222222222222222,
             "#7201a8"
            ],
            [
             0.3333333333333333,
             "#9c179e"
            ],
            [
             0.4444444444444444,
             "#bd3786"
            ],
            [
             0.5555555555555556,
             "#d8576b"
            ],
            [
             0.6666666666666666,
             "#ed7953"
            ],
            [
             0.7777777777777778,
             "#fb9f3a"
            ],
            [
             0.8888888888888888,
             "#fdca26"
            ],
            [
             1,
             "#f0f921"
            ]
           ],
           "sequentialminus": [
            [
             0,
             "#0d0887"
            ],
            [
             0.1111111111111111,
             "#46039f"
            ],
            [
             0.2222222222222222,
             "#7201a8"
            ],
            [
             0.3333333333333333,
             "#9c179e"
            ],
            [
             0.4444444444444444,
             "#bd3786"
            ],
            [
             0.5555555555555556,
             "#d8576b"
            ],
            [
             0.6666666666666666,
             "#ed7953"
            ],
            [
             0.7777777777777778,
             "#fb9f3a"
            ],
            [
             0.8888888888888888,
             "#fdca26"
            ],
            [
             1,
             "#f0f921"
            ]
           ]
          },
          "colorway": [
           "#636efa",
           "#EF553B",
           "#00cc96",
           "#ab63fa",
           "#FFA15A",
           "#19d3f3",
           "#FF6692",
           "#B6E880",
           "#FF97FF",
           "#FECB52"
          ],
          "font": {
           "color": "#2a3f5f"
          },
          "geo": {
           "bgcolor": "white",
           "lakecolor": "white",
           "landcolor": "#E5ECF6",
           "showlakes": true,
           "showland": true,
           "subunitcolor": "white"
          },
          "hoverlabel": {
           "align": "left"
          },
          "hovermode": "closest",
          "mapbox": {
           "style": "light"
          },
          "paper_bgcolor": "white",
          "plot_bgcolor": "#E5ECF6",
          "polar": {
           "angularaxis": {
            "gridcolor": "white",
            "linecolor": "white",
            "ticks": ""
           },
           "bgcolor": "#E5ECF6",
           "radialaxis": {
            "gridcolor": "white",
            "linecolor": "white",
            "ticks": ""
           }
          },
          "scene": {
           "xaxis": {
            "backgroundcolor": "#E5ECF6",
            "gridcolor": "white",
            "gridwidth": 2,
            "linecolor": "white",
            "showbackground": true,
            "ticks": "",
            "zerolinecolor": "white"
           },
           "yaxis": {
            "backgroundcolor": "#E5ECF6",
            "gridcolor": "white",
            "gridwidth": 2,
            "linecolor": "white",
            "showbackground": true,
            "ticks": "",
            "zerolinecolor": "white"
           },
           "zaxis": {
            "backgroundcolor": "#E5ECF6",
            "gridcolor": "white",
            "gridwidth": 2,
            "linecolor": "white",
            "showbackground": true,
            "ticks": "",
            "zerolinecolor": "white"
           }
          },
          "shapedefaults": {
           "line": {
            "color": "#2a3f5f"
           }
          },
          "ternary": {
           "aaxis": {
            "gridcolor": "white",
            "linecolor": "white",
            "ticks": ""
           },
           "baxis": {
            "gridcolor": "white",
            "linecolor": "white",
            "ticks": ""
           },
           "bgcolor": "#E5ECF6",
           "caxis": {
            "gridcolor": "white",
            "linecolor": "white",
            "ticks": ""
           }
          },
          "title": {
           "x": 0.05
          },
          "xaxis": {
           "automargin": true,
           "gridcolor": "white",
           "linecolor": "white",
           "ticks": "",
           "title": {
            "standoff": 15
           },
           "zerolinecolor": "white",
           "zerolinewidth": 2
          },
          "yaxis": {
           "automargin": true,
           "gridcolor": "white",
           "linecolor": "white",
           "ticks": "",
           "title": {
            "standoff": 15
           },
           "zerolinecolor": "white",
           "zerolinewidth": 2
          }
         }
        },
        "title": {
         "font": {
          "color": "#4D5663"
         }
        },
        "xaxis": {
         "gridcolor": "#E1E5ED",
         "showgrid": true,
         "tickfont": {
          "color": "#4D5663"
         },
         "title": {
          "font": {
           "color": "#4D5663"
          },
          "text": ""
         },
         "zerolinecolor": "#E1E5ED"
        },
        "xaxis2": {
         "anchor": "y2",
         "gridcolor": "#E1E5ED",
         "showgrid": true,
         "showticklabels": false,
         "tickfont": {
          "color": "#4D5663"
         },
         "title": {
          "font": {
           "color": "#4D5663"
          },
          "text": ""
         },
         "zerolinecolor": "#E1E5ED"
        },
        "yaxis": {
         "domain": [
          0.3,
          1
         ],
         "gridcolor": "#E1E5ED",
         "showgrid": true,
         "tickfont": {
          "color": "#4D5663"
         },
         "title": {
          "font": {
           "color": "#4D5663"
          },
          "text": ""
         },
         "zerolinecolor": "#E1E5ED"
        },
        "yaxis2": {
         "domain": [
          0,
          0.25
         ],
         "gridcolor": "#E1E5ED",
         "showgrid": true,
         "tickfont": {
          "color": "#4D5663"
         },
         "title": {
          "font": {
           "color": "#4D5663"
          },
          "text": "Spread"
         },
         "zerolinecolor": "#E1E5ED"
        }
       }
      },
      "text/html": [
       "<div>                            <div id=\"efd77a39-3a92-4383-8fb0-7a28121a1b21\" class=\"plotly-graph-div\" style=\"height:525px; width:100%;\"></div>            <script type=\"text/javascript\">                require([\"plotly\"], function(Plotly) {                    window.PLOTLYENV=window.PLOTLYENV || {};\n",
       "                    window.PLOTLYENV.BASE_URL='https://plot.ly';                                    if (document.getElementById(\"efd77a39-3a92-4383-8fb0-7a28121a1b21\")) {                    Plotly.newPlot(                        \"efd77a39-3a92-4383-8fb0-7a28121a1b21\",                        [{\"line\":{\"color\":\"rgba(255, 153, 51, 1.0)\",\"dash\":\"solid\",\"shape\":\"linear\",\"width\":1.3},\"mode\":\"lines\",\"name\":\"A\",\"text\":\"\",\"x\":[0,1,2,3,4,5,6,7,8,9,10,11,12,13,14,15,16,17,18,19,20,21,22,23,24,25,26,27,28,29,30,31,32,33,34,35,36,37,38,39,40,41,42,43,44,45,46,47,48,49,50,51,52,53,54,55,56,57,58,59,60,61,62,63,64,65,66,67,68,69,70,71,72,73,74,75,76,77,78,79,80,81,82,83,84,85,86,87,88,89,90,91,92,93,94,95,96,97,98,99],\"y\":[-0.7051831481220451,0.43922270603827557,-0.24870124121465462,2.057258717584174,0.9928029700879529,-0.5614200505011286,-0.4525971471128819,-0.8425476141815342,0.22452019875816207,-1.0419304921342696,-0.596979459798248,-0.5136433270420201,-0.30109082273899646,-0.8437793523718262,-1.3019298542708193,-0.7469286394475176,-0.15606362034286694,1.0414201604476443,-1.6083459626882008,0.39757187428806584,0.9088622126821246,0.1288342090116408,0.9148982966185591,-0.9919522699380063,-0.3555543177539484,-0.0945839771416839,0.07575588211214367,-0.030106281406176865,-1.0074275350290345,0.13408162979612936,0.17796399981688318,-0.13570033957890884,0.784454763128047,1.5097312060988817,-0.8963002615710953,-0.6482105493446612,0.9841767167594909,1.241599591298693,0.2830256966654552,-0.6214143312238146,-0.09812462802196699,1.7546021754331227,-0.4020619004488187,2.687347057037032,0.35357279144602843,1.8980457695588686,-0.44205016471097835,1.342302156302457,-2.6086746796664086,-0.2422383762343922,0.020171641164645333,0.038833475065560404,0.7611381770555126,0.15908773656704006,0.06468045369400825,0.9822092545872925,-0.8066539137936216,-2.131153972171354,0.914030903086248,0.014514507630141022,0.3247783307436006,-1.0623521273207823,-0.5627431869802589,-1.1557172843024368,-0.3798027873441633,-0.1438001174563708,1.2573609083720851,0.43751117368337294,-0.22503926746541883,0.4090682819088985,0.6237103778312871,-1.229011584355428,1.5871669025342217,0.0407574102693247,-1.4536960876806284,-0.6222411663434749,0.10286155555958691,0.24028167035807485,1.4704070810483008,-0.18727545016936312,-0.5227882042145175,-0.41843157353403804,0.5095772093194731,0.5769946056343663,1.7298184287290328,-0.5459541749316872,-2.397909800294627,-0.4875778238404372,0.30477659153794356,-0.023161571453009136,-1.4053406325800621,2.1471994716512177,0.09979825143961732,-0.1643652940012639,-1.3072456396882137,0.29508527262263246,0.33142503229300063,-0.1601889859460664,-0.732556289003857,-0.7623909274097523],\"type\":\"scatter\"},{\"line\":{\"color\":\"rgba(55, 128, 191, 1.0)\",\"dash\":\"solid\",\"shape\":\"linear\",\"width\":1.3},\"mode\":\"lines\",\"name\":\"B\",\"text\":\"\",\"x\":[0,1,2,3,4,5,6,7,8,9,10,11,12,13,14,15,16,17,18,19,20,21,22,23,24,25,26,27,28,29,30,31,32,33,34,35,36,37,38,39,40,41,42,43,44,45,46,47,48,49,50,51,52,53,54,55,56,57,58,59,60,61,62,63,64,65,66,67,68,69,70,71,72,73,74,75,76,77,78,79,80,81,82,83,84,85,86,87,88,89,90,91,92,93,94,95,96,97,98,99],\"y\":[-1.7013006760508602,0.3726110922373725,-0.9754051723074265,-1.4310905116703005,-0.49495580410156426,-0.23792853733818523,0.6820747164655667,-1.3244121992950646,0.844853852654464,-0.12712387910761966,0.07727653845877015,-1.6178919682285964,1.6620560366530401,1.699485017671733,-1.4933662810763182,-1.4420375546757855,0.00741199240362949,-2.061084183065256,-1.7697645039107246,1.9526086513272267,-0.20318056893072264,-1.3995600619671336,0.010642637425180183,1.0358081462914928,-0.37242494277677585,0.20667476003049706,-0.16267298076775957,0.7798128841823275,-0.35179459123935136,1.081467422627341,0.7077613301512333,-0.6110458049423005,-0.7446518379211517,0.47949213837655,-0.9540988719737546,0.1123688035076602,0.26169480514641313,-1.9475558614432522,-0.09404948355237926,-0.579998779191727,-0.9162076738199042,-1.3393615273245074,0.0788299847120889,0.6379938373868258,-0.8130888257415996,1.6611778058206665,-0.4813116087170946,-0.019547948800238503,1.331918402584154,-0.6571735272751751,-1.0682608537423943,-0.5733998113617014,0.29800706286622497,-1.365369741686114,1.3060602621305004,-0.4857256708152363,0.3445712175703463,1.2459952091278363,0.4409296584019077,-1.241525679399955,-0.017717831482726706,0.5284160702894732,0.7957565688596141,-0.7970539399473027,0.8452111615611503,0.6862207008234761,0.3928558456506407,0.21363798837630205,-1.1432047801812812,-0.09517977719340225,0.5218475516192701,-0.19272219613099298,1.05964041604494,0.2761071357701667,-0.7943275870137153,-1.1404461350535857,0.8603468722255645,-0.05852670388260969,1.3662802340147435,-0.7567889152604271,-0.3474788034623021,-0.23554292992878703,1.197373609772019,0.5754650080324972,-1.4125808720783122,0.30494901967571725,-1.5416465431940984,0.016412502071598608,0.3720332248482546,-1.3428792774194924,0.8857193838349164,0.6703174061080518,-0.7172600720684109,-0.21520251053018347,0.8786850026750797,-0.27803441786860095,1.8524411743566065,0.4529031345378013,-0.693555130039683,-0.72858737200973],\"type\":\"scatter\"},{\"connectgaps\":false,\"fill\":\"tozeroy\",\"line\":{\"color\":\"green\",\"dash\":\"solid\",\"shape\":\"linear\",\"width\":0.5},\"mode\":\"lines\",\"name\":\"Spread\",\"showlegend\":false,\"x\":[0,1,2,3,4,5,6,7,8,9,10,11,12,13,14,15,16,17,18,19,20,21,22,23,24,25,26,27,28,29,30,31,32,33,34,35,36,37,38,39,40,41,42,43,44,45,46,47,48,49,50,51,52,53,54,55,56,57,58,59,60,61,62,63,64,65,66,67,68,69,70,71,72,73,74,75,76,77,78,79,80,81,82,83,84,85,86,87,88,89,90,91,92,93,94,95,96,97,98,99],\"xaxis\":\"x2\",\"y\":[0.9961175279288151,0.06661161380090308,0.7267039310927719,3.4883492292544744,1.4877587741895173,\"\",\"\",0.48186458511353036,\"\",\"\",\"\",1.1042486411865764,\"\",\"\",0.19143642680549888,0.6951089152282679,\"\",3.1025043435129005,0.16141854122252375,\"\",1.1120427816128473,1.5283942709787743,0.9042556591933789,\"\",0.016870625022827435,\"\",0.23842886287990323,\"\",\"\",\"\",\"\",0.47534546536339173,1.5291066010491987,1.0302390677223316,0.05779861040265932,\"\",0.7224819116130778,3.1891554527419452,0.3770751802178344,\"\",0.8180830457979372,3.0939637027576303,\"\",2.049353219650206,1.166661617187628,0.23686796373820207,0.03926144400611625,1.3618501051026957,\"\",0.4149351510407829,1.0884324949070396,0.6122332864272618,0.4631311141892876,1.524457478253154,\"\",1.467934925402529,\"\",\"\",0.47310124468434034,1.256040187030096,0.3424961622263273,\"\",\"\",\"\",\"\",\"\",0.8645050627214445,0.2238731853070709,0.9181655127158624,0.5042480591023007,0.10186282621201703,\"\",0.5275264864892817,\"\",\"\",0.5182049687101108,\"\",0.2988083742406845,0.10412684703355723,0.569513465091064,\"\",\"\",\"\",0.0015295976018691038,3.142399300807345,\"\",\"\",\"\",\"\",1.3197177059664833,\"\",1.4768820655431658,0.8170583235080282,0.050837216528919565,\"\",0.5731196904912335,\"\",\"\",\"\",\"\"],\"yaxis\":\"y2\",\"type\":\"scatter\"},{\"connectgaps\":false,\"fill\":\"tozeroy\",\"line\":{\"color\":\"red\",\"dash\":\"solid\",\"shape\":\"linear\",\"width\":0.5},\"mode\":\"lines\",\"name\":\"Spread\",\"showlegend\":false,\"x\":[0,1,2,3,4,5,6,7,8,9,10,11,12,13,14,15,16,17,18,19,20,21,22,23,24,25,26,27,28,29,30,31,32,33,34,35,36,37,38,39,40,41,42,43,44,45,46,47,48,49,50,51,52,53,54,55,56,57,58,59,60,61,62,63,64,65,66,67,68,69,70,71,72,73,74,75,76,77,78,79,80,81,82,83,84,85,86,87,88,89,90,91,92,93,94,95,96,97,98,99],\"xaxis\":\"x2\",\"y\":[\"\",\"\",\"\",\"\",\"\",-0.32349151316294344,-1.1346718635784487,\"\",-0.6203336538963019,-0.9148066130266499,-0.6742559982570181,\"\",-1.9631468593920367,-2.543264370043559,\"\",\"\",-0.16347561274649644,\"\",\"\",-1.5550367770391609,\"\",\"\",\"\",-2.027760416229499,\"\",-0.301258737172181,\"\",-0.8099191655885044,-0.6556329437896831,-0.9473857928312117,-0.5297973303343502,\"\",\"\",\"\",\"\",-0.7605793528523214,\"\",\"\",\"\",-0.04141555203208758,\"\",\"\",-0.4808918851609076,\"\",\"\",\"\",\"\",\"\",-3.9405930822505626,\"\",\"\",\"\",\"\",\"\",-1.2413798084364922,\"\",-1.1512251313639679,-3.37714918129919,\"\",\"\",\"\",-1.5907681976102555,-1.358499755839873,-0.35866334435513414,-1.2250139489053136,-0.8300208182798469,\"\",\"\",\"\",\"\",\"\",-1.0362893882244348,\"\",-0.23534972550084202,-0.6593685006669131,\"\",-0.7574853166659776,\"\",\"\",\"\",-0.17530940075221546,-0.182888643605251,-0.6877964004525458,\"\",\"\",-0.8509031946074044,-0.8562632571005284,-0.5039903259120357,-0.06725663331031101,\"\",-2.2910600164149786,\"\",\"\",\"\",-2.185930642363293,\"\",-1.521016142063606,-0.6130921204838677,-0.039001158964174,-0.033803555400022334],\"yaxis\":\"y2\",\"type\":\"scatter\"}],                        {\"hovermode\":\"x\",\"legend\":{\"bgcolor\":\"#F5F6F9\",\"font\":{\"color\":\"#4D5663\"}},\"paper_bgcolor\":\"#F5F6F9\",\"plot_bgcolor\":\"#F5F6F9\",\"template\":{\"data\":{\"barpolar\":[{\"marker\":{\"line\":{\"color\":\"#E5ECF6\",\"width\":0.5},\"pattern\":{\"fillmode\":\"overlay\",\"size\":10,\"solidity\":0.2}},\"type\":\"barpolar\"}],\"bar\":[{\"error_x\":{\"color\":\"#2a3f5f\"},\"error_y\":{\"color\":\"#2a3f5f\"},\"marker\":{\"line\":{\"color\":\"#E5ECF6\",\"width\":0.5},\"pattern\":{\"fillmode\":\"overlay\",\"size\":10,\"solidity\":0.2}},\"type\":\"bar\"}],\"carpet\":[{\"aaxis\":{\"endlinecolor\":\"#2a3f5f\",\"gridcolor\":\"white\",\"linecolor\":\"white\",\"minorgridcolor\":\"white\",\"startlinecolor\":\"#2a3f5f\"},\"baxis\":{\"endlinecolor\":\"#2a3f5f\",\"gridcolor\":\"white\",\"linecolor\":\"white\",\"minorgridcolor\":\"white\",\"startlinecolor\":\"#2a3f5f\"},\"type\":\"carpet\"}],\"choropleth\":[{\"colorbar\":{\"outlinewidth\":0,\"ticks\":\"\"},\"type\":\"choropleth\"}],\"contourcarpet\":[{\"colorbar\":{\"outlinewidth\":0,\"ticks\":\"\"},\"type\":\"contourcarpet\"}],\"contour\":[{\"colorbar\":{\"outlinewidth\":0,\"ticks\":\"\"},\"colorscale\":[[0.0,\"#0d0887\"],[0.1111111111111111,\"#46039f\"],[0.2222222222222222,\"#7201a8\"],[0.3333333333333333,\"#9c179e\"],[0.4444444444444444,\"#bd3786\"],[0.5555555555555556,\"#d8576b\"],[0.6666666666666666,\"#ed7953\"],[0.7777777777777778,\"#fb9f3a\"],[0.8888888888888888,\"#fdca26\"],[1.0,\"#f0f921\"]],\"type\":\"contour\"}],\"heatmapgl\":[{\"colorbar\":{\"outlinewidth\":0,\"ticks\":\"\"},\"colorscale\":[[0.0,\"#0d0887\"],[0.1111111111111111,\"#46039f\"],[0.2222222222222222,\"#7201a8\"],[0.3333333333333333,\"#9c179e\"],[0.4444444444444444,\"#bd3786\"],[0.5555555555555556,\"#d8576b\"],[0.6666666666666666,\"#ed7953\"],[0.7777777777777778,\"#fb9f3a\"],[0.8888888888888888,\"#fdca26\"],[1.0,\"#f0f921\"]],\"type\":\"heatmapgl\"}],\"heatmap\":[{\"colorbar\":{\"outlinewidth\":0,\"ticks\":\"\"},\"colorscale\":[[0.0,\"#0d0887\"],[0.1111111111111111,\"#46039f\"],[0.2222222222222222,\"#7201a8\"],[0.3333333333333333,\"#9c179e\"],[0.4444444444444444,\"#bd3786\"],[0.5555555555555556,\"#d8576b\"],[0.6666666666666666,\"#ed7953\"],[0.7777777777777778,\"#fb9f3a\"],[0.8888888888888888,\"#fdca26\"],[1.0,\"#f0f921\"]],\"type\":\"heatmap\"}],\"histogram2dcontour\":[{\"colorbar\":{\"outlinewidth\":0,\"ticks\":\"\"},\"colorscale\":[[0.0,\"#0d0887\"],[0.1111111111111111,\"#46039f\"],[0.2222222222222222,\"#7201a8\"],[0.3333333333333333,\"#9c179e\"],[0.4444444444444444,\"#bd3786\"],[0.5555555555555556,\"#d8576b\"],[0.6666666666666666,\"#ed7953\"],[0.7777777777777778,\"#fb9f3a\"],[0.8888888888888888,\"#fdca26\"],[1.0,\"#f0f921\"]],\"type\":\"histogram2dcontour\"}],\"histogram2d\":[{\"colorbar\":{\"outlinewidth\":0,\"ticks\":\"\"},\"colorscale\":[[0.0,\"#0d0887\"],[0.1111111111111111,\"#46039f\"],[0.2222222222222222,\"#7201a8\"],[0.3333333333333333,\"#9c179e\"],[0.4444444444444444,\"#bd3786\"],[0.5555555555555556,\"#d8576b\"],[0.6666666666666666,\"#ed7953\"],[0.7777777777777778,\"#fb9f3a\"],[0.8888888888888888,\"#fdca26\"],[1.0,\"#f0f921\"]],\"type\":\"histogram2d\"}],\"histogram\":[{\"marker\":{\"pattern\":{\"fillmode\":\"overlay\",\"size\":10,\"solidity\":0.2}},\"type\":\"histogram\"}],\"mesh3d\":[{\"colorbar\":{\"outlinewidth\":0,\"ticks\":\"\"},\"type\":\"mesh3d\"}],\"parcoords\":[{\"line\":{\"colorbar\":{\"outlinewidth\":0,\"ticks\":\"\"}},\"type\":\"parcoords\"}],\"pie\":[{\"automargin\":true,\"type\":\"pie\"}],\"scatter3d\":[{\"line\":{\"colorbar\":{\"outlinewidth\":0,\"ticks\":\"\"}},\"marker\":{\"colorbar\":{\"outlinewidth\":0,\"ticks\":\"\"}},\"type\":\"scatter3d\"}],\"scattercarpet\":[{\"marker\":{\"colorbar\":{\"outlinewidth\":0,\"ticks\":\"\"}},\"type\":\"scattercarpet\"}],\"scattergeo\":[{\"marker\":{\"colorbar\":{\"outlinewidth\":0,\"ticks\":\"\"}},\"type\":\"scattergeo\"}],\"scattergl\":[{\"marker\":{\"colorbar\":{\"outlinewidth\":0,\"ticks\":\"\"}},\"type\":\"scattergl\"}],\"scattermapbox\":[{\"marker\":{\"colorbar\":{\"outlinewidth\":0,\"ticks\":\"\"}},\"type\":\"scattermapbox\"}],\"scatterpolargl\":[{\"marker\":{\"colorbar\":{\"outlinewidth\":0,\"ticks\":\"\"}},\"type\":\"scatterpolargl\"}],\"scatterpolar\":[{\"marker\":{\"colorbar\":{\"outlinewidth\":0,\"ticks\":\"\"}},\"type\":\"scatterpolar\"}],\"scatter\":[{\"marker\":{\"colorbar\":{\"outlinewidth\":0,\"ticks\":\"\"}},\"type\":\"scatter\"}],\"scatterternary\":[{\"marker\":{\"colorbar\":{\"outlinewidth\":0,\"ticks\":\"\"}},\"type\":\"scatterternary\"}],\"surface\":[{\"colorbar\":{\"outlinewidth\":0,\"ticks\":\"\"},\"colorscale\":[[0.0,\"#0d0887\"],[0.1111111111111111,\"#46039f\"],[0.2222222222222222,\"#7201a8\"],[0.3333333333333333,\"#9c179e\"],[0.4444444444444444,\"#bd3786\"],[0.5555555555555556,\"#d8576b\"],[0.6666666666666666,\"#ed7953\"],[0.7777777777777778,\"#fb9f3a\"],[0.8888888888888888,\"#fdca26\"],[1.0,\"#f0f921\"]],\"type\":\"surface\"}],\"table\":[{\"cells\":{\"fill\":{\"color\":\"#EBF0F8\"},\"line\":{\"color\":\"white\"}},\"header\":{\"fill\":{\"color\":\"#C8D4E3\"},\"line\":{\"color\":\"white\"}},\"type\":\"table\"}]},\"layout\":{\"annotationdefaults\":{\"arrowcolor\":\"#2a3f5f\",\"arrowhead\":0,\"arrowwidth\":1},\"autotypenumbers\":\"strict\",\"coloraxis\":{\"colorbar\":{\"outlinewidth\":0,\"ticks\":\"\"}},\"colorscale\":{\"diverging\":[[0,\"#8e0152\"],[0.1,\"#c51b7d\"],[0.2,\"#de77ae\"],[0.3,\"#f1b6da\"],[0.4,\"#fde0ef\"],[0.5,\"#f7f7f7\"],[0.6,\"#e6f5d0\"],[0.7,\"#b8e186\"],[0.8,\"#7fbc41\"],[0.9,\"#4d9221\"],[1,\"#276419\"]],\"sequential\":[[0.0,\"#0d0887\"],[0.1111111111111111,\"#46039f\"],[0.2222222222222222,\"#7201a8\"],[0.3333333333333333,\"#9c179e\"],[0.4444444444444444,\"#bd3786\"],[0.5555555555555556,\"#d8576b\"],[0.6666666666666666,\"#ed7953\"],[0.7777777777777778,\"#fb9f3a\"],[0.8888888888888888,\"#fdca26\"],[1.0,\"#f0f921\"]],\"sequentialminus\":[[0.0,\"#0d0887\"],[0.1111111111111111,\"#46039f\"],[0.2222222222222222,\"#7201a8\"],[0.3333333333333333,\"#9c179e\"],[0.4444444444444444,\"#bd3786\"],[0.5555555555555556,\"#d8576b\"],[0.6666666666666666,\"#ed7953\"],[0.7777777777777778,\"#fb9f3a\"],[0.8888888888888888,\"#fdca26\"],[1.0,\"#f0f921\"]]},\"colorway\":[\"#636efa\",\"#EF553B\",\"#00cc96\",\"#ab63fa\",\"#FFA15A\",\"#19d3f3\",\"#FF6692\",\"#B6E880\",\"#FF97FF\",\"#FECB52\"],\"font\":{\"color\":\"#2a3f5f\"},\"geo\":{\"bgcolor\":\"white\",\"lakecolor\":\"white\",\"landcolor\":\"#E5ECF6\",\"showlakes\":true,\"showland\":true,\"subunitcolor\":\"white\"},\"hoverlabel\":{\"align\":\"left\"},\"hovermode\":\"closest\",\"mapbox\":{\"style\":\"light\"},\"paper_bgcolor\":\"white\",\"plot_bgcolor\":\"#E5ECF6\",\"polar\":{\"angularaxis\":{\"gridcolor\":\"white\",\"linecolor\":\"white\",\"ticks\":\"\"},\"bgcolor\":\"#E5ECF6\",\"radialaxis\":{\"gridcolor\":\"white\",\"linecolor\":\"white\",\"ticks\":\"\"}},\"scene\":{\"xaxis\":{\"backgroundcolor\":\"#E5ECF6\",\"gridcolor\":\"white\",\"gridwidth\":2,\"linecolor\":\"white\",\"showbackground\":true,\"ticks\":\"\",\"zerolinecolor\":\"white\"},\"yaxis\":{\"backgroundcolor\":\"#E5ECF6\",\"gridcolor\":\"white\",\"gridwidth\":2,\"linecolor\":\"white\",\"showbackground\":true,\"ticks\":\"\",\"zerolinecolor\":\"white\"},\"zaxis\":{\"backgroundcolor\":\"#E5ECF6\",\"gridcolor\":\"white\",\"gridwidth\":2,\"linecolor\":\"white\",\"showbackground\":true,\"ticks\":\"\",\"zerolinecolor\":\"white\"}},\"shapedefaults\":{\"line\":{\"color\":\"#2a3f5f\"}},\"ternary\":{\"aaxis\":{\"gridcolor\":\"white\",\"linecolor\":\"white\",\"ticks\":\"\"},\"baxis\":{\"gridcolor\":\"white\",\"linecolor\":\"white\",\"ticks\":\"\"},\"bgcolor\":\"#E5ECF6\",\"caxis\":{\"gridcolor\":\"white\",\"linecolor\":\"white\",\"ticks\":\"\"}},\"title\":{\"x\":0.05},\"xaxis\":{\"automargin\":true,\"gridcolor\":\"white\",\"linecolor\":\"white\",\"ticks\":\"\",\"title\":{\"standoff\":15},\"zerolinecolor\":\"white\",\"zerolinewidth\":2},\"yaxis\":{\"automargin\":true,\"gridcolor\":\"white\",\"linecolor\":\"white\",\"ticks\":\"\",\"title\":{\"standoff\":15},\"zerolinecolor\":\"white\",\"zerolinewidth\":2}}},\"title\":{\"font\":{\"color\":\"#4D5663\"}},\"xaxis\":{\"gridcolor\":\"#E1E5ED\",\"showgrid\":true,\"tickfont\":{\"color\":\"#4D5663\"},\"title\":{\"font\":{\"color\":\"#4D5663\"},\"text\":\"\"},\"zerolinecolor\":\"#E1E5ED\"},\"yaxis\":{\"domain\":[0.3,1],\"gridcolor\":\"#E1E5ED\",\"showgrid\":true,\"tickfont\":{\"color\":\"#4D5663\"},\"title\":{\"font\":{\"color\":\"#4D5663\"},\"text\":\"\"},\"zerolinecolor\":\"#E1E5ED\"},\"yaxis2\":{\"domain\":[0,0.25],\"gridcolor\":\"#E1E5ED\",\"showgrid\":true,\"tickfont\":{\"color\":\"#4D5663\"},\"title\":{\"font\":{\"color\":\"#4D5663\"},\"text\":\"Spread\"},\"zerolinecolor\":\"#E1E5ED\"},\"xaxis2\":{\"anchor\":\"y2\",\"gridcolor\":\"#E1E5ED\",\"showgrid\":true,\"showticklabels\":false,\"tickfont\":{\"color\":\"#4D5663\"},\"title\":{\"font\":{\"color\":\"#4D5663\"},\"text\":\"\"},\"zerolinecolor\":\"#E1E5ED\"}},                        {\"showLink\": true, \"linkText\": \"Export to plot.ly\", \"plotlyServerURL\": \"https://plot.ly\", \"responsive\": true}                    ).then(function(){\n",
       "                            \n",
       "var gd = document.getElementById('efd77a39-3a92-4383-8fb0-7a28121a1b21');\n",
       "var x = new MutationObserver(function (mutations, observer) {{\n",
       "        var display = window.getComputedStyle(gd).display;\n",
       "        if (!display || display === 'none') {{\n",
       "            console.log([gd, 'removed!']);\n",
       "            Plotly.purge(gd);\n",
       "            observer.disconnect();\n",
       "        }}\n",
       "}});\n",
       "\n",
       "// Listen for the removal of the full notebook cells\n",
       "var notebookContainer = gd.closest('#notebook-container');\n",
       "if (notebookContainer) {{\n",
       "    x.observe(notebookContainer, {childList: true});\n",
       "}}\n",
       "\n",
       "// Listen for the clearing of the current output cell\n",
       "var outputEl = gd.closest('.output');\n",
       "if (outputEl) {{\n",
       "    x.observe(outputEl, {childList: true});\n",
       "}}\n",
       "\n",
       "                        })                };                });            </script>        </div>"
      ]
     },
     "metadata": {},
     "output_type": "display_data"
    }
   ],
   "source": [
    "df[['A','B']].iplot(kind='spread')"
   ]
  },
  {
   "cell_type": "markdown",
   "metadata": {},
   "source": [
    "## histogram"
   ]
  },
  {
   "cell_type": "code",
   "execution_count": 25,
   "metadata": {},
   "outputs": [
    {
     "data": {
      "application/vnd.plotly.v1+json": {
       "config": {
        "linkText": "Export to plot.ly",
        "plotlyServerURL": "https://plot.ly",
        "showLink": true
       },
       "data": [
        {
         "histfunc": "count",
         "histnorm": "",
         "marker": {
          "color": "rgba(255, 153, 51, 1.0)",
          "line": {
           "color": "#4D5663",
           "width": 1.3
          }
         },
         "name": "A",
         "nbinsx": 25,
         "opacity": 0.8,
         "orientation": "v",
         "type": "histogram",
         "x": [
          -0.7051831481220451,
          0.43922270603827557,
          -0.24870124121465462,
          2.057258717584174,
          0.9928029700879529,
          -0.5614200505011286,
          -0.4525971471128819,
          -0.8425476141815342,
          0.22452019875816207,
          -1.0419304921342696,
          -0.596979459798248,
          -0.5136433270420201,
          -0.30109082273899646,
          -0.8437793523718262,
          -1.3019298542708193,
          -0.7469286394475176,
          -0.15606362034286694,
          1.0414201604476443,
          -1.6083459626882008,
          0.39757187428806584,
          0.9088622126821246,
          0.1288342090116408,
          0.9148982966185591,
          -0.9919522699380063,
          -0.3555543177539484,
          -0.0945839771416839,
          0.07575588211214367,
          -0.030106281406176865,
          -1.0074275350290345,
          0.13408162979612936,
          0.17796399981688318,
          -0.13570033957890884,
          0.784454763128047,
          1.5097312060988817,
          -0.8963002615710953,
          -0.6482105493446612,
          0.9841767167594909,
          1.241599591298693,
          0.2830256966654552,
          -0.6214143312238146,
          -0.09812462802196699,
          1.7546021754331227,
          -0.4020619004488187,
          2.687347057037032,
          0.35357279144602843,
          1.8980457695588686,
          -0.44205016471097835,
          1.342302156302457,
          -2.6086746796664086,
          -0.2422383762343922,
          0.020171641164645333,
          0.038833475065560404,
          0.7611381770555126,
          0.15908773656704006,
          0.06468045369400825,
          0.9822092545872925,
          -0.8066539137936216,
          -2.131153972171354,
          0.914030903086248,
          0.014514507630141022,
          0.3247783307436006,
          -1.0623521273207823,
          -0.5627431869802589,
          -1.1557172843024368,
          -0.3798027873441633,
          -0.1438001174563708,
          1.2573609083720851,
          0.43751117368337294,
          -0.22503926746541883,
          0.4090682819088985,
          0.6237103778312871,
          -1.229011584355428,
          1.5871669025342217,
          0.0407574102693247,
          -1.4536960876806284,
          -0.6222411663434749,
          0.10286155555958691,
          0.24028167035807485,
          1.4704070810483008,
          -0.18727545016936312,
          -0.5227882042145175,
          -0.41843157353403804,
          0.5095772093194731,
          0.5769946056343663,
          1.7298184287290328,
          -0.5459541749316872,
          -2.397909800294627,
          -0.4875778238404372,
          0.30477659153794356,
          -0.023161571453009136,
          -1.4053406325800621,
          2.1471994716512177,
          0.09979825143961732,
          -0.1643652940012639,
          -1.3072456396882137,
          0.29508527262263246,
          0.33142503229300063,
          -0.1601889859460664,
          -0.732556289003857,
          -0.7623909274097523
         ]
        }
       ],
       "layout": {
        "barmode": "overlay",
        "legend": {
         "bgcolor": "#F5F6F9",
         "font": {
          "color": "#4D5663"
         }
        },
        "paper_bgcolor": "#F5F6F9",
        "plot_bgcolor": "#F5F6F9",
        "template": {
         "data": {
          "bar": [
           {
            "error_x": {
             "color": "#2a3f5f"
            },
            "error_y": {
             "color": "#2a3f5f"
            },
            "marker": {
             "line": {
              "color": "#E5ECF6",
              "width": 0.5
             },
             "pattern": {
              "fillmode": "overlay",
              "size": 10,
              "solidity": 0.2
             }
            },
            "type": "bar"
           }
          ],
          "barpolar": [
           {
            "marker": {
             "line": {
              "color": "#E5ECF6",
              "width": 0.5
             },
             "pattern": {
              "fillmode": "overlay",
              "size": 10,
              "solidity": 0.2
             }
            },
            "type": "barpolar"
           }
          ],
          "carpet": [
           {
            "aaxis": {
             "endlinecolor": "#2a3f5f",
             "gridcolor": "white",
             "linecolor": "white",
             "minorgridcolor": "white",
             "startlinecolor": "#2a3f5f"
            },
            "baxis": {
             "endlinecolor": "#2a3f5f",
             "gridcolor": "white",
             "linecolor": "white",
             "minorgridcolor": "white",
             "startlinecolor": "#2a3f5f"
            },
            "type": "carpet"
           }
          ],
          "choropleth": [
           {
            "colorbar": {
             "outlinewidth": 0,
             "ticks": ""
            },
            "type": "choropleth"
           }
          ],
          "contour": [
           {
            "colorbar": {
             "outlinewidth": 0,
             "ticks": ""
            },
            "colorscale": [
             [
              0,
              "#0d0887"
             ],
             [
              0.1111111111111111,
              "#46039f"
             ],
             [
              0.2222222222222222,
              "#7201a8"
             ],
             [
              0.3333333333333333,
              "#9c179e"
             ],
             [
              0.4444444444444444,
              "#bd3786"
             ],
             [
              0.5555555555555556,
              "#d8576b"
             ],
             [
              0.6666666666666666,
              "#ed7953"
             ],
             [
              0.7777777777777778,
              "#fb9f3a"
             ],
             [
              0.8888888888888888,
              "#fdca26"
             ],
             [
              1,
              "#f0f921"
             ]
            ],
            "type": "contour"
           }
          ],
          "contourcarpet": [
           {
            "colorbar": {
             "outlinewidth": 0,
             "ticks": ""
            },
            "type": "contourcarpet"
           }
          ],
          "heatmap": [
           {
            "colorbar": {
             "outlinewidth": 0,
             "ticks": ""
            },
            "colorscale": [
             [
              0,
              "#0d0887"
             ],
             [
              0.1111111111111111,
              "#46039f"
             ],
             [
              0.2222222222222222,
              "#7201a8"
             ],
             [
              0.3333333333333333,
              "#9c179e"
             ],
             [
              0.4444444444444444,
              "#bd3786"
             ],
             [
              0.5555555555555556,
              "#d8576b"
             ],
             [
              0.6666666666666666,
              "#ed7953"
             ],
             [
              0.7777777777777778,
              "#fb9f3a"
             ],
             [
              0.8888888888888888,
              "#fdca26"
             ],
             [
              1,
              "#f0f921"
             ]
            ],
            "type": "heatmap"
           }
          ],
          "heatmapgl": [
           {
            "colorbar": {
             "outlinewidth": 0,
             "ticks": ""
            },
            "colorscale": [
             [
              0,
              "#0d0887"
             ],
             [
              0.1111111111111111,
              "#46039f"
             ],
             [
              0.2222222222222222,
              "#7201a8"
             ],
             [
              0.3333333333333333,
              "#9c179e"
             ],
             [
              0.4444444444444444,
              "#bd3786"
             ],
             [
              0.5555555555555556,
              "#d8576b"
             ],
             [
              0.6666666666666666,
              "#ed7953"
             ],
             [
              0.7777777777777778,
              "#fb9f3a"
             ],
             [
              0.8888888888888888,
              "#fdca26"
             ],
             [
              1,
              "#f0f921"
             ]
            ],
            "type": "heatmapgl"
           }
          ],
          "histogram": [
           {
            "marker": {
             "pattern": {
              "fillmode": "overlay",
              "size": 10,
              "solidity": 0.2
             }
            },
            "type": "histogram"
           }
          ],
          "histogram2d": [
           {
            "colorbar": {
             "outlinewidth": 0,
             "ticks": ""
            },
            "colorscale": [
             [
              0,
              "#0d0887"
             ],
             [
              0.1111111111111111,
              "#46039f"
             ],
             [
              0.2222222222222222,
              "#7201a8"
             ],
             [
              0.3333333333333333,
              "#9c179e"
             ],
             [
              0.4444444444444444,
              "#bd3786"
             ],
             [
              0.5555555555555556,
              "#d8576b"
             ],
             [
              0.6666666666666666,
              "#ed7953"
             ],
             [
              0.7777777777777778,
              "#fb9f3a"
             ],
             [
              0.8888888888888888,
              "#fdca26"
             ],
             [
              1,
              "#f0f921"
             ]
            ],
            "type": "histogram2d"
           }
          ],
          "histogram2dcontour": [
           {
            "colorbar": {
             "outlinewidth": 0,
             "ticks": ""
            },
            "colorscale": [
             [
              0,
              "#0d0887"
             ],
             [
              0.1111111111111111,
              "#46039f"
             ],
             [
              0.2222222222222222,
              "#7201a8"
             ],
             [
              0.3333333333333333,
              "#9c179e"
             ],
             [
              0.4444444444444444,
              "#bd3786"
             ],
             [
              0.5555555555555556,
              "#d8576b"
             ],
             [
              0.6666666666666666,
              "#ed7953"
             ],
             [
              0.7777777777777778,
              "#fb9f3a"
             ],
             [
              0.8888888888888888,
              "#fdca26"
             ],
             [
              1,
              "#f0f921"
             ]
            ],
            "type": "histogram2dcontour"
           }
          ],
          "mesh3d": [
           {
            "colorbar": {
             "outlinewidth": 0,
             "ticks": ""
            },
            "type": "mesh3d"
           }
          ],
          "parcoords": [
           {
            "line": {
             "colorbar": {
              "outlinewidth": 0,
              "ticks": ""
             }
            },
            "type": "parcoords"
           }
          ],
          "pie": [
           {
            "automargin": true,
            "type": "pie"
           }
          ],
          "scatter": [
           {
            "marker": {
             "colorbar": {
              "outlinewidth": 0,
              "ticks": ""
             }
            },
            "type": "scatter"
           }
          ],
          "scatter3d": [
           {
            "line": {
             "colorbar": {
              "outlinewidth": 0,
              "ticks": ""
             }
            },
            "marker": {
             "colorbar": {
              "outlinewidth": 0,
              "ticks": ""
             }
            },
            "type": "scatter3d"
           }
          ],
          "scattercarpet": [
           {
            "marker": {
             "colorbar": {
              "outlinewidth": 0,
              "ticks": ""
             }
            },
            "type": "scattercarpet"
           }
          ],
          "scattergeo": [
           {
            "marker": {
             "colorbar": {
              "outlinewidth": 0,
              "ticks": ""
             }
            },
            "type": "scattergeo"
           }
          ],
          "scattergl": [
           {
            "marker": {
             "colorbar": {
              "outlinewidth": 0,
              "ticks": ""
             }
            },
            "type": "scattergl"
           }
          ],
          "scattermapbox": [
           {
            "marker": {
             "colorbar": {
              "outlinewidth": 0,
              "ticks": ""
             }
            },
            "type": "scattermapbox"
           }
          ],
          "scatterpolar": [
           {
            "marker": {
             "colorbar": {
              "outlinewidth": 0,
              "ticks": ""
             }
            },
            "type": "scatterpolar"
           }
          ],
          "scatterpolargl": [
           {
            "marker": {
             "colorbar": {
              "outlinewidth": 0,
              "ticks": ""
             }
            },
            "type": "scatterpolargl"
           }
          ],
          "scatterternary": [
           {
            "marker": {
             "colorbar": {
              "outlinewidth": 0,
              "ticks": ""
             }
            },
            "type": "scatterternary"
           }
          ],
          "surface": [
           {
            "colorbar": {
             "outlinewidth": 0,
             "ticks": ""
            },
            "colorscale": [
             [
              0,
              "#0d0887"
             ],
             [
              0.1111111111111111,
              "#46039f"
             ],
             [
              0.2222222222222222,
              "#7201a8"
             ],
             [
              0.3333333333333333,
              "#9c179e"
             ],
             [
              0.4444444444444444,
              "#bd3786"
             ],
             [
              0.5555555555555556,
              "#d8576b"
             ],
             [
              0.6666666666666666,
              "#ed7953"
             ],
             [
              0.7777777777777778,
              "#fb9f3a"
             ],
             [
              0.8888888888888888,
              "#fdca26"
             ],
             [
              1,
              "#f0f921"
             ]
            ],
            "type": "surface"
           }
          ],
          "table": [
           {
            "cells": {
             "fill": {
              "color": "#EBF0F8"
             },
             "line": {
              "color": "white"
             }
            },
            "header": {
             "fill": {
              "color": "#C8D4E3"
             },
             "line": {
              "color": "white"
             }
            },
            "type": "table"
           }
          ]
         },
         "layout": {
          "annotationdefaults": {
           "arrowcolor": "#2a3f5f",
           "arrowhead": 0,
           "arrowwidth": 1
          },
          "autotypenumbers": "strict",
          "coloraxis": {
           "colorbar": {
            "outlinewidth": 0,
            "ticks": ""
           }
          },
          "colorscale": {
           "diverging": [
            [
             0,
             "#8e0152"
            ],
            [
             0.1,
             "#c51b7d"
            ],
            [
             0.2,
             "#de77ae"
            ],
            [
             0.3,
             "#f1b6da"
            ],
            [
             0.4,
             "#fde0ef"
            ],
            [
             0.5,
             "#f7f7f7"
            ],
            [
             0.6,
             "#e6f5d0"
            ],
            [
             0.7,
             "#b8e186"
            ],
            [
             0.8,
             "#7fbc41"
            ],
            [
             0.9,
             "#4d9221"
            ],
            [
             1,
             "#276419"
            ]
           ],
           "sequential": [
            [
             0,
             "#0d0887"
            ],
            [
             0.1111111111111111,
             "#46039f"
            ],
            [
             0.2222222222222222,
             "#7201a8"
            ],
            [
             0.3333333333333333,
             "#9c179e"
            ],
            [
             0.4444444444444444,
             "#bd3786"
            ],
            [
             0.5555555555555556,
             "#d8576b"
            ],
            [
             0.6666666666666666,
             "#ed7953"
            ],
            [
             0.7777777777777778,
             "#fb9f3a"
            ],
            [
             0.8888888888888888,
             "#fdca26"
            ],
            [
             1,
             "#f0f921"
            ]
           ],
           "sequentialminus": [
            [
             0,
             "#0d0887"
            ],
            [
             0.1111111111111111,
             "#46039f"
            ],
            [
             0.2222222222222222,
             "#7201a8"
            ],
            [
             0.3333333333333333,
             "#9c179e"
            ],
            [
             0.4444444444444444,
             "#bd3786"
            ],
            [
             0.5555555555555556,
             "#d8576b"
            ],
            [
             0.6666666666666666,
             "#ed7953"
            ],
            [
             0.7777777777777778,
             "#fb9f3a"
            ],
            [
             0.8888888888888888,
             "#fdca26"
            ],
            [
             1,
             "#f0f921"
            ]
           ]
          },
          "colorway": [
           "#636efa",
           "#EF553B",
           "#00cc96",
           "#ab63fa",
           "#FFA15A",
           "#19d3f3",
           "#FF6692",
           "#B6E880",
           "#FF97FF",
           "#FECB52"
          ],
          "font": {
           "color": "#2a3f5f"
          },
          "geo": {
           "bgcolor": "white",
           "lakecolor": "white",
           "landcolor": "#E5ECF6",
           "showlakes": true,
           "showland": true,
           "subunitcolor": "white"
          },
          "hoverlabel": {
           "align": "left"
          },
          "hovermode": "closest",
          "mapbox": {
           "style": "light"
          },
          "paper_bgcolor": "white",
          "plot_bgcolor": "#E5ECF6",
          "polar": {
           "angularaxis": {
            "gridcolor": "white",
            "linecolor": "white",
            "ticks": ""
           },
           "bgcolor": "#E5ECF6",
           "radialaxis": {
            "gridcolor": "white",
            "linecolor": "white",
            "ticks": ""
           }
          },
          "scene": {
           "xaxis": {
            "backgroundcolor": "#E5ECF6",
            "gridcolor": "white",
            "gridwidth": 2,
            "linecolor": "white",
            "showbackground": true,
            "ticks": "",
            "zerolinecolor": "white"
           },
           "yaxis": {
            "backgroundcolor": "#E5ECF6",
            "gridcolor": "white",
            "gridwidth": 2,
            "linecolor": "white",
            "showbackground": true,
            "ticks": "",
            "zerolinecolor": "white"
           },
           "zaxis": {
            "backgroundcolor": "#E5ECF6",
            "gridcolor": "white",
            "gridwidth": 2,
            "linecolor": "white",
            "showbackground": true,
            "ticks": "",
            "zerolinecolor": "white"
           }
          },
          "shapedefaults": {
           "line": {
            "color": "#2a3f5f"
           }
          },
          "ternary": {
           "aaxis": {
            "gridcolor": "white",
            "linecolor": "white",
            "ticks": ""
           },
           "baxis": {
            "gridcolor": "white",
            "linecolor": "white",
            "ticks": ""
           },
           "bgcolor": "#E5ECF6",
           "caxis": {
            "gridcolor": "white",
            "linecolor": "white",
            "ticks": ""
           }
          },
          "title": {
           "x": 0.05
          },
          "xaxis": {
           "automargin": true,
           "gridcolor": "white",
           "linecolor": "white",
           "ticks": "",
           "title": {
            "standoff": 15
           },
           "zerolinecolor": "white",
           "zerolinewidth": 2
          },
          "yaxis": {
           "automargin": true,
           "gridcolor": "white",
           "linecolor": "white",
           "ticks": "",
           "title": {
            "standoff": 15
           },
           "zerolinecolor": "white",
           "zerolinewidth": 2
          }
         }
        },
        "title": {
         "font": {
          "color": "#4D5663"
         }
        },
        "xaxis": {
         "gridcolor": "#E1E5ED",
         "showgrid": true,
         "tickfont": {
          "color": "#4D5663"
         },
         "title": {
          "font": {
           "color": "#4D5663"
          },
          "text": ""
         },
         "zerolinecolor": "#E1E5ED"
        },
        "yaxis": {
         "gridcolor": "#E1E5ED",
         "showgrid": true,
         "tickfont": {
          "color": "#4D5663"
         },
         "title": {
          "font": {
           "color": "#4D5663"
          },
          "text": ""
         },
         "zerolinecolor": "#E1E5ED"
        }
       }
      },
      "text/html": [
       "<div>                            <div id=\"025631fc-bf88-4325-8c3d-a877a0019c09\" class=\"plotly-graph-div\" style=\"height:525px; width:100%;\"></div>            <script type=\"text/javascript\">                require([\"plotly\"], function(Plotly) {                    window.PLOTLYENV=window.PLOTLYENV || {};\n",
       "                    window.PLOTLYENV.BASE_URL='https://plot.ly';                                    if (document.getElementById(\"025631fc-bf88-4325-8c3d-a877a0019c09\")) {                    Plotly.newPlot(                        \"025631fc-bf88-4325-8c3d-a877a0019c09\",                        [{\"histfunc\":\"count\",\"histnorm\":\"\",\"marker\":{\"color\":\"rgba(255, 153, 51, 1.0)\",\"line\":{\"color\":\"#4D5663\",\"width\":1.3}},\"name\":\"A\",\"nbinsx\":25,\"opacity\":0.8,\"orientation\":\"v\",\"x\":[-0.7051831481220451,0.43922270603827557,-0.24870124121465462,2.057258717584174,0.9928029700879529,-0.5614200505011286,-0.4525971471128819,-0.8425476141815342,0.22452019875816207,-1.0419304921342696,-0.596979459798248,-0.5136433270420201,-0.30109082273899646,-0.8437793523718262,-1.3019298542708193,-0.7469286394475176,-0.15606362034286694,1.0414201604476443,-1.6083459626882008,0.39757187428806584,0.9088622126821246,0.1288342090116408,0.9148982966185591,-0.9919522699380063,-0.3555543177539484,-0.0945839771416839,0.07575588211214367,-0.030106281406176865,-1.0074275350290345,0.13408162979612936,0.17796399981688318,-0.13570033957890884,0.784454763128047,1.5097312060988817,-0.8963002615710953,-0.6482105493446612,0.9841767167594909,1.241599591298693,0.2830256966654552,-0.6214143312238146,-0.09812462802196699,1.7546021754331227,-0.4020619004488187,2.687347057037032,0.35357279144602843,1.8980457695588686,-0.44205016471097835,1.342302156302457,-2.6086746796664086,-0.2422383762343922,0.020171641164645333,0.038833475065560404,0.7611381770555126,0.15908773656704006,0.06468045369400825,0.9822092545872925,-0.8066539137936216,-2.131153972171354,0.914030903086248,0.014514507630141022,0.3247783307436006,-1.0623521273207823,-0.5627431869802589,-1.1557172843024368,-0.3798027873441633,-0.1438001174563708,1.2573609083720851,0.43751117368337294,-0.22503926746541883,0.4090682819088985,0.6237103778312871,-1.229011584355428,1.5871669025342217,0.0407574102693247,-1.4536960876806284,-0.6222411663434749,0.10286155555958691,0.24028167035807485,1.4704070810483008,-0.18727545016936312,-0.5227882042145175,-0.41843157353403804,0.5095772093194731,0.5769946056343663,1.7298184287290328,-0.5459541749316872,-2.397909800294627,-0.4875778238404372,0.30477659153794356,-0.023161571453009136,-1.4053406325800621,2.1471994716512177,0.09979825143961732,-0.1643652940012639,-1.3072456396882137,0.29508527262263246,0.33142503229300063,-0.1601889859460664,-0.732556289003857,-0.7623909274097523],\"type\":\"histogram\"}],                        {\"barmode\":\"overlay\",\"legend\":{\"bgcolor\":\"#F5F6F9\",\"font\":{\"color\":\"#4D5663\"}},\"paper_bgcolor\":\"#F5F6F9\",\"plot_bgcolor\":\"#F5F6F9\",\"template\":{\"data\":{\"barpolar\":[{\"marker\":{\"line\":{\"color\":\"#E5ECF6\",\"width\":0.5},\"pattern\":{\"fillmode\":\"overlay\",\"size\":10,\"solidity\":0.2}},\"type\":\"barpolar\"}],\"bar\":[{\"error_x\":{\"color\":\"#2a3f5f\"},\"error_y\":{\"color\":\"#2a3f5f\"},\"marker\":{\"line\":{\"color\":\"#E5ECF6\",\"width\":0.5},\"pattern\":{\"fillmode\":\"overlay\",\"size\":10,\"solidity\":0.2}},\"type\":\"bar\"}],\"carpet\":[{\"aaxis\":{\"endlinecolor\":\"#2a3f5f\",\"gridcolor\":\"white\",\"linecolor\":\"white\",\"minorgridcolor\":\"white\",\"startlinecolor\":\"#2a3f5f\"},\"baxis\":{\"endlinecolor\":\"#2a3f5f\",\"gridcolor\":\"white\",\"linecolor\":\"white\",\"minorgridcolor\":\"white\",\"startlinecolor\":\"#2a3f5f\"},\"type\":\"carpet\"}],\"choropleth\":[{\"colorbar\":{\"outlinewidth\":0,\"ticks\":\"\"},\"type\":\"choropleth\"}],\"contourcarpet\":[{\"colorbar\":{\"outlinewidth\":0,\"ticks\":\"\"},\"type\":\"contourcarpet\"}],\"contour\":[{\"colorbar\":{\"outlinewidth\":0,\"ticks\":\"\"},\"colorscale\":[[0.0,\"#0d0887\"],[0.1111111111111111,\"#46039f\"],[0.2222222222222222,\"#7201a8\"],[0.3333333333333333,\"#9c179e\"],[0.4444444444444444,\"#bd3786\"],[0.5555555555555556,\"#d8576b\"],[0.6666666666666666,\"#ed7953\"],[0.7777777777777778,\"#fb9f3a\"],[0.8888888888888888,\"#fdca26\"],[1.0,\"#f0f921\"]],\"type\":\"contour\"}],\"heatmapgl\":[{\"colorbar\":{\"outlinewidth\":0,\"ticks\":\"\"},\"colorscale\":[[0.0,\"#0d0887\"],[0.1111111111111111,\"#46039f\"],[0.2222222222222222,\"#7201a8\"],[0.3333333333333333,\"#9c179e\"],[0.4444444444444444,\"#bd3786\"],[0.5555555555555556,\"#d8576b\"],[0.6666666666666666,\"#ed7953\"],[0.7777777777777778,\"#fb9f3a\"],[0.8888888888888888,\"#fdca26\"],[1.0,\"#f0f921\"]],\"type\":\"heatmapgl\"}],\"heatmap\":[{\"colorbar\":{\"outlinewidth\":0,\"ticks\":\"\"},\"colorscale\":[[0.0,\"#0d0887\"],[0.1111111111111111,\"#46039f\"],[0.2222222222222222,\"#7201a8\"],[0.3333333333333333,\"#9c179e\"],[0.4444444444444444,\"#bd3786\"],[0.5555555555555556,\"#d8576b\"],[0.6666666666666666,\"#ed7953\"],[0.7777777777777778,\"#fb9f3a\"],[0.8888888888888888,\"#fdca26\"],[1.0,\"#f0f921\"]],\"type\":\"heatmap\"}],\"histogram2dcontour\":[{\"colorbar\":{\"outlinewidth\":0,\"ticks\":\"\"},\"colorscale\":[[0.0,\"#0d0887\"],[0.1111111111111111,\"#46039f\"],[0.2222222222222222,\"#7201a8\"],[0.3333333333333333,\"#9c179e\"],[0.4444444444444444,\"#bd3786\"],[0.5555555555555556,\"#d8576b\"],[0.6666666666666666,\"#ed7953\"],[0.7777777777777778,\"#fb9f3a\"],[0.8888888888888888,\"#fdca26\"],[1.0,\"#f0f921\"]],\"type\":\"histogram2dcontour\"}],\"histogram2d\":[{\"colorbar\":{\"outlinewidth\":0,\"ticks\":\"\"},\"colorscale\":[[0.0,\"#0d0887\"],[0.1111111111111111,\"#46039f\"],[0.2222222222222222,\"#7201a8\"],[0.3333333333333333,\"#9c179e\"],[0.4444444444444444,\"#bd3786\"],[0.5555555555555556,\"#d8576b\"],[0.6666666666666666,\"#ed7953\"],[0.7777777777777778,\"#fb9f3a\"],[0.8888888888888888,\"#fdca26\"],[1.0,\"#f0f921\"]],\"type\":\"histogram2d\"}],\"histogram\":[{\"marker\":{\"pattern\":{\"fillmode\":\"overlay\",\"size\":10,\"solidity\":0.2}},\"type\":\"histogram\"}],\"mesh3d\":[{\"colorbar\":{\"outlinewidth\":0,\"ticks\":\"\"},\"type\":\"mesh3d\"}],\"parcoords\":[{\"line\":{\"colorbar\":{\"outlinewidth\":0,\"ticks\":\"\"}},\"type\":\"parcoords\"}],\"pie\":[{\"automargin\":true,\"type\":\"pie\"}],\"scatter3d\":[{\"line\":{\"colorbar\":{\"outlinewidth\":0,\"ticks\":\"\"}},\"marker\":{\"colorbar\":{\"outlinewidth\":0,\"ticks\":\"\"}},\"type\":\"scatter3d\"}],\"scattercarpet\":[{\"marker\":{\"colorbar\":{\"outlinewidth\":0,\"ticks\":\"\"}},\"type\":\"scattercarpet\"}],\"scattergeo\":[{\"marker\":{\"colorbar\":{\"outlinewidth\":0,\"ticks\":\"\"}},\"type\":\"scattergeo\"}],\"scattergl\":[{\"marker\":{\"colorbar\":{\"outlinewidth\":0,\"ticks\":\"\"}},\"type\":\"scattergl\"}],\"scattermapbox\":[{\"marker\":{\"colorbar\":{\"outlinewidth\":0,\"ticks\":\"\"}},\"type\":\"scattermapbox\"}],\"scatterpolargl\":[{\"marker\":{\"colorbar\":{\"outlinewidth\":0,\"ticks\":\"\"}},\"type\":\"scatterpolargl\"}],\"scatterpolar\":[{\"marker\":{\"colorbar\":{\"outlinewidth\":0,\"ticks\":\"\"}},\"type\":\"scatterpolar\"}],\"scatter\":[{\"marker\":{\"colorbar\":{\"outlinewidth\":0,\"ticks\":\"\"}},\"type\":\"scatter\"}],\"scatterternary\":[{\"marker\":{\"colorbar\":{\"outlinewidth\":0,\"ticks\":\"\"}},\"type\":\"scatterternary\"}],\"surface\":[{\"colorbar\":{\"outlinewidth\":0,\"ticks\":\"\"},\"colorscale\":[[0.0,\"#0d0887\"],[0.1111111111111111,\"#46039f\"],[0.2222222222222222,\"#7201a8\"],[0.3333333333333333,\"#9c179e\"],[0.4444444444444444,\"#bd3786\"],[0.5555555555555556,\"#d8576b\"],[0.6666666666666666,\"#ed7953\"],[0.7777777777777778,\"#fb9f3a\"],[0.8888888888888888,\"#fdca26\"],[1.0,\"#f0f921\"]],\"type\":\"surface\"}],\"table\":[{\"cells\":{\"fill\":{\"color\":\"#EBF0F8\"},\"line\":{\"color\":\"white\"}},\"header\":{\"fill\":{\"color\":\"#C8D4E3\"},\"line\":{\"color\":\"white\"}},\"type\":\"table\"}]},\"layout\":{\"annotationdefaults\":{\"arrowcolor\":\"#2a3f5f\",\"arrowhead\":0,\"arrowwidth\":1},\"autotypenumbers\":\"strict\",\"coloraxis\":{\"colorbar\":{\"outlinewidth\":0,\"ticks\":\"\"}},\"colorscale\":{\"diverging\":[[0,\"#8e0152\"],[0.1,\"#c51b7d\"],[0.2,\"#de77ae\"],[0.3,\"#f1b6da\"],[0.4,\"#fde0ef\"],[0.5,\"#f7f7f7\"],[0.6,\"#e6f5d0\"],[0.7,\"#b8e186\"],[0.8,\"#7fbc41\"],[0.9,\"#4d9221\"],[1,\"#276419\"]],\"sequential\":[[0.0,\"#0d0887\"],[0.1111111111111111,\"#46039f\"],[0.2222222222222222,\"#7201a8\"],[0.3333333333333333,\"#9c179e\"],[0.4444444444444444,\"#bd3786\"],[0.5555555555555556,\"#d8576b\"],[0.6666666666666666,\"#ed7953\"],[0.7777777777777778,\"#fb9f3a\"],[0.8888888888888888,\"#fdca26\"],[1.0,\"#f0f921\"]],\"sequentialminus\":[[0.0,\"#0d0887\"],[0.1111111111111111,\"#46039f\"],[0.2222222222222222,\"#7201a8\"],[0.3333333333333333,\"#9c179e\"],[0.4444444444444444,\"#bd3786\"],[0.5555555555555556,\"#d8576b\"],[0.6666666666666666,\"#ed7953\"],[0.7777777777777778,\"#fb9f3a\"],[0.8888888888888888,\"#fdca26\"],[1.0,\"#f0f921\"]]},\"colorway\":[\"#636efa\",\"#EF553B\",\"#00cc96\",\"#ab63fa\",\"#FFA15A\",\"#19d3f3\",\"#FF6692\",\"#B6E880\",\"#FF97FF\",\"#FECB52\"],\"font\":{\"color\":\"#2a3f5f\"},\"geo\":{\"bgcolor\":\"white\",\"lakecolor\":\"white\",\"landcolor\":\"#E5ECF6\",\"showlakes\":true,\"showland\":true,\"subunitcolor\":\"white\"},\"hoverlabel\":{\"align\":\"left\"},\"hovermode\":\"closest\",\"mapbox\":{\"style\":\"light\"},\"paper_bgcolor\":\"white\",\"plot_bgcolor\":\"#E5ECF6\",\"polar\":{\"angularaxis\":{\"gridcolor\":\"white\",\"linecolor\":\"white\",\"ticks\":\"\"},\"bgcolor\":\"#E5ECF6\",\"radialaxis\":{\"gridcolor\":\"white\",\"linecolor\":\"white\",\"ticks\":\"\"}},\"scene\":{\"xaxis\":{\"backgroundcolor\":\"#E5ECF6\",\"gridcolor\":\"white\",\"gridwidth\":2,\"linecolor\":\"white\",\"showbackground\":true,\"ticks\":\"\",\"zerolinecolor\":\"white\"},\"yaxis\":{\"backgroundcolor\":\"#E5ECF6\",\"gridcolor\":\"white\",\"gridwidth\":2,\"linecolor\":\"white\",\"showbackground\":true,\"ticks\":\"\",\"zerolinecolor\":\"white\"},\"zaxis\":{\"backgroundcolor\":\"#E5ECF6\",\"gridcolor\":\"white\",\"gridwidth\":2,\"linecolor\":\"white\",\"showbackground\":true,\"ticks\":\"\",\"zerolinecolor\":\"white\"}},\"shapedefaults\":{\"line\":{\"color\":\"#2a3f5f\"}},\"ternary\":{\"aaxis\":{\"gridcolor\":\"white\",\"linecolor\":\"white\",\"ticks\":\"\"},\"baxis\":{\"gridcolor\":\"white\",\"linecolor\":\"white\",\"ticks\":\"\"},\"bgcolor\":\"#E5ECF6\",\"caxis\":{\"gridcolor\":\"white\",\"linecolor\":\"white\",\"ticks\":\"\"}},\"title\":{\"x\":0.05},\"xaxis\":{\"automargin\":true,\"gridcolor\":\"white\",\"linecolor\":\"white\",\"ticks\":\"\",\"title\":{\"standoff\":15},\"zerolinecolor\":\"white\",\"zerolinewidth\":2},\"yaxis\":{\"automargin\":true,\"gridcolor\":\"white\",\"linecolor\":\"white\",\"ticks\":\"\",\"title\":{\"standoff\":15},\"zerolinecolor\":\"white\",\"zerolinewidth\":2}}},\"title\":{\"font\":{\"color\":\"#4D5663\"}},\"xaxis\":{\"gridcolor\":\"#E1E5ED\",\"showgrid\":true,\"tickfont\":{\"color\":\"#4D5663\"},\"title\":{\"font\":{\"color\":\"#4D5663\"},\"text\":\"\"},\"zerolinecolor\":\"#E1E5ED\"},\"yaxis\":{\"gridcolor\":\"#E1E5ED\",\"showgrid\":true,\"tickfont\":{\"color\":\"#4D5663\"},\"title\":{\"font\":{\"color\":\"#4D5663\"},\"text\":\"\"},\"zerolinecolor\":\"#E1E5ED\"}},                        {\"showLink\": true, \"linkText\": \"Export to plot.ly\", \"plotlyServerURL\": \"https://plot.ly\", \"responsive\": true}                    ).then(function(){\n",
       "                            \n",
       "var gd = document.getElementById('025631fc-bf88-4325-8c3d-a877a0019c09');\n",
       "var x = new MutationObserver(function (mutations, observer) {{\n",
       "        var display = window.getComputedStyle(gd).display;\n",
       "        if (!display || display === 'none') {{\n",
       "            console.log([gd, 'removed!']);\n",
       "            Plotly.purge(gd);\n",
       "            observer.disconnect();\n",
       "        }}\n",
       "}});\n",
       "\n",
       "// Listen for the removal of the full notebook cells\n",
       "var notebookContainer = gd.closest('#notebook-container');\n",
       "if (notebookContainer) {{\n",
       "    x.observe(notebookContainer, {childList: true});\n",
       "}}\n",
       "\n",
       "// Listen for the clearing of the current output cell\n",
       "var outputEl = gd.closest('.output');\n",
       "if (outputEl) {{\n",
       "    x.observe(outputEl, {childList: true});\n",
       "}}\n",
       "\n",
       "                        })                };                });            </script>        </div>"
      ]
     },
     "metadata": {},
     "output_type": "display_data"
    }
   ],
   "source": [
    "df['A'].iplot(kind='hist',bins=25)"
   ]
  },
  {
   "cell_type": "code",
   "execution_count": 26,
   "metadata": {},
   "outputs": [
    {
     "data": {
      "application/vnd.plotly.v1+json": {
       "config": {
        "linkText": "Export to plot.ly",
        "plotlyServerURL": "https://plot.ly",
        "showLink": true
       },
       "data": [
        {
         "marker": {
          "color": [
           "rgb(255, 153, 51)",
           "rgb(55, 128, 191)",
           "rgb(50, 171, 96)",
           "rgb(128, 0, 128)",
           "rgb(219, 64, 82)",
           "rgb(0, 128, 128)",
           "rgb(255, 255, 51)",
           "rgb(128, 128, 0)",
           "rgb(251, 128, 114)",
           "rgb(128, 177, 211)"
          ],
          "line": {
           "width": 1.3
          },
          "size": [
           54,
           49,
           49,
           34,
           95,
           47,
           107,
           52,
           65,
           56,
           33,
           61,
           59,
           58,
           59,
           71,
           48,
           101,
           70,
           58,
           69,
           80,
           55,
           44,
           38,
           37,
           46,
           60,
           50,
           40,
           44,
           37,
           54,
           69,
           63,
           71,
           42,
           93,
           90,
           43,
           20,
           12,
           82,
           36,
           112,
           97,
           87,
           33,
           53,
           47,
           71,
           63,
           33,
           32,
           84,
           49,
           85,
           48,
           84,
           41,
           50,
           65,
           86,
           93,
           13,
           69,
           20,
           68,
           29,
           32,
           45,
           16,
           55,
           25,
           63,
           45,
           56,
           45,
           46,
           52,
           92,
           50,
           65,
           93,
           41,
           41,
           46,
           52,
           38,
           32,
           86,
           54,
           38,
           59,
           68,
           83,
           83,
           51,
           67,
           64
          ],
          "symbol": "circle"
         },
         "mode": "markers",
         "text": "",
         "type": "scatter",
         "x": [
          -0.7051831481220451,
          0.43922270603827557,
          -0.24870124121465462,
          2.057258717584174,
          0.9928029700879529,
          -0.5614200505011286,
          -0.4525971471128819,
          -0.8425476141815342,
          0.22452019875816207,
          -1.0419304921342696,
          -0.596979459798248,
          -0.5136433270420201,
          -0.30109082273899646,
          -0.8437793523718262,
          -1.3019298542708193,
          -0.7469286394475176,
          -0.15606362034286694,
          1.0414201604476443,
          -1.6083459626882008,
          0.39757187428806584,
          0.9088622126821246,
          0.1288342090116408,
          0.9148982966185591,
          -0.9919522699380063,
          -0.3555543177539484,
          -0.0945839771416839,
          0.07575588211214367,
          -0.030106281406176865,
          -1.0074275350290345,
          0.13408162979612936,
          0.17796399981688318,
          -0.13570033957890884,
          0.784454763128047,
          1.5097312060988817,
          -0.8963002615710953,
          -0.6482105493446612,
          0.9841767167594909,
          1.241599591298693,
          0.2830256966654552,
          -0.6214143312238146,
          -0.09812462802196699,
          1.7546021754331227,
          -0.4020619004488187,
          2.687347057037032,
          0.35357279144602843,
          1.8980457695588686,
          -0.44205016471097835,
          1.342302156302457,
          -2.6086746796664086,
          -0.2422383762343922,
          0.020171641164645333,
          0.038833475065560404,
          0.7611381770555126,
          0.15908773656704006,
          0.06468045369400825,
          0.9822092545872925,
          -0.8066539137936216,
          -2.131153972171354,
          0.914030903086248,
          0.014514507630141022,
          0.3247783307436006,
          -1.0623521273207823,
          -0.5627431869802589,
          -1.1557172843024368,
          -0.3798027873441633,
          -0.1438001174563708,
          1.2573609083720851,
          0.43751117368337294,
          -0.22503926746541883,
          0.4090682819088985,
          0.6237103778312871,
          -1.229011584355428,
          1.5871669025342217,
          0.0407574102693247,
          -1.4536960876806284,
          -0.6222411663434749,
          0.10286155555958691,
          0.24028167035807485,
          1.4704070810483008,
          -0.18727545016936312,
          -0.5227882042145175,
          -0.41843157353403804,
          0.5095772093194731,
          0.5769946056343663,
          1.7298184287290328,
          -0.5459541749316872,
          -2.397909800294627,
          -0.4875778238404372,
          0.30477659153794356,
          -0.023161571453009136,
          -1.4053406325800621,
          2.1471994716512177,
          0.09979825143961732,
          -0.1643652940012639,
          -1.3072456396882137,
          0.29508527262263246,
          0.33142503229300063,
          -0.1601889859460664,
          -0.732556289003857,
          -0.7623909274097523
         ],
         "y": [
          -1.7013006760508602,
          0.3726110922373725,
          -0.9754051723074265,
          -1.4310905116703005,
          -0.49495580410156426,
          -0.23792853733818523,
          0.6820747164655667,
          -1.3244121992950646,
          0.844853852654464,
          -0.12712387910761966,
          0.07727653845877015,
          -1.6178919682285964,
          1.6620560366530401,
          1.699485017671733,
          -1.4933662810763182,
          -1.4420375546757855,
          0.00741199240362949,
          -2.061084183065256,
          -1.7697645039107246,
          1.9526086513272267,
          -0.20318056893072264,
          -1.3995600619671336,
          0.010642637425180183,
          1.0358081462914928,
          -0.37242494277677585,
          0.20667476003049706,
          -0.16267298076775957,
          0.7798128841823275,
          -0.35179459123935136,
          1.081467422627341,
          0.7077613301512333,
          -0.6110458049423005,
          -0.7446518379211517,
          0.47949213837655,
          -0.9540988719737546,
          0.1123688035076602,
          0.26169480514641313,
          -1.9475558614432522,
          -0.09404948355237926,
          -0.579998779191727,
          -0.9162076738199042,
          -1.3393615273245074,
          0.0788299847120889,
          0.6379938373868258,
          -0.8130888257415996,
          1.6611778058206665,
          -0.4813116087170946,
          -0.019547948800238503,
          1.331918402584154,
          -0.6571735272751751,
          -1.0682608537423943,
          -0.5733998113617014,
          0.29800706286622497,
          -1.365369741686114,
          1.3060602621305004,
          -0.4857256708152363,
          0.3445712175703463,
          1.2459952091278363,
          0.4409296584019077,
          -1.241525679399955,
          -0.017717831482726706,
          0.5284160702894732,
          0.7957565688596141,
          -0.7970539399473027,
          0.8452111615611503,
          0.6862207008234761,
          0.3928558456506407,
          0.21363798837630205,
          -1.1432047801812812,
          -0.09517977719340225,
          0.5218475516192701,
          -0.19272219613099298,
          1.05964041604494,
          0.2761071357701667,
          -0.7943275870137153,
          -1.1404461350535857,
          0.8603468722255645,
          -0.05852670388260969,
          1.3662802340147435,
          -0.7567889152604271,
          -0.3474788034623021,
          -0.23554292992878703,
          1.197373609772019,
          0.5754650080324972,
          -1.4125808720783122,
          0.30494901967571725,
          -1.5416465431940984,
          0.016412502071598608,
          0.3720332248482546,
          -1.3428792774194924,
          0.8857193838349164,
          0.6703174061080518,
          -0.7172600720684109,
          -0.21520251053018347,
          0.8786850026750797,
          -0.27803441786860095,
          1.8524411743566065,
          0.4529031345378013,
          -0.693555130039683,
          -0.72858737200973
         ]
        }
       ],
       "layout": {
        "legend": {
         "bgcolor": "#F5F6F9",
         "font": {
          "color": "#4D5663"
         }
        },
        "paper_bgcolor": "#F5F6F9",
        "plot_bgcolor": "#F5F6F9",
        "template": {
         "data": {
          "bar": [
           {
            "error_x": {
             "color": "#2a3f5f"
            },
            "error_y": {
             "color": "#2a3f5f"
            },
            "marker": {
             "line": {
              "color": "#E5ECF6",
              "width": 0.5
             },
             "pattern": {
              "fillmode": "overlay",
              "size": 10,
              "solidity": 0.2
             }
            },
            "type": "bar"
           }
          ],
          "barpolar": [
           {
            "marker": {
             "line": {
              "color": "#E5ECF6",
              "width": 0.5
             },
             "pattern": {
              "fillmode": "overlay",
              "size": 10,
              "solidity": 0.2
             }
            },
            "type": "barpolar"
           }
          ],
          "carpet": [
           {
            "aaxis": {
             "endlinecolor": "#2a3f5f",
             "gridcolor": "white",
             "linecolor": "white",
             "minorgridcolor": "white",
             "startlinecolor": "#2a3f5f"
            },
            "baxis": {
             "endlinecolor": "#2a3f5f",
             "gridcolor": "white",
             "linecolor": "white",
             "minorgridcolor": "white",
             "startlinecolor": "#2a3f5f"
            },
            "type": "carpet"
           }
          ],
          "choropleth": [
           {
            "colorbar": {
             "outlinewidth": 0,
             "ticks": ""
            },
            "type": "choropleth"
           }
          ],
          "contour": [
           {
            "colorbar": {
             "outlinewidth": 0,
             "ticks": ""
            },
            "colorscale": [
             [
              0,
              "#0d0887"
             ],
             [
              0.1111111111111111,
              "#46039f"
             ],
             [
              0.2222222222222222,
              "#7201a8"
             ],
             [
              0.3333333333333333,
              "#9c179e"
             ],
             [
              0.4444444444444444,
              "#bd3786"
             ],
             [
              0.5555555555555556,
              "#d8576b"
             ],
             [
              0.6666666666666666,
              "#ed7953"
             ],
             [
              0.7777777777777778,
              "#fb9f3a"
             ],
             [
              0.8888888888888888,
              "#fdca26"
             ],
             [
              1,
              "#f0f921"
             ]
            ],
            "type": "contour"
           }
          ],
          "contourcarpet": [
           {
            "colorbar": {
             "outlinewidth": 0,
             "ticks": ""
            },
            "type": "contourcarpet"
           }
          ],
          "heatmap": [
           {
            "colorbar": {
             "outlinewidth": 0,
             "ticks": ""
            },
            "colorscale": [
             [
              0,
              "#0d0887"
             ],
             [
              0.1111111111111111,
              "#46039f"
             ],
             [
              0.2222222222222222,
              "#7201a8"
             ],
             [
              0.3333333333333333,
              "#9c179e"
             ],
             [
              0.4444444444444444,
              "#bd3786"
             ],
             [
              0.5555555555555556,
              "#d8576b"
             ],
             [
              0.6666666666666666,
              "#ed7953"
             ],
             [
              0.7777777777777778,
              "#fb9f3a"
             ],
             [
              0.8888888888888888,
              "#fdca26"
             ],
             [
              1,
              "#f0f921"
             ]
            ],
            "type": "heatmap"
           }
          ],
          "heatmapgl": [
           {
            "colorbar": {
             "outlinewidth": 0,
             "ticks": ""
            },
            "colorscale": [
             [
              0,
              "#0d0887"
             ],
             [
              0.1111111111111111,
              "#46039f"
             ],
             [
              0.2222222222222222,
              "#7201a8"
             ],
             [
              0.3333333333333333,
              "#9c179e"
             ],
             [
              0.4444444444444444,
              "#bd3786"
             ],
             [
              0.5555555555555556,
              "#d8576b"
             ],
             [
              0.6666666666666666,
              "#ed7953"
             ],
             [
              0.7777777777777778,
              "#fb9f3a"
             ],
             [
              0.8888888888888888,
              "#fdca26"
             ],
             [
              1,
              "#f0f921"
             ]
            ],
            "type": "heatmapgl"
           }
          ],
          "histogram": [
           {
            "marker": {
             "pattern": {
              "fillmode": "overlay",
              "size": 10,
              "solidity": 0.2
             }
            },
            "type": "histogram"
           }
          ],
          "histogram2d": [
           {
            "colorbar": {
             "outlinewidth": 0,
             "ticks": ""
            },
            "colorscale": [
             [
              0,
              "#0d0887"
             ],
             [
              0.1111111111111111,
              "#46039f"
             ],
             [
              0.2222222222222222,
              "#7201a8"
             ],
             [
              0.3333333333333333,
              "#9c179e"
             ],
             [
              0.4444444444444444,
              "#bd3786"
             ],
             [
              0.5555555555555556,
              "#d8576b"
             ],
             [
              0.6666666666666666,
              "#ed7953"
             ],
             [
              0.7777777777777778,
              "#fb9f3a"
             ],
             [
              0.8888888888888888,
              "#fdca26"
             ],
             [
              1,
              "#f0f921"
             ]
            ],
            "type": "histogram2d"
           }
          ],
          "histogram2dcontour": [
           {
            "colorbar": {
             "outlinewidth": 0,
             "ticks": ""
            },
            "colorscale": [
             [
              0,
              "#0d0887"
             ],
             [
              0.1111111111111111,
              "#46039f"
             ],
             [
              0.2222222222222222,
              "#7201a8"
             ],
             [
              0.3333333333333333,
              "#9c179e"
             ],
             [
              0.4444444444444444,
              "#bd3786"
             ],
             [
              0.5555555555555556,
              "#d8576b"
             ],
             [
              0.6666666666666666,
              "#ed7953"
             ],
             [
              0.7777777777777778,
              "#fb9f3a"
             ],
             [
              0.8888888888888888,
              "#fdca26"
             ],
             [
              1,
              "#f0f921"
             ]
            ],
            "type": "histogram2dcontour"
           }
          ],
          "mesh3d": [
           {
            "colorbar": {
             "outlinewidth": 0,
             "ticks": ""
            },
            "type": "mesh3d"
           }
          ],
          "parcoords": [
           {
            "line": {
             "colorbar": {
              "outlinewidth": 0,
              "ticks": ""
             }
            },
            "type": "parcoords"
           }
          ],
          "pie": [
           {
            "automargin": true,
            "type": "pie"
           }
          ],
          "scatter": [
           {
            "marker": {
             "colorbar": {
              "outlinewidth": 0,
              "ticks": ""
             }
            },
            "type": "scatter"
           }
          ],
          "scatter3d": [
           {
            "line": {
             "colorbar": {
              "outlinewidth": 0,
              "ticks": ""
             }
            },
            "marker": {
             "colorbar": {
              "outlinewidth": 0,
              "ticks": ""
             }
            },
            "type": "scatter3d"
           }
          ],
          "scattercarpet": [
           {
            "marker": {
             "colorbar": {
              "outlinewidth": 0,
              "ticks": ""
             }
            },
            "type": "scattercarpet"
           }
          ],
          "scattergeo": [
           {
            "marker": {
             "colorbar": {
              "outlinewidth": 0,
              "ticks": ""
             }
            },
            "type": "scattergeo"
           }
          ],
          "scattergl": [
           {
            "marker": {
             "colorbar": {
              "outlinewidth": 0,
              "ticks": ""
             }
            },
            "type": "scattergl"
           }
          ],
          "scattermapbox": [
           {
            "marker": {
             "colorbar": {
              "outlinewidth": 0,
              "ticks": ""
             }
            },
            "type": "scattermapbox"
           }
          ],
          "scatterpolar": [
           {
            "marker": {
             "colorbar": {
              "outlinewidth": 0,
              "ticks": ""
             }
            },
            "type": "scatterpolar"
           }
          ],
          "scatterpolargl": [
           {
            "marker": {
             "colorbar": {
              "outlinewidth": 0,
              "ticks": ""
             }
            },
            "type": "scatterpolargl"
           }
          ],
          "scatterternary": [
           {
            "marker": {
             "colorbar": {
              "outlinewidth": 0,
              "ticks": ""
             }
            },
            "type": "scatterternary"
           }
          ],
          "surface": [
           {
            "colorbar": {
             "outlinewidth": 0,
             "ticks": ""
            },
            "colorscale": [
             [
              0,
              "#0d0887"
             ],
             [
              0.1111111111111111,
              "#46039f"
             ],
             [
              0.2222222222222222,
              "#7201a8"
             ],
             [
              0.3333333333333333,
              "#9c179e"
             ],
             [
              0.4444444444444444,
              "#bd3786"
             ],
             [
              0.5555555555555556,
              "#d8576b"
             ],
             [
              0.6666666666666666,
              "#ed7953"
             ],
             [
              0.7777777777777778,
              "#fb9f3a"
             ],
             [
              0.8888888888888888,
              "#fdca26"
             ],
             [
              1,
              "#f0f921"
             ]
            ],
            "type": "surface"
           }
          ],
          "table": [
           {
            "cells": {
             "fill": {
              "color": "#EBF0F8"
             },
             "line": {
              "color": "white"
             }
            },
            "header": {
             "fill": {
              "color": "#C8D4E3"
             },
             "line": {
              "color": "white"
             }
            },
            "type": "table"
           }
          ]
         },
         "layout": {
          "annotationdefaults": {
           "arrowcolor": "#2a3f5f",
           "arrowhead": 0,
           "arrowwidth": 1
          },
          "autotypenumbers": "strict",
          "coloraxis": {
           "colorbar": {
            "outlinewidth": 0,
            "ticks": ""
           }
          },
          "colorscale": {
           "diverging": [
            [
             0,
             "#8e0152"
            ],
            [
             0.1,
             "#c51b7d"
            ],
            [
             0.2,
             "#de77ae"
            ],
            [
             0.3,
             "#f1b6da"
            ],
            [
             0.4,
             "#fde0ef"
            ],
            [
             0.5,
             "#f7f7f7"
            ],
            [
             0.6,
             "#e6f5d0"
            ],
            [
             0.7,
             "#b8e186"
            ],
            [
             0.8,
             "#7fbc41"
            ],
            [
             0.9,
             "#4d9221"
            ],
            [
             1,
             "#276419"
            ]
           ],
           "sequential": [
            [
             0,
             "#0d0887"
            ],
            [
             0.1111111111111111,
             "#46039f"
            ],
            [
             0.2222222222222222,
             "#7201a8"
            ],
            [
             0.3333333333333333,
             "#9c179e"
            ],
            [
             0.4444444444444444,
             "#bd3786"
            ],
            [
             0.5555555555555556,
             "#d8576b"
            ],
            [
             0.6666666666666666,
             "#ed7953"
            ],
            [
             0.7777777777777778,
             "#fb9f3a"
            ],
            [
             0.8888888888888888,
             "#fdca26"
            ],
            [
             1,
             "#f0f921"
            ]
           ],
           "sequentialminus": [
            [
             0,
             "#0d0887"
            ],
            [
             0.1111111111111111,
             "#46039f"
            ],
            [
             0.2222222222222222,
             "#7201a8"
            ],
            [
             0.3333333333333333,
             "#9c179e"
            ],
            [
             0.4444444444444444,
             "#bd3786"
            ],
            [
             0.5555555555555556,
             "#d8576b"
            ],
            [
             0.6666666666666666,
             "#ed7953"
            ],
            [
             0.7777777777777778,
             "#fb9f3a"
            ],
            [
             0.8888888888888888,
             "#fdca26"
            ],
            [
             1,
             "#f0f921"
            ]
           ]
          },
          "colorway": [
           "#636efa",
           "#EF553B",
           "#00cc96",
           "#ab63fa",
           "#FFA15A",
           "#19d3f3",
           "#FF6692",
           "#B6E880",
           "#FF97FF",
           "#FECB52"
          ],
          "font": {
           "color": "#2a3f5f"
          },
          "geo": {
           "bgcolor": "white",
           "lakecolor": "white",
           "landcolor": "#E5ECF6",
           "showlakes": true,
           "showland": true,
           "subunitcolor": "white"
          },
          "hoverlabel": {
           "align": "left"
          },
          "hovermode": "closest",
          "mapbox": {
           "style": "light"
          },
          "paper_bgcolor": "white",
          "plot_bgcolor": "#E5ECF6",
          "polar": {
           "angularaxis": {
            "gridcolor": "white",
            "linecolor": "white",
            "ticks": ""
           },
           "bgcolor": "#E5ECF6",
           "radialaxis": {
            "gridcolor": "white",
            "linecolor": "white",
            "ticks": ""
           }
          },
          "scene": {
           "xaxis": {
            "backgroundcolor": "#E5ECF6",
            "gridcolor": "white",
            "gridwidth": 2,
            "linecolor": "white",
            "showbackground": true,
            "ticks": "",
            "zerolinecolor": "white"
           },
           "yaxis": {
            "backgroundcolor": "#E5ECF6",
            "gridcolor": "white",
            "gridwidth": 2,
            "linecolor": "white",
            "showbackground": true,
            "ticks": "",
            "zerolinecolor": "white"
           },
           "zaxis": {
            "backgroundcolor": "#E5ECF6",
            "gridcolor": "white",
            "gridwidth": 2,
            "linecolor": "white",
            "showbackground": true,
            "ticks": "",
            "zerolinecolor": "white"
           }
          },
          "shapedefaults": {
           "line": {
            "color": "#2a3f5f"
           }
          },
          "ternary": {
           "aaxis": {
            "gridcolor": "white",
            "linecolor": "white",
            "ticks": ""
           },
           "baxis": {
            "gridcolor": "white",
            "linecolor": "white",
            "ticks": ""
           },
           "bgcolor": "#E5ECF6",
           "caxis": {
            "gridcolor": "white",
            "linecolor": "white",
            "ticks": ""
           }
          },
          "title": {
           "x": 0.05
          },
          "xaxis": {
           "automargin": true,
           "gridcolor": "white",
           "linecolor": "white",
           "ticks": "",
           "title": {
            "standoff": 15
           },
           "zerolinecolor": "white",
           "zerolinewidth": 2
          },
          "yaxis": {
           "automargin": true,
           "gridcolor": "white",
           "linecolor": "white",
           "ticks": "",
           "title": {
            "standoff": 15
           },
           "zerolinecolor": "white",
           "zerolinewidth": 2
          }
         }
        },
        "title": {
         "font": {
          "color": "#4D5663"
         }
        },
        "xaxis": {
         "gridcolor": "#E1E5ED",
         "showgrid": true,
         "tickfont": {
          "color": "#4D5663"
         },
         "title": {
          "font": {
           "color": "#4D5663"
          },
          "text": ""
         },
         "zerolinecolor": "#E1E5ED"
        },
        "yaxis": {
         "gridcolor": "#E1E5ED",
         "showgrid": true,
         "tickfont": {
          "color": "#4D5663"
         },
         "title": {
          "font": {
           "color": "#4D5663"
          },
          "text": ""
         },
         "zerolinecolor": "#E1E5ED"
        }
       }
      },
      "text/html": [
       "<div>                            <div id=\"71a94522-9dad-4762-b6e9-0cebecf12ba9\" class=\"plotly-graph-div\" style=\"height:525px; width:100%;\"></div>            <script type=\"text/javascript\">                require([\"plotly\"], function(Plotly) {                    window.PLOTLYENV=window.PLOTLYENV || {};\n",
       "                    window.PLOTLYENV.BASE_URL='https://plot.ly';                                    if (document.getElementById(\"71a94522-9dad-4762-b6e9-0cebecf12ba9\")) {                    Plotly.newPlot(                        \"71a94522-9dad-4762-b6e9-0cebecf12ba9\",                        [{\"marker\":{\"color\":[\"rgb(255, 153, 51)\",\"rgb(55, 128, 191)\",\"rgb(50, 171, 96)\",\"rgb(128, 0, 128)\",\"rgb(219, 64, 82)\",\"rgb(0, 128, 128)\",\"rgb(255, 255, 51)\",\"rgb(128, 128, 0)\",\"rgb(251, 128, 114)\",\"rgb(128, 177, 211)\"],\"line\":{\"width\":1.3},\"size\":[54,49,49,34,95,47,107,52,65,56,33,61,59,58,59,71,48,101,70,58,69,80,55,44,38,37,46,60,50,40,44,37,54,69,63,71,42,93,90,43,20,12,82,36,112,97,87,33,53,47,71,63,33,32,84,49,85,48,84,41,50,65,86,93,13,69,20,68,29,32,45,16,55,25,63,45,56,45,46,52,92,50,65,93,41,41,46,52,38,32,86,54,38,59,68,83,83,51,67,64],\"symbol\":\"circle\"},\"mode\":\"markers\",\"text\":\"\",\"x\":[-0.7051831481220451,0.43922270603827557,-0.24870124121465462,2.057258717584174,0.9928029700879529,-0.5614200505011286,-0.4525971471128819,-0.8425476141815342,0.22452019875816207,-1.0419304921342696,-0.596979459798248,-0.5136433270420201,-0.30109082273899646,-0.8437793523718262,-1.3019298542708193,-0.7469286394475176,-0.15606362034286694,1.0414201604476443,-1.6083459626882008,0.39757187428806584,0.9088622126821246,0.1288342090116408,0.9148982966185591,-0.9919522699380063,-0.3555543177539484,-0.0945839771416839,0.07575588211214367,-0.030106281406176865,-1.0074275350290345,0.13408162979612936,0.17796399981688318,-0.13570033957890884,0.784454763128047,1.5097312060988817,-0.8963002615710953,-0.6482105493446612,0.9841767167594909,1.241599591298693,0.2830256966654552,-0.6214143312238146,-0.09812462802196699,1.7546021754331227,-0.4020619004488187,2.687347057037032,0.35357279144602843,1.8980457695588686,-0.44205016471097835,1.342302156302457,-2.6086746796664086,-0.2422383762343922,0.020171641164645333,0.038833475065560404,0.7611381770555126,0.15908773656704006,0.06468045369400825,0.9822092545872925,-0.8066539137936216,-2.131153972171354,0.914030903086248,0.014514507630141022,0.3247783307436006,-1.0623521273207823,-0.5627431869802589,-1.1557172843024368,-0.3798027873441633,-0.1438001174563708,1.2573609083720851,0.43751117368337294,-0.22503926746541883,0.4090682819088985,0.6237103778312871,-1.229011584355428,1.5871669025342217,0.0407574102693247,-1.4536960876806284,-0.6222411663434749,0.10286155555958691,0.24028167035807485,1.4704070810483008,-0.18727545016936312,-0.5227882042145175,-0.41843157353403804,0.5095772093194731,0.5769946056343663,1.7298184287290328,-0.5459541749316872,-2.397909800294627,-0.4875778238404372,0.30477659153794356,-0.023161571453009136,-1.4053406325800621,2.1471994716512177,0.09979825143961732,-0.1643652940012639,-1.3072456396882137,0.29508527262263246,0.33142503229300063,-0.1601889859460664,-0.732556289003857,-0.7623909274097523],\"y\":[-1.7013006760508602,0.3726110922373725,-0.9754051723074265,-1.4310905116703005,-0.49495580410156426,-0.23792853733818523,0.6820747164655667,-1.3244121992950646,0.844853852654464,-0.12712387910761966,0.07727653845877015,-1.6178919682285964,1.6620560366530401,1.699485017671733,-1.4933662810763182,-1.4420375546757855,0.00741199240362949,-2.061084183065256,-1.7697645039107246,1.9526086513272267,-0.20318056893072264,-1.3995600619671336,0.010642637425180183,1.0358081462914928,-0.37242494277677585,0.20667476003049706,-0.16267298076775957,0.7798128841823275,-0.35179459123935136,1.081467422627341,0.7077613301512333,-0.6110458049423005,-0.7446518379211517,0.47949213837655,-0.9540988719737546,0.1123688035076602,0.26169480514641313,-1.9475558614432522,-0.09404948355237926,-0.579998779191727,-0.9162076738199042,-1.3393615273245074,0.0788299847120889,0.6379938373868258,-0.8130888257415996,1.6611778058206665,-0.4813116087170946,-0.019547948800238503,1.331918402584154,-0.6571735272751751,-1.0682608537423943,-0.5733998113617014,0.29800706286622497,-1.365369741686114,1.3060602621305004,-0.4857256708152363,0.3445712175703463,1.2459952091278363,0.4409296584019077,-1.241525679399955,-0.017717831482726706,0.5284160702894732,0.7957565688596141,-0.7970539399473027,0.8452111615611503,0.6862207008234761,0.3928558456506407,0.21363798837630205,-1.1432047801812812,-0.09517977719340225,0.5218475516192701,-0.19272219613099298,1.05964041604494,0.2761071357701667,-0.7943275870137153,-1.1404461350535857,0.8603468722255645,-0.05852670388260969,1.3662802340147435,-0.7567889152604271,-0.3474788034623021,-0.23554292992878703,1.197373609772019,0.5754650080324972,-1.4125808720783122,0.30494901967571725,-1.5416465431940984,0.016412502071598608,0.3720332248482546,-1.3428792774194924,0.8857193838349164,0.6703174061080518,-0.7172600720684109,-0.21520251053018347,0.8786850026750797,-0.27803441786860095,1.8524411743566065,0.4529031345378013,-0.693555130039683,-0.72858737200973],\"type\":\"scatter\"}],                        {\"legend\":{\"bgcolor\":\"#F5F6F9\",\"font\":{\"color\":\"#4D5663\"}},\"paper_bgcolor\":\"#F5F6F9\",\"plot_bgcolor\":\"#F5F6F9\",\"template\":{\"data\":{\"barpolar\":[{\"marker\":{\"line\":{\"color\":\"#E5ECF6\",\"width\":0.5},\"pattern\":{\"fillmode\":\"overlay\",\"size\":10,\"solidity\":0.2}},\"type\":\"barpolar\"}],\"bar\":[{\"error_x\":{\"color\":\"#2a3f5f\"},\"error_y\":{\"color\":\"#2a3f5f\"},\"marker\":{\"line\":{\"color\":\"#E5ECF6\",\"width\":0.5},\"pattern\":{\"fillmode\":\"overlay\",\"size\":10,\"solidity\":0.2}},\"type\":\"bar\"}],\"carpet\":[{\"aaxis\":{\"endlinecolor\":\"#2a3f5f\",\"gridcolor\":\"white\",\"linecolor\":\"white\",\"minorgridcolor\":\"white\",\"startlinecolor\":\"#2a3f5f\"},\"baxis\":{\"endlinecolor\":\"#2a3f5f\",\"gridcolor\":\"white\",\"linecolor\":\"white\",\"minorgridcolor\":\"white\",\"startlinecolor\":\"#2a3f5f\"},\"type\":\"carpet\"}],\"choropleth\":[{\"colorbar\":{\"outlinewidth\":0,\"ticks\":\"\"},\"type\":\"choropleth\"}],\"contourcarpet\":[{\"colorbar\":{\"outlinewidth\":0,\"ticks\":\"\"},\"type\":\"contourcarpet\"}],\"contour\":[{\"colorbar\":{\"outlinewidth\":0,\"ticks\":\"\"},\"colorscale\":[[0.0,\"#0d0887\"],[0.1111111111111111,\"#46039f\"],[0.2222222222222222,\"#7201a8\"],[0.3333333333333333,\"#9c179e\"],[0.4444444444444444,\"#bd3786\"],[0.5555555555555556,\"#d8576b\"],[0.6666666666666666,\"#ed7953\"],[0.7777777777777778,\"#fb9f3a\"],[0.8888888888888888,\"#fdca26\"],[1.0,\"#f0f921\"]],\"type\":\"contour\"}],\"heatmapgl\":[{\"colorbar\":{\"outlinewidth\":0,\"ticks\":\"\"},\"colorscale\":[[0.0,\"#0d0887\"],[0.1111111111111111,\"#46039f\"],[0.2222222222222222,\"#7201a8\"],[0.3333333333333333,\"#9c179e\"],[0.4444444444444444,\"#bd3786\"],[0.5555555555555556,\"#d8576b\"],[0.6666666666666666,\"#ed7953\"],[0.7777777777777778,\"#fb9f3a\"],[0.8888888888888888,\"#fdca26\"],[1.0,\"#f0f921\"]],\"type\":\"heatmapgl\"}],\"heatmap\":[{\"colorbar\":{\"outlinewidth\":0,\"ticks\":\"\"},\"colorscale\":[[0.0,\"#0d0887\"],[0.1111111111111111,\"#46039f\"],[0.2222222222222222,\"#7201a8\"],[0.3333333333333333,\"#9c179e\"],[0.4444444444444444,\"#bd3786\"],[0.5555555555555556,\"#d8576b\"],[0.6666666666666666,\"#ed7953\"],[0.7777777777777778,\"#fb9f3a\"],[0.8888888888888888,\"#fdca26\"],[1.0,\"#f0f921\"]],\"type\":\"heatmap\"}],\"histogram2dcontour\":[{\"colorbar\":{\"outlinewidth\":0,\"ticks\":\"\"},\"colorscale\":[[0.0,\"#0d0887\"],[0.1111111111111111,\"#46039f\"],[0.2222222222222222,\"#7201a8\"],[0.3333333333333333,\"#9c179e\"],[0.4444444444444444,\"#bd3786\"],[0.5555555555555556,\"#d8576b\"],[0.6666666666666666,\"#ed7953\"],[0.7777777777777778,\"#fb9f3a\"],[0.8888888888888888,\"#fdca26\"],[1.0,\"#f0f921\"]],\"type\":\"histogram2dcontour\"}],\"histogram2d\":[{\"colorbar\":{\"outlinewidth\":0,\"ticks\":\"\"},\"colorscale\":[[0.0,\"#0d0887\"],[0.1111111111111111,\"#46039f\"],[0.2222222222222222,\"#7201a8\"],[0.3333333333333333,\"#9c179e\"],[0.4444444444444444,\"#bd3786\"],[0.5555555555555556,\"#d8576b\"],[0.6666666666666666,\"#ed7953\"],[0.7777777777777778,\"#fb9f3a\"],[0.8888888888888888,\"#fdca26\"],[1.0,\"#f0f921\"]],\"type\":\"histogram2d\"}],\"histogram\":[{\"marker\":{\"pattern\":{\"fillmode\":\"overlay\",\"size\":10,\"solidity\":0.2}},\"type\":\"histogram\"}],\"mesh3d\":[{\"colorbar\":{\"outlinewidth\":0,\"ticks\":\"\"},\"type\":\"mesh3d\"}],\"parcoords\":[{\"line\":{\"colorbar\":{\"outlinewidth\":0,\"ticks\":\"\"}},\"type\":\"parcoords\"}],\"pie\":[{\"automargin\":true,\"type\":\"pie\"}],\"scatter3d\":[{\"line\":{\"colorbar\":{\"outlinewidth\":0,\"ticks\":\"\"}},\"marker\":{\"colorbar\":{\"outlinewidth\":0,\"ticks\":\"\"}},\"type\":\"scatter3d\"}],\"scattercarpet\":[{\"marker\":{\"colorbar\":{\"outlinewidth\":0,\"ticks\":\"\"}},\"type\":\"scattercarpet\"}],\"scattergeo\":[{\"marker\":{\"colorbar\":{\"outlinewidth\":0,\"ticks\":\"\"}},\"type\":\"scattergeo\"}],\"scattergl\":[{\"marker\":{\"colorbar\":{\"outlinewidth\":0,\"ticks\":\"\"}},\"type\":\"scattergl\"}],\"scattermapbox\":[{\"marker\":{\"colorbar\":{\"outlinewidth\":0,\"ticks\":\"\"}},\"type\":\"scattermapbox\"}],\"scatterpolargl\":[{\"marker\":{\"colorbar\":{\"outlinewidth\":0,\"ticks\":\"\"}},\"type\":\"scatterpolargl\"}],\"scatterpolar\":[{\"marker\":{\"colorbar\":{\"outlinewidth\":0,\"ticks\":\"\"}},\"type\":\"scatterpolar\"}],\"scatter\":[{\"marker\":{\"colorbar\":{\"outlinewidth\":0,\"ticks\":\"\"}},\"type\":\"scatter\"}],\"scatterternary\":[{\"marker\":{\"colorbar\":{\"outlinewidth\":0,\"ticks\":\"\"}},\"type\":\"scatterternary\"}],\"surface\":[{\"colorbar\":{\"outlinewidth\":0,\"ticks\":\"\"},\"colorscale\":[[0.0,\"#0d0887\"],[0.1111111111111111,\"#46039f\"],[0.2222222222222222,\"#7201a8\"],[0.3333333333333333,\"#9c179e\"],[0.4444444444444444,\"#bd3786\"],[0.5555555555555556,\"#d8576b\"],[0.6666666666666666,\"#ed7953\"],[0.7777777777777778,\"#fb9f3a\"],[0.8888888888888888,\"#fdca26\"],[1.0,\"#f0f921\"]],\"type\":\"surface\"}],\"table\":[{\"cells\":{\"fill\":{\"color\":\"#EBF0F8\"},\"line\":{\"color\":\"white\"}},\"header\":{\"fill\":{\"color\":\"#C8D4E3\"},\"line\":{\"color\":\"white\"}},\"type\":\"table\"}]},\"layout\":{\"annotationdefaults\":{\"arrowcolor\":\"#2a3f5f\",\"arrowhead\":0,\"arrowwidth\":1},\"autotypenumbers\":\"strict\",\"coloraxis\":{\"colorbar\":{\"outlinewidth\":0,\"ticks\":\"\"}},\"colorscale\":{\"diverging\":[[0,\"#8e0152\"],[0.1,\"#c51b7d\"],[0.2,\"#de77ae\"],[0.3,\"#f1b6da\"],[0.4,\"#fde0ef\"],[0.5,\"#f7f7f7\"],[0.6,\"#e6f5d0\"],[0.7,\"#b8e186\"],[0.8,\"#7fbc41\"],[0.9,\"#4d9221\"],[1,\"#276419\"]],\"sequential\":[[0.0,\"#0d0887\"],[0.1111111111111111,\"#46039f\"],[0.2222222222222222,\"#7201a8\"],[0.3333333333333333,\"#9c179e\"],[0.4444444444444444,\"#bd3786\"],[0.5555555555555556,\"#d8576b\"],[0.6666666666666666,\"#ed7953\"],[0.7777777777777778,\"#fb9f3a\"],[0.8888888888888888,\"#fdca26\"],[1.0,\"#f0f921\"]],\"sequentialminus\":[[0.0,\"#0d0887\"],[0.1111111111111111,\"#46039f\"],[0.2222222222222222,\"#7201a8\"],[0.3333333333333333,\"#9c179e\"],[0.4444444444444444,\"#bd3786\"],[0.5555555555555556,\"#d8576b\"],[0.6666666666666666,\"#ed7953\"],[0.7777777777777778,\"#fb9f3a\"],[0.8888888888888888,\"#fdca26\"],[1.0,\"#f0f921\"]]},\"colorway\":[\"#636efa\",\"#EF553B\",\"#00cc96\",\"#ab63fa\",\"#FFA15A\",\"#19d3f3\",\"#FF6692\",\"#B6E880\",\"#FF97FF\",\"#FECB52\"],\"font\":{\"color\":\"#2a3f5f\"},\"geo\":{\"bgcolor\":\"white\",\"lakecolor\":\"white\",\"landcolor\":\"#E5ECF6\",\"showlakes\":true,\"showland\":true,\"subunitcolor\":\"white\"},\"hoverlabel\":{\"align\":\"left\"},\"hovermode\":\"closest\",\"mapbox\":{\"style\":\"light\"},\"paper_bgcolor\":\"white\",\"plot_bgcolor\":\"#E5ECF6\",\"polar\":{\"angularaxis\":{\"gridcolor\":\"white\",\"linecolor\":\"white\",\"ticks\":\"\"},\"bgcolor\":\"#E5ECF6\",\"radialaxis\":{\"gridcolor\":\"white\",\"linecolor\":\"white\",\"ticks\":\"\"}},\"scene\":{\"xaxis\":{\"backgroundcolor\":\"#E5ECF6\",\"gridcolor\":\"white\",\"gridwidth\":2,\"linecolor\":\"white\",\"showbackground\":true,\"ticks\":\"\",\"zerolinecolor\":\"white\"},\"yaxis\":{\"backgroundcolor\":\"#E5ECF6\",\"gridcolor\":\"white\",\"gridwidth\":2,\"linecolor\":\"white\",\"showbackground\":true,\"ticks\":\"\",\"zerolinecolor\":\"white\"},\"zaxis\":{\"backgroundcolor\":\"#E5ECF6\",\"gridcolor\":\"white\",\"gridwidth\":2,\"linecolor\":\"white\",\"showbackground\":true,\"ticks\":\"\",\"zerolinecolor\":\"white\"}},\"shapedefaults\":{\"line\":{\"color\":\"#2a3f5f\"}},\"ternary\":{\"aaxis\":{\"gridcolor\":\"white\",\"linecolor\":\"white\",\"ticks\":\"\"},\"baxis\":{\"gridcolor\":\"white\",\"linecolor\":\"white\",\"ticks\":\"\"},\"bgcolor\":\"#E5ECF6\",\"caxis\":{\"gridcolor\":\"white\",\"linecolor\":\"white\",\"ticks\":\"\"}},\"title\":{\"x\":0.05},\"xaxis\":{\"automargin\":true,\"gridcolor\":\"white\",\"linecolor\":\"white\",\"ticks\":\"\",\"title\":{\"standoff\":15},\"zerolinecolor\":\"white\",\"zerolinewidth\":2},\"yaxis\":{\"automargin\":true,\"gridcolor\":\"white\",\"linecolor\":\"white\",\"ticks\":\"\",\"title\":{\"standoff\":15},\"zerolinecolor\":\"white\",\"zerolinewidth\":2}}},\"title\":{\"font\":{\"color\":\"#4D5663\"}},\"xaxis\":{\"gridcolor\":\"#E1E5ED\",\"showgrid\":true,\"tickfont\":{\"color\":\"#4D5663\"},\"title\":{\"font\":{\"color\":\"#4D5663\"},\"text\":\"\"},\"zerolinecolor\":\"#E1E5ED\"},\"yaxis\":{\"gridcolor\":\"#E1E5ED\",\"showgrid\":true,\"tickfont\":{\"color\":\"#4D5663\"},\"title\":{\"font\":{\"color\":\"#4D5663\"},\"text\":\"\"},\"zerolinecolor\":\"#E1E5ED\"}},                        {\"showLink\": true, \"linkText\": \"Export to plot.ly\", \"plotlyServerURL\": \"https://plot.ly\", \"responsive\": true}                    ).then(function(){\n",
       "                            \n",
       "var gd = document.getElementById('71a94522-9dad-4762-b6e9-0cebecf12ba9');\n",
       "var x = new MutationObserver(function (mutations, observer) {{\n",
       "        var display = window.getComputedStyle(gd).display;\n",
       "        if (!display || display === 'none') {{\n",
       "            console.log([gd, 'removed!']);\n",
       "            Plotly.purge(gd);\n",
       "            observer.disconnect();\n",
       "        }}\n",
       "}});\n",
       "\n",
       "// Listen for the removal of the full notebook cells\n",
       "var notebookContainer = gd.closest('#notebook-container');\n",
       "if (notebookContainer) {{\n",
       "    x.observe(notebookContainer, {childList: true});\n",
       "}}\n",
       "\n",
       "// Listen for the clearing of the current output cell\n",
       "var outputEl = gd.closest('.output');\n",
       "if (outputEl) {{\n",
       "    x.observe(outputEl, {childList: true});\n",
       "}}\n",
       "\n",
       "                        })                };                });            </script>        </div>"
      ]
     },
     "metadata": {},
     "output_type": "display_data"
    }
   ],
   "source": [
    "df.iplot(kind='bubble',x='A',y='B',size='C')"
   ]
  },
  {
   "cell_type": "markdown",
   "metadata": {},
   "source": [
    "## scatter_matrix()\n",
    "\n",
    "Similar to sns.pairplot()"
   ]
  },
  {
   "cell_type": "code",
   "execution_count": 27,
   "metadata": {},
   "outputs": [
    {
     "data": {
      "application/vnd.plotly.v1+json": {
       "config": {
        "linkText": "Export to plot.ly",
        "plotlyServerURL": "https://plot.ly",
        "showLink": true
       },
       "data": [
        {
         "histfunc": "count",
         "histnorm": "",
         "marker": {
          "color": "rgba(255, 153, 51, 1.0)",
          "line": {
           "color": "#4D5663",
           "width": 1.3
          }
         },
         "name": "A",
         "nbinsx": 10,
         "opacity": 0.8,
         "orientation": "v",
         "type": "histogram",
         "x": [
          -0.7051831481220451,
          0.43922270603827557,
          -0.24870124121465462,
          2.057258717584174,
          0.9928029700879529,
          -0.5614200505011286,
          -0.4525971471128819,
          -0.8425476141815342,
          0.22452019875816207,
          -1.0419304921342696,
          -0.596979459798248,
          -0.5136433270420201,
          -0.30109082273899646,
          -0.8437793523718262,
          -1.3019298542708193,
          -0.7469286394475176,
          -0.15606362034286694,
          1.0414201604476443,
          -1.6083459626882008,
          0.39757187428806584,
          0.9088622126821246,
          0.1288342090116408,
          0.9148982966185591,
          -0.9919522699380063,
          -0.3555543177539484,
          -0.0945839771416839,
          0.07575588211214367,
          -0.030106281406176865,
          -1.0074275350290345,
          0.13408162979612936,
          0.17796399981688318,
          -0.13570033957890884,
          0.784454763128047,
          1.5097312060988817,
          -0.8963002615710953,
          -0.6482105493446612,
          0.9841767167594909,
          1.241599591298693,
          0.2830256966654552,
          -0.6214143312238146,
          -0.09812462802196699,
          1.7546021754331227,
          -0.4020619004488187,
          2.687347057037032,
          0.35357279144602843,
          1.8980457695588686,
          -0.44205016471097835,
          1.342302156302457,
          -2.6086746796664086,
          -0.2422383762343922,
          0.020171641164645333,
          0.038833475065560404,
          0.7611381770555126,
          0.15908773656704006,
          0.06468045369400825,
          0.9822092545872925,
          -0.8066539137936216,
          -2.131153972171354,
          0.914030903086248,
          0.014514507630141022,
          0.3247783307436006,
          -1.0623521273207823,
          -0.5627431869802589,
          -1.1557172843024368,
          -0.3798027873441633,
          -0.1438001174563708,
          1.2573609083720851,
          0.43751117368337294,
          -0.22503926746541883,
          0.4090682819088985,
          0.6237103778312871,
          -1.229011584355428,
          1.5871669025342217,
          0.0407574102693247,
          -1.4536960876806284,
          -0.6222411663434749,
          0.10286155555958691,
          0.24028167035807485,
          1.4704070810483008,
          -0.18727545016936312,
          -0.5227882042145175,
          -0.41843157353403804,
          0.5095772093194731,
          0.5769946056343663,
          1.7298184287290328,
          -0.5459541749316872,
          -2.397909800294627,
          -0.4875778238404372,
          0.30477659153794356,
          -0.023161571453009136,
          -1.4053406325800621,
          2.1471994716512177,
          0.09979825143961732,
          -0.1643652940012639,
          -1.3072456396882137,
          0.29508527262263246,
          0.33142503229300063,
          -0.1601889859460664,
          -0.732556289003857,
          -0.7623909274097523
         ],
         "xaxis": "x",
         "yaxis": "y"
        },
        {
         "line": {
          "color": "rgba(128, 128, 128, 1.0)",
          "dash": "solid",
          "shape": "linear",
          "width": 1.3
         },
         "marker": {
          "size": 2,
          "symbol": "circle"
         },
         "mode": "markers",
         "name": "A",
         "text": "",
         "type": "scatter",
         "x": [
          -1.7013006760508602,
          0.3726110922373725,
          -0.9754051723074265,
          -1.4310905116703005,
          -0.49495580410156426,
          -0.23792853733818523,
          0.6820747164655667,
          -1.3244121992950646,
          0.844853852654464,
          -0.12712387910761966,
          0.07727653845877015,
          -1.6178919682285964,
          1.6620560366530401,
          1.699485017671733,
          -1.4933662810763182,
          -1.4420375546757855,
          0.00741199240362949,
          -2.061084183065256,
          -1.7697645039107246,
          1.9526086513272267,
          -0.20318056893072264,
          -1.3995600619671336,
          0.010642637425180183,
          1.0358081462914928,
          -0.37242494277677585,
          0.20667476003049706,
          -0.16267298076775957,
          0.7798128841823275,
          -0.35179459123935136,
          1.081467422627341,
          0.7077613301512333,
          -0.6110458049423005,
          -0.7446518379211517,
          0.47949213837655,
          -0.9540988719737546,
          0.1123688035076602,
          0.26169480514641313,
          -1.9475558614432522,
          -0.09404948355237926,
          -0.579998779191727,
          -0.9162076738199042,
          -1.3393615273245074,
          0.0788299847120889,
          0.6379938373868258,
          -0.8130888257415996,
          1.6611778058206665,
          -0.4813116087170946,
          -0.019547948800238503,
          1.331918402584154,
          -0.6571735272751751,
          -1.0682608537423943,
          -0.5733998113617014,
          0.29800706286622497,
          -1.365369741686114,
          1.3060602621305004,
          -0.4857256708152363,
          0.3445712175703463,
          1.2459952091278363,
          0.4409296584019077,
          -1.241525679399955,
          -0.017717831482726706,
          0.5284160702894732,
          0.7957565688596141,
          -0.7970539399473027,
          0.8452111615611503,
          0.6862207008234761,
          0.3928558456506407,
          0.21363798837630205,
          -1.1432047801812812,
          -0.09517977719340225,
          0.5218475516192701,
          -0.19272219613099298,
          1.05964041604494,
          0.2761071357701667,
          -0.7943275870137153,
          -1.1404461350535857,
          0.8603468722255645,
          -0.05852670388260969,
          1.3662802340147435,
          -0.7567889152604271,
          -0.3474788034623021,
          -0.23554292992878703,
          1.197373609772019,
          0.5754650080324972,
          -1.4125808720783122,
          0.30494901967571725,
          -1.5416465431940984,
          0.016412502071598608,
          0.3720332248482546,
          -1.3428792774194924,
          0.8857193838349164,
          0.6703174061080518,
          -0.7172600720684109,
          -0.21520251053018347,
          0.8786850026750797,
          -0.27803441786860095,
          1.8524411743566065,
          0.4529031345378013,
          -0.693555130039683,
          -0.72858737200973
         ],
         "xaxis": "x2",
         "y": [
          -0.7051831481220451,
          0.43922270603827557,
          -0.24870124121465462,
          2.057258717584174,
          0.9928029700879529,
          -0.5614200505011286,
          -0.4525971471128819,
          -0.8425476141815342,
          0.22452019875816207,
          -1.0419304921342696,
          -0.596979459798248,
          -0.5136433270420201,
          -0.30109082273899646,
          -0.8437793523718262,
          -1.3019298542708193,
          -0.7469286394475176,
          -0.15606362034286694,
          1.0414201604476443,
          -1.6083459626882008,
          0.39757187428806584,
          0.9088622126821246,
          0.1288342090116408,
          0.9148982966185591,
          -0.9919522699380063,
          -0.3555543177539484,
          -0.0945839771416839,
          0.07575588211214367,
          -0.030106281406176865,
          -1.0074275350290345,
          0.13408162979612936,
          0.17796399981688318,
          -0.13570033957890884,
          0.784454763128047,
          1.5097312060988817,
          -0.8963002615710953,
          -0.6482105493446612,
          0.9841767167594909,
          1.241599591298693,
          0.2830256966654552,
          -0.6214143312238146,
          -0.09812462802196699,
          1.7546021754331227,
          -0.4020619004488187,
          2.687347057037032,
          0.35357279144602843,
          1.8980457695588686,
          -0.44205016471097835,
          1.342302156302457,
          -2.6086746796664086,
          -0.2422383762343922,
          0.020171641164645333,
          0.038833475065560404,
          0.7611381770555126,
          0.15908773656704006,
          0.06468045369400825,
          0.9822092545872925,
          -0.8066539137936216,
          -2.131153972171354,
          0.914030903086248,
          0.014514507630141022,
          0.3247783307436006,
          -1.0623521273207823,
          -0.5627431869802589,
          -1.1557172843024368,
          -0.3798027873441633,
          -0.1438001174563708,
          1.2573609083720851,
          0.43751117368337294,
          -0.22503926746541883,
          0.4090682819088985,
          0.6237103778312871,
          -1.229011584355428,
          1.5871669025342217,
          0.0407574102693247,
          -1.4536960876806284,
          -0.6222411663434749,
          0.10286155555958691,
          0.24028167035807485,
          1.4704070810483008,
          -0.18727545016936312,
          -0.5227882042145175,
          -0.41843157353403804,
          0.5095772093194731,
          0.5769946056343663,
          1.7298184287290328,
          -0.5459541749316872,
          -2.397909800294627,
          -0.4875778238404372,
          0.30477659153794356,
          -0.023161571453009136,
          -1.4053406325800621,
          2.1471994716512177,
          0.09979825143961732,
          -0.1643652940012639,
          -1.3072456396882137,
          0.29508527262263246,
          0.33142503229300063,
          -0.1601889859460664,
          -0.732556289003857,
          -0.7623909274097523
         ],
         "yaxis": "y2"
        },
        {
         "line": {
          "color": "rgba(128, 128, 128, 1.0)",
          "dash": "solid",
          "shape": "linear",
          "width": 1.3
         },
         "marker": {
          "size": 2,
          "symbol": "circle"
         },
         "mode": "markers",
         "name": "A",
         "text": "",
         "type": "scatter",
         "x": [
          -0.019996894482532116,
          -0.2602553169003833,
          -0.2215248167300281,
          -0.8602485863574177,
          1.6873855685921646,
          -0.3287933403432567,
          2.212736908665413,
          -0.11343478774285223,
          0.4201314292366824,
          0.03579290776835197,
          -0.9223600415129647,
          0.2566551527685251,
          0.17497476752677876,
          0.14219386457951017,
          0.17761185561904086,
          0.6720934145063548,
          -0.30185818568293404,
          1.9392089899558609,
          0.6343369545960236,
          0.11724097376126452,
          0.5945537333890104,
          1.0823320997300003,
          0.015143848950196532,
          -0.4376871148491534,
          -0.7153924792724057,
          -0.7510303704897234,
          -0.3791411826102001,
          0.22631772385145377,
          -0.18637294864949822,
          -0.6271657787161323,
          -0.4662937032315267,
          -0.7455839956502811,
          -0.01950529932959586,
          0.603973934592031,
          0.36057853675762874,
          0.6925336725138185,
          -0.5201817419416065,
          1.6238757654046803,
          1.4911996042527316,
          -0.47990335261790784,
          -1.4511541185179837,
          -1.8146380630287766,
          1.133526738920183,
          -0.8060500385510251,
          2.3843731838406415,
          1.777019838947044,
          1.3526758611542338,
          -0.903346237828229,
          -0.08431983012892895,
          -0.31617224338074273,
          0.6869448004732898,
          0.3681502549924151,
          -0.9131754235222048,
          -0.9712348010319604,
          1.2256720296497043,
          -0.24663550342134388,
          1.2595994629479532,
          -0.2975746098721045,
          1.240791709837519,
          -0.5949595894075386,
          -0.17904950497807356,
          0.44546460567180246,
          1.3285003579844963,
          1.5974210037903287,
          -1.7516955599012078,
          0.5838479935591269,
          -1.456749784734076,
          0.5784208466973598,
          -1.100358845557394,
          -0.959172123564169,
          -0.3939085956468053,
          -1.632687118245128,
          0.008848318748572514,
          -1.2360334005904456,
          0.3329082688608831,
          -0.3888152669006266,
          0.06654334697309092,
          -0.39818435630663646,
          -0.3777926079042949,
          -0.10358331404241641,
          1.5509137738090428,
          -0.18388268418772813,
          0.44633468185763964,
          1.6187106738289636,
          -0.5749255574505231,
          -0.5937847496041464,
          -0.34509751361624874,
          -0.12938947331030054,
          -0.7110103065764183,
          -0.9579480600494636,
          1.312673174584851,
          -0.04148206860367141,
          -0.6838387657243769,
          0.19961747036822602,
          0.5409465763236752,
          1.1818710027484864,
          1.173119639445139,
          -0.15964691859267258,
          0.5254805439905126,
          0.37062479449525154
         ],
         "xaxis": "x3",
         "y": [
          -0.7051831481220451,
          0.43922270603827557,
          -0.24870124121465462,
          2.057258717584174,
          0.9928029700879529,
          -0.5614200505011286,
          -0.4525971471128819,
          -0.8425476141815342,
          0.22452019875816207,
          -1.0419304921342696,
          -0.596979459798248,
          -0.5136433270420201,
          -0.30109082273899646,
          -0.8437793523718262,
          -1.3019298542708193,
          -0.7469286394475176,
          -0.15606362034286694,
          1.0414201604476443,
          -1.6083459626882008,
          0.39757187428806584,
          0.9088622126821246,
          0.1288342090116408,
          0.9148982966185591,
          -0.9919522699380063,
          -0.3555543177539484,
          -0.0945839771416839,
          0.07575588211214367,
          -0.030106281406176865,
          -1.0074275350290345,
          0.13408162979612936,
          0.17796399981688318,
          -0.13570033957890884,
          0.784454763128047,
          1.5097312060988817,
          -0.8963002615710953,
          -0.6482105493446612,
          0.9841767167594909,
          1.241599591298693,
          0.2830256966654552,
          -0.6214143312238146,
          -0.09812462802196699,
          1.7546021754331227,
          -0.4020619004488187,
          2.687347057037032,
          0.35357279144602843,
          1.8980457695588686,
          -0.44205016471097835,
          1.342302156302457,
          -2.6086746796664086,
          -0.2422383762343922,
          0.020171641164645333,
          0.038833475065560404,
          0.7611381770555126,
          0.15908773656704006,
          0.06468045369400825,
          0.9822092545872925,
          -0.8066539137936216,
          -2.131153972171354,
          0.914030903086248,
          0.014514507630141022,
          0.3247783307436006,
          -1.0623521273207823,
          -0.5627431869802589,
          -1.1557172843024368,
          -0.3798027873441633,
          -0.1438001174563708,
          1.2573609083720851,
          0.43751117368337294,
          -0.22503926746541883,
          0.4090682819088985,
          0.6237103778312871,
          -1.229011584355428,
          1.5871669025342217,
          0.0407574102693247,
          -1.4536960876806284,
          -0.6222411663434749,
          0.10286155555958691,
          0.24028167035807485,
          1.4704070810483008,
          -0.18727545016936312,
          -0.5227882042145175,
          -0.41843157353403804,
          0.5095772093194731,
          0.5769946056343663,
          1.7298184287290328,
          -0.5459541749316872,
          -2.397909800294627,
          -0.4875778238404372,
          0.30477659153794356,
          -0.023161571453009136,
          -1.4053406325800621,
          2.1471994716512177,
          0.09979825143961732,
          -0.1643652940012639,
          -1.3072456396882137,
          0.29508527262263246,
          0.33142503229300063,
          -0.1601889859460664,
          -0.732556289003857,
          -0.7623909274097523
         ],
         "yaxis": "y3"
        },
        {
         "line": {
          "color": "rgba(128, 128, 128, 1.0)",
          "dash": "solid",
          "shape": "linear",
          "width": 1.3
         },
         "marker": {
          "size": 2,
          "symbol": "circle"
         },
         "mode": "markers",
         "name": "A",
         "text": "",
         "type": "scatter",
         "x": [
          0.06019172523097076,
          -0.3164762147460986,
          -1.1431214593094021,
          0.988954441989928,
          -0.5246581629896405,
          0.3775899213866819,
          0.36853112522714376,
          -0.9899420171442083,
          0.1133917687325859,
          0.605539817851534,
          1.2049104271517652,
          -1.5031003865147754,
          1.4700788773018643,
          1.0642055929786205,
          -0.9109532886750104,
          0.684452525489341,
          -0.822918543882324,
          -0.3343470233828204,
          0.4502557185476605,
          2.2995410507704244,
          0.42405820656141413,
          1.0579285774817733,
          1.6730098523395402,
          2.141661207362836,
          0.39945239824490575,
          0.7430436236811725,
          0.8005467059269081,
          1.4113799584790845,
          -1.6458440941331192,
          -0.9512014597907744,
          -1.3679538525295512,
          -0.45605737059048407,
          0.24363953217264975,
          2.2627119526523414,
          -1.2836675626885568,
          1.5845758412218696,
          1.1586609088892865,
          0.5031938063621324,
          -1.3140130431585808,
          0.3448173975032927,
          -0.21159866501086064,
          -0.29016634575411904,
          -0.07334809688600948,
          0.21931938600014184,
          -0.4498496146329854,
          0.6462420193706621,
          0.4911779993597168,
          0.5445573655916676,
          -1.4380076966885829,
          1.488264386286784,
          -0.06646086711891994,
          -0.7667310937149749,
          0.8308825128244485,
          2.3795136616166235,
          -0.4570644652463601,
          -0.0003693884963840633,
          -1.7701542856769128,
          -0.30541636027929614,
          1.7969633617858682,
          -0.7733699053345111,
          -0.09951868470434512,
          1.9739166938462196,
          -0.6701603249898898,
          -1.1639900169641726,
          0.5703800793491294,
          0.45885481437099834,
          0.9439912083164357,
          1.1445980770515547,
          2.0470841754796365,
          -1.6993638703662,
          -1.954057694441885,
          0.40409787838588546,
          0.7441990342740958,
          0.8940087175365565,
          1.7968885795833933,
          -1.4263406954286055,
          -0.052352829613267995,
          -0.6045778132902017,
          0.6255708191710183,
          1.4349459682051686,
          -1.623214989387944,
          1.299646570104817,
          1.8428334970880769,
          0.32999413456451193,
          0.213803796614734,
          -0.9389200023125681,
          -2.2817314341578783,
          -1.0058849248931288,
          -0.9041307318463464,
          -0.377606207933437,
          0.9082038889641426,
          0.05267930843748459,
          0.2075046377655566,
          -0.6189363327383898,
          0.5064605832447548,
          0.5802166730092401,
          1.6821761073481274,
          -1.6038621207491588,
          -2.2732260368459842,
          0.9280166518635189
         ],
         "xaxis": "x4",
         "y": [
          -0.7051831481220451,
          0.43922270603827557,
          -0.24870124121465462,
          2.057258717584174,
          0.9928029700879529,
          -0.5614200505011286,
          -0.4525971471128819,
          -0.8425476141815342,
          0.22452019875816207,
          -1.0419304921342696,
          -0.596979459798248,
          -0.5136433270420201,
          -0.30109082273899646,
          -0.8437793523718262,
          -1.3019298542708193,
          -0.7469286394475176,
          -0.15606362034286694,
          1.0414201604476443,
          -1.6083459626882008,
          0.39757187428806584,
          0.9088622126821246,
          0.1288342090116408,
          0.9148982966185591,
          -0.9919522699380063,
          -0.3555543177539484,
          -0.0945839771416839,
          0.07575588211214367,
          -0.030106281406176865,
          -1.0074275350290345,
          0.13408162979612936,
          0.17796399981688318,
          -0.13570033957890884,
          0.784454763128047,
          1.5097312060988817,
          -0.8963002615710953,
          -0.6482105493446612,
          0.9841767167594909,
          1.241599591298693,
          0.2830256966654552,
          -0.6214143312238146,
          -0.09812462802196699,
          1.7546021754331227,
          -0.4020619004488187,
          2.687347057037032,
          0.35357279144602843,
          1.8980457695588686,
          -0.44205016471097835,
          1.342302156302457,
          -2.6086746796664086,
          -0.2422383762343922,
          0.020171641164645333,
          0.038833475065560404,
          0.7611381770555126,
          0.15908773656704006,
          0.06468045369400825,
          0.9822092545872925,
          -0.8066539137936216,
          -2.131153972171354,
          0.914030903086248,
          0.014514507630141022,
          0.3247783307436006,
          -1.0623521273207823,
          -0.5627431869802589,
          -1.1557172843024368,
          -0.3798027873441633,
          -0.1438001174563708,
          1.2573609083720851,
          0.43751117368337294,
          -0.22503926746541883,
          0.4090682819088985,
          0.6237103778312871,
          -1.229011584355428,
          1.5871669025342217,
          0.0407574102693247,
          -1.4536960876806284,
          -0.6222411663434749,
          0.10286155555958691,
          0.24028167035807485,
          1.4704070810483008,
          -0.18727545016936312,
          -0.5227882042145175,
          -0.41843157353403804,
          0.5095772093194731,
          0.5769946056343663,
          1.7298184287290328,
          -0.5459541749316872,
          -2.397909800294627,
          -0.4875778238404372,
          0.30477659153794356,
          -0.023161571453009136,
          -1.4053406325800621,
          2.1471994716512177,
          0.09979825143961732,
          -0.1643652940012639,
          -1.3072456396882137,
          0.29508527262263246,
          0.33142503229300063,
          -0.1601889859460664,
          -0.732556289003857,
          -0.7623909274097523
         ],
         "yaxis": "y4"
        },
        {
         "line": {
          "color": "rgba(128, 128, 128, 1.0)",
          "dash": "solid",
          "shape": "linear",
          "width": 1.3
         },
         "marker": {
          "size": 2,
          "symbol": "circle"
         },
         "mode": "markers",
         "name": "B",
         "text": "",
         "type": "scatter",
         "x": [
          -0.7051831481220451,
          0.43922270603827557,
          -0.24870124121465462,
          2.057258717584174,
          0.9928029700879529,
          -0.5614200505011286,
          -0.4525971471128819,
          -0.8425476141815342,
          0.22452019875816207,
          -1.0419304921342696,
          -0.596979459798248,
          -0.5136433270420201,
          -0.30109082273899646,
          -0.8437793523718262,
          -1.3019298542708193,
          -0.7469286394475176,
          -0.15606362034286694,
          1.0414201604476443,
          -1.6083459626882008,
          0.39757187428806584,
          0.9088622126821246,
          0.1288342090116408,
          0.9148982966185591,
          -0.9919522699380063,
          -0.3555543177539484,
          -0.0945839771416839,
          0.07575588211214367,
          -0.030106281406176865,
          -1.0074275350290345,
          0.13408162979612936,
          0.17796399981688318,
          -0.13570033957890884,
          0.784454763128047,
          1.5097312060988817,
          -0.8963002615710953,
          -0.6482105493446612,
          0.9841767167594909,
          1.241599591298693,
          0.2830256966654552,
          -0.6214143312238146,
          -0.09812462802196699,
          1.7546021754331227,
          -0.4020619004488187,
          2.687347057037032,
          0.35357279144602843,
          1.8980457695588686,
          -0.44205016471097835,
          1.342302156302457,
          -2.6086746796664086,
          -0.2422383762343922,
          0.020171641164645333,
          0.038833475065560404,
          0.7611381770555126,
          0.15908773656704006,
          0.06468045369400825,
          0.9822092545872925,
          -0.8066539137936216,
          -2.131153972171354,
          0.914030903086248,
          0.014514507630141022,
          0.3247783307436006,
          -1.0623521273207823,
          -0.5627431869802589,
          -1.1557172843024368,
          -0.3798027873441633,
          -0.1438001174563708,
          1.2573609083720851,
          0.43751117368337294,
          -0.22503926746541883,
          0.4090682819088985,
          0.6237103778312871,
          -1.229011584355428,
          1.5871669025342217,
          0.0407574102693247,
          -1.4536960876806284,
          -0.6222411663434749,
          0.10286155555958691,
          0.24028167035807485,
          1.4704070810483008,
          -0.18727545016936312,
          -0.5227882042145175,
          -0.41843157353403804,
          0.5095772093194731,
          0.5769946056343663,
          1.7298184287290328,
          -0.5459541749316872,
          -2.397909800294627,
          -0.4875778238404372,
          0.30477659153794356,
          -0.023161571453009136,
          -1.4053406325800621,
          2.1471994716512177,
          0.09979825143961732,
          -0.1643652940012639,
          -1.3072456396882137,
          0.29508527262263246,
          0.33142503229300063,
          -0.1601889859460664,
          -0.732556289003857,
          -0.7623909274097523
         ],
         "xaxis": "x5",
         "y": [
          -1.7013006760508602,
          0.3726110922373725,
          -0.9754051723074265,
          -1.4310905116703005,
          -0.49495580410156426,
          -0.23792853733818523,
          0.6820747164655667,
          -1.3244121992950646,
          0.844853852654464,
          -0.12712387910761966,
          0.07727653845877015,
          -1.6178919682285964,
          1.6620560366530401,
          1.699485017671733,
          -1.4933662810763182,
          -1.4420375546757855,
          0.00741199240362949,
          -2.061084183065256,
          -1.7697645039107246,
          1.9526086513272267,
          -0.20318056893072264,
          -1.3995600619671336,
          0.010642637425180183,
          1.0358081462914928,
          -0.37242494277677585,
          0.20667476003049706,
          -0.16267298076775957,
          0.7798128841823275,
          -0.35179459123935136,
          1.081467422627341,
          0.7077613301512333,
          -0.6110458049423005,
          -0.7446518379211517,
          0.47949213837655,
          -0.9540988719737546,
          0.1123688035076602,
          0.26169480514641313,
          -1.9475558614432522,
          -0.09404948355237926,
          -0.579998779191727,
          -0.9162076738199042,
          -1.3393615273245074,
          0.0788299847120889,
          0.6379938373868258,
          -0.8130888257415996,
          1.6611778058206665,
          -0.4813116087170946,
          -0.019547948800238503,
          1.331918402584154,
          -0.6571735272751751,
          -1.0682608537423943,
          -0.5733998113617014,
          0.29800706286622497,
          -1.365369741686114,
          1.3060602621305004,
          -0.4857256708152363,
          0.3445712175703463,
          1.2459952091278363,
          0.4409296584019077,
          -1.241525679399955,
          -0.017717831482726706,
          0.5284160702894732,
          0.7957565688596141,
          -0.7970539399473027,
          0.8452111615611503,
          0.6862207008234761,
          0.3928558456506407,
          0.21363798837630205,
          -1.1432047801812812,
          -0.09517977719340225,
          0.5218475516192701,
          -0.19272219613099298,
          1.05964041604494,
          0.2761071357701667,
          -0.7943275870137153,
          -1.1404461350535857,
          0.8603468722255645,
          -0.05852670388260969,
          1.3662802340147435,
          -0.7567889152604271,
          -0.3474788034623021,
          -0.23554292992878703,
          1.197373609772019,
          0.5754650080324972,
          -1.4125808720783122,
          0.30494901967571725,
          -1.5416465431940984,
          0.016412502071598608,
          0.3720332248482546,
          -1.3428792774194924,
          0.8857193838349164,
          0.6703174061080518,
          -0.7172600720684109,
          -0.21520251053018347,
          0.8786850026750797,
          -0.27803441786860095,
          1.8524411743566065,
          0.4529031345378013,
          -0.693555130039683,
          -0.72858737200973
         ],
         "yaxis": "y5"
        },
        {
         "histfunc": "count",
         "histnorm": "",
         "marker": {
          "color": "rgba(55, 128, 191, 1.0)",
          "line": {
           "color": "#4D5663",
           "width": 1.3
          }
         },
         "name": "B",
         "nbinsx": 10,
         "opacity": 0.8,
         "orientation": "v",
         "type": "histogram",
         "x": [
          -1.7013006760508602,
          0.3726110922373725,
          -0.9754051723074265,
          -1.4310905116703005,
          -0.49495580410156426,
          -0.23792853733818523,
          0.6820747164655667,
          -1.3244121992950646,
          0.844853852654464,
          -0.12712387910761966,
          0.07727653845877015,
          -1.6178919682285964,
          1.6620560366530401,
          1.699485017671733,
          -1.4933662810763182,
          -1.4420375546757855,
          0.00741199240362949,
          -2.061084183065256,
          -1.7697645039107246,
          1.9526086513272267,
          -0.20318056893072264,
          -1.3995600619671336,
          0.010642637425180183,
          1.0358081462914928,
          -0.37242494277677585,
          0.20667476003049706,
          -0.16267298076775957,
          0.7798128841823275,
          -0.35179459123935136,
          1.081467422627341,
          0.7077613301512333,
          -0.6110458049423005,
          -0.7446518379211517,
          0.47949213837655,
          -0.9540988719737546,
          0.1123688035076602,
          0.26169480514641313,
          -1.9475558614432522,
          -0.09404948355237926,
          -0.579998779191727,
          -0.9162076738199042,
          -1.3393615273245074,
          0.0788299847120889,
          0.6379938373868258,
          -0.8130888257415996,
          1.6611778058206665,
          -0.4813116087170946,
          -0.019547948800238503,
          1.331918402584154,
          -0.6571735272751751,
          -1.0682608537423943,
          -0.5733998113617014,
          0.29800706286622497,
          -1.365369741686114,
          1.3060602621305004,
          -0.4857256708152363,
          0.3445712175703463,
          1.2459952091278363,
          0.4409296584019077,
          -1.241525679399955,
          -0.017717831482726706,
          0.5284160702894732,
          0.7957565688596141,
          -0.7970539399473027,
          0.8452111615611503,
          0.6862207008234761,
          0.3928558456506407,
          0.21363798837630205,
          -1.1432047801812812,
          -0.09517977719340225,
          0.5218475516192701,
          -0.19272219613099298,
          1.05964041604494,
          0.2761071357701667,
          -0.7943275870137153,
          -1.1404461350535857,
          0.8603468722255645,
          -0.05852670388260969,
          1.3662802340147435,
          -0.7567889152604271,
          -0.3474788034623021,
          -0.23554292992878703,
          1.197373609772019,
          0.5754650080324972,
          -1.4125808720783122,
          0.30494901967571725,
          -1.5416465431940984,
          0.016412502071598608,
          0.3720332248482546,
          -1.3428792774194924,
          0.8857193838349164,
          0.6703174061080518,
          -0.7172600720684109,
          -0.21520251053018347,
          0.8786850026750797,
          -0.27803441786860095,
          1.8524411743566065,
          0.4529031345378013,
          -0.693555130039683,
          -0.72858737200973
         ],
         "xaxis": "x6",
         "yaxis": "y6"
        },
        {
         "line": {
          "color": "rgba(128, 128, 128, 1.0)",
          "dash": "solid",
          "shape": "linear",
          "width": 1.3
         },
         "marker": {
          "size": 2,
          "symbol": "circle"
         },
         "mode": "markers",
         "name": "B",
         "text": "",
         "type": "scatter",
         "x": [
          -0.019996894482532116,
          -0.2602553169003833,
          -0.2215248167300281,
          -0.8602485863574177,
          1.6873855685921646,
          -0.3287933403432567,
          2.212736908665413,
          -0.11343478774285223,
          0.4201314292366824,
          0.03579290776835197,
          -0.9223600415129647,
          0.2566551527685251,
          0.17497476752677876,
          0.14219386457951017,
          0.17761185561904086,
          0.6720934145063548,
          -0.30185818568293404,
          1.9392089899558609,
          0.6343369545960236,
          0.11724097376126452,
          0.5945537333890104,
          1.0823320997300003,
          0.015143848950196532,
          -0.4376871148491534,
          -0.7153924792724057,
          -0.7510303704897234,
          -0.3791411826102001,
          0.22631772385145377,
          -0.18637294864949822,
          -0.6271657787161323,
          -0.4662937032315267,
          -0.7455839956502811,
          -0.01950529932959586,
          0.603973934592031,
          0.36057853675762874,
          0.6925336725138185,
          -0.5201817419416065,
          1.6238757654046803,
          1.4911996042527316,
          -0.47990335261790784,
          -1.4511541185179837,
          -1.8146380630287766,
          1.133526738920183,
          -0.8060500385510251,
          2.3843731838406415,
          1.777019838947044,
          1.3526758611542338,
          -0.903346237828229,
          -0.08431983012892895,
          -0.31617224338074273,
          0.6869448004732898,
          0.3681502549924151,
          -0.9131754235222048,
          -0.9712348010319604,
          1.2256720296497043,
          -0.24663550342134388,
          1.2595994629479532,
          -0.2975746098721045,
          1.240791709837519,
          -0.5949595894075386,
          -0.17904950497807356,
          0.44546460567180246,
          1.3285003579844963,
          1.5974210037903287,
          -1.7516955599012078,
          0.5838479935591269,
          -1.456749784734076,
          0.5784208466973598,
          -1.100358845557394,
          -0.959172123564169,
          -0.3939085956468053,
          -1.632687118245128,
          0.008848318748572514,
          -1.2360334005904456,
          0.3329082688608831,
          -0.3888152669006266,
          0.06654334697309092,
          -0.39818435630663646,
          -0.3777926079042949,
          -0.10358331404241641,
          1.5509137738090428,
          -0.18388268418772813,
          0.44633468185763964,
          1.6187106738289636,
          -0.5749255574505231,
          -0.5937847496041464,
          -0.34509751361624874,
          -0.12938947331030054,
          -0.7110103065764183,
          -0.9579480600494636,
          1.312673174584851,
          -0.04148206860367141,
          -0.6838387657243769,
          0.19961747036822602,
          0.5409465763236752,
          1.1818710027484864,
          1.173119639445139,
          -0.15964691859267258,
          0.5254805439905126,
          0.37062479449525154
         ],
         "xaxis": "x7",
         "y": [
          -1.7013006760508602,
          0.3726110922373725,
          -0.9754051723074265,
          -1.4310905116703005,
          -0.49495580410156426,
          -0.23792853733818523,
          0.6820747164655667,
          -1.3244121992950646,
          0.844853852654464,
          -0.12712387910761966,
          0.07727653845877015,
          -1.6178919682285964,
          1.6620560366530401,
          1.699485017671733,
          -1.4933662810763182,
          -1.4420375546757855,
          0.00741199240362949,
          -2.061084183065256,
          -1.7697645039107246,
          1.9526086513272267,
          -0.20318056893072264,
          -1.3995600619671336,
          0.010642637425180183,
          1.0358081462914928,
          -0.37242494277677585,
          0.20667476003049706,
          -0.16267298076775957,
          0.7798128841823275,
          -0.35179459123935136,
          1.081467422627341,
          0.7077613301512333,
          -0.6110458049423005,
          -0.7446518379211517,
          0.47949213837655,
          -0.9540988719737546,
          0.1123688035076602,
          0.26169480514641313,
          -1.9475558614432522,
          -0.09404948355237926,
          -0.579998779191727,
          -0.9162076738199042,
          -1.3393615273245074,
          0.0788299847120889,
          0.6379938373868258,
          -0.8130888257415996,
          1.6611778058206665,
          -0.4813116087170946,
          -0.019547948800238503,
          1.331918402584154,
          -0.6571735272751751,
          -1.0682608537423943,
          -0.5733998113617014,
          0.29800706286622497,
          -1.365369741686114,
          1.3060602621305004,
          -0.4857256708152363,
          0.3445712175703463,
          1.2459952091278363,
          0.4409296584019077,
          -1.241525679399955,
          -0.017717831482726706,
          0.5284160702894732,
          0.7957565688596141,
          -0.7970539399473027,
          0.8452111615611503,
          0.6862207008234761,
          0.3928558456506407,
          0.21363798837630205,
          -1.1432047801812812,
          -0.09517977719340225,
          0.5218475516192701,
          -0.19272219613099298,
          1.05964041604494,
          0.2761071357701667,
          -0.7943275870137153,
          -1.1404461350535857,
          0.8603468722255645,
          -0.05852670388260969,
          1.3662802340147435,
          -0.7567889152604271,
          -0.3474788034623021,
          -0.23554292992878703,
          1.197373609772019,
          0.5754650080324972,
          -1.4125808720783122,
          0.30494901967571725,
          -1.5416465431940984,
          0.016412502071598608,
          0.3720332248482546,
          -1.3428792774194924,
          0.8857193838349164,
          0.6703174061080518,
          -0.7172600720684109,
          -0.21520251053018347,
          0.8786850026750797,
          -0.27803441786860095,
          1.8524411743566065,
          0.4529031345378013,
          -0.693555130039683,
          -0.72858737200973
         ],
         "yaxis": "y7"
        },
        {
         "line": {
          "color": "rgba(128, 128, 128, 1.0)",
          "dash": "solid",
          "shape": "linear",
          "width": 1.3
         },
         "marker": {
          "size": 2,
          "symbol": "circle"
         },
         "mode": "markers",
         "name": "B",
         "text": "",
         "type": "scatter",
         "x": [
          0.06019172523097076,
          -0.3164762147460986,
          -1.1431214593094021,
          0.988954441989928,
          -0.5246581629896405,
          0.3775899213866819,
          0.36853112522714376,
          -0.9899420171442083,
          0.1133917687325859,
          0.605539817851534,
          1.2049104271517652,
          -1.5031003865147754,
          1.4700788773018643,
          1.0642055929786205,
          -0.9109532886750104,
          0.684452525489341,
          -0.822918543882324,
          -0.3343470233828204,
          0.4502557185476605,
          2.2995410507704244,
          0.42405820656141413,
          1.0579285774817733,
          1.6730098523395402,
          2.141661207362836,
          0.39945239824490575,
          0.7430436236811725,
          0.8005467059269081,
          1.4113799584790845,
          -1.6458440941331192,
          -0.9512014597907744,
          -1.3679538525295512,
          -0.45605737059048407,
          0.24363953217264975,
          2.2627119526523414,
          -1.2836675626885568,
          1.5845758412218696,
          1.1586609088892865,
          0.5031938063621324,
          -1.3140130431585808,
          0.3448173975032927,
          -0.21159866501086064,
          -0.29016634575411904,
          -0.07334809688600948,
          0.21931938600014184,
          -0.4498496146329854,
          0.6462420193706621,
          0.4911779993597168,
          0.5445573655916676,
          -1.4380076966885829,
          1.488264386286784,
          -0.06646086711891994,
          -0.7667310937149749,
          0.8308825128244485,
          2.3795136616166235,
          -0.4570644652463601,
          -0.0003693884963840633,
          -1.7701542856769128,
          -0.30541636027929614,
          1.7969633617858682,
          -0.7733699053345111,
          -0.09951868470434512,
          1.9739166938462196,
          -0.6701603249898898,
          -1.1639900169641726,
          0.5703800793491294,
          0.45885481437099834,
          0.9439912083164357,
          1.1445980770515547,
          2.0470841754796365,
          -1.6993638703662,
          -1.954057694441885,
          0.40409787838588546,
          0.7441990342740958,
          0.8940087175365565,
          1.7968885795833933,
          -1.4263406954286055,
          -0.052352829613267995,
          -0.6045778132902017,
          0.6255708191710183,
          1.4349459682051686,
          -1.623214989387944,
          1.299646570104817,
          1.8428334970880769,
          0.32999413456451193,
          0.213803796614734,
          -0.9389200023125681,
          -2.2817314341578783,
          -1.0058849248931288,
          -0.9041307318463464,
          -0.377606207933437,
          0.9082038889641426,
          0.05267930843748459,
          0.2075046377655566,
          -0.6189363327383898,
          0.5064605832447548,
          0.5802166730092401,
          1.6821761073481274,
          -1.6038621207491588,
          -2.2732260368459842,
          0.9280166518635189
         ],
         "xaxis": "x8",
         "y": [
          -1.7013006760508602,
          0.3726110922373725,
          -0.9754051723074265,
          -1.4310905116703005,
          -0.49495580410156426,
          -0.23792853733818523,
          0.6820747164655667,
          -1.3244121992950646,
          0.844853852654464,
          -0.12712387910761966,
          0.07727653845877015,
          -1.6178919682285964,
          1.6620560366530401,
          1.699485017671733,
          -1.4933662810763182,
          -1.4420375546757855,
          0.00741199240362949,
          -2.061084183065256,
          -1.7697645039107246,
          1.9526086513272267,
          -0.20318056893072264,
          -1.3995600619671336,
          0.010642637425180183,
          1.0358081462914928,
          -0.37242494277677585,
          0.20667476003049706,
          -0.16267298076775957,
          0.7798128841823275,
          -0.35179459123935136,
          1.081467422627341,
          0.7077613301512333,
          -0.6110458049423005,
          -0.7446518379211517,
          0.47949213837655,
          -0.9540988719737546,
          0.1123688035076602,
          0.26169480514641313,
          -1.9475558614432522,
          -0.09404948355237926,
          -0.579998779191727,
          -0.9162076738199042,
          -1.3393615273245074,
          0.0788299847120889,
          0.6379938373868258,
          -0.8130888257415996,
          1.6611778058206665,
          -0.4813116087170946,
          -0.019547948800238503,
          1.331918402584154,
          -0.6571735272751751,
          -1.0682608537423943,
          -0.5733998113617014,
          0.29800706286622497,
          -1.365369741686114,
          1.3060602621305004,
          -0.4857256708152363,
          0.3445712175703463,
          1.2459952091278363,
          0.4409296584019077,
          -1.241525679399955,
          -0.017717831482726706,
          0.5284160702894732,
          0.7957565688596141,
          -0.7970539399473027,
          0.8452111615611503,
          0.6862207008234761,
          0.3928558456506407,
          0.21363798837630205,
          -1.1432047801812812,
          -0.09517977719340225,
          0.5218475516192701,
          -0.19272219613099298,
          1.05964041604494,
          0.2761071357701667,
          -0.7943275870137153,
          -1.1404461350535857,
          0.8603468722255645,
          -0.05852670388260969,
          1.3662802340147435,
          -0.7567889152604271,
          -0.3474788034623021,
          -0.23554292992878703,
          1.197373609772019,
          0.5754650080324972,
          -1.4125808720783122,
          0.30494901967571725,
          -1.5416465431940984,
          0.016412502071598608,
          0.3720332248482546,
          -1.3428792774194924,
          0.8857193838349164,
          0.6703174061080518,
          -0.7172600720684109,
          -0.21520251053018347,
          0.8786850026750797,
          -0.27803441786860095,
          1.8524411743566065,
          0.4529031345378013,
          -0.693555130039683,
          -0.72858737200973
         ],
         "yaxis": "y8"
        },
        {
         "line": {
          "color": "rgba(128, 128, 128, 1.0)",
          "dash": "solid",
          "shape": "linear",
          "width": 1.3
         },
         "marker": {
          "size": 2,
          "symbol": "circle"
         },
         "mode": "markers",
         "name": "C",
         "text": "",
         "type": "scatter",
         "x": [
          -0.7051831481220451,
          0.43922270603827557,
          -0.24870124121465462,
          2.057258717584174,
          0.9928029700879529,
          -0.5614200505011286,
          -0.4525971471128819,
          -0.8425476141815342,
          0.22452019875816207,
          -1.0419304921342696,
          -0.596979459798248,
          -0.5136433270420201,
          -0.30109082273899646,
          -0.8437793523718262,
          -1.3019298542708193,
          -0.7469286394475176,
          -0.15606362034286694,
          1.0414201604476443,
          -1.6083459626882008,
          0.39757187428806584,
          0.9088622126821246,
          0.1288342090116408,
          0.9148982966185591,
          -0.9919522699380063,
          -0.3555543177539484,
          -0.0945839771416839,
          0.07575588211214367,
          -0.030106281406176865,
          -1.0074275350290345,
          0.13408162979612936,
          0.17796399981688318,
          -0.13570033957890884,
          0.784454763128047,
          1.5097312060988817,
          -0.8963002615710953,
          -0.6482105493446612,
          0.9841767167594909,
          1.241599591298693,
          0.2830256966654552,
          -0.6214143312238146,
          -0.09812462802196699,
          1.7546021754331227,
          -0.4020619004488187,
          2.687347057037032,
          0.35357279144602843,
          1.8980457695588686,
          -0.44205016471097835,
          1.342302156302457,
          -2.6086746796664086,
          -0.2422383762343922,
          0.020171641164645333,
          0.038833475065560404,
          0.7611381770555126,
          0.15908773656704006,
          0.06468045369400825,
          0.9822092545872925,
          -0.8066539137936216,
          -2.131153972171354,
          0.914030903086248,
          0.014514507630141022,
          0.3247783307436006,
          -1.0623521273207823,
          -0.5627431869802589,
          -1.1557172843024368,
          -0.3798027873441633,
          -0.1438001174563708,
          1.2573609083720851,
          0.43751117368337294,
          -0.22503926746541883,
          0.4090682819088985,
          0.6237103778312871,
          -1.229011584355428,
          1.5871669025342217,
          0.0407574102693247,
          -1.4536960876806284,
          -0.6222411663434749,
          0.10286155555958691,
          0.24028167035807485,
          1.4704070810483008,
          -0.18727545016936312,
          -0.5227882042145175,
          -0.41843157353403804,
          0.5095772093194731,
          0.5769946056343663,
          1.7298184287290328,
          -0.5459541749316872,
          -2.397909800294627,
          -0.4875778238404372,
          0.30477659153794356,
          -0.023161571453009136,
          -1.4053406325800621,
          2.1471994716512177,
          0.09979825143961732,
          -0.1643652940012639,
          -1.3072456396882137,
          0.29508527262263246,
          0.33142503229300063,
          -0.1601889859460664,
          -0.732556289003857,
          -0.7623909274097523
         ],
         "xaxis": "x9",
         "y": [
          -0.019996894482532116,
          -0.2602553169003833,
          -0.2215248167300281,
          -0.8602485863574177,
          1.6873855685921646,
          -0.3287933403432567,
          2.212736908665413,
          -0.11343478774285223,
          0.4201314292366824,
          0.03579290776835197,
          -0.9223600415129647,
          0.2566551527685251,
          0.17497476752677876,
          0.14219386457951017,
          0.17761185561904086,
          0.6720934145063548,
          -0.30185818568293404,
          1.9392089899558609,
          0.6343369545960236,
          0.11724097376126452,
          0.5945537333890104,
          1.0823320997300003,
          0.015143848950196532,
          -0.4376871148491534,
          -0.7153924792724057,
          -0.7510303704897234,
          -0.3791411826102001,
          0.22631772385145377,
          -0.18637294864949822,
          -0.6271657787161323,
          -0.4662937032315267,
          -0.7455839956502811,
          -0.01950529932959586,
          0.603973934592031,
          0.36057853675762874,
          0.6925336725138185,
          -0.5201817419416065,
          1.6238757654046803,
          1.4911996042527316,
          -0.47990335261790784,
          -1.4511541185179837,
          -1.8146380630287766,
          1.133526738920183,
          -0.8060500385510251,
          2.3843731838406415,
          1.777019838947044,
          1.3526758611542338,
          -0.903346237828229,
          -0.08431983012892895,
          -0.31617224338074273,
          0.6869448004732898,
          0.3681502549924151,
          -0.9131754235222048,
          -0.9712348010319604,
          1.2256720296497043,
          -0.24663550342134388,
          1.2595994629479532,
          -0.2975746098721045,
          1.240791709837519,
          -0.5949595894075386,
          -0.17904950497807356,
          0.44546460567180246,
          1.3285003579844963,
          1.5974210037903287,
          -1.7516955599012078,
          0.5838479935591269,
          -1.456749784734076,
          0.5784208466973598,
          -1.100358845557394,
          -0.959172123564169,
          -0.3939085956468053,
          -1.632687118245128,
          0.008848318748572514,
          -1.2360334005904456,
          0.3329082688608831,
          -0.3888152669006266,
          0.06654334697309092,
          -0.39818435630663646,
          -0.3777926079042949,
          -0.10358331404241641,
          1.5509137738090428,
          -0.18388268418772813,
          0.44633468185763964,
          1.6187106738289636,
          -0.5749255574505231,
          -0.5937847496041464,
          -0.34509751361624874,
          -0.12938947331030054,
          -0.7110103065764183,
          -0.9579480600494636,
          1.312673174584851,
          -0.04148206860367141,
          -0.6838387657243769,
          0.19961747036822602,
          0.5409465763236752,
          1.1818710027484864,
          1.173119639445139,
          -0.15964691859267258,
          0.5254805439905126,
          0.37062479449525154
         ],
         "yaxis": "y9"
        },
        {
         "line": {
          "color": "rgba(128, 128, 128, 1.0)",
          "dash": "solid",
          "shape": "linear",
          "width": 1.3
         },
         "marker": {
          "size": 2,
          "symbol": "circle"
         },
         "mode": "markers",
         "name": "C",
         "text": "",
         "type": "scatter",
         "x": [
          -1.7013006760508602,
          0.3726110922373725,
          -0.9754051723074265,
          -1.4310905116703005,
          -0.49495580410156426,
          -0.23792853733818523,
          0.6820747164655667,
          -1.3244121992950646,
          0.844853852654464,
          -0.12712387910761966,
          0.07727653845877015,
          -1.6178919682285964,
          1.6620560366530401,
          1.699485017671733,
          -1.4933662810763182,
          -1.4420375546757855,
          0.00741199240362949,
          -2.061084183065256,
          -1.7697645039107246,
          1.9526086513272267,
          -0.20318056893072264,
          -1.3995600619671336,
          0.010642637425180183,
          1.0358081462914928,
          -0.37242494277677585,
          0.20667476003049706,
          -0.16267298076775957,
          0.7798128841823275,
          -0.35179459123935136,
          1.081467422627341,
          0.7077613301512333,
          -0.6110458049423005,
          -0.7446518379211517,
          0.47949213837655,
          -0.9540988719737546,
          0.1123688035076602,
          0.26169480514641313,
          -1.9475558614432522,
          -0.09404948355237926,
          -0.579998779191727,
          -0.9162076738199042,
          -1.3393615273245074,
          0.0788299847120889,
          0.6379938373868258,
          -0.8130888257415996,
          1.6611778058206665,
          -0.4813116087170946,
          -0.019547948800238503,
          1.331918402584154,
          -0.6571735272751751,
          -1.0682608537423943,
          -0.5733998113617014,
          0.29800706286622497,
          -1.365369741686114,
          1.3060602621305004,
          -0.4857256708152363,
          0.3445712175703463,
          1.2459952091278363,
          0.4409296584019077,
          -1.241525679399955,
          -0.017717831482726706,
          0.5284160702894732,
          0.7957565688596141,
          -0.7970539399473027,
          0.8452111615611503,
          0.6862207008234761,
          0.3928558456506407,
          0.21363798837630205,
          -1.1432047801812812,
          -0.09517977719340225,
          0.5218475516192701,
          -0.19272219613099298,
          1.05964041604494,
          0.2761071357701667,
          -0.7943275870137153,
          -1.1404461350535857,
          0.8603468722255645,
          -0.05852670388260969,
          1.3662802340147435,
          -0.7567889152604271,
          -0.3474788034623021,
          -0.23554292992878703,
          1.197373609772019,
          0.5754650080324972,
          -1.4125808720783122,
          0.30494901967571725,
          -1.5416465431940984,
          0.016412502071598608,
          0.3720332248482546,
          -1.3428792774194924,
          0.8857193838349164,
          0.6703174061080518,
          -0.7172600720684109,
          -0.21520251053018347,
          0.8786850026750797,
          -0.27803441786860095,
          1.8524411743566065,
          0.4529031345378013,
          -0.693555130039683,
          -0.72858737200973
         ],
         "xaxis": "x10",
         "y": [
          -0.019996894482532116,
          -0.2602553169003833,
          -0.2215248167300281,
          -0.8602485863574177,
          1.6873855685921646,
          -0.3287933403432567,
          2.212736908665413,
          -0.11343478774285223,
          0.4201314292366824,
          0.03579290776835197,
          -0.9223600415129647,
          0.2566551527685251,
          0.17497476752677876,
          0.14219386457951017,
          0.17761185561904086,
          0.6720934145063548,
          -0.30185818568293404,
          1.9392089899558609,
          0.6343369545960236,
          0.11724097376126452,
          0.5945537333890104,
          1.0823320997300003,
          0.015143848950196532,
          -0.4376871148491534,
          -0.7153924792724057,
          -0.7510303704897234,
          -0.3791411826102001,
          0.22631772385145377,
          -0.18637294864949822,
          -0.6271657787161323,
          -0.4662937032315267,
          -0.7455839956502811,
          -0.01950529932959586,
          0.603973934592031,
          0.36057853675762874,
          0.6925336725138185,
          -0.5201817419416065,
          1.6238757654046803,
          1.4911996042527316,
          -0.47990335261790784,
          -1.4511541185179837,
          -1.8146380630287766,
          1.133526738920183,
          -0.8060500385510251,
          2.3843731838406415,
          1.777019838947044,
          1.3526758611542338,
          -0.903346237828229,
          -0.08431983012892895,
          -0.31617224338074273,
          0.6869448004732898,
          0.3681502549924151,
          -0.9131754235222048,
          -0.9712348010319604,
          1.2256720296497043,
          -0.24663550342134388,
          1.2595994629479532,
          -0.2975746098721045,
          1.240791709837519,
          -0.5949595894075386,
          -0.17904950497807356,
          0.44546460567180246,
          1.3285003579844963,
          1.5974210037903287,
          -1.7516955599012078,
          0.5838479935591269,
          -1.456749784734076,
          0.5784208466973598,
          -1.100358845557394,
          -0.959172123564169,
          -0.3939085956468053,
          -1.632687118245128,
          0.008848318748572514,
          -1.2360334005904456,
          0.3329082688608831,
          -0.3888152669006266,
          0.06654334697309092,
          -0.39818435630663646,
          -0.3777926079042949,
          -0.10358331404241641,
          1.5509137738090428,
          -0.18388268418772813,
          0.44633468185763964,
          1.6187106738289636,
          -0.5749255574505231,
          -0.5937847496041464,
          -0.34509751361624874,
          -0.12938947331030054,
          -0.7110103065764183,
          -0.9579480600494636,
          1.312673174584851,
          -0.04148206860367141,
          -0.6838387657243769,
          0.19961747036822602,
          0.5409465763236752,
          1.1818710027484864,
          1.173119639445139,
          -0.15964691859267258,
          0.5254805439905126,
          0.37062479449525154
         ],
         "yaxis": "y10"
        },
        {
         "histfunc": "count",
         "histnorm": "",
         "marker": {
          "color": "rgba(50, 171, 96, 1.0)",
          "line": {
           "color": "#4D5663",
           "width": 1.3
          }
         },
         "name": "C",
         "nbinsx": 10,
         "opacity": 0.8,
         "orientation": "v",
         "type": "histogram",
         "x": [
          -0.019996894482532116,
          -0.2602553169003833,
          -0.2215248167300281,
          -0.8602485863574177,
          1.6873855685921646,
          -0.3287933403432567,
          2.212736908665413,
          -0.11343478774285223,
          0.4201314292366824,
          0.03579290776835197,
          -0.9223600415129647,
          0.2566551527685251,
          0.17497476752677876,
          0.14219386457951017,
          0.17761185561904086,
          0.6720934145063548,
          -0.30185818568293404,
          1.9392089899558609,
          0.6343369545960236,
          0.11724097376126452,
          0.5945537333890104,
          1.0823320997300003,
          0.015143848950196532,
          -0.4376871148491534,
          -0.7153924792724057,
          -0.7510303704897234,
          -0.3791411826102001,
          0.22631772385145377,
          -0.18637294864949822,
          -0.6271657787161323,
          -0.4662937032315267,
          -0.7455839956502811,
          -0.01950529932959586,
          0.603973934592031,
          0.36057853675762874,
          0.6925336725138185,
          -0.5201817419416065,
          1.6238757654046803,
          1.4911996042527316,
          -0.47990335261790784,
          -1.4511541185179837,
          -1.8146380630287766,
          1.133526738920183,
          -0.8060500385510251,
          2.3843731838406415,
          1.777019838947044,
          1.3526758611542338,
          -0.903346237828229,
          -0.08431983012892895,
          -0.31617224338074273,
          0.6869448004732898,
          0.3681502549924151,
          -0.9131754235222048,
          -0.9712348010319604,
          1.2256720296497043,
          -0.24663550342134388,
          1.2595994629479532,
          -0.2975746098721045,
          1.240791709837519,
          -0.5949595894075386,
          -0.17904950497807356,
          0.44546460567180246,
          1.3285003579844963,
          1.5974210037903287,
          -1.7516955599012078,
          0.5838479935591269,
          -1.456749784734076,
          0.5784208466973598,
          -1.100358845557394,
          -0.959172123564169,
          -0.3939085956468053,
          -1.632687118245128,
          0.008848318748572514,
          -1.2360334005904456,
          0.3329082688608831,
          -0.3888152669006266,
          0.06654334697309092,
          -0.39818435630663646,
          -0.3777926079042949,
          -0.10358331404241641,
          1.5509137738090428,
          -0.18388268418772813,
          0.44633468185763964,
          1.6187106738289636,
          -0.5749255574505231,
          -0.5937847496041464,
          -0.34509751361624874,
          -0.12938947331030054,
          -0.7110103065764183,
          -0.9579480600494636,
          1.312673174584851,
          -0.04148206860367141,
          -0.6838387657243769,
          0.19961747036822602,
          0.5409465763236752,
          1.1818710027484864,
          1.173119639445139,
          -0.15964691859267258,
          0.5254805439905126,
          0.37062479449525154
         ],
         "xaxis": "x11",
         "yaxis": "y11"
        },
        {
         "line": {
          "color": "rgba(128, 128, 128, 1.0)",
          "dash": "solid",
          "shape": "linear",
          "width": 1.3
         },
         "marker": {
          "size": 2,
          "symbol": "circle"
         },
         "mode": "markers",
         "name": "C",
         "text": "",
         "type": "scatter",
         "x": [
          0.06019172523097076,
          -0.3164762147460986,
          -1.1431214593094021,
          0.988954441989928,
          -0.5246581629896405,
          0.3775899213866819,
          0.36853112522714376,
          -0.9899420171442083,
          0.1133917687325859,
          0.605539817851534,
          1.2049104271517652,
          -1.5031003865147754,
          1.4700788773018643,
          1.0642055929786205,
          -0.9109532886750104,
          0.684452525489341,
          -0.822918543882324,
          -0.3343470233828204,
          0.4502557185476605,
          2.2995410507704244,
          0.42405820656141413,
          1.0579285774817733,
          1.6730098523395402,
          2.141661207362836,
          0.39945239824490575,
          0.7430436236811725,
          0.8005467059269081,
          1.4113799584790845,
          -1.6458440941331192,
          -0.9512014597907744,
          -1.3679538525295512,
          -0.45605737059048407,
          0.24363953217264975,
          2.2627119526523414,
          -1.2836675626885568,
          1.5845758412218696,
          1.1586609088892865,
          0.5031938063621324,
          -1.3140130431585808,
          0.3448173975032927,
          -0.21159866501086064,
          -0.29016634575411904,
          -0.07334809688600948,
          0.21931938600014184,
          -0.4498496146329854,
          0.6462420193706621,
          0.4911779993597168,
          0.5445573655916676,
          -1.4380076966885829,
          1.488264386286784,
          -0.06646086711891994,
          -0.7667310937149749,
          0.8308825128244485,
          2.3795136616166235,
          -0.4570644652463601,
          -0.0003693884963840633,
          -1.7701542856769128,
          -0.30541636027929614,
          1.7969633617858682,
          -0.7733699053345111,
          -0.09951868470434512,
          1.9739166938462196,
          -0.6701603249898898,
          -1.1639900169641726,
          0.5703800793491294,
          0.45885481437099834,
          0.9439912083164357,
          1.1445980770515547,
          2.0470841754796365,
          -1.6993638703662,
          -1.954057694441885,
          0.40409787838588546,
          0.7441990342740958,
          0.8940087175365565,
          1.7968885795833933,
          -1.4263406954286055,
          -0.052352829613267995,
          -0.6045778132902017,
          0.6255708191710183,
          1.4349459682051686,
          -1.623214989387944,
          1.299646570104817,
          1.8428334970880769,
          0.32999413456451193,
          0.213803796614734,
          -0.9389200023125681,
          -2.2817314341578783,
          -1.0058849248931288,
          -0.9041307318463464,
          -0.377606207933437,
          0.9082038889641426,
          0.05267930843748459,
          0.2075046377655566,
          -0.6189363327383898,
          0.5064605832447548,
          0.5802166730092401,
          1.6821761073481274,
          -1.6038621207491588,
          -2.2732260368459842,
          0.9280166518635189
         ],
         "xaxis": "x12",
         "y": [
          -0.019996894482532116,
          -0.2602553169003833,
          -0.2215248167300281,
          -0.8602485863574177,
          1.6873855685921646,
          -0.3287933403432567,
          2.212736908665413,
          -0.11343478774285223,
          0.4201314292366824,
          0.03579290776835197,
          -0.9223600415129647,
          0.2566551527685251,
          0.17497476752677876,
          0.14219386457951017,
          0.17761185561904086,
          0.6720934145063548,
          -0.30185818568293404,
          1.9392089899558609,
          0.6343369545960236,
          0.11724097376126452,
          0.5945537333890104,
          1.0823320997300003,
          0.015143848950196532,
          -0.4376871148491534,
          -0.7153924792724057,
          -0.7510303704897234,
          -0.3791411826102001,
          0.22631772385145377,
          -0.18637294864949822,
          -0.6271657787161323,
          -0.4662937032315267,
          -0.7455839956502811,
          -0.01950529932959586,
          0.603973934592031,
          0.36057853675762874,
          0.6925336725138185,
          -0.5201817419416065,
          1.6238757654046803,
          1.4911996042527316,
          -0.47990335261790784,
          -1.4511541185179837,
          -1.8146380630287766,
          1.133526738920183,
          -0.8060500385510251,
          2.3843731838406415,
          1.777019838947044,
          1.3526758611542338,
          -0.903346237828229,
          -0.08431983012892895,
          -0.31617224338074273,
          0.6869448004732898,
          0.3681502549924151,
          -0.9131754235222048,
          -0.9712348010319604,
          1.2256720296497043,
          -0.24663550342134388,
          1.2595994629479532,
          -0.2975746098721045,
          1.240791709837519,
          -0.5949595894075386,
          -0.17904950497807356,
          0.44546460567180246,
          1.3285003579844963,
          1.5974210037903287,
          -1.7516955599012078,
          0.5838479935591269,
          -1.456749784734076,
          0.5784208466973598,
          -1.100358845557394,
          -0.959172123564169,
          -0.3939085956468053,
          -1.632687118245128,
          0.008848318748572514,
          -1.2360334005904456,
          0.3329082688608831,
          -0.3888152669006266,
          0.06654334697309092,
          -0.39818435630663646,
          -0.3777926079042949,
          -0.10358331404241641,
          1.5509137738090428,
          -0.18388268418772813,
          0.44633468185763964,
          1.6187106738289636,
          -0.5749255574505231,
          -0.5937847496041464,
          -0.34509751361624874,
          -0.12938947331030054,
          -0.7110103065764183,
          -0.9579480600494636,
          1.312673174584851,
          -0.04148206860367141,
          -0.6838387657243769,
          0.19961747036822602,
          0.5409465763236752,
          1.1818710027484864,
          1.173119639445139,
          -0.15964691859267258,
          0.5254805439905126,
          0.37062479449525154
         ],
         "yaxis": "y12"
        },
        {
         "line": {
          "color": "rgba(128, 128, 128, 1.0)",
          "dash": "solid",
          "shape": "linear",
          "width": 1.3
         },
         "marker": {
          "size": 2,
          "symbol": "circle"
         },
         "mode": "markers",
         "name": "D",
         "text": "",
         "type": "scatter",
         "x": [
          -0.7051831481220451,
          0.43922270603827557,
          -0.24870124121465462,
          2.057258717584174,
          0.9928029700879529,
          -0.5614200505011286,
          -0.4525971471128819,
          -0.8425476141815342,
          0.22452019875816207,
          -1.0419304921342696,
          -0.596979459798248,
          -0.5136433270420201,
          -0.30109082273899646,
          -0.8437793523718262,
          -1.3019298542708193,
          -0.7469286394475176,
          -0.15606362034286694,
          1.0414201604476443,
          -1.6083459626882008,
          0.39757187428806584,
          0.9088622126821246,
          0.1288342090116408,
          0.9148982966185591,
          -0.9919522699380063,
          -0.3555543177539484,
          -0.0945839771416839,
          0.07575588211214367,
          -0.030106281406176865,
          -1.0074275350290345,
          0.13408162979612936,
          0.17796399981688318,
          -0.13570033957890884,
          0.784454763128047,
          1.5097312060988817,
          -0.8963002615710953,
          -0.6482105493446612,
          0.9841767167594909,
          1.241599591298693,
          0.2830256966654552,
          -0.6214143312238146,
          -0.09812462802196699,
          1.7546021754331227,
          -0.4020619004488187,
          2.687347057037032,
          0.35357279144602843,
          1.8980457695588686,
          -0.44205016471097835,
          1.342302156302457,
          -2.6086746796664086,
          -0.2422383762343922,
          0.020171641164645333,
          0.038833475065560404,
          0.7611381770555126,
          0.15908773656704006,
          0.06468045369400825,
          0.9822092545872925,
          -0.8066539137936216,
          -2.131153972171354,
          0.914030903086248,
          0.014514507630141022,
          0.3247783307436006,
          -1.0623521273207823,
          -0.5627431869802589,
          -1.1557172843024368,
          -0.3798027873441633,
          -0.1438001174563708,
          1.2573609083720851,
          0.43751117368337294,
          -0.22503926746541883,
          0.4090682819088985,
          0.6237103778312871,
          -1.229011584355428,
          1.5871669025342217,
          0.0407574102693247,
          -1.4536960876806284,
          -0.6222411663434749,
          0.10286155555958691,
          0.24028167035807485,
          1.4704070810483008,
          -0.18727545016936312,
          -0.5227882042145175,
          -0.41843157353403804,
          0.5095772093194731,
          0.5769946056343663,
          1.7298184287290328,
          -0.5459541749316872,
          -2.397909800294627,
          -0.4875778238404372,
          0.30477659153794356,
          -0.023161571453009136,
          -1.4053406325800621,
          2.1471994716512177,
          0.09979825143961732,
          -0.1643652940012639,
          -1.3072456396882137,
          0.29508527262263246,
          0.33142503229300063,
          -0.1601889859460664,
          -0.732556289003857,
          -0.7623909274097523
         ],
         "xaxis": "x13",
         "y": [
          0.06019172523097076,
          -0.3164762147460986,
          -1.1431214593094021,
          0.988954441989928,
          -0.5246581629896405,
          0.3775899213866819,
          0.36853112522714376,
          -0.9899420171442083,
          0.1133917687325859,
          0.605539817851534,
          1.2049104271517652,
          -1.5031003865147754,
          1.4700788773018643,
          1.0642055929786205,
          -0.9109532886750104,
          0.684452525489341,
          -0.822918543882324,
          -0.3343470233828204,
          0.4502557185476605,
          2.2995410507704244,
          0.42405820656141413,
          1.0579285774817733,
          1.6730098523395402,
          2.141661207362836,
          0.39945239824490575,
          0.7430436236811725,
          0.8005467059269081,
          1.4113799584790845,
          -1.6458440941331192,
          -0.9512014597907744,
          -1.3679538525295512,
          -0.45605737059048407,
          0.24363953217264975,
          2.2627119526523414,
          -1.2836675626885568,
          1.5845758412218696,
          1.1586609088892865,
          0.5031938063621324,
          -1.3140130431585808,
          0.3448173975032927,
          -0.21159866501086064,
          -0.29016634575411904,
          -0.07334809688600948,
          0.21931938600014184,
          -0.4498496146329854,
          0.6462420193706621,
          0.4911779993597168,
          0.5445573655916676,
          -1.4380076966885829,
          1.488264386286784,
          -0.06646086711891994,
          -0.7667310937149749,
          0.8308825128244485,
          2.3795136616166235,
          -0.4570644652463601,
          -0.0003693884963840633,
          -1.7701542856769128,
          -0.30541636027929614,
          1.7969633617858682,
          -0.7733699053345111,
          -0.09951868470434512,
          1.9739166938462196,
          -0.6701603249898898,
          -1.1639900169641726,
          0.5703800793491294,
          0.45885481437099834,
          0.9439912083164357,
          1.1445980770515547,
          2.0470841754796365,
          -1.6993638703662,
          -1.954057694441885,
          0.40409787838588546,
          0.7441990342740958,
          0.8940087175365565,
          1.7968885795833933,
          -1.4263406954286055,
          -0.052352829613267995,
          -0.6045778132902017,
          0.6255708191710183,
          1.4349459682051686,
          -1.623214989387944,
          1.299646570104817,
          1.8428334970880769,
          0.32999413456451193,
          0.213803796614734,
          -0.9389200023125681,
          -2.2817314341578783,
          -1.0058849248931288,
          -0.9041307318463464,
          -0.377606207933437,
          0.9082038889641426,
          0.05267930843748459,
          0.2075046377655566,
          -0.6189363327383898,
          0.5064605832447548,
          0.5802166730092401,
          1.6821761073481274,
          -1.6038621207491588,
          -2.2732260368459842,
          0.9280166518635189
         ],
         "yaxis": "y13"
        },
        {
         "line": {
          "color": "rgba(128, 128, 128, 1.0)",
          "dash": "solid",
          "shape": "linear",
          "width": 1.3
         },
         "marker": {
          "size": 2,
          "symbol": "circle"
         },
         "mode": "markers",
         "name": "D",
         "text": "",
         "type": "scatter",
         "x": [
          -1.7013006760508602,
          0.3726110922373725,
          -0.9754051723074265,
          -1.4310905116703005,
          -0.49495580410156426,
          -0.23792853733818523,
          0.6820747164655667,
          -1.3244121992950646,
          0.844853852654464,
          -0.12712387910761966,
          0.07727653845877015,
          -1.6178919682285964,
          1.6620560366530401,
          1.699485017671733,
          -1.4933662810763182,
          -1.4420375546757855,
          0.00741199240362949,
          -2.061084183065256,
          -1.7697645039107246,
          1.9526086513272267,
          -0.20318056893072264,
          -1.3995600619671336,
          0.010642637425180183,
          1.0358081462914928,
          -0.37242494277677585,
          0.20667476003049706,
          -0.16267298076775957,
          0.7798128841823275,
          -0.35179459123935136,
          1.081467422627341,
          0.7077613301512333,
          -0.6110458049423005,
          -0.7446518379211517,
          0.47949213837655,
          -0.9540988719737546,
          0.1123688035076602,
          0.26169480514641313,
          -1.9475558614432522,
          -0.09404948355237926,
          -0.579998779191727,
          -0.9162076738199042,
          -1.3393615273245074,
          0.0788299847120889,
          0.6379938373868258,
          -0.8130888257415996,
          1.6611778058206665,
          -0.4813116087170946,
          -0.019547948800238503,
          1.331918402584154,
          -0.6571735272751751,
          -1.0682608537423943,
          -0.5733998113617014,
          0.29800706286622497,
          -1.365369741686114,
          1.3060602621305004,
          -0.4857256708152363,
          0.3445712175703463,
          1.2459952091278363,
          0.4409296584019077,
          -1.241525679399955,
          -0.017717831482726706,
          0.5284160702894732,
          0.7957565688596141,
          -0.7970539399473027,
          0.8452111615611503,
          0.6862207008234761,
          0.3928558456506407,
          0.21363798837630205,
          -1.1432047801812812,
          -0.09517977719340225,
          0.5218475516192701,
          -0.19272219613099298,
          1.05964041604494,
          0.2761071357701667,
          -0.7943275870137153,
          -1.1404461350535857,
          0.8603468722255645,
          -0.05852670388260969,
          1.3662802340147435,
          -0.7567889152604271,
          -0.3474788034623021,
          -0.23554292992878703,
          1.197373609772019,
          0.5754650080324972,
          -1.4125808720783122,
          0.30494901967571725,
          -1.5416465431940984,
          0.016412502071598608,
          0.3720332248482546,
          -1.3428792774194924,
          0.8857193838349164,
          0.6703174061080518,
          -0.7172600720684109,
          -0.21520251053018347,
          0.8786850026750797,
          -0.27803441786860095,
          1.8524411743566065,
          0.4529031345378013,
          -0.693555130039683,
          -0.72858737200973
         ],
         "xaxis": "x14",
         "y": [
          0.06019172523097076,
          -0.3164762147460986,
          -1.1431214593094021,
          0.988954441989928,
          -0.5246581629896405,
          0.3775899213866819,
          0.36853112522714376,
          -0.9899420171442083,
          0.1133917687325859,
          0.605539817851534,
          1.2049104271517652,
          -1.5031003865147754,
          1.4700788773018643,
          1.0642055929786205,
          -0.9109532886750104,
          0.684452525489341,
          -0.822918543882324,
          -0.3343470233828204,
          0.4502557185476605,
          2.2995410507704244,
          0.42405820656141413,
          1.0579285774817733,
          1.6730098523395402,
          2.141661207362836,
          0.39945239824490575,
          0.7430436236811725,
          0.8005467059269081,
          1.4113799584790845,
          -1.6458440941331192,
          -0.9512014597907744,
          -1.3679538525295512,
          -0.45605737059048407,
          0.24363953217264975,
          2.2627119526523414,
          -1.2836675626885568,
          1.5845758412218696,
          1.1586609088892865,
          0.5031938063621324,
          -1.3140130431585808,
          0.3448173975032927,
          -0.21159866501086064,
          -0.29016634575411904,
          -0.07334809688600948,
          0.21931938600014184,
          -0.4498496146329854,
          0.6462420193706621,
          0.4911779993597168,
          0.5445573655916676,
          -1.4380076966885829,
          1.488264386286784,
          -0.06646086711891994,
          -0.7667310937149749,
          0.8308825128244485,
          2.3795136616166235,
          -0.4570644652463601,
          -0.0003693884963840633,
          -1.7701542856769128,
          -0.30541636027929614,
          1.7969633617858682,
          -0.7733699053345111,
          -0.09951868470434512,
          1.9739166938462196,
          -0.6701603249898898,
          -1.1639900169641726,
          0.5703800793491294,
          0.45885481437099834,
          0.9439912083164357,
          1.1445980770515547,
          2.0470841754796365,
          -1.6993638703662,
          -1.954057694441885,
          0.40409787838588546,
          0.7441990342740958,
          0.8940087175365565,
          1.7968885795833933,
          -1.4263406954286055,
          -0.052352829613267995,
          -0.6045778132902017,
          0.6255708191710183,
          1.4349459682051686,
          -1.623214989387944,
          1.299646570104817,
          1.8428334970880769,
          0.32999413456451193,
          0.213803796614734,
          -0.9389200023125681,
          -2.2817314341578783,
          -1.0058849248931288,
          -0.9041307318463464,
          -0.377606207933437,
          0.9082038889641426,
          0.05267930843748459,
          0.2075046377655566,
          -0.6189363327383898,
          0.5064605832447548,
          0.5802166730092401,
          1.6821761073481274,
          -1.6038621207491588,
          -2.2732260368459842,
          0.9280166518635189
         ],
         "yaxis": "y14"
        },
        {
         "line": {
          "color": "rgba(128, 128, 128, 1.0)",
          "dash": "solid",
          "shape": "linear",
          "width": 1.3
         },
         "marker": {
          "size": 2,
          "symbol": "circle"
         },
         "mode": "markers",
         "name": "D",
         "text": "",
         "type": "scatter",
         "x": [
          -0.019996894482532116,
          -0.2602553169003833,
          -0.2215248167300281,
          -0.8602485863574177,
          1.6873855685921646,
          -0.3287933403432567,
          2.212736908665413,
          -0.11343478774285223,
          0.4201314292366824,
          0.03579290776835197,
          -0.9223600415129647,
          0.2566551527685251,
          0.17497476752677876,
          0.14219386457951017,
          0.17761185561904086,
          0.6720934145063548,
          -0.30185818568293404,
          1.9392089899558609,
          0.6343369545960236,
          0.11724097376126452,
          0.5945537333890104,
          1.0823320997300003,
          0.015143848950196532,
          -0.4376871148491534,
          -0.7153924792724057,
          -0.7510303704897234,
          -0.3791411826102001,
          0.22631772385145377,
          -0.18637294864949822,
          -0.6271657787161323,
          -0.4662937032315267,
          -0.7455839956502811,
          -0.01950529932959586,
          0.603973934592031,
          0.36057853675762874,
          0.6925336725138185,
          -0.5201817419416065,
          1.6238757654046803,
          1.4911996042527316,
          -0.47990335261790784,
          -1.4511541185179837,
          -1.8146380630287766,
          1.133526738920183,
          -0.8060500385510251,
          2.3843731838406415,
          1.777019838947044,
          1.3526758611542338,
          -0.903346237828229,
          -0.08431983012892895,
          -0.31617224338074273,
          0.6869448004732898,
          0.3681502549924151,
          -0.9131754235222048,
          -0.9712348010319604,
          1.2256720296497043,
          -0.24663550342134388,
          1.2595994629479532,
          -0.2975746098721045,
          1.240791709837519,
          -0.5949595894075386,
          -0.17904950497807356,
          0.44546460567180246,
          1.3285003579844963,
          1.5974210037903287,
          -1.7516955599012078,
          0.5838479935591269,
          -1.456749784734076,
          0.5784208466973598,
          -1.100358845557394,
          -0.959172123564169,
          -0.3939085956468053,
          -1.632687118245128,
          0.008848318748572514,
          -1.2360334005904456,
          0.3329082688608831,
          -0.3888152669006266,
          0.06654334697309092,
          -0.39818435630663646,
          -0.3777926079042949,
          -0.10358331404241641,
          1.5509137738090428,
          -0.18388268418772813,
          0.44633468185763964,
          1.6187106738289636,
          -0.5749255574505231,
          -0.5937847496041464,
          -0.34509751361624874,
          -0.12938947331030054,
          -0.7110103065764183,
          -0.9579480600494636,
          1.312673174584851,
          -0.04148206860367141,
          -0.6838387657243769,
          0.19961747036822602,
          0.5409465763236752,
          1.1818710027484864,
          1.173119639445139,
          -0.15964691859267258,
          0.5254805439905126,
          0.37062479449525154
         ],
         "xaxis": "x15",
         "y": [
          0.06019172523097076,
          -0.3164762147460986,
          -1.1431214593094021,
          0.988954441989928,
          -0.5246581629896405,
          0.3775899213866819,
          0.36853112522714376,
          -0.9899420171442083,
          0.1133917687325859,
          0.605539817851534,
          1.2049104271517652,
          -1.5031003865147754,
          1.4700788773018643,
          1.0642055929786205,
          -0.9109532886750104,
          0.684452525489341,
          -0.822918543882324,
          -0.3343470233828204,
          0.4502557185476605,
          2.2995410507704244,
          0.42405820656141413,
          1.0579285774817733,
          1.6730098523395402,
          2.141661207362836,
          0.39945239824490575,
          0.7430436236811725,
          0.8005467059269081,
          1.4113799584790845,
          -1.6458440941331192,
          -0.9512014597907744,
          -1.3679538525295512,
          -0.45605737059048407,
          0.24363953217264975,
          2.2627119526523414,
          -1.2836675626885568,
          1.5845758412218696,
          1.1586609088892865,
          0.5031938063621324,
          -1.3140130431585808,
          0.3448173975032927,
          -0.21159866501086064,
          -0.29016634575411904,
          -0.07334809688600948,
          0.21931938600014184,
          -0.4498496146329854,
          0.6462420193706621,
          0.4911779993597168,
          0.5445573655916676,
          -1.4380076966885829,
          1.488264386286784,
          -0.06646086711891994,
          -0.7667310937149749,
          0.8308825128244485,
          2.3795136616166235,
          -0.4570644652463601,
          -0.0003693884963840633,
          -1.7701542856769128,
          -0.30541636027929614,
          1.7969633617858682,
          -0.7733699053345111,
          -0.09951868470434512,
          1.9739166938462196,
          -0.6701603249898898,
          -1.1639900169641726,
          0.5703800793491294,
          0.45885481437099834,
          0.9439912083164357,
          1.1445980770515547,
          2.0470841754796365,
          -1.6993638703662,
          -1.954057694441885,
          0.40409787838588546,
          0.7441990342740958,
          0.8940087175365565,
          1.7968885795833933,
          -1.4263406954286055,
          -0.052352829613267995,
          -0.6045778132902017,
          0.6255708191710183,
          1.4349459682051686,
          -1.623214989387944,
          1.299646570104817,
          1.8428334970880769,
          0.32999413456451193,
          0.213803796614734,
          -0.9389200023125681,
          -2.2817314341578783,
          -1.0058849248931288,
          -0.9041307318463464,
          -0.377606207933437,
          0.9082038889641426,
          0.05267930843748459,
          0.2075046377655566,
          -0.6189363327383898,
          0.5064605832447548,
          0.5802166730092401,
          1.6821761073481274,
          -1.6038621207491588,
          -2.2732260368459842,
          0.9280166518635189
         ],
         "yaxis": "y15"
        },
        {
         "histfunc": "count",
         "histnorm": "",
         "marker": {
          "color": "rgba(128, 0, 128, 1.0)",
          "line": {
           "color": "#4D5663",
           "width": 1.3
          }
         },
         "name": "D",
         "nbinsx": 10,
         "opacity": 0.8,
         "orientation": "v",
         "type": "histogram",
         "x": [
          0.06019172523097076,
          -0.3164762147460986,
          -1.1431214593094021,
          0.988954441989928,
          -0.5246581629896405,
          0.3775899213866819,
          0.36853112522714376,
          -0.9899420171442083,
          0.1133917687325859,
          0.605539817851534,
          1.2049104271517652,
          -1.5031003865147754,
          1.4700788773018643,
          1.0642055929786205,
          -0.9109532886750104,
          0.684452525489341,
          -0.822918543882324,
          -0.3343470233828204,
          0.4502557185476605,
          2.2995410507704244,
          0.42405820656141413,
          1.0579285774817733,
          1.6730098523395402,
          2.141661207362836,
          0.39945239824490575,
          0.7430436236811725,
          0.8005467059269081,
          1.4113799584790845,
          -1.6458440941331192,
          -0.9512014597907744,
          -1.3679538525295512,
          -0.45605737059048407,
          0.24363953217264975,
          2.2627119526523414,
          -1.2836675626885568,
          1.5845758412218696,
          1.1586609088892865,
          0.5031938063621324,
          -1.3140130431585808,
          0.3448173975032927,
          -0.21159866501086064,
          -0.29016634575411904,
          -0.07334809688600948,
          0.21931938600014184,
          -0.4498496146329854,
          0.6462420193706621,
          0.4911779993597168,
          0.5445573655916676,
          -1.4380076966885829,
          1.488264386286784,
          -0.06646086711891994,
          -0.7667310937149749,
          0.8308825128244485,
          2.3795136616166235,
          -0.4570644652463601,
          -0.0003693884963840633,
          -1.7701542856769128,
          -0.30541636027929614,
          1.7969633617858682,
          -0.7733699053345111,
          -0.09951868470434512,
          1.9739166938462196,
          -0.6701603249898898,
          -1.1639900169641726,
          0.5703800793491294,
          0.45885481437099834,
          0.9439912083164357,
          1.1445980770515547,
          2.0470841754796365,
          -1.6993638703662,
          -1.954057694441885,
          0.40409787838588546,
          0.7441990342740958,
          0.8940087175365565,
          1.7968885795833933,
          -1.4263406954286055,
          -0.052352829613267995,
          -0.6045778132902017,
          0.6255708191710183,
          1.4349459682051686,
          -1.623214989387944,
          1.299646570104817,
          1.8428334970880769,
          0.32999413456451193,
          0.213803796614734,
          -0.9389200023125681,
          -2.2817314341578783,
          -1.0058849248931288,
          -0.9041307318463464,
          -0.377606207933437,
          0.9082038889641426,
          0.05267930843748459,
          0.2075046377655566,
          -0.6189363327383898,
          0.5064605832447548,
          0.5802166730092401,
          1.6821761073481274,
          -1.6038621207491588,
          -2.2732260368459842,
          0.9280166518635189
         ],
         "xaxis": "x16",
         "yaxis": "y16"
        }
       ],
       "layout": {
        "bargap": 0.02,
        "legend": {
         "bgcolor": "#F5F6F9",
         "font": {
          "color": "#4D5663"
         }
        },
        "paper_bgcolor": "#F5F6F9",
        "plot_bgcolor": "#F5F6F9",
        "showlegend": false,
        "template": {
         "data": {
          "bar": [
           {
            "error_x": {
             "color": "#2a3f5f"
            },
            "error_y": {
             "color": "#2a3f5f"
            },
            "marker": {
             "line": {
              "color": "#E5ECF6",
              "width": 0.5
             },
             "pattern": {
              "fillmode": "overlay",
              "size": 10,
              "solidity": 0.2
             }
            },
            "type": "bar"
           }
          ],
          "barpolar": [
           {
            "marker": {
             "line": {
              "color": "#E5ECF6",
              "width": 0.5
             },
             "pattern": {
              "fillmode": "overlay",
              "size": 10,
              "solidity": 0.2
             }
            },
            "type": "barpolar"
           }
          ],
          "carpet": [
           {
            "aaxis": {
             "endlinecolor": "#2a3f5f",
             "gridcolor": "white",
             "linecolor": "white",
             "minorgridcolor": "white",
             "startlinecolor": "#2a3f5f"
            },
            "baxis": {
             "endlinecolor": "#2a3f5f",
             "gridcolor": "white",
             "linecolor": "white",
             "minorgridcolor": "white",
             "startlinecolor": "#2a3f5f"
            },
            "type": "carpet"
           }
          ],
          "choropleth": [
           {
            "colorbar": {
             "outlinewidth": 0,
             "ticks": ""
            },
            "type": "choropleth"
           }
          ],
          "contour": [
           {
            "colorbar": {
             "outlinewidth": 0,
             "ticks": ""
            },
            "colorscale": [
             [
              0,
              "#0d0887"
             ],
             [
              0.1111111111111111,
              "#46039f"
             ],
             [
              0.2222222222222222,
              "#7201a8"
             ],
             [
              0.3333333333333333,
              "#9c179e"
             ],
             [
              0.4444444444444444,
              "#bd3786"
             ],
             [
              0.5555555555555556,
              "#d8576b"
             ],
             [
              0.6666666666666666,
              "#ed7953"
             ],
             [
              0.7777777777777778,
              "#fb9f3a"
             ],
             [
              0.8888888888888888,
              "#fdca26"
             ],
             [
              1,
              "#f0f921"
             ]
            ],
            "type": "contour"
           }
          ],
          "contourcarpet": [
           {
            "colorbar": {
             "outlinewidth": 0,
             "ticks": ""
            },
            "type": "contourcarpet"
           }
          ],
          "heatmap": [
           {
            "colorbar": {
             "outlinewidth": 0,
             "ticks": ""
            },
            "colorscale": [
             [
              0,
              "#0d0887"
             ],
             [
              0.1111111111111111,
              "#46039f"
             ],
             [
              0.2222222222222222,
              "#7201a8"
             ],
             [
              0.3333333333333333,
              "#9c179e"
             ],
             [
              0.4444444444444444,
              "#bd3786"
             ],
             [
              0.5555555555555556,
              "#d8576b"
             ],
             [
              0.6666666666666666,
              "#ed7953"
             ],
             [
              0.7777777777777778,
              "#fb9f3a"
             ],
             [
              0.8888888888888888,
              "#fdca26"
             ],
             [
              1,
              "#f0f921"
             ]
            ],
            "type": "heatmap"
           }
          ],
          "heatmapgl": [
           {
            "colorbar": {
             "outlinewidth": 0,
             "ticks": ""
            },
            "colorscale": [
             [
              0,
              "#0d0887"
             ],
             [
              0.1111111111111111,
              "#46039f"
             ],
             [
              0.2222222222222222,
              "#7201a8"
             ],
             [
              0.3333333333333333,
              "#9c179e"
             ],
             [
              0.4444444444444444,
              "#bd3786"
             ],
             [
              0.5555555555555556,
              "#d8576b"
             ],
             [
              0.6666666666666666,
              "#ed7953"
             ],
             [
              0.7777777777777778,
              "#fb9f3a"
             ],
             [
              0.8888888888888888,
              "#fdca26"
             ],
             [
              1,
              "#f0f921"
             ]
            ],
            "type": "heatmapgl"
           }
          ],
          "histogram": [
           {
            "marker": {
             "pattern": {
              "fillmode": "overlay",
              "size": 10,
              "solidity": 0.2
             }
            },
            "type": "histogram"
           }
          ],
          "histogram2d": [
           {
            "colorbar": {
             "outlinewidth": 0,
             "ticks": ""
            },
            "colorscale": [
             [
              0,
              "#0d0887"
             ],
             [
              0.1111111111111111,
              "#46039f"
             ],
             [
              0.2222222222222222,
              "#7201a8"
             ],
             [
              0.3333333333333333,
              "#9c179e"
             ],
             [
              0.4444444444444444,
              "#bd3786"
             ],
             [
              0.5555555555555556,
              "#d8576b"
             ],
             [
              0.6666666666666666,
              "#ed7953"
             ],
             [
              0.7777777777777778,
              "#fb9f3a"
             ],
             [
              0.8888888888888888,
              "#fdca26"
             ],
             [
              1,
              "#f0f921"
             ]
            ],
            "type": "histogram2d"
           }
          ],
          "histogram2dcontour": [
           {
            "colorbar": {
             "outlinewidth": 0,
             "ticks": ""
            },
            "colorscale": [
             [
              0,
              "#0d0887"
             ],
             [
              0.1111111111111111,
              "#46039f"
             ],
             [
              0.2222222222222222,
              "#7201a8"
             ],
             [
              0.3333333333333333,
              "#9c179e"
             ],
             [
              0.4444444444444444,
              "#bd3786"
             ],
             [
              0.5555555555555556,
              "#d8576b"
             ],
             [
              0.6666666666666666,
              "#ed7953"
             ],
             [
              0.7777777777777778,
              "#fb9f3a"
             ],
             [
              0.8888888888888888,
              "#fdca26"
             ],
             [
              1,
              "#f0f921"
             ]
            ],
            "type": "histogram2dcontour"
           }
          ],
          "mesh3d": [
           {
            "colorbar": {
             "outlinewidth": 0,
             "ticks": ""
            },
            "type": "mesh3d"
           }
          ],
          "parcoords": [
           {
            "line": {
             "colorbar": {
              "outlinewidth": 0,
              "ticks": ""
             }
            },
            "type": "parcoords"
           }
          ],
          "pie": [
           {
            "automargin": true,
            "type": "pie"
           }
          ],
          "scatter": [
           {
            "marker": {
             "colorbar": {
              "outlinewidth": 0,
              "ticks": ""
             }
            },
            "type": "scatter"
           }
          ],
          "scatter3d": [
           {
            "line": {
             "colorbar": {
              "outlinewidth": 0,
              "ticks": ""
             }
            },
            "marker": {
             "colorbar": {
              "outlinewidth": 0,
              "ticks": ""
             }
            },
            "type": "scatter3d"
           }
          ],
          "scattercarpet": [
           {
            "marker": {
             "colorbar": {
              "outlinewidth": 0,
              "ticks": ""
             }
            },
            "type": "scattercarpet"
           }
          ],
          "scattergeo": [
           {
            "marker": {
             "colorbar": {
              "outlinewidth": 0,
              "ticks": ""
             }
            },
            "type": "scattergeo"
           }
          ],
          "scattergl": [
           {
            "marker": {
             "colorbar": {
              "outlinewidth": 0,
              "ticks": ""
             }
            },
            "type": "scattergl"
           }
          ],
          "scattermapbox": [
           {
            "marker": {
             "colorbar": {
              "outlinewidth": 0,
              "ticks": ""
             }
            },
            "type": "scattermapbox"
           }
          ],
          "scatterpolar": [
           {
            "marker": {
             "colorbar": {
              "outlinewidth": 0,
              "ticks": ""
             }
            },
            "type": "scatterpolar"
           }
          ],
          "scatterpolargl": [
           {
            "marker": {
             "colorbar": {
              "outlinewidth": 0,
              "ticks": ""
             }
            },
            "type": "scatterpolargl"
           }
          ],
          "scatterternary": [
           {
            "marker": {
             "colorbar": {
              "outlinewidth": 0,
              "ticks": ""
             }
            },
            "type": "scatterternary"
           }
          ],
          "surface": [
           {
            "colorbar": {
             "outlinewidth": 0,
             "ticks": ""
            },
            "colorscale": [
             [
              0,
              "#0d0887"
             ],
             [
              0.1111111111111111,
              "#46039f"
             ],
             [
              0.2222222222222222,
              "#7201a8"
             ],
             [
              0.3333333333333333,
              "#9c179e"
             ],
             [
              0.4444444444444444,
              "#bd3786"
             ],
             [
              0.5555555555555556,
              "#d8576b"
             ],
             [
              0.6666666666666666,
              "#ed7953"
             ],
             [
              0.7777777777777778,
              "#fb9f3a"
             ],
             [
              0.8888888888888888,
              "#fdca26"
             ],
             [
              1,
              "#f0f921"
             ]
            ],
            "type": "surface"
           }
          ],
          "table": [
           {
            "cells": {
             "fill": {
              "color": "#EBF0F8"
             },
             "line": {
              "color": "white"
             }
            },
            "header": {
             "fill": {
              "color": "#C8D4E3"
             },
             "line": {
              "color": "white"
             }
            },
            "type": "table"
           }
          ]
         },
         "layout": {
          "annotationdefaults": {
           "arrowcolor": "#2a3f5f",
           "arrowhead": 0,
           "arrowwidth": 1
          },
          "autotypenumbers": "strict",
          "coloraxis": {
           "colorbar": {
            "outlinewidth": 0,
            "ticks": ""
           }
          },
          "colorscale": {
           "diverging": [
            [
             0,
             "#8e0152"
            ],
            [
             0.1,
             "#c51b7d"
            ],
            [
             0.2,
             "#de77ae"
            ],
            [
             0.3,
             "#f1b6da"
            ],
            [
             0.4,
             "#fde0ef"
            ],
            [
             0.5,
             "#f7f7f7"
            ],
            [
             0.6,
             "#e6f5d0"
            ],
            [
             0.7,
             "#b8e186"
            ],
            [
             0.8,
             "#7fbc41"
            ],
            [
             0.9,
             "#4d9221"
            ],
            [
             1,
             "#276419"
            ]
           ],
           "sequential": [
            [
             0,
             "#0d0887"
            ],
            [
             0.1111111111111111,
             "#46039f"
            ],
            [
             0.2222222222222222,
             "#7201a8"
            ],
            [
             0.3333333333333333,
             "#9c179e"
            ],
            [
             0.4444444444444444,
             "#bd3786"
            ],
            [
             0.5555555555555556,
             "#d8576b"
            ],
            [
             0.6666666666666666,
             "#ed7953"
            ],
            [
             0.7777777777777778,
             "#fb9f3a"
            ],
            [
             0.8888888888888888,
             "#fdca26"
            ],
            [
             1,
             "#f0f921"
            ]
           ],
           "sequentialminus": [
            [
             0,
             "#0d0887"
            ],
            [
             0.1111111111111111,
             "#46039f"
            ],
            [
             0.2222222222222222,
             "#7201a8"
            ],
            [
             0.3333333333333333,
             "#9c179e"
            ],
            [
             0.4444444444444444,
             "#bd3786"
            ],
            [
             0.5555555555555556,
             "#d8576b"
            ],
            [
             0.6666666666666666,
             "#ed7953"
            ],
            [
             0.7777777777777778,
             "#fb9f3a"
            ],
            [
             0.8888888888888888,
             "#fdca26"
            ],
            [
             1,
             "#f0f921"
            ]
           ]
          },
          "colorway": [
           "#636efa",
           "#EF553B",
           "#00cc96",
           "#ab63fa",
           "#FFA15A",
           "#19d3f3",
           "#FF6692",
           "#B6E880",
           "#FF97FF",
           "#FECB52"
          ],
          "font": {
           "color": "#2a3f5f"
          },
          "geo": {
           "bgcolor": "white",
           "lakecolor": "white",
           "landcolor": "#E5ECF6",
           "showlakes": true,
           "showland": true,
           "subunitcolor": "white"
          },
          "hoverlabel": {
           "align": "left"
          },
          "hovermode": "closest",
          "mapbox": {
           "style": "light"
          },
          "paper_bgcolor": "white",
          "plot_bgcolor": "#E5ECF6",
          "polar": {
           "angularaxis": {
            "gridcolor": "white",
            "linecolor": "white",
            "ticks": ""
           },
           "bgcolor": "#E5ECF6",
           "radialaxis": {
            "gridcolor": "white",
            "linecolor": "white",
            "ticks": ""
           }
          },
          "scene": {
           "xaxis": {
            "backgroundcolor": "#E5ECF6",
            "gridcolor": "white",
            "gridwidth": 2,
            "linecolor": "white",
            "showbackground": true,
            "ticks": "",
            "zerolinecolor": "white"
           },
           "yaxis": {
            "backgroundcolor": "#E5ECF6",
            "gridcolor": "white",
            "gridwidth": 2,
            "linecolor": "white",
            "showbackground": true,
            "ticks": "",
            "zerolinecolor": "white"
           },
           "zaxis": {
            "backgroundcolor": "#E5ECF6",
            "gridcolor": "white",
            "gridwidth": 2,
            "linecolor": "white",
            "showbackground": true,
            "ticks": "",
            "zerolinecolor": "white"
           }
          },
          "shapedefaults": {
           "line": {
            "color": "#2a3f5f"
           }
          },
          "ternary": {
           "aaxis": {
            "gridcolor": "white",
            "linecolor": "white",
            "ticks": ""
           },
           "baxis": {
            "gridcolor": "white",
            "linecolor": "white",
            "ticks": ""
           },
           "bgcolor": "#E5ECF6",
           "caxis": {
            "gridcolor": "white",
            "linecolor": "white",
            "ticks": ""
           }
          },
          "title": {
           "x": 0.05
          },
          "xaxis": {
           "automargin": true,
           "gridcolor": "white",
           "linecolor": "white",
           "ticks": "",
           "title": {
            "standoff": 15
           },
           "zerolinecolor": "white",
           "zerolinewidth": 2
          },
          "yaxis": {
           "automargin": true,
           "gridcolor": "white",
           "linecolor": "white",
           "ticks": "",
           "title": {
            "standoff": 15
           },
           "zerolinecolor": "white",
           "zerolinewidth": 2
          }
         }
        },
        "title": {
         "font": {
          "color": "#4D5663"
         }
        },
        "xaxis": {
         "anchor": "y",
         "domain": [
          0,
          0.2125
         ],
         "gridcolor": "#E1E5ED",
         "showgrid": false,
         "tickfont": {
          "color": "#4D5663"
         },
         "title": {
          "font": {
           "color": "#4D5663"
          },
          "text": ""
         },
         "zerolinecolor": "#E1E5ED"
        },
        "xaxis10": {
         "anchor": "y10",
         "domain": [
          0.2625,
          0.475
         ],
         "gridcolor": "#E1E5ED",
         "showgrid": false,
         "tickfont": {
          "color": "#4D5663"
         },
         "title": {
          "font": {
           "color": "#4D5663"
          },
          "text": ""
         },
         "zerolinecolor": "#E1E5ED"
        },
        "xaxis11": {
         "anchor": "y11",
         "domain": [
          0.525,
          0.7375
         ],
         "gridcolor": "#E1E5ED",
         "showgrid": false,
         "tickfont": {
          "color": "#4D5663"
         },
         "title": {
          "font": {
           "color": "#4D5663"
          },
          "text": ""
         },
         "zerolinecolor": "#E1E5ED"
        },
        "xaxis12": {
         "anchor": "y12",
         "domain": [
          0.7875,
          1
         ],
         "gridcolor": "#E1E5ED",
         "showgrid": false,
         "tickfont": {
          "color": "#4D5663"
         },
         "title": {
          "font": {
           "color": "#4D5663"
          },
          "text": ""
         },
         "zerolinecolor": "#E1E5ED"
        },
        "xaxis13": {
         "anchor": "y13",
         "domain": [
          0,
          0.2125
         ],
         "gridcolor": "#E1E5ED",
         "showgrid": false,
         "tickfont": {
          "color": "#4D5663"
         },
         "title": {
          "font": {
           "color": "#4D5663"
          },
          "text": ""
         },
         "zerolinecolor": "#E1E5ED"
        },
        "xaxis14": {
         "anchor": "y14",
         "domain": [
          0.2625,
          0.475
         ],
         "gridcolor": "#E1E5ED",
         "showgrid": false,
         "tickfont": {
          "color": "#4D5663"
         },
         "title": {
          "font": {
           "color": "#4D5663"
          },
          "text": ""
         },
         "zerolinecolor": "#E1E5ED"
        },
        "xaxis15": {
         "anchor": "y15",
         "domain": [
          0.525,
          0.7375
         ],
         "gridcolor": "#E1E5ED",
         "showgrid": false,
         "tickfont": {
          "color": "#4D5663"
         },
         "title": {
          "font": {
           "color": "#4D5663"
          },
          "text": ""
         },
         "zerolinecolor": "#E1E5ED"
        },
        "xaxis16": {
         "anchor": "y16",
         "domain": [
          0.7875,
          1
         ],
         "gridcolor": "#E1E5ED",
         "showgrid": false,
         "tickfont": {
          "color": "#4D5663"
         },
         "title": {
          "font": {
           "color": "#4D5663"
          },
          "text": ""
         },
         "zerolinecolor": "#E1E5ED"
        },
        "xaxis2": {
         "anchor": "y2",
         "domain": [
          0.2625,
          0.475
         ],
         "gridcolor": "#E1E5ED",
         "showgrid": false,
         "tickfont": {
          "color": "#4D5663"
         },
         "title": {
          "font": {
           "color": "#4D5663"
          },
          "text": ""
         },
         "zerolinecolor": "#E1E5ED"
        },
        "xaxis3": {
         "anchor": "y3",
         "domain": [
          0.525,
          0.7375
         ],
         "gridcolor": "#E1E5ED",
         "showgrid": false,
         "tickfont": {
          "color": "#4D5663"
         },
         "title": {
          "font": {
           "color": "#4D5663"
          },
          "text": ""
         },
         "zerolinecolor": "#E1E5ED"
        },
        "xaxis4": {
         "anchor": "y4",
         "domain": [
          0.7875,
          1
         ],
         "gridcolor": "#E1E5ED",
         "showgrid": false,
         "tickfont": {
          "color": "#4D5663"
         },
         "title": {
          "font": {
           "color": "#4D5663"
          },
          "text": ""
         },
         "zerolinecolor": "#E1E5ED"
        },
        "xaxis5": {
         "anchor": "y5",
         "domain": [
          0,
          0.2125
         ],
         "gridcolor": "#E1E5ED",
         "showgrid": false,
         "tickfont": {
          "color": "#4D5663"
         },
         "title": {
          "font": {
           "color": "#4D5663"
          },
          "text": ""
         },
         "zerolinecolor": "#E1E5ED"
        },
        "xaxis6": {
         "anchor": "y6",
         "domain": [
          0.2625,
          0.475
         ],
         "gridcolor": "#E1E5ED",
         "showgrid": false,
         "tickfont": {
          "color": "#4D5663"
         },
         "title": {
          "font": {
           "color": "#4D5663"
          },
          "text": ""
         },
         "zerolinecolor": "#E1E5ED"
        },
        "xaxis7": {
         "anchor": "y7",
         "domain": [
          0.525,
          0.7375
         ],
         "gridcolor": "#E1E5ED",
         "showgrid": false,
         "tickfont": {
          "color": "#4D5663"
         },
         "title": {
          "font": {
           "color": "#4D5663"
          },
          "text": ""
         },
         "zerolinecolor": "#E1E5ED"
        },
        "xaxis8": {
         "anchor": "y8",
         "domain": [
          0.7875,
          1
         ],
         "gridcolor": "#E1E5ED",
         "showgrid": false,
         "tickfont": {
          "color": "#4D5663"
         },
         "title": {
          "font": {
           "color": "#4D5663"
          },
          "text": ""
         },
         "zerolinecolor": "#E1E5ED"
        },
        "xaxis9": {
         "anchor": "y9",
         "domain": [
          0,
          0.2125
         ],
         "gridcolor": "#E1E5ED",
         "showgrid": false,
         "tickfont": {
          "color": "#4D5663"
         },
         "title": {
          "font": {
           "color": "#4D5663"
          },
          "text": ""
         },
         "zerolinecolor": "#E1E5ED"
        },
        "yaxis": {
         "anchor": "x",
         "domain": [
          0.8025,
          1
         ],
         "gridcolor": "#E1E5ED",
         "showgrid": false,
         "tickfont": {
          "color": "#4D5663"
         },
         "title": {
          "font": {
           "color": "#4D5663"
          },
          "text": ""
         },
         "zerolinecolor": "#E1E5ED"
        },
        "yaxis10": {
         "anchor": "x10",
         "domain": [
          0.2675,
          0.465
         ],
         "gridcolor": "#E1E5ED",
         "showgrid": false,
         "tickfont": {
          "color": "#4D5663"
         },
         "title": {
          "font": {
           "color": "#4D5663"
          },
          "text": ""
         },
         "zerolinecolor": "#E1E5ED"
        },
        "yaxis11": {
         "anchor": "x11",
         "domain": [
          0.2675,
          0.465
         ],
         "gridcolor": "#E1E5ED",
         "showgrid": false,
         "tickfont": {
          "color": "#4D5663"
         },
         "title": {
          "font": {
           "color": "#4D5663"
          },
          "text": ""
         },
         "zerolinecolor": "#E1E5ED"
        },
        "yaxis12": {
         "anchor": "x12",
         "domain": [
          0.2675,
          0.465
         ],
         "gridcolor": "#E1E5ED",
         "showgrid": false,
         "tickfont": {
          "color": "#4D5663"
         },
         "title": {
          "font": {
           "color": "#4D5663"
          },
          "text": ""
         },
         "zerolinecolor": "#E1E5ED"
        },
        "yaxis13": {
         "anchor": "x13",
         "domain": [
          0,
          0.1975
         ],
         "gridcolor": "#E1E5ED",
         "showgrid": false,
         "tickfont": {
          "color": "#4D5663"
         },
         "title": {
          "font": {
           "color": "#4D5663"
          },
          "text": ""
         },
         "zerolinecolor": "#E1E5ED"
        },
        "yaxis14": {
         "anchor": "x14",
         "domain": [
          0,
          0.1975
         ],
         "gridcolor": "#E1E5ED",
         "showgrid": false,
         "tickfont": {
          "color": "#4D5663"
         },
         "title": {
          "font": {
           "color": "#4D5663"
          },
          "text": ""
         },
         "zerolinecolor": "#E1E5ED"
        },
        "yaxis15": {
         "anchor": "x15",
         "domain": [
          0,
          0.1975
         ],
         "gridcolor": "#E1E5ED",
         "showgrid": false,
         "tickfont": {
          "color": "#4D5663"
         },
         "title": {
          "font": {
           "color": "#4D5663"
          },
          "text": ""
         },
         "zerolinecolor": "#E1E5ED"
        },
        "yaxis16": {
         "anchor": "x16",
         "domain": [
          0,
          0.1975
         ],
         "gridcolor": "#E1E5ED",
         "showgrid": false,
         "tickfont": {
          "color": "#4D5663"
         },
         "title": {
          "font": {
           "color": "#4D5663"
          },
          "text": ""
         },
         "zerolinecolor": "#E1E5ED"
        },
        "yaxis2": {
         "anchor": "x2",
         "domain": [
          0.8025,
          1
         ],
         "gridcolor": "#E1E5ED",
         "showgrid": false,
         "tickfont": {
          "color": "#4D5663"
         },
         "title": {
          "font": {
           "color": "#4D5663"
          },
          "text": ""
         },
         "zerolinecolor": "#E1E5ED"
        },
        "yaxis3": {
         "anchor": "x3",
         "domain": [
          0.8025,
          1
         ],
         "gridcolor": "#E1E5ED",
         "showgrid": false,
         "tickfont": {
          "color": "#4D5663"
         },
         "title": {
          "font": {
           "color": "#4D5663"
          },
          "text": ""
         },
         "zerolinecolor": "#E1E5ED"
        },
        "yaxis4": {
         "anchor": "x4",
         "domain": [
          0.8025,
          1
         ],
         "gridcolor": "#E1E5ED",
         "showgrid": false,
         "tickfont": {
          "color": "#4D5663"
         },
         "title": {
          "font": {
           "color": "#4D5663"
          },
          "text": ""
         },
         "zerolinecolor": "#E1E5ED"
        },
        "yaxis5": {
         "anchor": "x5",
         "domain": [
          0.535,
          0.7325
         ],
         "gridcolor": "#E1E5ED",
         "showgrid": false,
         "tickfont": {
          "color": "#4D5663"
         },
         "title": {
          "font": {
           "color": "#4D5663"
          },
          "text": ""
         },
         "zerolinecolor": "#E1E5ED"
        },
        "yaxis6": {
         "anchor": "x6",
         "domain": [
          0.535,
          0.7325
         ],
         "gridcolor": "#E1E5ED",
         "showgrid": false,
         "tickfont": {
          "color": "#4D5663"
         },
         "title": {
          "font": {
           "color": "#4D5663"
          },
          "text": ""
         },
         "zerolinecolor": "#E1E5ED"
        },
        "yaxis7": {
         "anchor": "x7",
         "domain": [
          0.535,
          0.7325
         ],
         "gridcolor": "#E1E5ED",
         "showgrid": false,
         "tickfont": {
          "color": "#4D5663"
         },
         "title": {
          "font": {
           "color": "#4D5663"
          },
          "text": ""
         },
         "zerolinecolor": "#E1E5ED"
        },
        "yaxis8": {
         "anchor": "x8",
         "domain": [
          0.535,
          0.7325
         ],
         "gridcolor": "#E1E5ED",
         "showgrid": false,
         "tickfont": {
          "color": "#4D5663"
         },
         "title": {
          "font": {
           "color": "#4D5663"
          },
          "text": ""
         },
         "zerolinecolor": "#E1E5ED"
        },
        "yaxis9": {
         "anchor": "x9",
         "domain": [
          0.2675,
          0.465
         ],
         "gridcolor": "#E1E5ED",
         "showgrid": false,
         "tickfont": {
          "color": "#4D5663"
         },
         "title": {
          "font": {
           "color": "#4D5663"
          },
          "text": ""
         },
         "zerolinecolor": "#E1E5ED"
        }
       }
      },
      "text/html": [
       "<div>                            <div id=\"b706e873-e629-40f8-88aa-28af99126b8b\" class=\"plotly-graph-div\" style=\"height:525px; width:100%;\"></div>            <script type=\"text/javascript\">                require([\"plotly\"], function(Plotly) {                    window.PLOTLYENV=window.PLOTLYENV || {};\n",
       "                    window.PLOTLYENV.BASE_URL='https://plot.ly';                                    if (document.getElementById(\"b706e873-e629-40f8-88aa-28af99126b8b\")) {                    Plotly.newPlot(                        \"b706e873-e629-40f8-88aa-28af99126b8b\",                        [{\"histfunc\":\"count\",\"histnorm\":\"\",\"marker\":{\"color\":\"rgba(255, 153, 51, 1.0)\",\"line\":{\"color\":\"#4D5663\",\"width\":1.3}},\"name\":\"A\",\"nbinsx\":10,\"opacity\":0.8,\"orientation\":\"v\",\"x\":[-0.7051831481220451,0.43922270603827557,-0.24870124121465462,2.057258717584174,0.9928029700879529,-0.5614200505011286,-0.4525971471128819,-0.8425476141815342,0.22452019875816207,-1.0419304921342696,-0.596979459798248,-0.5136433270420201,-0.30109082273899646,-0.8437793523718262,-1.3019298542708193,-0.7469286394475176,-0.15606362034286694,1.0414201604476443,-1.6083459626882008,0.39757187428806584,0.9088622126821246,0.1288342090116408,0.9148982966185591,-0.9919522699380063,-0.3555543177539484,-0.0945839771416839,0.07575588211214367,-0.030106281406176865,-1.0074275350290345,0.13408162979612936,0.17796399981688318,-0.13570033957890884,0.784454763128047,1.5097312060988817,-0.8963002615710953,-0.6482105493446612,0.9841767167594909,1.241599591298693,0.2830256966654552,-0.6214143312238146,-0.09812462802196699,1.7546021754331227,-0.4020619004488187,2.687347057037032,0.35357279144602843,1.8980457695588686,-0.44205016471097835,1.342302156302457,-2.6086746796664086,-0.2422383762343922,0.020171641164645333,0.038833475065560404,0.7611381770555126,0.15908773656704006,0.06468045369400825,0.9822092545872925,-0.8066539137936216,-2.131153972171354,0.914030903086248,0.014514507630141022,0.3247783307436006,-1.0623521273207823,-0.5627431869802589,-1.1557172843024368,-0.3798027873441633,-0.1438001174563708,1.2573609083720851,0.43751117368337294,-0.22503926746541883,0.4090682819088985,0.6237103778312871,-1.229011584355428,1.5871669025342217,0.0407574102693247,-1.4536960876806284,-0.6222411663434749,0.10286155555958691,0.24028167035807485,1.4704070810483008,-0.18727545016936312,-0.5227882042145175,-0.41843157353403804,0.5095772093194731,0.5769946056343663,1.7298184287290328,-0.5459541749316872,-2.397909800294627,-0.4875778238404372,0.30477659153794356,-0.023161571453009136,-1.4053406325800621,2.1471994716512177,0.09979825143961732,-0.1643652940012639,-1.3072456396882137,0.29508527262263246,0.33142503229300063,-0.1601889859460664,-0.732556289003857,-0.7623909274097523],\"xaxis\":\"x\",\"yaxis\":\"y\",\"type\":\"histogram\"},{\"line\":{\"color\":\"rgba(128, 128, 128, 1.0)\",\"dash\":\"solid\",\"shape\":\"linear\",\"width\":1.3},\"marker\":{\"size\":2,\"symbol\":\"circle\"},\"mode\":\"markers\",\"name\":\"A\",\"text\":\"\",\"x\":[-1.7013006760508602,0.3726110922373725,-0.9754051723074265,-1.4310905116703005,-0.49495580410156426,-0.23792853733818523,0.6820747164655667,-1.3244121992950646,0.844853852654464,-0.12712387910761966,0.07727653845877015,-1.6178919682285964,1.6620560366530401,1.699485017671733,-1.4933662810763182,-1.4420375546757855,0.00741199240362949,-2.061084183065256,-1.7697645039107246,1.9526086513272267,-0.20318056893072264,-1.3995600619671336,0.010642637425180183,1.0358081462914928,-0.37242494277677585,0.20667476003049706,-0.16267298076775957,0.7798128841823275,-0.35179459123935136,1.081467422627341,0.7077613301512333,-0.6110458049423005,-0.7446518379211517,0.47949213837655,-0.9540988719737546,0.1123688035076602,0.26169480514641313,-1.9475558614432522,-0.09404948355237926,-0.579998779191727,-0.9162076738199042,-1.3393615273245074,0.0788299847120889,0.6379938373868258,-0.8130888257415996,1.6611778058206665,-0.4813116087170946,-0.019547948800238503,1.331918402584154,-0.6571735272751751,-1.0682608537423943,-0.5733998113617014,0.29800706286622497,-1.365369741686114,1.3060602621305004,-0.4857256708152363,0.3445712175703463,1.2459952091278363,0.4409296584019077,-1.241525679399955,-0.017717831482726706,0.5284160702894732,0.7957565688596141,-0.7970539399473027,0.8452111615611503,0.6862207008234761,0.3928558456506407,0.21363798837630205,-1.1432047801812812,-0.09517977719340225,0.5218475516192701,-0.19272219613099298,1.05964041604494,0.2761071357701667,-0.7943275870137153,-1.1404461350535857,0.8603468722255645,-0.05852670388260969,1.3662802340147435,-0.7567889152604271,-0.3474788034623021,-0.23554292992878703,1.197373609772019,0.5754650080324972,-1.4125808720783122,0.30494901967571725,-1.5416465431940984,0.016412502071598608,0.3720332248482546,-1.3428792774194924,0.8857193838349164,0.6703174061080518,-0.7172600720684109,-0.21520251053018347,0.8786850026750797,-0.27803441786860095,1.8524411743566065,0.4529031345378013,-0.693555130039683,-0.72858737200973],\"xaxis\":\"x2\",\"y\":[-0.7051831481220451,0.43922270603827557,-0.24870124121465462,2.057258717584174,0.9928029700879529,-0.5614200505011286,-0.4525971471128819,-0.8425476141815342,0.22452019875816207,-1.0419304921342696,-0.596979459798248,-0.5136433270420201,-0.30109082273899646,-0.8437793523718262,-1.3019298542708193,-0.7469286394475176,-0.15606362034286694,1.0414201604476443,-1.6083459626882008,0.39757187428806584,0.9088622126821246,0.1288342090116408,0.9148982966185591,-0.9919522699380063,-0.3555543177539484,-0.0945839771416839,0.07575588211214367,-0.030106281406176865,-1.0074275350290345,0.13408162979612936,0.17796399981688318,-0.13570033957890884,0.784454763128047,1.5097312060988817,-0.8963002615710953,-0.6482105493446612,0.9841767167594909,1.241599591298693,0.2830256966654552,-0.6214143312238146,-0.09812462802196699,1.7546021754331227,-0.4020619004488187,2.687347057037032,0.35357279144602843,1.8980457695588686,-0.44205016471097835,1.342302156302457,-2.6086746796664086,-0.2422383762343922,0.020171641164645333,0.038833475065560404,0.7611381770555126,0.15908773656704006,0.06468045369400825,0.9822092545872925,-0.8066539137936216,-2.131153972171354,0.914030903086248,0.014514507630141022,0.3247783307436006,-1.0623521273207823,-0.5627431869802589,-1.1557172843024368,-0.3798027873441633,-0.1438001174563708,1.2573609083720851,0.43751117368337294,-0.22503926746541883,0.4090682819088985,0.6237103778312871,-1.229011584355428,1.5871669025342217,0.0407574102693247,-1.4536960876806284,-0.6222411663434749,0.10286155555958691,0.24028167035807485,1.4704070810483008,-0.18727545016936312,-0.5227882042145175,-0.41843157353403804,0.5095772093194731,0.5769946056343663,1.7298184287290328,-0.5459541749316872,-2.397909800294627,-0.4875778238404372,0.30477659153794356,-0.023161571453009136,-1.4053406325800621,2.1471994716512177,0.09979825143961732,-0.1643652940012639,-1.3072456396882137,0.29508527262263246,0.33142503229300063,-0.1601889859460664,-0.732556289003857,-0.7623909274097523],\"yaxis\":\"y2\",\"type\":\"scatter\"},{\"line\":{\"color\":\"rgba(128, 128, 128, 1.0)\",\"dash\":\"solid\",\"shape\":\"linear\",\"width\":1.3},\"marker\":{\"size\":2,\"symbol\":\"circle\"},\"mode\":\"markers\",\"name\":\"A\",\"text\":\"\",\"x\":[-0.019996894482532116,-0.2602553169003833,-0.2215248167300281,-0.8602485863574177,1.6873855685921646,-0.3287933403432567,2.212736908665413,-0.11343478774285223,0.4201314292366824,0.03579290776835197,-0.9223600415129647,0.2566551527685251,0.17497476752677876,0.14219386457951017,0.17761185561904086,0.6720934145063548,-0.30185818568293404,1.9392089899558609,0.6343369545960236,0.11724097376126452,0.5945537333890104,1.0823320997300003,0.015143848950196532,-0.4376871148491534,-0.7153924792724057,-0.7510303704897234,-0.3791411826102001,0.22631772385145377,-0.18637294864949822,-0.6271657787161323,-0.4662937032315267,-0.7455839956502811,-0.01950529932959586,0.603973934592031,0.36057853675762874,0.6925336725138185,-0.5201817419416065,1.6238757654046803,1.4911996042527316,-0.47990335261790784,-1.4511541185179837,-1.8146380630287766,1.133526738920183,-0.8060500385510251,2.3843731838406415,1.777019838947044,1.3526758611542338,-0.903346237828229,-0.08431983012892895,-0.31617224338074273,0.6869448004732898,0.3681502549924151,-0.9131754235222048,-0.9712348010319604,1.2256720296497043,-0.24663550342134388,1.2595994629479532,-0.2975746098721045,1.240791709837519,-0.5949595894075386,-0.17904950497807356,0.44546460567180246,1.3285003579844963,1.5974210037903287,-1.7516955599012078,0.5838479935591269,-1.456749784734076,0.5784208466973598,-1.100358845557394,-0.959172123564169,-0.3939085956468053,-1.632687118245128,0.008848318748572514,-1.2360334005904456,0.3329082688608831,-0.3888152669006266,0.06654334697309092,-0.39818435630663646,-0.3777926079042949,-0.10358331404241641,1.5509137738090428,-0.18388268418772813,0.44633468185763964,1.6187106738289636,-0.5749255574505231,-0.5937847496041464,-0.34509751361624874,-0.12938947331030054,-0.7110103065764183,-0.9579480600494636,1.312673174584851,-0.04148206860367141,-0.6838387657243769,0.19961747036822602,0.5409465763236752,1.1818710027484864,1.173119639445139,-0.15964691859267258,0.5254805439905126,0.37062479449525154],\"xaxis\":\"x3\",\"y\":[-0.7051831481220451,0.43922270603827557,-0.24870124121465462,2.057258717584174,0.9928029700879529,-0.5614200505011286,-0.4525971471128819,-0.8425476141815342,0.22452019875816207,-1.0419304921342696,-0.596979459798248,-0.5136433270420201,-0.30109082273899646,-0.8437793523718262,-1.3019298542708193,-0.7469286394475176,-0.15606362034286694,1.0414201604476443,-1.6083459626882008,0.39757187428806584,0.9088622126821246,0.1288342090116408,0.9148982966185591,-0.9919522699380063,-0.3555543177539484,-0.0945839771416839,0.07575588211214367,-0.030106281406176865,-1.0074275350290345,0.13408162979612936,0.17796399981688318,-0.13570033957890884,0.784454763128047,1.5097312060988817,-0.8963002615710953,-0.6482105493446612,0.9841767167594909,1.241599591298693,0.2830256966654552,-0.6214143312238146,-0.09812462802196699,1.7546021754331227,-0.4020619004488187,2.687347057037032,0.35357279144602843,1.8980457695588686,-0.44205016471097835,1.342302156302457,-2.6086746796664086,-0.2422383762343922,0.020171641164645333,0.038833475065560404,0.7611381770555126,0.15908773656704006,0.06468045369400825,0.9822092545872925,-0.8066539137936216,-2.131153972171354,0.914030903086248,0.014514507630141022,0.3247783307436006,-1.0623521273207823,-0.5627431869802589,-1.1557172843024368,-0.3798027873441633,-0.1438001174563708,1.2573609083720851,0.43751117368337294,-0.22503926746541883,0.4090682819088985,0.6237103778312871,-1.229011584355428,1.5871669025342217,0.0407574102693247,-1.4536960876806284,-0.6222411663434749,0.10286155555958691,0.24028167035807485,1.4704070810483008,-0.18727545016936312,-0.5227882042145175,-0.41843157353403804,0.5095772093194731,0.5769946056343663,1.7298184287290328,-0.5459541749316872,-2.397909800294627,-0.4875778238404372,0.30477659153794356,-0.023161571453009136,-1.4053406325800621,2.1471994716512177,0.09979825143961732,-0.1643652940012639,-1.3072456396882137,0.29508527262263246,0.33142503229300063,-0.1601889859460664,-0.732556289003857,-0.7623909274097523],\"yaxis\":\"y3\",\"type\":\"scatter\"},{\"line\":{\"color\":\"rgba(128, 128, 128, 1.0)\",\"dash\":\"solid\",\"shape\":\"linear\",\"width\":1.3},\"marker\":{\"size\":2,\"symbol\":\"circle\"},\"mode\":\"markers\",\"name\":\"A\",\"text\":\"\",\"x\":[0.06019172523097076,-0.3164762147460986,-1.1431214593094021,0.988954441989928,-0.5246581629896405,0.3775899213866819,0.36853112522714376,-0.9899420171442083,0.1133917687325859,0.605539817851534,1.2049104271517652,-1.5031003865147754,1.4700788773018643,1.0642055929786205,-0.9109532886750104,0.684452525489341,-0.822918543882324,-0.3343470233828204,0.4502557185476605,2.2995410507704244,0.42405820656141413,1.0579285774817733,1.6730098523395402,2.141661207362836,0.39945239824490575,0.7430436236811725,0.8005467059269081,1.4113799584790845,-1.6458440941331192,-0.9512014597907744,-1.3679538525295512,-0.45605737059048407,0.24363953217264975,2.2627119526523414,-1.2836675626885568,1.5845758412218696,1.1586609088892865,0.5031938063621324,-1.3140130431585808,0.3448173975032927,-0.21159866501086064,-0.29016634575411904,-0.07334809688600948,0.21931938600014184,-0.4498496146329854,0.6462420193706621,0.4911779993597168,0.5445573655916676,-1.4380076966885829,1.488264386286784,-0.06646086711891994,-0.7667310937149749,0.8308825128244485,2.3795136616166235,-0.4570644652463601,-0.0003693884963840633,-1.7701542856769128,-0.30541636027929614,1.7969633617858682,-0.7733699053345111,-0.09951868470434512,1.9739166938462196,-0.6701603249898898,-1.1639900169641726,0.5703800793491294,0.45885481437099834,0.9439912083164357,1.1445980770515547,2.0470841754796365,-1.6993638703662,-1.954057694441885,0.40409787838588546,0.7441990342740958,0.8940087175365565,1.7968885795833933,-1.4263406954286055,-0.052352829613267995,-0.6045778132902017,0.6255708191710183,1.4349459682051686,-1.623214989387944,1.299646570104817,1.8428334970880769,0.32999413456451193,0.213803796614734,-0.9389200023125681,-2.2817314341578783,-1.0058849248931288,-0.9041307318463464,-0.377606207933437,0.9082038889641426,0.05267930843748459,0.2075046377655566,-0.6189363327383898,0.5064605832447548,0.5802166730092401,1.6821761073481274,-1.6038621207491588,-2.2732260368459842,0.9280166518635189],\"xaxis\":\"x4\",\"y\":[-0.7051831481220451,0.43922270603827557,-0.24870124121465462,2.057258717584174,0.9928029700879529,-0.5614200505011286,-0.4525971471128819,-0.8425476141815342,0.22452019875816207,-1.0419304921342696,-0.596979459798248,-0.5136433270420201,-0.30109082273899646,-0.8437793523718262,-1.3019298542708193,-0.7469286394475176,-0.15606362034286694,1.0414201604476443,-1.6083459626882008,0.39757187428806584,0.9088622126821246,0.1288342090116408,0.9148982966185591,-0.9919522699380063,-0.3555543177539484,-0.0945839771416839,0.07575588211214367,-0.030106281406176865,-1.0074275350290345,0.13408162979612936,0.17796399981688318,-0.13570033957890884,0.784454763128047,1.5097312060988817,-0.8963002615710953,-0.6482105493446612,0.9841767167594909,1.241599591298693,0.2830256966654552,-0.6214143312238146,-0.09812462802196699,1.7546021754331227,-0.4020619004488187,2.687347057037032,0.35357279144602843,1.8980457695588686,-0.44205016471097835,1.342302156302457,-2.6086746796664086,-0.2422383762343922,0.020171641164645333,0.038833475065560404,0.7611381770555126,0.15908773656704006,0.06468045369400825,0.9822092545872925,-0.8066539137936216,-2.131153972171354,0.914030903086248,0.014514507630141022,0.3247783307436006,-1.0623521273207823,-0.5627431869802589,-1.1557172843024368,-0.3798027873441633,-0.1438001174563708,1.2573609083720851,0.43751117368337294,-0.22503926746541883,0.4090682819088985,0.6237103778312871,-1.229011584355428,1.5871669025342217,0.0407574102693247,-1.4536960876806284,-0.6222411663434749,0.10286155555958691,0.24028167035807485,1.4704070810483008,-0.18727545016936312,-0.5227882042145175,-0.41843157353403804,0.5095772093194731,0.5769946056343663,1.7298184287290328,-0.5459541749316872,-2.397909800294627,-0.4875778238404372,0.30477659153794356,-0.023161571453009136,-1.4053406325800621,2.1471994716512177,0.09979825143961732,-0.1643652940012639,-1.3072456396882137,0.29508527262263246,0.33142503229300063,-0.1601889859460664,-0.732556289003857,-0.7623909274097523],\"yaxis\":\"y4\",\"type\":\"scatter\"},{\"line\":{\"color\":\"rgba(128, 128, 128, 1.0)\",\"dash\":\"solid\",\"shape\":\"linear\",\"width\":1.3},\"marker\":{\"size\":2,\"symbol\":\"circle\"},\"mode\":\"markers\",\"name\":\"B\",\"text\":\"\",\"x\":[-0.7051831481220451,0.43922270603827557,-0.24870124121465462,2.057258717584174,0.9928029700879529,-0.5614200505011286,-0.4525971471128819,-0.8425476141815342,0.22452019875816207,-1.0419304921342696,-0.596979459798248,-0.5136433270420201,-0.30109082273899646,-0.8437793523718262,-1.3019298542708193,-0.7469286394475176,-0.15606362034286694,1.0414201604476443,-1.6083459626882008,0.39757187428806584,0.9088622126821246,0.1288342090116408,0.9148982966185591,-0.9919522699380063,-0.3555543177539484,-0.0945839771416839,0.07575588211214367,-0.030106281406176865,-1.0074275350290345,0.13408162979612936,0.17796399981688318,-0.13570033957890884,0.784454763128047,1.5097312060988817,-0.8963002615710953,-0.6482105493446612,0.9841767167594909,1.241599591298693,0.2830256966654552,-0.6214143312238146,-0.09812462802196699,1.7546021754331227,-0.4020619004488187,2.687347057037032,0.35357279144602843,1.8980457695588686,-0.44205016471097835,1.342302156302457,-2.6086746796664086,-0.2422383762343922,0.020171641164645333,0.038833475065560404,0.7611381770555126,0.15908773656704006,0.06468045369400825,0.9822092545872925,-0.8066539137936216,-2.131153972171354,0.914030903086248,0.014514507630141022,0.3247783307436006,-1.0623521273207823,-0.5627431869802589,-1.1557172843024368,-0.3798027873441633,-0.1438001174563708,1.2573609083720851,0.43751117368337294,-0.22503926746541883,0.4090682819088985,0.6237103778312871,-1.229011584355428,1.5871669025342217,0.0407574102693247,-1.4536960876806284,-0.6222411663434749,0.10286155555958691,0.24028167035807485,1.4704070810483008,-0.18727545016936312,-0.5227882042145175,-0.41843157353403804,0.5095772093194731,0.5769946056343663,1.7298184287290328,-0.5459541749316872,-2.397909800294627,-0.4875778238404372,0.30477659153794356,-0.023161571453009136,-1.4053406325800621,2.1471994716512177,0.09979825143961732,-0.1643652940012639,-1.3072456396882137,0.29508527262263246,0.33142503229300063,-0.1601889859460664,-0.732556289003857,-0.7623909274097523],\"xaxis\":\"x5\",\"y\":[-1.7013006760508602,0.3726110922373725,-0.9754051723074265,-1.4310905116703005,-0.49495580410156426,-0.23792853733818523,0.6820747164655667,-1.3244121992950646,0.844853852654464,-0.12712387910761966,0.07727653845877015,-1.6178919682285964,1.6620560366530401,1.699485017671733,-1.4933662810763182,-1.4420375546757855,0.00741199240362949,-2.061084183065256,-1.7697645039107246,1.9526086513272267,-0.20318056893072264,-1.3995600619671336,0.010642637425180183,1.0358081462914928,-0.37242494277677585,0.20667476003049706,-0.16267298076775957,0.7798128841823275,-0.35179459123935136,1.081467422627341,0.7077613301512333,-0.6110458049423005,-0.7446518379211517,0.47949213837655,-0.9540988719737546,0.1123688035076602,0.26169480514641313,-1.9475558614432522,-0.09404948355237926,-0.579998779191727,-0.9162076738199042,-1.3393615273245074,0.0788299847120889,0.6379938373868258,-0.8130888257415996,1.6611778058206665,-0.4813116087170946,-0.019547948800238503,1.331918402584154,-0.6571735272751751,-1.0682608537423943,-0.5733998113617014,0.29800706286622497,-1.365369741686114,1.3060602621305004,-0.4857256708152363,0.3445712175703463,1.2459952091278363,0.4409296584019077,-1.241525679399955,-0.017717831482726706,0.5284160702894732,0.7957565688596141,-0.7970539399473027,0.8452111615611503,0.6862207008234761,0.3928558456506407,0.21363798837630205,-1.1432047801812812,-0.09517977719340225,0.5218475516192701,-0.19272219613099298,1.05964041604494,0.2761071357701667,-0.7943275870137153,-1.1404461350535857,0.8603468722255645,-0.05852670388260969,1.3662802340147435,-0.7567889152604271,-0.3474788034623021,-0.23554292992878703,1.197373609772019,0.5754650080324972,-1.4125808720783122,0.30494901967571725,-1.5416465431940984,0.016412502071598608,0.3720332248482546,-1.3428792774194924,0.8857193838349164,0.6703174061080518,-0.7172600720684109,-0.21520251053018347,0.8786850026750797,-0.27803441786860095,1.8524411743566065,0.4529031345378013,-0.693555130039683,-0.72858737200973],\"yaxis\":\"y5\",\"type\":\"scatter\"},{\"histfunc\":\"count\",\"histnorm\":\"\",\"marker\":{\"color\":\"rgba(55, 128, 191, 1.0)\",\"line\":{\"color\":\"#4D5663\",\"width\":1.3}},\"name\":\"B\",\"nbinsx\":10,\"opacity\":0.8,\"orientation\":\"v\",\"x\":[-1.7013006760508602,0.3726110922373725,-0.9754051723074265,-1.4310905116703005,-0.49495580410156426,-0.23792853733818523,0.6820747164655667,-1.3244121992950646,0.844853852654464,-0.12712387910761966,0.07727653845877015,-1.6178919682285964,1.6620560366530401,1.699485017671733,-1.4933662810763182,-1.4420375546757855,0.00741199240362949,-2.061084183065256,-1.7697645039107246,1.9526086513272267,-0.20318056893072264,-1.3995600619671336,0.010642637425180183,1.0358081462914928,-0.37242494277677585,0.20667476003049706,-0.16267298076775957,0.7798128841823275,-0.35179459123935136,1.081467422627341,0.7077613301512333,-0.6110458049423005,-0.7446518379211517,0.47949213837655,-0.9540988719737546,0.1123688035076602,0.26169480514641313,-1.9475558614432522,-0.09404948355237926,-0.579998779191727,-0.9162076738199042,-1.3393615273245074,0.0788299847120889,0.6379938373868258,-0.8130888257415996,1.6611778058206665,-0.4813116087170946,-0.019547948800238503,1.331918402584154,-0.6571735272751751,-1.0682608537423943,-0.5733998113617014,0.29800706286622497,-1.365369741686114,1.3060602621305004,-0.4857256708152363,0.3445712175703463,1.2459952091278363,0.4409296584019077,-1.241525679399955,-0.017717831482726706,0.5284160702894732,0.7957565688596141,-0.7970539399473027,0.8452111615611503,0.6862207008234761,0.3928558456506407,0.21363798837630205,-1.1432047801812812,-0.09517977719340225,0.5218475516192701,-0.19272219613099298,1.05964041604494,0.2761071357701667,-0.7943275870137153,-1.1404461350535857,0.8603468722255645,-0.05852670388260969,1.3662802340147435,-0.7567889152604271,-0.3474788034623021,-0.23554292992878703,1.197373609772019,0.5754650080324972,-1.4125808720783122,0.30494901967571725,-1.5416465431940984,0.016412502071598608,0.3720332248482546,-1.3428792774194924,0.8857193838349164,0.6703174061080518,-0.7172600720684109,-0.21520251053018347,0.8786850026750797,-0.27803441786860095,1.8524411743566065,0.4529031345378013,-0.693555130039683,-0.72858737200973],\"xaxis\":\"x6\",\"yaxis\":\"y6\",\"type\":\"histogram\"},{\"line\":{\"color\":\"rgba(128, 128, 128, 1.0)\",\"dash\":\"solid\",\"shape\":\"linear\",\"width\":1.3},\"marker\":{\"size\":2,\"symbol\":\"circle\"},\"mode\":\"markers\",\"name\":\"B\",\"text\":\"\",\"x\":[-0.019996894482532116,-0.2602553169003833,-0.2215248167300281,-0.8602485863574177,1.6873855685921646,-0.3287933403432567,2.212736908665413,-0.11343478774285223,0.4201314292366824,0.03579290776835197,-0.9223600415129647,0.2566551527685251,0.17497476752677876,0.14219386457951017,0.17761185561904086,0.6720934145063548,-0.30185818568293404,1.9392089899558609,0.6343369545960236,0.11724097376126452,0.5945537333890104,1.0823320997300003,0.015143848950196532,-0.4376871148491534,-0.7153924792724057,-0.7510303704897234,-0.3791411826102001,0.22631772385145377,-0.18637294864949822,-0.6271657787161323,-0.4662937032315267,-0.7455839956502811,-0.01950529932959586,0.603973934592031,0.36057853675762874,0.6925336725138185,-0.5201817419416065,1.6238757654046803,1.4911996042527316,-0.47990335261790784,-1.4511541185179837,-1.8146380630287766,1.133526738920183,-0.8060500385510251,2.3843731838406415,1.777019838947044,1.3526758611542338,-0.903346237828229,-0.08431983012892895,-0.31617224338074273,0.6869448004732898,0.3681502549924151,-0.9131754235222048,-0.9712348010319604,1.2256720296497043,-0.24663550342134388,1.2595994629479532,-0.2975746098721045,1.240791709837519,-0.5949595894075386,-0.17904950497807356,0.44546460567180246,1.3285003579844963,1.5974210037903287,-1.7516955599012078,0.5838479935591269,-1.456749784734076,0.5784208466973598,-1.100358845557394,-0.959172123564169,-0.3939085956468053,-1.632687118245128,0.008848318748572514,-1.2360334005904456,0.3329082688608831,-0.3888152669006266,0.06654334697309092,-0.39818435630663646,-0.3777926079042949,-0.10358331404241641,1.5509137738090428,-0.18388268418772813,0.44633468185763964,1.6187106738289636,-0.5749255574505231,-0.5937847496041464,-0.34509751361624874,-0.12938947331030054,-0.7110103065764183,-0.9579480600494636,1.312673174584851,-0.04148206860367141,-0.6838387657243769,0.19961747036822602,0.5409465763236752,1.1818710027484864,1.173119639445139,-0.15964691859267258,0.5254805439905126,0.37062479449525154],\"xaxis\":\"x7\",\"y\":[-1.7013006760508602,0.3726110922373725,-0.9754051723074265,-1.4310905116703005,-0.49495580410156426,-0.23792853733818523,0.6820747164655667,-1.3244121992950646,0.844853852654464,-0.12712387910761966,0.07727653845877015,-1.6178919682285964,1.6620560366530401,1.699485017671733,-1.4933662810763182,-1.4420375546757855,0.00741199240362949,-2.061084183065256,-1.7697645039107246,1.9526086513272267,-0.20318056893072264,-1.3995600619671336,0.010642637425180183,1.0358081462914928,-0.37242494277677585,0.20667476003049706,-0.16267298076775957,0.7798128841823275,-0.35179459123935136,1.081467422627341,0.7077613301512333,-0.6110458049423005,-0.7446518379211517,0.47949213837655,-0.9540988719737546,0.1123688035076602,0.26169480514641313,-1.9475558614432522,-0.09404948355237926,-0.579998779191727,-0.9162076738199042,-1.3393615273245074,0.0788299847120889,0.6379938373868258,-0.8130888257415996,1.6611778058206665,-0.4813116087170946,-0.019547948800238503,1.331918402584154,-0.6571735272751751,-1.0682608537423943,-0.5733998113617014,0.29800706286622497,-1.365369741686114,1.3060602621305004,-0.4857256708152363,0.3445712175703463,1.2459952091278363,0.4409296584019077,-1.241525679399955,-0.017717831482726706,0.5284160702894732,0.7957565688596141,-0.7970539399473027,0.8452111615611503,0.6862207008234761,0.3928558456506407,0.21363798837630205,-1.1432047801812812,-0.09517977719340225,0.5218475516192701,-0.19272219613099298,1.05964041604494,0.2761071357701667,-0.7943275870137153,-1.1404461350535857,0.8603468722255645,-0.05852670388260969,1.3662802340147435,-0.7567889152604271,-0.3474788034623021,-0.23554292992878703,1.197373609772019,0.5754650080324972,-1.4125808720783122,0.30494901967571725,-1.5416465431940984,0.016412502071598608,0.3720332248482546,-1.3428792774194924,0.8857193838349164,0.6703174061080518,-0.7172600720684109,-0.21520251053018347,0.8786850026750797,-0.27803441786860095,1.8524411743566065,0.4529031345378013,-0.693555130039683,-0.72858737200973],\"yaxis\":\"y7\",\"type\":\"scatter\"},{\"line\":{\"color\":\"rgba(128, 128, 128, 1.0)\",\"dash\":\"solid\",\"shape\":\"linear\",\"width\":1.3},\"marker\":{\"size\":2,\"symbol\":\"circle\"},\"mode\":\"markers\",\"name\":\"B\",\"text\":\"\",\"x\":[0.06019172523097076,-0.3164762147460986,-1.1431214593094021,0.988954441989928,-0.5246581629896405,0.3775899213866819,0.36853112522714376,-0.9899420171442083,0.1133917687325859,0.605539817851534,1.2049104271517652,-1.5031003865147754,1.4700788773018643,1.0642055929786205,-0.9109532886750104,0.684452525489341,-0.822918543882324,-0.3343470233828204,0.4502557185476605,2.2995410507704244,0.42405820656141413,1.0579285774817733,1.6730098523395402,2.141661207362836,0.39945239824490575,0.7430436236811725,0.8005467059269081,1.4113799584790845,-1.6458440941331192,-0.9512014597907744,-1.3679538525295512,-0.45605737059048407,0.24363953217264975,2.2627119526523414,-1.2836675626885568,1.5845758412218696,1.1586609088892865,0.5031938063621324,-1.3140130431585808,0.3448173975032927,-0.21159866501086064,-0.29016634575411904,-0.07334809688600948,0.21931938600014184,-0.4498496146329854,0.6462420193706621,0.4911779993597168,0.5445573655916676,-1.4380076966885829,1.488264386286784,-0.06646086711891994,-0.7667310937149749,0.8308825128244485,2.3795136616166235,-0.4570644652463601,-0.0003693884963840633,-1.7701542856769128,-0.30541636027929614,1.7969633617858682,-0.7733699053345111,-0.09951868470434512,1.9739166938462196,-0.6701603249898898,-1.1639900169641726,0.5703800793491294,0.45885481437099834,0.9439912083164357,1.1445980770515547,2.0470841754796365,-1.6993638703662,-1.954057694441885,0.40409787838588546,0.7441990342740958,0.8940087175365565,1.7968885795833933,-1.4263406954286055,-0.052352829613267995,-0.6045778132902017,0.6255708191710183,1.4349459682051686,-1.623214989387944,1.299646570104817,1.8428334970880769,0.32999413456451193,0.213803796614734,-0.9389200023125681,-2.2817314341578783,-1.0058849248931288,-0.9041307318463464,-0.377606207933437,0.9082038889641426,0.05267930843748459,0.2075046377655566,-0.6189363327383898,0.5064605832447548,0.5802166730092401,1.6821761073481274,-1.6038621207491588,-2.2732260368459842,0.9280166518635189],\"xaxis\":\"x8\",\"y\":[-1.7013006760508602,0.3726110922373725,-0.9754051723074265,-1.4310905116703005,-0.49495580410156426,-0.23792853733818523,0.6820747164655667,-1.3244121992950646,0.844853852654464,-0.12712387910761966,0.07727653845877015,-1.6178919682285964,1.6620560366530401,1.699485017671733,-1.4933662810763182,-1.4420375546757855,0.00741199240362949,-2.061084183065256,-1.7697645039107246,1.9526086513272267,-0.20318056893072264,-1.3995600619671336,0.010642637425180183,1.0358081462914928,-0.37242494277677585,0.20667476003049706,-0.16267298076775957,0.7798128841823275,-0.35179459123935136,1.081467422627341,0.7077613301512333,-0.6110458049423005,-0.7446518379211517,0.47949213837655,-0.9540988719737546,0.1123688035076602,0.26169480514641313,-1.9475558614432522,-0.09404948355237926,-0.579998779191727,-0.9162076738199042,-1.3393615273245074,0.0788299847120889,0.6379938373868258,-0.8130888257415996,1.6611778058206665,-0.4813116087170946,-0.019547948800238503,1.331918402584154,-0.6571735272751751,-1.0682608537423943,-0.5733998113617014,0.29800706286622497,-1.365369741686114,1.3060602621305004,-0.4857256708152363,0.3445712175703463,1.2459952091278363,0.4409296584019077,-1.241525679399955,-0.017717831482726706,0.5284160702894732,0.7957565688596141,-0.7970539399473027,0.8452111615611503,0.6862207008234761,0.3928558456506407,0.21363798837630205,-1.1432047801812812,-0.09517977719340225,0.5218475516192701,-0.19272219613099298,1.05964041604494,0.2761071357701667,-0.7943275870137153,-1.1404461350535857,0.8603468722255645,-0.05852670388260969,1.3662802340147435,-0.7567889152604271,-0.3474788034623021,-0.23554292992878703,1.197373609772019,0.5754650080324972,-1.4125808720783122,0.30494901967571725,-1.5416465431940984,0.016412502071598608,0.3720332248482546,-1.3428792774194924,0.8857193838349164,0.6703174061080518,-0.7172600720684109,-0.21520251053018347,0.8786850026750797,-0.27803441786860095,1.8524411743566065,0.4529031345378013,-0.693555130039683,-0.72858737200973],\"yaxis\":\"y8\",\"type\":\"scatter\"},{\"line\":{\"color\":\"rgba(128, 128, 128, 1.0)\",\"dash\":\"solid\",\"shape\":\"linear\",\"width\":1.3},\"marker\":{\"size\":2,\"symbol\":\"circle\"},\"mode\":\"markers\",\"name\":\"C\",\"text\":\"\",\"x\":[-0.7051831481220451,0.43922270603827557,-0.24870124121465462,2.057258717584174,0.9928029700879529,-0.5614200505011286,-0.4525971471128819,-0.8425476141815342,0.22452019875816207,-1.0419304921342696,-0.596979459798248,-0.5136433270420201,-0.30109082273899646,-0.8437793523718262,-1.3019298542708193,-0.7469286394475176,-0.15606362034286694,1.0414201604476443,-1.6083459626882008,0.39757187428806584,0.9088622126821246,0.1288342090116408,0.9148982966185591,-0.9919522699380063,-0.3555543177539484,-0.0945839771416839,0.07575588211214367,-0.030106281406176865,-1.0074275350290345,0.13408162979612936,0.17796399981688318,-0.13570033957890884,0.784454763128047,1.5097312060988817,-0.8963002615710953,-0.6482105493446612,0.9841767167594909,1.241599591298693,0.2830256966654552,-0.6214143312238146,-0.09812462802196699,1.7546021754331227,-0.4020619004488187,2.687347057037032,0.35357279144602843,1.8980457695588686,-0.44205016471097835,1.342302156302457,-2.6086746796664086,-0.2422383762343922,0.020171641164645333,0.038833475065560404,0.7611381770555126,0.15908773656704006,0.06468045369400825,0.9822092545872925,-0.8066539137936216,-2.131153972171354,0.914030903086248,0.014514507630141022,0.3247783307436006,-1.0623521273207823,-0.5627431869802589,-1.1557172843024368,-0.3798027873441633,-0.1438001174563708,1.2573609083720851,0.43751117368337294,-0.22503926746541883,0.4090682819088985,0.6237103778312871,-1.229011584355428,1.5871669025342217,0.0407574102693247,-1.4536960876806284,-0.6222411663434749,0.10286155555958691,0.24028167035807485,1.4704070810483008,-0.18727545016936312,-0.5227882042145175,-0.41843157353403804,0.5095772093194731,0.5769946056343663,1.7298184287290328,-0.5459541749316872,-2.397909800294627,-0.4875778238404372,0.30477659153794356,-0.023161571453009136,-1.4053406325800621,2.1471994716512177,0.09979825143961732,-0.1643652940012639,-1.3072456396882137,0.29508527262263246,0.33142503229300063,-0.1601889859460664,-0.732556289003857,-0.7623909274097523],\"xaxis\":\"x9\",\"y\":[-0.019996894482532116,-0.2602553169003833,-0.2215248167300281,-0.8602485863574177,1.6873855685921646,-0.3287933403432567,2.212736908665413,-0.11343478774285223,0.4201314292366824,0.03579290776835197,-0.9223600415129647,0.2566551527685251,0.17497476752677876,0.14219386457951017,0.17761185561904086,0.6720934145063548,-0.30185818568293404,1.9392089899558609,0.6343369545960236,0.11724097376126452,0.5945537333890104,1.0823320997300003,0.015143848950196532,-0.4376871148491534,-0.7153924792724057,-0.7510303704897234,-0.3791411826102001,0.22631772385145377,-0.18637294864949822,-0.6271657787161323,-0.4662937032315267,-0.7455839956502811,-0.01950529932959586,0.603973934592031,0.36057853675762874,0.6925336725138185,-0.5201817419416065,1.6238757654046803,1.4911996042527316,-0.47990335261790784,-1.4511541185179837,-1.8146380630287766,1.133526738920183,-0.8060500385510251,2.3843731838406415,1.777019838947044,1.3526758611542338,-0.903346237828229,-0.08431983012892895,-0.31617224338074273,0.6869448004732898,0.3681502549924151,-0.9131754235222048,-0.9712348010319604,1.2256720296497043,-0.24663550342134388,1.2595994629479532,-0.2975746098721045,1.240791709837519,-0.5949595894075386,-0.17904950497807356,0.44546460567180246,1.3285003579844963,1.5974210037903287,-1.7516955599012078,0.5838479935591269,-1.456749784734076,0.5784208466973598,-1.100358845557394,-0.959172123564169,-0.3939085956468053,-1.632687118245128,0.008848318748572514,-1.2360334005904456,0.3329082688608831,-0.3888152669006266,0.06654334697309092,-0.39818435630663646,-0.3777926079042949,-0.10358331404241641,1.5509137738090428,-0.18388268418772813,0.44633468185763964,1.6187106738289636,-0.5749255574505231,-0.5937847496041464,-0.34509751361624874,-0.12938947331030054,-0.7110103065764183,-0.9579480600494636,1.312673174584851,-0.04148206860367141,-0.6838387657243769,0.19961747036822602,0.5409465763236752,1.1818710027484864,1.173119639445139,-0.15964691859267258,0.5254805439905126,0.37062479449525154],\"yaxis\":\"y9\",\"type\":\"scatter\"},{\"line\":{\"color\":\"rgba(128, 128, 128, 1.0)\",\"dash\":\"solid\",\"shape\":\"linear\",\"width\":1.3},\"marker\":{\"size\":2,\"symbol\":\"circle\"},\"mode\":\"markers\",\"name\":\"C\",\"text\":\"\",\"x\":[-1.7013006760508602,0.3726110922373725,-0.9754051723074265,-1.4310905116703005,-0.49495580410156426,-0.23792853733818523,0.6820747164655667,-1.3244121992950646,0.844853852654464,-0.12712387910761966,0.07727653845877015,-1.6178919682285964,1.6620560366530401,1.699485017671733,-1.4933662810763182,-1.4420375546757855,0.00741199240362949,-2.061084183065256,-1.7697645039107246,1.9526086513272267,-0.20318056893072264,-1.3995600619671336,0.010642637425180183,1.0358081462914928,-0.37242494277677585,0.20667476003049706,-0.16267298076775957,0.7798128841823275,-0.35179459123935136,1.081467422627341,0.7077613301512333,-0.6110458049423005,-0.7446518379211517,0.47949213837655,-0.9540988719737546,0.1123688035076602,0.26169480514641313,-1.9475558614432522,-0.09404948355237926,-0.579998779191727,-0.9162076738199042,-1.3393615273245074,0.0788299847120889,0.6379938373868258,-0.8130888257415996,1.6611778058206665,-0.4813116087170946,-0.019547948800238503,1.331918402584154,-0.6571735272751751,-1.0682608537423943,-0.5733998113617014,0.29800706286622497,-1.365369741686114,1.3060602621305004,-0.4857256708152363,0.3445712175703463,1.2459952091278363,0.4409296584019077,-1.241525679399955,-0.017717831482726706,0.5284160702894732,0.7957565688596141,-0.7970539399473027,0.8452111615611503,0.6862207008234761,0.3928558456506407,0.21363798837630205,-1.1432047801812812,-0.09517977719340225,0.5218475516192701,-0.19272219613099298,1.05964041604494,0.2761071357701667,-0.7943275870137153,-1.1404461350535857,0.8603468722255645,-0.05852670388260969,1.3662802340147435,-0.7567889152604271,-0.3474788034623021,-0.23554292992878703,1.197373609772019,0.5754650080324972,-1.4125808720783122,0.30494901967571725,-1.5416465431940984,0.016412502071598608,0.3720332248482546,-1.3428792774194924,0.8857193838349164,0.6703174061080518,-0.7172600720684109,-0.21520251053018347,0.8786850026750797,-0.27803441786860095,1.8524411743566065,0.4529031345378013,-0.693555130039683,-0.72858737200973],\"xaxis\":\"x10\",\"y\":[-0.019996894482532116,-0.2602553169003833,-0.2215248167300281,-0.8602485863574177,1.6873855685921646,-0.3287933403432567,2.212736908665413,-0.11343478774285223,0.4201314292366824,0.03579290776835197,-0.9223600415129647,0.2566551527685251,0.17497476752677876,0.14219386457951017,0.17761185561904086,0.6720934145063548,-0.30185818568293404,1.9392089899558609,0.6343369545960236,0.11724097376126452,0.5945537333890104,1.0823320997300003,0.015143848950196532,-0.4376871148491534,-0.7153924792724057,-0.7510303704897234,-0.3791411826102001,0.22631772385145377,-0.18637294864949822,-0.6271657787161323,-0.4662937032315267,-0.7455839956502811,-0.01950529932959586,0.603973934592031,0.36057853675762874,0.6925336725138185,-0.5201817419416065,1.6238757654046803,1.4911996042527316,-0.47990335261790784,-1.4511541185179837,-1.8146380630287766,1.133526738920183,-0.8060500385510251,2.3843731838406415,1.777019838947044,1.3526758611542338,-0.903346237828229,-0.08431983012892895,-0.31617224338074273,0.6869448004732898,0.3681502549924151,-0.9131754235222048,-0.9712348010319604,1.2256720296497043,-0.24663550342134388,1.2595994629479532,-0.2975746098721045,1.240791709837519,-0.5949595894075386,-0.17904950497807356,0.44546460567180246,1.3285003579844963,1.5974210037903287,-1.7516955599012078,0.5838479935591269,-1.456749784734076,0.5784208466973598,-1.100358845557394,-0.959172123564169,-0.3939085956468053,-1.632687118245128,0.008848318748572514,-1.2360334005904456,0.3329082688608831,-0.3888152669006266,0.06654334697309092,-0.39818435630663646,-0.3777926079042949,-0.10358331404241641,1.5509137738090428,-0.18388268418772813,0.44633468185763964,1.6187106738289636,-0.5749255574505231,-0.5937847496041464,-0.34509751361624874,-0.12938947331030054,-0.7110103065764183,-0.9579480600494636,1.312673174584851,-0.04148206860367141,-0.6838387657243769,0.19961747036822602,0.5409465763236752,1.1818710027484864,1.173119639445139,-0.15964691859267258,0.5254805439905126,0.37062479449525154],\"yaxis\":\"y10\",\"type\":\"scatter\"},{\"histfunc\":\"count\",\"histnorm\":\"\",\"marker\":{\"color\":\"rgba(50, 171, 96, 1.0)\",\"line\":{\"color\":\"#4D5663\",\"width\":1.3}},\"name\":\"C\",\"nbinsx\":10,\"opacity\":0.8,\"orientation\":\"v\",\"x\":[-0.019996894482532116,-0.2602553169003833,-0.2215248167300281,-0.8602485863574177,1.6873855685921646,-0.3287933403432567,2.212736908665413,-0.11343478774285223,0.4201314292366824,0.03579290776835197,-0.9223600415129647,0.2566551527685251,0.17497476752677876,0.14219386457951017,0.17761185561904086,0.6720934145063548,-0.30185818568293404,1.9392089899558609,0.6343369545960236,0.11724097376126452,0.5945537333890104,1.0823320997300003,0.015143848950196532,-0.4376871148491534,-0.7153924792724057,-0.7510303704897234,-0.3791411826102001,0.22631772385145377,-0.18637294864949822,-0.6271657787161323,-0.4662937032315267,-0.7455839956502811,-0.01950529932959586,0.603973934592031,0.36057853675762874,0.6925336725138185,-0.5201817419416065,1.6238757654046803,1.4911996042527316,-0.47990335261790784,-1.4511541185179837,-1.8146380630287766,1.133526738920183,-0.8060500385510251,2.3843731838406415,1.777019838947044,1.3526758611542338,-0.903346237828229,-0.08431983012892895,-0.31617224338074273,0.6869448004732898,0.3681502549924151,-0.9131754235222048,-0.9712348010319604,1.2256720296497043,-0.24663550342134388,1.2595994629479532,-0.2975746098721045,1.240791709837519,-0.5949595894075386,-0.17904950497807356,0.44546460567180246,1.3285003579844963,1.5974210037903287,-1.7516955599012078,0.5838479935591269,-1.456749784734076,0.5784208466973598,-1.100358845557394,-0.959172123564169,-0.3939085956468053,-1.632687118245128,0.008848318748572514,-1.2360334005904456,0.3329082688608831,-0.3888152669006266,0.06654334697309092,-0.39818435630663646,-0.3777926079042949,-0.10358331404241641,1.5509137738090428,-0.18388268418772813,0.44633468185763964,1.6187106738289636,-0.5749255574505231,-0.5937847496041464,-0.34509751361624874,-0.12938947331030054,-0.7110103065764183,-0.9579480600494636,1.312673174584851,-0.04148206860367141,-0.6838387657243769,0.19961747036822602,0.5409465763236752,1.1818710027484864,1.173119639445139,-0.15964691859267258,0.5254805439905126,0.37062479449525154],\"xaxis\":\"x11\",\"yaxis\":\"y11\",\"type\":\"histogram\"},{\"line\":{\"color\":\"rgba(128, 128, 128, 1.0)\",\"dash\":\"solid\",\"shape\":\"linear\",\"width\":1.3},\"marker\":{\"size\":2,\"symbol\":\"circle\"},\"mode\":\"markers\",\"name\":\"C\",\"text\":\"\",\"x\":[0.06019172523097076,-0.3164762147460986,-1.1431214593094021,0.988954441989928,-0.5246581629896405,0.3775899213866819,0.36853112522714376,-0.9899420171442083,0.1133917687325859,0.605539817851534,1.2049104271517652,-1.5031003865147754,1.4700788773018643,1.0642055929786205,-0.9109532886750104,0.684452525489341,-0.822918543882324,-0.3343470233828204,0.4502557185476605,2.2995410507704244,0.42405820656141413,1.0579285774817733,1.6730098523395402,2.141661207362836,0.39945239824490575,0.7430436236811725,0.8005467059269081,1.4113799584790845,-1.6458440941331192,-0.9512014597907744,-1.3679538525295512,-0.45605737059048407,0.24363953217264975,2.2627119526523414,-1.2836675626885568,1.5845758412218696,1.1586609088892865,0.5031938063621324,-1.3140130431585808,0.3448173975032927,-0.21159866501086064,-0.29016634575411904,-0.07334809688600948,0.21931938600014184,-0.4498496146329854,0.6462420193706621,0.4911779993597168,0.5445573655916676,-1.4380076966885829,1.488264386286784,-0.06646086711891994,-0.7667310937149749,0.8308825128244485,2.3795136616166235,-0.4570644652463601,-0.0003693884963840633,-1.7701542856769128,-0.30541636027929614,1.7969633617858682,-0.7733699053345111,-0.09951868470434512,1.9739166938462196,-0.6701603249898898,-1.1639900169641726,0.5703800793491294,0.45885481437099834,0.9439912083164357,1.1445980770515547,2.0470841754796365,-1.6993638703662,-1.954057694441885,0.40409787838588546,0.7441990342740958,0.8940087175365565,1.7968885795833933,-1.4263406954286055,-0.052352829613267995,-0.6045778132902017,0.6255708191710183,1.4349459682051686,-1.623214989387944,1.299646570104817,1.8428334970880769,0.32999413456451193,0.213803796614734,-0.9389200023125681,-2.2817314341578783,-1.0058849248931288,-0.9041307318463464,-0.377606207933437,0.9082038889641426,0.05267930843748459,0.2075046377655566,-0.6189363327383898,0.5064605832447548,0.5802166730092401,1.6821761073481274,-1.6038621207491588,-2.2732260368459842,0.9280166518635189],\"xaxis\":\"x12\",\"y\":[-0.019996894482532116,-0.2602553169003833,-0.2215248167300281,-0.8602485863574177,1.6873855685921646,-0.3287933403432567,2.212736908665413,-0.11343478774285223,0.4201314292366824,0.03579290776835197,-0.9223600415129647,0.2566551527685251,0.17497476752677876,0.14219386457951017,0.17761185561904086,0.6720934145063548,-0.30185818568293404,1.9392089899558609,0.6343369545960236,0.11724097376126452,0.5945537333890104,1.0823320997300003,0.015143848950196532,-0.4376871148491534,-0.7153924792724057,-0.7510303704897234,-0.3791411826102001,0.22631772385145377,-0.18637294864949822,-0.6271657787161323,-0.4662937032315267,-0.7455839956502811,-0.01950529932959586,0.603973934592031,0.36057853675762874,0.6925336725138185,-0.5201817419416065,1.6238757654046803,1.4911996042527316,-0.47990335261790784,-1.4511541185179837,-1.8146380630287766,1.133526738920183,-0.8060500385510251,2.3843731838406415,1.777019838947044,1.3526758611542338,-0.903346237828229,-0.08431983012892895,-0.31617224338074273,0.6869448004732898,0.3681502549924151,-0.9131754235222048,-0.9712348010319604,1.2256720296497043,-0.24663550342134388,1.2595994629479532,-0.2975746098721045,1.240791709837519,-0.5949595894075386,-0.17904950497807356,0.44546460567180246,1.3285003579844963,1.5974210037903287,-1.7516955599012078,0.5838479935591269,-1.456749784734076,0.5784208466973598,-1.100358845557394,-0.959172123564169,-0.3939085956468053,-1.632687118245128,0.008848318748572514,-1.2360334005904456,0.3329082688608831,-0.3888152669006266,0.06654334697309092,-0.39818435630663646,-0.3777926079042949,-0.10358331404241641,1.5509137738090428,-0.18388268418772813,0.44633468185763964,1.6187106738289636,-0.5749255574505231,-0.5937847496041464,-0.34509751361624874,-0.12938947331030054,-0.7110103065764183,-0.9579480600494636,1.312673174584851,-0.04148206860367141,-0.6838387657243769,0.19961747036822602,0.5409465763236752,1.1818710027484864,1.173119639445139,-0.15964691859267258,0.5254805439905126,0.37062479449525154],\"yaxis\":\"y12\",\"type\":\"scatter\"},{\"line\":{\"color\":\"rgba(128, 128, 128, 1.0)\",\"dash\":\"solid\",\"shape\":\"linear\",\"width\":1.3},\"marker\":{\"size\":2,\"symbol\":\"circle\"},\"mode\":\"markers\",\"name\":\"D\",\"text\":\"\",\"x\":[-0.7051831481220451,0.43922270603827557,-0.24870124121465462,2.057258717584174,0.9928029700879529,-0.5614200505011286,-0.4525971471128819,-0.8425476141815342,0.22452019875816207,-1.0419304921342696,-0.596979459798248,-0.5136433270420201,-0.30109082273899646,-0.8437793523718262,-1.3019298542708193,-0.7469286394475176,-0.15606362034286694,1.0414201604476443,-1.6083459626882008,0.39757187428806584,0.9088622126821246,0.1288342090116408,0.9148982966185591,-0.9919522699380063,-0.3555543177539484,-0.0945839771416839,0.07575588211214367,-0.030106281406176865,-1.0074275350290345,0.13408162979612936,0.17796399981688318,-0.13570033957890884,0.784454763128047,1.5097312060988817,-0.8963002615710953,-0.6482105493446612,0.9841767167594909,1.241599591298693,0.2830256966654552,-0.6214143312238146,-0.09812462802196699,1.7546021754331227,-0.4020619004488187,2.687347057037032,0.35357279144602843,1.8980457695588686,-0.44205016471097835,1.342302156302457,-2.6086746796664086,-0.2422383762343922,0.020171641164645333,0.038833475065560404,0.7611381770555126,0.15908773656704006,0.06468045369400825,0.9822092545872925,-0.8066539137936216,-2.131153972171354,0.914030903086248,0.014514507630141022,0.3247783307436006,-1.0623521273207823,-0.5627431869802589,-1.1557172843024368,-0.3798027873441633,-0.1438001174563708,1.2573609083720851,0.43751117368337294,-0.22503926746541883,0.4090682819088985,0.6237103778312871,-1.229011584355428,1.5871669025342217,0.0407574102693247,-1.4536960876806284,-0.6222411663434749,0.10286155555958691,0.24028167035807485,1.4704070810483008,-0.18727545016936312,-0.5227882042145175,-0.41843157353403804,0.5095772093194731,0.5769946056343663,1.7298184287290328,-0.5459541749316872,-2.397909800294627,-0.4875778238404372,0.30477659153794356,-0.023161571453009136,-1.4053406325800621,2.1471994716512177,0.09979825143961732,-0.1643652940012639,-1.3072456396882137,0.29508527262263246,0.33142503229300063,-0.1601889859460664,-0.732556289003857,-0.7623909274097523],\"xaxis\":\"x13\",\"y\":[0.06019172523097076,-0.3164762147460986,-1.1431214593094021,0.988954441989928,-0.5246581629896405,0.3775899213866819,0.36853112522714376,-0.9899420171442083,0.1133917687325859,0.605539817851534,1.2049104271517652,-1.5031003865147754,1.4700788773018643,1.0642055929786205,-0.9109532886750104,0.684452525489341,-0.822918543882324,-0.3343470233828204,0.4502557185476605,2.2995410507704244,0.42405820656141413,1.0579285774817733,1.6730098523395402,2.141661207362836,0.39945239824490575,0.7430436236811725,0.8005467059269081,1.4113799584790845,-1.6458440941331192,-0.9512014597907744,-1.3679538525295512,-0.45605737059048407,0.24363953217264975,2.2627119526523414,-1.2836675626885568,1.5845758412218696,1.1586609088892865,0.5031938063621324,-1.3140130431585808,0.3448173975032927,-0.21159866501086064,-0.29016634575411904,-0.07334809688600948,0.21931938600014184,-0.4498496146329854,0.6462420193706621,0.4911779993597168,0.5445573655916676,-1.4380076966885829,1.488264386286784,-0.06646086711891994,-0.7667310937149749,0.8308825128244485,2.3795136616166235,-0.4570644652463601,-0.0003693884963840633,-1.7701542856769128,-0.30541636027929614,1.7969633617858682,-0.7733699053345111,-0.09951868470434512,1.9739166938462196,-0.6701603249898898,-1.1639900169641726,0.5703800793491294,0.45885481437099834,0.9439912083164357,1.1445980770515547,2.0470841754796365,-1.6993638703662,-1.954057694441885,0.40409787838588546,0.7441990342740958,0.8940087175365565,1.7968885795833933,-1.4263406954286055,-0.052352829613267995,-0.6045778132902017,0.6255708191710183,1.4349459682051686,-1.623214989387944,1.299646570104817,1.8428334970880769,0.32999413456451193,0.213803796614734,-0.9389200023125681,-2.2817314341578783,-1.0058849248931288,-0.9041307318463464,-0.377606207933437,0.9082038889641426,0.05267930843748459,0.2075046377655566,-0.6189363327383898,0.5064605832447548,0.5802166730092401,1.6821761073481274,-1.6038621207491588,-2.2732260368459842,0.9280166518635189],\"yaxis\":\"y13\",\"type\":\"scatter\"},{\"line\":{\"color\":\"rgba(128, 128, 128, 1.0)\",\"dash\":\"solid\",\"shape\":\"linear\",\"width\":1.3},\"marker\":{\"size\":2,\"symbol\":\"circle\"},\"mode\":\"markers\",\"name\":\"D\",\"text\":\"\",\"x\":[-1.7013006760508602,0.3726110922373725,-0.9754051723074265,-1.4310905116703005,-0.49495580410156426,-0.23792853733818523,0.6820747164655667,-1.3244121992950646,0.844853852654464,-0.12712387910761966,0.07727653845877015,-1.6178919682285964,1.6620560366530401,1.699485017671733,-1.4933662810763182,-1.4420375546757855,0.00741199240362949,-2.061084183065256,-1.7697645039107246,1.9526086513272267,-0.20318056893072264,-1.3995600619671336,0.010642637425180183,1.0358081462914928,-0.37242494277677585,0.20667476003049706,-0.16267298076775957,0.7798128841823275,-0.35179459123935136,1.081467422627341,0.7077613301512333,-0.6110458049423005,-0.7446518379211517,0.47949213837655,-0.9540988719737546,0.1123688035076602,0.26169480514641313,-1.9475558614432522,-0.09404948355237926,-0.579998779191727,-0.9162076738199042,-1.3393615273245074,0.0788299847120889,0.6379938373868258,-0.8130888257415996,1.6611778058206665,-0.4813116087170946,-0.019547948800238503,1.331918402584154,-0.6571735272751751,-1.0682608537423943,-0.5733998113617014,0.29800706286622497,-1.365369741686114,1.3060602621305004,-0.4857256708152363,0.3445712175703463,1.2459952091278363,0.4409296584019077,-1.241525679399955,-0.017717831482726706,0.5284160702894732,0.7957565688596141,-0.7970539399473027,0.8452111615611503,0.6862207008234761,0.3928558456506407,0.21363798837630205,-1.1432047801812812,-0.09517977719340225,0.5218475516192701,-0.19272219613099298,1.05964041604494,0.2761071357701667,-0.7943275870137153,-1.1404461350535857,0.8603468722255645,-0.05852670388260969,1.3662802340147435,-0.7567889152604271,-0.3474788034623021,-0.23554292992878703,1.197373609772019,0.5754650080324972,-1.4125808720783122,0.30494901967571725,-1.5416465431940984,0.016412502071598608,0.3720332248482546,-1.3428792774194924,0.8857193838349164,0.6703174061080518,-0.7172600720684109,-0.21520251053018347,0.8786850026750797,-0.27803441786860095,1.8524411743566065,0.4529031345378013,-0.693555130039683,-0.72858737200973],\"xaxis\":\"x14\",\"y\":[0.06019172523097076,-0.3164762147460986,-1.1431214593094021,0.988954441989928,-0.5246581629896405,0.3775899213866819,0.36853112522714376,-0.9899420171442083,0.1133917687325859,0.605539817851534,1.2049104271517652,-1.5031003865147754,1.4700788773018643,1.0642055929786205,-0.9109532886750104,0.684452525489341,-0.822918543882324,-0.3343470233828204,0.4502557185476605,2.2995410507704244,0.42405820656141413,1.0579285774817733,1.6730098523395402,2.141661207362836,0.39945239824490575,0.7430436236811725,0.8005467059269081,1.4113799584790845,-1.6458440941331192,-0.9512014597907744,-1.3679538525295512,-0.45605737059048407,0.24363953217264975,2.2627119526523414,-1.2836675626885568,1.5845758412218696,1.1586609088892865,0.5031938063621324,-1.3140130431585808,0.3448173975032927,-0.21159866501086064,-0.29016634575411904,-0.07334809688600948,0.21931938600014184,-0.4498496146329854,0.6462420193706621,0.4911779993597168,0.5445573655916676,-1.4380076966885829,1.488264386286784,-0.06646086711891994,-0.7667310937149749,0.8308825128244485,2.3795136616166235,-0.4570644652463601,-0.0003693884963840633,-1.7701542856769128,-0.30541636027929614,1.7969633617858682,-0.7733699053345111,-0.09951868470434512,1.9739166938462196,-0.6701603249898898,-1.1639900169641726,0.5703800793491294,0.45885481437099834,0.9439912083164357,1.1445980770515547,2.0470841754796365,-1.6993638703662,-1.954057694441885,0.40409787838588546,0.7441990342740958,0.8940087175365565,1.7968885795833933,-1.4263406954286055,-0.052352829613267995,-0.6045778132902017,0.6255708191710183,1.4349459682051686,-1.623214989387944,1.299646570104817,1.8428334970880769,0.32999413456451193,0.213803796614734,-0.9389200023125681,-2.2817314341578783,-1.0058849248931288,-0.9041307318463464,-0.377606207933437,0.9082038889641426,0.05267930843748459,0.2075046377655566,-0.6189363327383898,0.5064605832447548,0.5802166730092401,1.6821761073481274,-1.6038621207491588,-2.2732260368459842,0.9280166518635189],\"yaxis\":\"y14\",\"type\":\"scatter\"},{\"line\":{\"color\":\"rgba(128, 128, 128, 1.0)\",\"dash\":\"solid\",\"shape\":\"linear\",\"width\":1.3},\"marker\":{\"size\":2,\"symbol\":\"circle\"},\"mode\":\"markers\",\"name\":\"D\",\"text\":\"\",\"x\":[-0.019996894482532116,-0.2602553169003833,-0.2215248167300281,-0.8602485863574177,1.6873855685921646,-0.3287933403432567,2.212736908665413,-0.11343478774285223,0.4201314292366824,0.03579290776835197,-0.9223600415129647,0.2566551527685251,0.17497476752677876,0.14219386457951017,0.17761185561904086,0.6720934145063548,-0.30185818568293404,1.9392089899558609,0.6343369545960236,0.11724097376126452,0.5945537333890104,1.0823320997300003,0.015143848950196532,-0.4376871148491534,-0.7153924792724057,-0.7510303704897234,-0.3791411826102001,0.22631772385145377,-0.18637294864949822,-0.6271657787161323,-0.4662937032315267,-0.7455839956502811,-0.01950529932959586,0.603973934592031,0.36057853675762874,0.6925336725138185,-0.5201817419416065,1.6238757654046803,1.4911996042527316,-0.47990335261790784,-1.4511541185179837,-1.8146380630287766,1.133526738920183,-0.8060500385510251,2.3843731838406415,1.777019838947044,1.3526758611542338,-0.903346237828229,-0.08431983012892895,-0.31617224338074273,0.6869448004732898,0.3681502549924151,-0.9131754235222048,-0.9712348010319604,1.2256720296497043,-0.24663550342134388,1.2595994629479532,-0.2975746098721045,1.240791709837519,-0.5949595894075386,-0.17904950497807356,0.44546460567180246,1.3285003579844963,1.5974210037903287,-1.7516955599012078,0.5838479935591269,-1.456749784734076,0.5784208466973598,-1.100358845557394,-0.959172123564169,-0.3939085956468053,-1.632687118245128,0.008848318748572514,-1.2360334005904456,0.3329082688608831,-0.3888152669006266,0.06654334697309092,-0.39818435630663646,-0.3777926079042949,-0.10358331404241641,1.5509137738090428,-0.18388268418772813,0.44633468185763964,1.6187106738289636,-0.5749255574505231,-0.5937847496041464,-0.34509751361624874,-0.12938947331030054,-0.7110103065764183,-0.9579480600494636,1.312673174584851,-0.04148206860367141,-0.6838387657243769,0.19961747036822602,0.5409465763236752,1.1818710027484864,1.173119639445139,-0.15964691859267258,0.5254805439905126,0.37062479449525154],\"xaxis\":\"x15\",\"y\":[0.06019172523097076,-0.3164762147460986,-1.1431214593094021,0.988954441989928,-0.5246581629896405,0.3775899213866819,0.36853112522714376,-0.9899420171442083,0.1133917687325859,0.605539817851534,1.2049104271517652,-1.5031003865147754,1.4700788773018643,1.0642055929786205,-0.9109532886750104,0.684452525489341,-0.822918543882324,-0.3343470233828204,0.4502557185476605,2.2995410507704244,0.42405820656141413,1.0579285774817733,1.6730098523395402,2.141661207362836,0.39945239824490575,0.7430436236811725,0.8005467059269081,1.4113799584790845,-1.6458440941331192,-0.9512014597907744,-1.3679538525295512,-0.45605737059048407,0.24363953217264975,2.2627119526523414,-1.2836675626885568,1.5845758412218696,1.1586609088892865,0.5031938063621324,-1.3140130431585808,0.3448173975032927,-0.21159866501086064,-0.29016634575411904,-0.07334809688600948,0.21931938600014184,-0.4498496146329854,0.6462420193706621,0.4911779993597168,0.5445573655916676,-1.4380076966885829,1.488264386286784,-0.06646086711891994,-0.7667310937149749,0.8308825128244485,2.3795136616166235,-0.4570644652463601,-0.0003693884963840633,-1.7701542856769128,-0.30541636027929614,1.7969633617858682,-0.7733699053345111,-0.09951868470434512,1.9739166938462196,-0.6701603249898898,-1.1639900169641726,0.5703800793491294,0.45885481437099834,0.9439912083164357,1.1445980770515547,2.0470841754796365,-1.6993638703662,-1.954057694441885,0.40409787838588546,0.7441990342740958,0.8940087175365565,1.7968885795833933,-1.4263406954286055,-0.052352829613267995,-0.6045778132902017,0.6255708191710183,1.4349459682051686,-1.623214989387944,1.299646570104817,1.8428334970880769,0.32999413456451193,0.213803796614734,-0.9389200023125681,-2.2817314341578783,-1.0058849248931288,-0.9041307318463464,-0.377606207933437,0.9082038889641426,0.05267930843748459,0.2075046377655566,-0.6189363327383898,0.5064605832447548,0.5802166730092401,1.6821761073481274,-1.6038621207491588,-2.2732260368459842,0.9280166518635189],\"yaxis\":\"y15\",\"type\":\"scatter\"},{\"histfunc\":\"count\",\"histnorm\":\"\",\"marker\":{\"color\":\"rgba(128, 0, 128, 1.0)\",\"line\":{\"color\":\"#4D5663\",\"width\":1.3}},\"name\":\"D\",\"nbinsx\":10,\"opacity\":0.8,\"orientation\":\"v\",\"x\":[0.06019172523097076,-0.3164762147460986,-1.1431214593094021,0.988954441989928,-0.5246581629896405,0.3775899213866819,0.36853112522714376,-0.9899420171442083,0.1133917687325859,0.605539817851534,1.2049104271517652,-1.5031003865147754,1.4700788773018643,1.0642055929786205,-0.9109532886750104,0.684452525489341,-0.822918543882324,-0.3343470233828204,0.4502557185476605,2.2995410507704244,0.42405820656141413,1.0579285774817733,1.6730098523395402,2.141661207362836,0.39945239824490575,0.7430436236811725,0.8005467059269081,1.4113799584790845,-1.6458440941331192,-0.9512014597907744,-1.3679538525295512,-0.45605737059048407,0.24363953217264975,2.2627119526523414,-1.2836675626885568,1.5845758412218696,1.1586609088892865,0.5031938063621324,-1.3140130431585808,0.3448173975032927,-0.21159866501086064,-0.29016634575411904,-0.07334809688600948,0.21931938600014184,-0.4498496146329854,0.6462420193706621,0.4911779993597168,0.5445573655916676,-1.4380076966885829,1.488264386286784,-0.06646086711891994,-0.7667310937149749,0.8308825128244485,2.3795136616166235,-0.4570644652463601,-0.0003693884963840633,-1.7701542856769128,-0.30541636027929614,1.7969633617858682,-0.7733699053345111,-0.09951868470434512,1.9739166938462196,-0.6701603249898898,-1.1639900169641726,0.5703800793491294,0.45885481437099834,0.9439912083164357,1.1445980770515547,2.0470841754796365,-1.6993638703662,-1.954057694441885,0.40409787838588546,0.7441990342740958,0.8940087175365565,1.7968885795833933,-1.4263406954286055,-0.052352829613267995,-0.6045778132902017,0.6255708191710183,1.4349459682051686,-1.623214989387944,1.299646570104817,1.8428334970880769,0.32999413456451193,0.213803796614734,-0.9389200023125681,-2.2817314341578783,-1.0058849248931288,-0.9041307318463464,-0.377606207933437,0.9082038889641426,0.05267930843748459,0.2075046377655566,-0.6189363327383898,0.5064605832447548,0.5802166730092401,1.6821761073481274,-1.6038621207491588,-2.2732260368459842,0.9280166518635189],\"xaxis\":\"x16\",\"yaxis\":\"y16\",\"type\":\"histogram\"}],                        {\"bargap\":0.02,\"legend\":{\"bgcolor\":\"#F5F6F9\",\"font\":{\"color\":\"#4D5663\"}},\"paper_bgcolor\":\"#F5F6F9\",\"plot_bgcolor\":\"#F5F6F9\",\"showlegend\":false,\"template\":{\"data\":{\"barpolar\":[{\"marker\":{\"line\":{\"color\":\"#E5ECF6\",\"width\":0.5},\"pattern\":{\"fillmode\":\"overlay\",\"size\":10,\"solidity\":0.2}},\"type\":\"barpolar\"}],\"bar\":[{\"error_x\":{\"color\":\"#2a3f5f\"},\"error_y\":{\"color\":\"#2a3f5f\"},\"marker\":{\"line\":{\"color\":\"#E5ECF6\",\"width\":0.5},\"pattern\":{\"fillmode\":\"overlay\",\"size\":10,\"solidity\":0.2}},\"type\":\"bar\"}],\"carpet\":[{\"aaxis\":{\"endlinecolor\":\"#2a3f5f\",\"gridcolor\":\"white\",\"linecolor\":\"white\",\"minorgridcolor\":\"white\",\"startlinecolor\":\"#2a3f5f\"},\"baxis\":{\"endlinecolor\":\"#2a3f5f\",\"gridcolor\":\"white\",\"linecolor\":\"white\",\"minorgridcolor\":\"white\",\"startlinecolor\":\"#2a3f5f\"},\"type\":\"carpet\"}],\"choropleth\":[{\"colorbar\":{\"outlinewidth\":0,\"ticks\":\"\"},\"type\":\"choropleth\"}],\"contourcarpet\":[{\"colorbar\":{\"outlinewidth\":0,\"ticks\":\"\"},\"type\":\"contourcarpet\"}],\"contour\":[{\"colorbar\":{\"outlinewidth\":0,\"ticks\":\"\"},\"colorscale\":[[0.0,\"#0d0887\"],[0.1111111111111111,\"#46039f\"],[0.2222222222222222,\"#7201a8\"],[0.3333333333333333,\"#9c179e\"],[0.4444444444444444,\"#bd3786\"],[0.5555555555555556,\"#d8576b\"],[0.6666666666666666,\"#ed7953\"],[0.7777777777777778,\"#fb9f3a\"],[0.8888888888888888,\"#fdca26\"],[1.0,\"#f0f921\"]],\"type\":\"contour\"}],\"heatmapgl\":[{\"colorbar\":{\"outlinewidth\":0,\"ticks\":\"\"},\"colorscale\":[[0.0,\"#0d0887\"],[0.1111111111111111,\"#46039f\"],[0.2222222222222222,\"#7201a8\"],[0.3333333333333333,\"#9c179e\"],[0.4444444444444444,\"#bd3786\"],[0.5555555555555556,\"#d8576b\"],[0.6666666666666666,\"#ed7953\"],[0.7777777777777778,\"#fb9f3a\"],[0.8888888888888888,\"#fdca26\"],[1.0,\"#f0f921\"]],\"type\":\"heatmapgl\"}],\"heatmap\":[{\"colorbar\":{\"outlinewidth\":0,\"ticks\":\"\"},\"colorscale\":[[0.0,\"#0d0887\"],[0.1111111111111111,\"#46039f\"],[0.2222222222222222,\"#7201a8\"],[0.3333333333333333,\"#9c179e\"],[0.4444444444444444,\"#bd3786\"],[0.5555555555555556,\"#d8576b\"],[0.6666666666666666,\"#ed7953\"],[0.7777777777777778,\"#fb9f3a\"],[0.8888888888888888,\"#fdca26\"],[1.0,\"#f0f921\"]],\"type\":\"heatmap\"}],\"histogram2dcontour\":[{\"colorbar\":{\"outlinewidth\":0,\"ticks\":\"\"},\"colorscale\":[[0.0,\"#0d0887\"],[0.1111111111111111,\"#46039f\"],[0.2222222222222222,\"#7201a8\"],[0.3333333333333333,\"#9c179e\"],[0.4444444444444444,\"#bd3786\"],[0.5555555555555556,\"#d8576b\"],[0.6666666666666666,\"#ed7953\"],[0.7777777777777778,\"#fb9f3a\"],[0.8888888888888888,\"#fdca26\"],[1.0,\"#f0f921\"]],\"type\":\"histogram2dcontour\"}],\"histogram2d\":[{\"colorbar\":{\"outlinewidth\":0,\"ticks\":\"\"},\"colorscale\":[[0.0,\"#0d0887\"],[0.1111111111111111,\"#46039f\"],[0.2222222222222222,\"#7201a8\"],[0.3333333333333333,\"#9c179e\"],[0.4444444444444444,\"#bd3786\"],[0.5555555555555556,\"#d8576b\"],[0.6666666666666666,\"#ed7953\"],[0.7777777777777778,\"#fb9f3a\"],[0.8888888888888888,\"#fdca26\"],[1.0,\"#f0f921\"]],\"type\":\"histogram2d\"}],\"histogram\":[{\"marker\":{\"pattern\":{\"fillmode\":\"overlay\",\"size\":10,\"solidity\":0.2}},\"type\":\"histogram\"}],\"mesh3d\":[{\"colorbar\":{\"outlinewidth\":0,\"ticks\":\"\"},\"type\":\"mesh3d\"}],\"parcoords\":[{\"line\":{\"colorbar\":{\"outlinewidth\":0,\"ticks\":\"\"}},\"type\":\"parcoords\"}],\"pie\":[{\"automargin\":true,\"type\":\"pie\"}],\"scatter3d\":[{\"line\":{\"colorbar\":{\"outlinewidth\":0,\"ticks\":\"\"}},\"marker\":{\"colorbar\":{\"outlinewidth\":0,\"ticks\":\"\"}},\"type\":\"scatter3d\"}],\"scattercarpet\":[{\"marker\":{\"colorbar\":{\"outlinewidth\":0,\"ticks\":\"\"}},\"type\":\"scattercarpet\"}],\"scattergeo\":[{\"marker\":{\"colorbar\":{\"outlinewidth\":0,\"ticks\":\"\"}},\"type\":\"scattergeo\"}],\"scattergl\":[{\"marker\":{\"colorbar\":{\"outlinewidth\":0,\"ticks\":\"\"}},\"type\":\"scattergl\"}],\"scattermapbox\":[{\"marker\":{\"colorbar\":{\"outlinewidth\":0,\"ticks\":\"\"}},\"type\":\"scattermapbox\"}],\"scatterpolargl\":[{\"marker\":{\"colorbar\":{\"outlinewidth\":0,\"ticks\":\"\"}},\"type\":\"scatterpolargl\"}],\"scatterpolar\":[{\"marker\":{\"colorbar\":{\"outlinewidth\":0,\"ticks\":\"\"}},\"type\":\"scatterpolar\"}],\"scatter\":[{\"marker\":{\"colorbar\":{\"outlinewidth\":0,\"ticks\":\"\"}},\"type\":\"scatter\"}],\"scatterternary\":[{\"marker\":{\"colorbar\":{\"outlinewidth\":0,\"ticks\":\"\"}},\"type\":\"scatterternary\"}],\"surface\":[{\"colorbar\":{\"outlinewidth\":0,\"ticks\":\"\"},\"colorscale\":[[0.0,\"#0d0887\"],[0.1111111111111111,\"#46039f\"],[0.2222222222222222,\"#7201a8\"],[0.3333333333333333,\"#9c179e\"],[0.4444444444444444,\"#bd3786\"],[0.5555555555555556,\"#d8576b\"],[0.6666666666666666,\"#ed7953\"],[0.7777777777777778,\"#fb9f3a\"],[0.8888888888888888,\"#fdca26\"],[1.0,\"#f0f921\"]],\"type\":\"surface\"}],\"table\":[{\"cells\":{\"fill\":{\"color\":\"#EBF0F8\"},\"line\":{\"color\":\"white\"}},\"header\":{\"fill\":{\"color\":\"#C8D4E3\"},\"line\":{\"color\":\"white\"}},\"type\":\"table\"}]},\"layout\":{\"annotationdefaults\":{\"arrowcolor\":\"#2a3f5f\",\"arrowhead\":0,\"arrowwidth\":1},\"autotypenumbers\":\"strict\",\"coloraxis\":{\"colorbar\":{\"outlinewidth\":0,\"ticks\":\"\"}},\"colorscale\":{\"diverging\":[[0,\"#8e0152\"],[0.1,\"#c51b7d\"],[0.2,\"#de77ae\"],[0.3,\"#f1b6da\"],[0.4,\"#fde0ef\"],[0.5,\"#f7f7f7\"],[0.6,\"#e6f5d0\"],[0.7,\"#b8e186\"],[0.8,\"#7fbc41\"],[0.9,\"#4d9221\"],[1,\"#276419\"]],\"sequential\":[[0.0,\"#0d0887\"],[0.1111111111111111,\"#46039f\"],[0.2222222222222222,\"#7201a8\"],[0.3333333333333333,\"#9c179e\"],[0.4444444444444444,\"#bd3786\"],[0.5555555555555556,\"#d8576b\"],[0.6666666666666666,\"#ed7953\"],[0.7777777777777778,\"#fb9f3a\"],[0.8888888888888888,\"#fdca26\"],[1.0,\"#f0f921\"]],\"sequentialminus\":[[0.0,\"#0d0887\"],[0.1111111111111111,\"#46039f\"],[0.2222222222222222,\"#7201a8\"],[0.3333333333333333,\"#9c179e\"],[0.4444444444444444,\"#bd3786\"],[0.5555555555555556,\"#d8576b\"],[0.6666666666666666,\"#ed7953\"],[0.7777777777777778,\"#fb9f3a\"],[0.8888888888888888,\"#fdca26\"],[1.0,\"#f0f921\"]]},\"colorway\":[\"#636efa\",\"#EF553B\",\"#00cc96\",\"#ab63fa\",\"#FFA15A\",\"#19d3f3\",\"#FF6692\",\"#B6E880\",\"#FF97FF\",\"#FECB52\"],\"font\":{\"color\":\"#2a3f5f\"},\"geo\":{\"bgcolor\":\"white\",\"lakecolor\":\"white\",\"landcolor\":\"#E5ECF6\",\"showlakes\":true,\"showland\":true,\"subunitcolor\":\"white\"},\"hoverlabel\":{\"align\":\"left\"},\"hovermode\":\"closest\",\"mapbox\":{\"style\":\"light\"},\"paper_bgcolor\":\"white\",\"plot_bgcolor\":\"#E5ECF6\",\"polar\":{\"angularaxis\":{\"gridcolor\":\"white\",\"linecolor\":\"white\",\"ticks\":\"\"},\"bgcolor\":\"#E5ECF6\",\"radialaxis\":{\"gridcolor\":\"white\",\"linecolor\":\"white\",\"ticks\":\"\"}},\"scene\":{\"xaxis\":{\"backgroundcolor\":\"#E5ECF6\",\"gridcolor\":\"white\",\"gridwidth\":2,\"linecolor\":\"white\",\"showbackground\":true,\"ticks\":\"\",\"zerolinecolor\":\"white\"},\"yaxis\":{\"backgroundcolor\":\"#E5ECF6\",\"gridcolor\":\"white\",\"gridwidth\":2,\"linecolor\":\"white\",\"showbackground\":true,\"ticks\":\"\",\"zerolinecolor\":\"white\"},\"zaxis\":{\"backgroundcolor\":\"#E5ECF6\",\"gridcolor\":\"white\",\"gridwidth\":2,\"linecolor\":\"white\",\"showbackground\":true,\"ticks\":\"\",\"zerolinecolor\":\"white\"}},\"shapedefaults\":{\"line\":{\"color\":\"#2a3f5f\"}},\"ternary\":{\"aaxis\":{\"gridcolor\":\"white\",\"linecolor\":\"white\",\"ticks\":\"\"},\"baxis\":{\"gridcolor\":\"white\",\"linecolor\":\"white\",\"ticks\":\"\"},\"bgcolor\":\"#E5ECF6\",\"caxis\":{\"gridcolor\":\"white\",\"linecolor\":\"white\",\"ticks\":\"\"}},\"title\":{\"x\":0.05},\"xaxis\":{\"automargin\":true,\"gridcolor\":\"white\",\"linecolor\":\"white\",\"ticks\":\"\",\"title\":{\"standoff\":15},\"zerolinecolor\":\"white\",\"zerolinewidth\":2},\"yaxis\":{\"automargin\":true,\"gridcolor\":\"white\",\"linecolor\":\"white\",\"ticks\":\"\",\"title\":{\"standoff\":15},\"zerolinecolor\":\"white\",\"zerolinewidth\":2}}},\"title\":{\"font\":{\"color\":\"#4D5663\"}},\"xaxis\":{\"anchor\":\"y\",\"domain\":[0.0,0.2125],\"gridcolor\":\"#E1E5ED\",\"showgrid\":false,\"tickfont\":{\"color\":\"#4D5663\"},\"title\":{\"font\":{\"color\":\"#4D5663\"},\"text\":\"\"},\"zerolinecolor\":\"#E1E5ED\"},\"yaxis\":{\"anchor\":\"x\",\"domain\":[0.8025,1.0],\"gridcolor\":\"#E1E5ED\",\"showgrid\":false,\"tickfont\":{\"color\":\"#4D5663\"},\"title\":{\"font\":{\"color\":\"#4D5663\"},\"text\":\"\"},\"zerolinecolor\":\"#E1E5ED\"},\"xaxis2\":{\"anchor\":\"y2\",\"domain\":[0.2625,0.475],\"gridcolor\":\"#E1E5ED\",\"showgrid\":false,\"tickfont\":{\"color\":\"#4D5663\"},\"title\":{\"font\":{\"color\":\"#4D5663\"},\"text\":\"\"},\"zerolinecolor\":\"#E1E5ED\"},\"yaxis2\":{\"anchor\":\"x2\",\"domain\":[0.8025,1.0],\"gridcolor\":\"#E1E5ED\",\"showgrid\":false,\"tickfont\":{\"color\":\"#4D5663\"},\"title\":{\"font\":{\"color\":\"#4D5663\"},\"text\":\"\"},\"zerolinecolor\":\"#E1E5ED\"},\"xaxis3\":{\"anchor\":\"y3\",\"domain\":[0.525,0.7375],\"gridcolor\":\"#E1E5ED\",\"showgrid\":false,\"tickfont\":{\"color\":\"#4D5663\"},\"title\":{\"font\":{\"color\":\"#4D5663\"},\"text\":\"\"},\"zerolinecolor\":\"#E1E5ED\"},\"yaxis3\":{\"anchor\":\"x3\",\"domain\":[0.8025,1.0],\"gridcolor\":\"#E1E5ED\",\"showgrid\":false,\"tickfont\":{\"color\":\"#4D5663\"},\"title\":{\"font\":{\"color\":\"#4D5663\"},\"text\":\"\"},\"zerolinecolor\":\"#E1E5ED\"},\"xaxis4\":{\"anchor\":\"y4\",\"domain\":[0.7875,1.0],\"gridcolor\":\"#E1E5ED\",\"showgrid\":false,\"tickfont\":{\"color\":\"#4D5663\"},\"title\":{\"font\":{\"color\":\"#4D5663\"},\"text\":\"\"},\"zerolinecolor\":\"#E1E5ED\"},\"yaxis4\":{\"anchor\":\"x4\",\"domain\":[0.8025,1.0],\"gridcolor\":\"#E1E5ED\",\"showgrid\":false,\"tickfont\":{\"color\":\"#4D5663\"},\"title\":{\"font\":{\"color\":\"#4D5663\"},\"text\":\"\"},\"zerolinecolor\":\"#E1E5ED\"},\"xaxis5\":{\"anchor\":\"y5\",\"domain\":[0.0,0.2125],\"gridcolor\":\"#E1E5ED\",\"showgrid\":false,\"tickfont\":{\"color\":\"#4D5663\"},\"title\":{\"font\":{\"color\":\"#4D5663\"},\"text\":\"\"},\"zerolinecolor\":\"#E1E5ED\"},\"yaxis5\":{\"anchor\":\"x5\",\"domain\":[0.535,0.7325],\"gridcolor\":\"#E1E5ED\",\"showgrid\":false,\"tickfont\":{\"color\":\"#4D5663\"},\"title\":{\"font\":{\"color\":\"#4D5663\"},\"text\":\"\"},\"zerolinecolor\":\"#E1E5ED\"},\"xaxis6\":{\"anchor\":\"y6\",\"domain\":[0.2625,0.475],\"gridcolor\":\"#E1E5ED\",\"showgrid\":false,\"tickfont\":{\"color\":\"#4D5663\"},\"title\":{\"font\":{\"color\":\"#4D5663\"},\"text\":\"\"},\"zerolinecolor\":\"#E1E5ED\"},\"yaxis6\":{\"anchor\":\"x6\",\"domain\":[0.535,0.7325],\"gridcolor\":\"#E1E5ED\",\"showgrid\":false,\"tickfont\":{\"color\":\"#4D5663\"},\"title\":{\"font\":{\"color\":\"#4D5663\"},\"text\":\"\"},\"zerolinecolor\":\"#E1E5ED\"},\"xaxis7\":{\"anchor\":\"y7\",\"domain\":[0.525,0.7375],\"gridcolor\":\"#E1E5ED\",\"showgrid\":false,\"tickfont\":{\"color\":\"#4D5663\"},\"title\":{\"font\":{\"color\":\"#4D5663\"},\"text\":\"\"},\"zerolinecolor\":\"#E1E5ED\"},\"yaxis7\":{\"anchor\":\"x7\",\"domain\":[0.535,0.7325],\"gridcolor\":\"#E1E5ED\",\"showgrid\":false,\"tickfont\":{\"color\":\"#4D5663\"},\"title\":{\"font\":{\"color\":\"#4D5663\"},\"text\":\"\"},\"zerolinecolor\":\"#E1E5ED\"},\"xaxis8\":{\"anchor\":\"y8\",\"domain\":[0.7875,1.0],\"gridcolor\":\"#E1E5ED\",\"showgrid\":false,\"tickfont\":{\"color\":\"#4D5663\"},\"title\":{\"font\":{\"color\":\"#4D5663\"},\"text\":\"\"},\"zerolinecolor\":\"#E1E5ED\"},\"yaxis8\":{\"anchor\":\"x8\",\"domain\":[0.535,0.7325],\"gridcolor\":\"#E1E5ED\",\"showgrid\":false,\"tickfont\":{\"color\":\"#4D5663\"},\"title\":{\"font\":{\"color\":\"#4D5663\"},\"text\":\"\"},\"zerolinecolor\":\"#E1E5ED\"},\"xaxis9\":{\"anchor\":\"y9\",\"domain\":[0.0,0.2125],\"gridcolor\":\"#E1E5ED\",\"showgrid\":false,\"tickfont\":{\"color\":\"#4D5663\"},\"title\":{\"font\":{\"color\":\"#4D5663\"},\"text\":\"\"},\"zerolinecolor\":\"#E1E5ED\"},\"yaxis9\":{\"anchor\":\"x9\",\"domain\":[0.2675,0.465],\"gridcolor\":\"#E1E5ED\",\"showgrid\":false,\"tickfont\":{\"color\":\"#4D5663\"},\"title\":{\"font\":{\"color\":\"#4D5663\"},\"text\":\"\"},\"zerolinecolor\":\"#E1E5ED\"},\"xaxis10\":{\"anchor\":\"y10\",\"domain\":[0.2625,0.475],\"gridcolor\":\"#E1E5ED\",\"showgrid\":false,\"tickfont\":{\"color\":\"#4D5663\"},\"title\":{\"font\":{\"color\":\"#4D5663\"},\"text\":\"\"},\"zerolinecolor\":\"#E1E5ED\"},\"yaxis10\":{\"anchor\":\"x10\",\"domain\":[0.2675,0.465],\"gridcolor\":\"#E1E5ED\",\"showgrid\":false,\"tickfont\":{\"color\":\"#4D5663\"},\"title\":{\"font\":{\"color\":\"#4D5663\"},\"text\":\"\"},\"zerolinecolor\":\"#E1E5ED\"},\"xaxis11\":{\"anchor\":\"y11\",\"domain\":[0.525,0.7375],\"gridcolor\":\"#E1E5ED\",\"showgrid\":false,\"tickfont\":{\"color\":\"#4D5663\"},\"title\":{\"font\":{\"color\":\"#4D5663\"},\"text\":\"\"},\"zerolinecolor\":\"#E1E5ED\"},\"yaxis11\":{\"anchor\":\"x11\",\"domain\":[0.2675,0.465],\"gridcolor\":\"#E1E5ED\",\"showgrid\":false,\"tickfont\":{\"color\":\"#4D5663\"},\"title\":{\"font\":{\"color\":\"#4D5663\"},\"text\":\"\"},\"zerolinecolor\":\"#E1E5ED\"},\"xaxis12\":{\"anchor\":\"y12\",\"domain\":[0.7875,1.0],\"gridcolor\":\"#E1E5ED\",\"showgrid\":false,\"tickfont\":{\"color\":\"#4D5663\"},\"title\":{\"font\":{\"color\":\"#4D5663\"},\"text\":\"\"},\"zerolinecolor\":\"#E1E5ED\"},\"yaxis12\":{\"anchor\":\"x12\",\"domain\":[0.2675,0.465],\"gridcolor\":\"#E1E5ED\",\"showgrid\":false,\"tickfont\":{\"color\":\"#4D5663\"},\"title\":{\"font\":{\"color\":\"#4D5663\"},\"text\":\"\"},\"zerolinecolor\":\"#E1E5ED\"},\"xaxis13\":{\"anchor\":\"y13\",\"domain\":[0.0,0.2125],\"gridcolor\":\"#E1E5ED\",\"showgrid\":false,\"tickfont\":{\"color\":\"#4D5663\"},\"title\":{\"font\":{\"color\":\"#4D5663\"},\"text\":\"\"},\"zerolinecolor\":\"#E1E5ED\"},\"yaxis13\":{\"anchor\":\"x13\",\"domain\":[0.0,0.1975],\"gridcolor\":\"#E1E5ED\",\"showgrid\":false,\"tickfont\":{\"color\":\"#4D5663\"},\"title\":{\"font\":{\"color\":\"#4D5663\"},\"text\":\"\"},\"zerolinecolor\":\"#E1E5ED\"},\"xaxis14\":{\"anchor\":\"y14\",\"domain\":[0.2625,0.475],\"gridcolor\":\"#E1E5ED\",\"showgrid\":false,\"tickfont\":{\"color\":\"#4D5663\"},\"title\":{\"font\":{\"color\":\"#4D5663\"},\"text\":\"\"},\"zerolinecolor\":\"#E1E5ED\"},\"yaxis14\":{\"anchor\":\"x14\",\"domain\":[0.0,0.1975],\"gridcolor\":\"#E1E5ED\",\"showgrid\":false,\"tickfont\":{\"color\":\"#4D5663\"},\"title\":{\"font\":{\"color\":\"#4D5663\"},\"text\":\"\"},\"zerolinecolor\":\"#E1E5ED\"},\"xaxis15\":{\"anchor\":\"y15\",\"domain\":[0.525,0.7375],\"gridcolor\":\"#E1E5ED\",\"showgrid\":false,\"tickfont\":{\"color\":\"#4D5663\"},\"title\":{\"font\":{\"color\":\"#4D5663\"},\"text\":\"\"},\"zerolinecolor\":\"#E1E5ED\"},\"yaxis15\":{\"anchor\":\"x15\",\"domain\":[0.0,0.1975],\"gridcolor\":\"#E1E5ED\",\"showgrid\":false,\"tickfont\":{\"color\":\"#4D5663\"},\"title\":{\"font\":{\"color\":\"#4D5663\"},\"text\":\"\"},\"zerolinecolor\":\"#E1E5ED\"},\"xaxis16\":{\"anchor\":\"y16\",\"domain\":[0.7875,1.0],\"gridcolor\":\"#E1E5ED\",\"showgrid\":false,\"tickfont\":{\"color\":\"#4D5663\"},\"title\":{\"font\":{\"color\":\"#4D5663\"},\"text\":\"\"},\"zerolinecolor\":\"#E1E5ED\"},\"yaxis16\":{\"anchor\":\"x16\",\"domain\":[0.0,0.1975],\"gridcolor\":\"#E1E5ED\",\"showgrid\":false,\"tickfont\":{\"color\":\"#4D5663\"},\"title\":{\"font\":{\"color\":\"#4D5663\"},\"text\":\"\"},\"zerolinecolor\":\"#E1E5ED\"}},                        {\"showLink\": true, \"linkText\": \"Export to plot.ly\", \"plotlyServerURL\": \"https://plot.ly\", \"responsive\": true}                    ).then(function(){\n",
       "                            \n",
       "var gd = document.getElementById('b706e873-e629-40f8-88aa-28af99126b8b');\n",
       "var x = new MutationObserver(function (mutations, observer) {{\n",
       "        var display = window.getComputedStyle(gd).display;\n",
       "        if (!display || display === 'none') {{\n",
       "            console.log([gd, 'removed!']);\n",
       "            Plotly.purge(gd);\n",
       "            observer.disconnect();\n",
       "        }}\n",
       "}});\n",
       "\n",
       "// Listen for the removal of the full notebook cells\n",
       "var notebookContainer = gd.closest('#notebook-container');\n",
       "if (notebookContainer) {{\n",
       "    x.observe(notebookContainer, {childList: true});\n",
       "}}\n",
       "\n",
       "// Listen for the clearing of the current output cell\n",
       "var outputEl = gd.closest('.output');\n",
       "if (outputEl) {{\n",
       "    x.observe(outputEl, {childList: true});\n",
       "}}\n",
       "\n",
       "                        })                };                });            </script>        </div>"
      ]
     },
     "metadata": {},
     "output_type": "display_data"
    }
   ],
   "source": [
    "df.scatter_matrix()"
   ]
  }
 ],
 "metadata": {
  "kernelspec": {
   "display_name": "Python 3 (ipykernel)",
   "language": "python",
   "name": "python3"
  },
  "language_info": {
   "codemirror_mode": {
    "name": "ipython",
    "version": 3
   },
   "file_extension": ".py",
   "mimetype": "text/x-python",
   "name": "python",
   "nbconvert_exporter": "python",
   "pygments_lexer": "ipython3",
   "version": "3.9.12"
  }
 },
 "nbformat": 4,
 "nbformat_minor": 1
}
