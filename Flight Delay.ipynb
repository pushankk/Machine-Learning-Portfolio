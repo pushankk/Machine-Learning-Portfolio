{
 "cells": [
  {
   "cell_type": "code",
   "execution_count": 1,
   "id": "62a6b129",
   "metadata": {},
   "outputs": [],
   "source": [
    "import numpy as np\n",
    "import matplotlib.pyplot as plt\n",
    "import seaborn as sns\n",
    "import pandas as pd\n",
    "%matplotlib inline"
   ]
  },
  {
   "cell_type": "code",
   "execution_count": 2,
   "id": "6e9a1f0a",
   "metadata": {},
   "outputs": [
    {
     "data": {
      "text/html": [
       "<div>\n",
       "<style scoped>\n",
       "    .dataframe tbody tr th:only-of-type {\n",
       "        vertical-align: middle;\n",
       "    }\n",
       "\n",
       "    .dataframe tbody tr th {\n",
       "        vertical-align: top;\n",
       "    }\n",
       "\n",
       "    .dataframe thead th {\n",
       "        text-align: right;\n",
       "    }\n",
       "</style>\n",
       "<table border=\"1\" class=\"dataframe\">\n",
       "  <thead>\n",
       "    <tr style=\"text-align: right;\">\n",
       "      <th></th>\n",
       "      <th>Month</th>\n",
       "      <th>DayofMonth</th>\n",
       "      <th>DayOfWeek</th>\n",
       "      <th>DepTime</th>\n",
       "      <th>UniqueCarrier</th>\n",
       "      <th>Origin</th>\n",
       "      <th>Dest</th>\n",
       "      <th>Distance</th>\n",
       "      <th>dep_delayed_15min</th>\n",
       "    </tr>\n",
       "  </thead>\n",
       "  <tbody>\n",
       "    <tr>\n",
       "      <th>0</th>\n",
       "      <td>c-8</td>\n",
       "      <td>c-21</td>\n",
       "      <td>c-7</td>\n",
       "      <td>1934</td>\n",
       "      <td>AA</td>\n",
       "      <td>ATL</td>\n",
       "      <td>DFW</td>\n",
       "      <td>732</td>\n",
       "      <td>N</td>\n",
       "    </tr>\n",
       "    <tr>\n",
       "      <th>1</th>\n",
       "      <td>c-4</td>\n",
       "      <td>c-20</td>\n",
       "      <td>c-3</td>\n",
       "      <td>1548</td>\n",
       "      <td>US</td>\n",
       "      <td>PIT</td>\n",
       "      <td>MCO</td>\n",
       "      <td>834</td>\n",
       "      <td>N</td>\n",
       "    </tr>\n",
       "    <tr>\n",
       "      <th>2</th>\n",
       "      <td>c-9</td>\n",
       "      <td>c-2</td>\n",
       "      <td>c-5</td>\n",
       "      <td>1422</td>\n",
       "      <td>XE</td>\n",
       "      <td>RDU</td>\n",
       "      <td>CLE</td>\n",
       "      <td>416</td>\n",
       "      <td>N</td>\n",
       "    </tr>\n",
       "    <tr>\n",
       "      <th>3</th>\n",
       "      <td>c-11</td>\n",
       "      <td>c-25</td>\n",
       "      <td>c-6</td>\n",
       "      <td>1015</td>\n",
       "      <td>OO</td>\n",
       "      <td>DEN</td>\n",
       "      <td>MEM</td>\n",
       "      <td>872</td>\n",
       "      <td>N</td>\n",
       "    </tr>\n",
       "    <tr>\n",
       "      <th>4</th>\n",
       "      <td>c-10</td>\n",
       "      <td>c-7</td>\n",
       "      <td>c-6</td>\n",
       "      <td>1828</td>\n",
       "      <td>WN</td>\n",
       "      <td>MDW</td>\n",
       "      <td>OMA</td>\n",
       "      <td>423</td>\n",
       "      <td>Y</td>\n",
       "    </tr>\n",
       "  </tbody>\n",
       "</table>\n",
       "</div>"
      ],
      "text/plain": [
       "  Month DayofMonth DayOfWeek  DepTime UniqueCarrier Origin Dest  Distance  \\\n",
       "0   c-8       c-21       c-7     1934            AA    ATL  DFW       732   \n",
       "1   c-4       c-20       c-3     1548            US    PIT  MCO       834   \n",
       "2   c-9        c-2       c-5     1422            XE    RDU  CLE       416   \n",
       "3  c-11       c-25       c-6     1015            OO    DEN  MEM       872   \n",
       "4  c-10        c-7       c-6     1828            WN    MDW  OMA       423   \n",
       "\n",
       "  dep_delayed_15min  \n",
       "0                 N  \n",
       "1                 N  \n",
       "2                 N  \n",
       "3                 N  \n",
       "4                 Y  "
      ]
     },
     "execution_count": 2,
     "metadata": {},
     "output_type": "execute_result"
    }
   ],
   "source": [
    "df=pd.read_csv('flight_delays_train.csv')\n",
    "df.head()"
   ]
  },
  {
   "cell_type": "markdown",
   "id": "90e4810e",
   "metadata": {},
   "source": [
    "Let's extract the month, date and day of week from their respective columns."
   ]
  },
  {
   "cell_type": "code",
   "execution_count": 3,
   "id": "d79ff23d",
   "metadata": {},
   "outputs": [],
   "source": [
    "df['Month']=df['Month'].apply(lambda Month: Month.split('-')[1])\n",
    "df['DayofMonth']=df['DayofMonth'].apply(lambda DayofMonth: DayofMonth.split('-')[1])\n",
    "df['DayOfWeek']=df['DayOfWeek'].apply(lambda DayOfWeek: DayOfWeek.split('-')[1])"
   ]
  },
  {
   "cell_type": "code",
   "execution_count": 4,
   "id": "927759d0",
   "metadata": {},
   "outputs": [
    {
     "name": "stdout",
     "output_type": "stream",
     "text": [
      "<class 'pandas.core.frame.DataFrame'>\n",
      "RangeIndex: 100000 entries, 0 to 99999\n",
      "Data columns (total 9 columns):\n",
      " #   Column             Non-Null Count   Dtype \n",
      "---  ------             --------------   ----- \n",
      " 0   Month              100000 non-null  object\n",
      " 1   DayofMonth         100000 non-null  object\n",
      " 2   DayOfWeek          100000 non-null  object\n",
      " 3   DepTime            100000 non-null  int64 \n",
      " 4   UniqueCarrier      100000 non-null  object\n",
      " 5   Origin             100000 non-null  object\n",
      " 6   Dest               100000 non-null  object\n",
      " 7   Distance           100000 non-null  int64 \n",
      " 8   dep_delayed_15min  100000 non-null  object\n",
      "dtypes: int64(2), object(7)\n",
      "memory usage: 6.9+ MB\n"
     ]
    }
   ],
   "source": [
    "df.info()"
   ]
  },
  {
   "cell_type": "code",
   "execution_count": 5,
   "id": "3b3b1c4c",
   "metadata": {},
   "outputs": [
    {
     "data": {
      "text/plain": [
       "N    0.80956\n",
       "Y    0.19044\n",
       "Name: dep_delayed_15min, dtype: float64"
      ]
     },
     "execution_count": 5,
     "metadata": {},
     "output_type": "execute_result"
    }
   ],
   "source": [
    "df['dep_delayed_15min'].value_counts(normalize=True)"
   ]
  },
  {
   "cell_type": "markdown",
   "id": "28f9b4d2",
   "metadata": {},
   "source": [
    "We are dealing with an unbalanced dataset, only 19% of the flights belong to the delayed category."
   ]
  },
  {
   "cell_type": "markdown",
   "id": "0d5a8d9b",
   "metadata": {},
   "source": [
    "Let's now split the DepTime which is in 24 hr format into separate hours and minutes. For this we will be slicing the values to get the hours and minutes and then converting them into our own standardised feature ie. minutes after midnight."
   ]
  },
  {
   "cell_type": "code",
   "execution_count": 6,
   "id": "2a174b25",
   "metadata": {},
   "outputs": [],
   "source": [
    "df.DepTime=df.DepTime.astype(str)\n",
    "df['Hours']=df.DepTime.apply(lambda x: x[:-2])\n",
    "df['Minutes']=df.DepTime.apply(lambda x: x[-2:])"
   ]
  },
  {
   "cell_type": "code",
   "execution_count": 7,
   "id": "5ebefc14",
   "metadata": {
    "scrolled": false
   },
   "outputs": [
    {
     "data": {
      "text/plain": [
       "26"
      ]
     },
     "execution_count": 7,
     "metadata": {},
     "output_type": "execute_result"
    }
   ],
   "source": [
    "df.Hours.nunique()"
   ]
  },
  {
   "cell_type": "code",
   "execution_count": 8,
   "id": "a74b8fd0",
   "metadata": {},
   "outputs": [
    {
     "data": {
      "text/plain": [
       "8     6620\n",
       "17    6562\n",
       "9     6409\n",
       "10    6363\n",
       "12    6363\n",
       "11    6340\n",
       "7     6329\n",
       "6     6315\n",
       "13    6178\n",
       "15    6170\n",
       "16    6112\n",
       "18    6110\n",
       "14    6006\n",
       "19    5500\n",
       "20    4430\n",
       "21    3505\n",
       "22    1787\n",
       "5     1636\n",
       "23     779\n",
       "       308\n",
       "1       76\n",
       "4       38\n",
       "2       27\n",
       "24      23\n",
       "3        8\n",
       "25       6\n",
       "Name: Hours, dtype: int64"
      ]
     },
     "execution_count": 8,
     "metadata": {},
     "output_type": "execute_result"
    }
   ],
   "source": [
    "df.Hours.value_counts()"
   ]
  },
  {
   "cell_type": "code",
   "execution_count": 9,
   "id": "f935d3f8",
   "metadata": {},
   "outputs": [
    {
     "data": {
      "text/html": [
       "<div>\n",
       "<style scoped>\n",
       "    .dataframe tbody tr th:only-of-type {\n",
       "        vertical-align: middle;\n",
       "    }\n",
       "\n",
       "    .dataframe tbody tr th {\n",
       "        vertical-align: top;\n",
       "    }\n",
       "\n",
       "    .dataframe thead th {\n",
       "        text-align: right;\n",
       "    }\n",
       "</style>\n",
       "<table border=\"1\" class=\"dataframe\">\n",
       "  <thead>\n",
       "    <tr style=\"text-align: right;\">\n",
       "      <th></th>\n",
       "      <th>Month</th>\n",
       "      <th>DayofMonth</th>\n",
       "      <th>DayOfWeek</th>\n",
       "      <th>DepTime</th>\n",
       "      <th>UniqueCarrier</th>\n",
       "      <th>Origin</th>\n",
       "      <th>Dest</th>\n",
       "      <th>Distance</th>\n",
       "      <th>dep_delayed_15min</th>\n",
       "      <th>Hours</th>\n",
       "      <th>Minutes</th>\n",
       "    </tr>\n",
       "  </thead>\n",
       "  <tbody>\n",
       "    <tr>\n",
       "      <th>20766</th>\n",
       "      <td>5</td>\n",
       "      <td>31</td>\n",
       "      <td>2</td>\n",
       "      <td>2534</td>\n",
       "      <td>EV</td>\n",
       "      <td>ATL</td>\n",
       "      <td>HSV</td>\n",
       "      <td>151</td>\n",
       "      <td>Y</td>\n",
       "      <td>25</td>\n",
       "      <td>34</td>\n",
       "    </tr>\n",
       "    <tr>\n",
       "      <th>27391</th>\n",
       "      <td>3</td>\n",
       "      <td>23</td>\n",
       "      <td>4</td>\n",
       "      <td>2505</td>\n",
       "      <td>EV</td>\n",
       "      <td>ATL</td>\n",
       "      <td>AGS</td>\n",
       "      <td>143</td>\n",
       "      <td>Y</td>\n",
       "      <td>25</td>\n",
       "      <td>05</td>\n",
       "    </tr>\n",
       "    <tr>\n",
       "      <th>47218</th>\n",
       "      <td>1</td>\n",
       "      <td>2</td>\n",
       "      <td>1</td>\n",
       "      <td>2500</td>\n",
       "      <td>EV</td>\n",
       "      <td>ATL</td>\n",
       "      <td>ILM</td>\n",
       "      <td>377</td>\n",
       "      <td>Y</td>\n",
       "      <td>25</td>\n",
       "      <td>00</td>\n",
       "    </tr>\n",
       "    <tr>\n",
       "      <th>48180</th>\n",
       "      <td>2</td>\n",
       "      <td>27</td>\n",
       "      <td>7</td>\n",
       "      <td>2514</td>\n",
       "      <td>EV</td>\n",
       "      <td>ATL</td>\n",
       "      <td>CAE</td>\n",
       "      <td>191</td>\n",
       "      <td>Y</td>\n",
       "      <td>25</td>\n",
       "      <td>14</td>\n",
       "    </tr>\n",
       "    <tr>\n",
       "      <th>77163</th>\n",
       "      <td>2</td>\n",
       "      <td>27</td>\n",
       "      <td>7</td>\n",
       "      <td>2522</td>\n",
       "      <td>EV</td>\n",
       "      <td>CVG</td>\n",
       "      <td>SHV</td>\n",
       "      <td>686</td>\n",
       "      <td>Y</td>\n",
       "      <td>25</td>\n",
       "      <td>22</td>\n",
       "    </tr>\n",
       "    <tr>\n",
       "      <th>98924</th>\n",
       "      <td>7</td>\n",
       "      <td>5</td>\n",
       "      <td>2</td>\n",
       "      <td>2530</td>\n",
       "      <td>EV</td>\n",
       "      <td>ATL</td>\n",
       "      <td>GNV</td>\n",
       "      <td>300</td>\n",
       "      <td>Y</td>\n",
       "      <td>25</td>\n",
       "      <td>30</td>\n",
       "    </tr>\n",
       "  </tbody>\n",
       "</table>\n",
       "</div>"
      ],
      "text/plain": [
       "      Month DayofMonth DayOfWeek DepTime UniqueCarrier Origin Dest  Distance  \\\n",
       "20766     5         31         2    2534            EV    ATL  HSV       151   \n",
       "27391     3         23         4    2505            EV    ATL  AGS       143   \n",
       "47218     1          2         1    2500            EV    ATL  ILM       377   \n",
       "48180     2         27         7    2514            EV    ATL  CAE       191   \n",
       "77163     2         27         7    2522            EV    CVG  SHV       686   \n",
       "98924     7          5         2    2530            EV    ATL  GNV       300   \n",
       "\n",
       "      dep_delayed_15min Hours Minutes  \n",
       "20766                 Y    25      34  \n",
       "27391                 Y    25      05  \n",
       "47218                 Y    25      00  \n",
       "48180                 Y    25      14  \n",
       "77163                 Y    25      22  \n",
       "98924                 Y    25      30  "
      ]
     },
     "execution_count": 9,
     "metadata": {},
     "output_type": "execute_result"
    }
   ],
   "source": [
    "df[df.Hours=='25']"
   ]
  },
  {
   "cell_type": "markdown",
   "id": "eddaba25",
   "metadata": {},
   "source": [
    "We see that 308 values have no entry as Hour, we will fill these with 0, however 6 values have 25 as the hour which doesn't make sense. Since our dataset comprises of 100000 values we will just go ahead and exclude these 6 values from our training set."
   ]
  },
  {
   "cell_type": "code",
   "execution_count": 10,
   "id": "4194b7ca",
   "metadata": {},
   "outputs": [],
   "source": [
    "df.Hours=df.Hours.replace('','0')"
   ]
  },
  {
   "cell_type": "code",
   "execution_count": 11,
   "id": "88ad8bf6",
   "metadata": {},
   "outputs": [],
   "source": [
    "df=df[df.Hours!='25']"
   ]
  },
  {
   "cell_type": "code",
   "execution_count": 12,
   "id": "344d4fd2",
   "metadata": {
    "scrolled": true
   },
   "outputs": [
    {
     "data": {
      "text/plain": [
       "69"
      ]
     },
     "execution_count": 12,
     "metadata": {},
     "output_type": "execute_result"
    }
   ],
   "source": [
    "df.Minutes.nunique()"
   ]
  },
  {
   "cell_type": "code",
   "execution_count": 13,
   "id": "734ed5fe",
   "metadata": {},
   "outputs": [
    {
     "data": {
      "text/plain": [
       "array(['34', '48', '22', '15', '28', '18', '54', '35', '29', '36', '05',\n",
       "       '24', '37', '47', '42', '01', '20', '04', '21', '19', '17', '50',\n",
       "       '13', '10', '27', '30', '53', '03', '46', '07', '44', '23', '00',\n",
       "       '09', '25', '16', '12', '55', '51', '31', '58', '45', '32', '57',\n",
       "       '56', '14', '52', '11', '26', '06', '41', '43', '40', '33', '02',\n",
       "       '38', '08', '59', '49', '39', '5', '2', '7', '3', '4', '8', '6',\n",
       "       '1', '9'], dtype=object)"
      ]
     },
     "execution_count": 13,
     "metadata": {},
     "output_type": "execute_result"
    }
   ],
   "source": [
    "df.Minutes.unique()"
   ]
  },
  {
   "cell_type": "markdown",
   "id": "f5732d05",
   "metadata": {},
   "source": [
    "Some of the digits have been repeated like 9 and 09, however when we will convert this column from string to integer it will automatically adjust for all these values, so let's just do that right away for the Hours and Minutes column."
   ]
  },
  {
   "cell_type": "code",
   "execution_count": 14,
   "id": "10cf807d",
   "metadata": {
    "scrolled": false
   },
   "outputs": [
    {
     "data": {
      "text/html": [
       "<div>\n",
       "<style scoped>\n",
       "    .dataframe tbody tr th:only-of-type {\n",
       "        vertical-align: middle;\n",
       "    }\n",
       "\n",
       "    .dataframe tbody tr th {\n",
       "        vertical-align: top;\n",
       "    }\n",
       "\n",
       "    .dataframe thead th {\n",
       "        text-align: right;\n",
       "    }\n",
       "</style>\n",
       "<table border=\"1\" class=\"dataframe\">\n",
       "  <thead>\n",
       "    <tr style=\"text-align: right;\">\n",
       "      <th></th>\n",
       "      <th>Month</th>\n",
       "      <th>DayofMonth</th>\n",
       "      <th>DayOfWeek</th>\n",
       "      <th>DepTime</th>\n",
       "      <th>UniqueCarrier</th>\n",
       "      <th>Origin</th>\n",
       "      <th>Dest</th>\n",
       "      <th>Distance</th>\n",
       "      <th>dep_delayed_15min</th>\n",
       "      <th>Hours</th>\n",
       "      <th>Minutes</th>\n",
       "    </tr>\n",
       "  </thead>\n",
       "  <tbody>\n",
       "    <tr>\n",
       "      <th>0</th>\n",
       "      <td>8</td>\n",
       "      <td>21</td>\n",
       "      <td>7</td>\n",
       "      <td>1934</td>\n",
       "      <td>AA</td>\n",
       "      <td>ATL</td>\n",
       "      <td>DFW</td>\n",
       "      <td>732</td>\n",
       "      <td>N</td>\n",
       "      <td>19</td>\n",
       "      <td>34</td>\n",
       "    </tr>\n",
       "    <tr>\n",
       "      <th>1</th>\n",
       "      <td>4</td>\n",
       "      <td>20</td>\n",
       "      <td>3</td>\n",
       "      <td>1548</td>\n",
       "      <td>US</td>\n",
       "      <td>PIT</td>\n",
       "      <td>MCO</td>\n",
       "      <td>834</td>\n",
       "      <td>N</td>\n",
       "      <td>15</td>\n",
       "      <td>48</td>\n",
       "    </tr>\n",
       "    <tr>\n",
       "      <th>2</th>\n",
       "      <td>9</td>\n",
       "      <td>2</td>\n",
       "      <td>5</td>\n",
       "      <td>1422</td>\n",
       "      <td>XE</td>\n",
       "      <td>RDU</td>\n",
       "      <td>CLE</td>\n",
       "      <td>416</td>\n",
       "      <td>N</td>\n",
       "      <td>14</td>\n",
       "      <td>22</td>\n",
       "    </tr>\n",
       "    <tr>\n",
       "      <th>3</th>\n",
       "      <td>11</td>\n",
       "      <td>25</td>\n",
       "      <td>6</td>\n",
       "      <td>1015</td>\n",
       "      <td>OO</td>\n",
       "      <td>DEN</td>\n",
       "      <td>MEM</td>\n",
       "      <td>872</td>\n",
       "      <td>N</td>\n",
       "      <td>10</td>\n",
       "      <td>15</td>\n",
       "    </tr>\n",
       "    <tr>\n",
       "      <th>4</th>\n",
       "      <td>10</td>\n",
       "      <td>7</td>\n",
       "      <td>6</td>\n",
       "      <td>1828</td>\n",
       "      <td>WN</td>\n",
       "      <td>MDW</td>\n",
       "      <td>OMA</td>\n",
       "      <td>423</td>\n",
       "      <td>Y</td>\n",
       "      <td>18</td>\n",
       "      <td>28</td>\n",
       "    </tr>\n",
       "  </tbody>\n",
       "</table>\n",
       "</div>"
      ],
      "text/plain": [
       "  Month DayofMonth DayOfWeek DepTime UniqueCarrier Origin Dest  Distance  \\\n",
       "0     8         21         7    1934            AA    ATL  DFW       732   \n",
       "1     4         20         3    1548            US    PIT  MCO       834   \n",
       "2     9          2         5    1422            XE    RDU  CLE       416   \n",
       "3    11         25         6    1015            OO    DEN  MEM       872   \n",
       "4    10          7         6    1828            WN    MDW  OMA       423   \n",
       "\n",
       "  dep_delayed_15min Hours  Minutes  \n",
       "0                 N    19       34  \n",
       "1                 N    15       48  \n",
       "2                 N    14       22  \n",
       "3                 N    10       15  \n",
       "4                 Y    18       28  "
      ]
     },
     "execution_count": 14,
     "metadata": {},
     "output_type": "execute_result"
    }
   ],
   "source": [
    "df.Minutes=df.Minutes.astype(int)\n",
    "df.head()"
   ]
  },
  {
   "cell_type": "markdown",
   "id": "f88e3d5b",
   "metadata": {},
   "source": [
    "## EDA\n",
    "Now let's look at the data and analyse what relationships the features have with the target variable."
   ]
  },
  {
   "cell_type": "code",
   "execution_count": 15,
   "id": "94eb0f67",
   "metadata": {},
   "outputs": [
    {
     "data": {
      "text/plain": [
       "(99994, 11)"
      ]
     },
     "execution_count": 15,
     "metadata": {},
     "output_type": "execute_result"
    }
   ],
   "source": [
    "df.shape"
   ]
  },
  {
   "cell_type": "code",
   "execution_count": 16,
   "id": "26b4e352",
   "metadata": {},
   "outputs": [
    {
     "data": {
      "text/plain": [
       "Month                  12\n",
       "DayofMonth             31\n",
       "DayOfWeek               7\n",
       "DepTime              1294\n",
       "UniqueCarrier          22\n",
       "Origin                289\n",
       "Dest                  289\n",
       "Distance             1310\n",
       "dep_delayed_15min       2\n",
       "Hours                  25\n",
       "Minutes                60\n",
       "dtype: int64"
      ]
     },
     "execution_count": 16,
     "metadata": {},
     "output_type": "execute_result"
    }
   ],
   "source": [
    "df.nunique()"
   ]
  },
  {
   "cell_type": "code",
   "execution_count": 17,
   "id": "ca5efbe2",
   "metadata": {},
   "outputs": [
    {
     "data": {
      "text/plain": [
       "<seaborn.axisgrid.FacetGrid at 0x1d1564f6050>"
      ]
     },
     "execution_count": 17,
     "metadata": {},
     "output_type": "execute_result"
    },
    {
     "data": {
      "image/png": "[encoded data removed]",
      "text/plain": [
       "<Figure size 360x360 with 1 Axes>"
      ]
     },
     "metadata": {
      "needs_background": "light"
     },
     "output_type": "display_data"
    }
   ],
   "source": [
    "sns.catplot(y='Distance',x='dep_delayed_15min',data=df,kind='box')"
   ]
  },
  {
   "cell_type": "markdown",
   "id": "e489d5b3",
   "metadata": {},
   "source": [
    "We see that the flight delays are almost equally distributed with distance. We can also see some outliers here. Let's see the realtionship of the label with month and carrier columns too."
   ]
  },
  {
   "cell_type": "code",
   "execution_count": 18,
   "id": "a046fa2b",
   "metadata": {},
   "outputs": [
    {
     "data": {
      "text/plain": [
       "<AxesSubplot:xlabel='UniqueCarrier', ylabel='count'>"
      ]
     },
     "execution_count": 18,
     "metadata": {},
     "output_type": "execute_result"
    },
    {
     "data": {
      "image/png": "[encoded data removed]",
      "text/plain": [
       "<Figure size 1008x432 with 1 Axes>"
      ]
     },
     "metadata": {
      "needs_background": "light"
     },
     "output_type": "display_data"
    }
   ],
   "source": [
    "plt.figure(figsize=(14,6))\n",
    "sns.countplot(x='UniqueCarrier',data=df,hue='dep_delayed_15min')"
   ]
  },
  {
   "cell_type": "markdown",
   "id": "8c0aa964",
   "metadata": {},
   "source": [
    "We see that the carrier WN has the maximum number of flight delays, however this maybe just because of the fact that WN has the maximum number of flights in the dataset."
   ]
  },
  {
   "cell_type": "code",
   "execution_count": 19,
   "id": "13c4d436",
   "metadata": {},
   "outputs": [
    {
     "data": {
      "text/plain": [
       "<AxesSubplot:xlabel='count', ylabel='Month'>"
      ]
     },
     "execution_count": 19,
     "metadata": {},
     "output_type": "execute_result"
    },
    {
     "data": {
      "image/png": "[encoded data removed]",
      "text/plain": [
       "<Figure size 864x576 with 1 Axes>"
      ]
     },
     "metadata": {
      "needs_background": "light"
     },
     "output_type": "display_data"
    }
   ],
   "source": [
    "plt.figure(figsize=(12,8))\n",
    "sns.countplot(y='Month',data=df,hue='dep_delayed_15min')"
   ]
  },
  {
   "cell_type": "markdown",
   "id": "c5ccd186",
   "metadata": {},
   "source": [
    "There is almost an even distribution of flights delays among the months, however we can see that month 7 ie, July has the highest number of delays although only marginally higher. Maybe the weather had something to do with it?"
   ]
  },
  {
   "cell_type": "code",
   "execution_count": 20,
   "id": "ea23db87",
   "metadata": {},
   "outputs": [
    {
     "data": {
      "text/plain": [
       "<seaborn.axisgrid.FacetGrid at 0x1d157c629b0>"
      ]
     },
     "execution_count": 20,
     "metadata": {},
     "output_type": "execute_result"
    },
    {
     "data": {
      "image/png": "[encoded data removed]",
      "text/plain": [
       "<Figure size 720x360 with 2 Axes>"
      ]
     },
     "metadata": {
      "needs_background": "light"
     },
     "output_type": "display_data"
    }
   ],
   "source": [
    "sns.catplot(y=\"DayOfWeek\",col='dep_delayed_15min',kind='count',data=df)"
   ]
  },
  {
   "cell_type": "markdown",
   "id": "9b3c63e9",
   "metadata": {},
   "source": [
    "Again the flights delays are almost evenly distributed among the days with Saturday having the least delays in the week and Friday having the highest. This is expected as many people choose to go away for the weekend and travel on Fridays.\n",
    "Let's see what the relationship the hour variable has with our target."
   ]
  },
  {
   "cell_type": "code",
   "execution_count": 21,
   "id": "f360fb68",
   "metadata": {},
   "outputs": [
    {
     "data": {
      "text/plain": [
       "<AxesSubplot:xlabel='Hours', ylabel='count'>"
      ]
     },
     "execution_count": 21,
     "metadata": {},
     "output_type": "execute_result"
    },
    {
     "data": {
      "image/png": "[encoded data removed]",
      "text/plain": [
       "<Figure size 1008x432 with 1 Axes>"
      ]
     },
     "metadata": {
      "needs_background": "light"
     },
     "output_type": "display_data"
    }
   ],
   "source": [
    "plt.figure(figsize=(14,6))\n",
    "sns.countplot(x='Hours',data=df,hue='dep_delayed_15min')"
   ]
  },
  {
   "cell_type": "markdown",
   "id": "0d32fee8",
   "metadata": {},
   "source": [
    "We see that the hour is a very strong feature so we will use it in our model, however the minutes has little relevance so we will go ahead and drop the Minutes column."
   ]
  },
  {
   "cell_type": "code",
   "execution_count": 22,
   "id": "2a29dc86",
   "metadata": {},
   "outputs": [
    {
     "data": {
      "text/plain": [
       "<AxesSubplot:xlabel='DayofMonth', ylabel='count'>"
      ]
     },
     "execution_count": 22,
     "metadata": {},
     "output_type": "execute_result"
    },
    {
     "data": {
      "image/png": "[encoded data removed]",
      "text/plain": [
       "<Figure size 1008x576 with 1 Axes>"
      ]
     },
     "metadata": {
      "needs_background": "light"
     },
     "output_type": "display_data"
    }
   ],
   "source": [
    "plt.figure(figsize=(14,8))\n",
    "dayorder=list(range(1,32))\n",
    "sns.countplot(x=\"DayofMonth\",data=df,hue='dep_delayed_15min')"
   ]
  },
  {
   "cell_type": "markdown",
   "id": "d5b5c263",
   "metadata": {},
   "source": [
    "Again the flights are evenly distributed throughout the month, with the last day of month having the least number of flights."
   ]
  },
  {
   "cell_type": "markdown",
   "id": "a9a848e1",
   "metadata": {},
   "source": [
    "# Preprocessing"
   ]
  },
  {
   "cell_type": "markdown",
   "id": "ab484430",
   "metadata": {},
   "source": [
    "We will one hot encode the DayOfWeek column since it can take only 7 values."
   ]
  },
  {
   "cell_type": "code",
   "execution_count": 23,
   "id": "c830378b",
   "metadata": {},
   "outputs": [
    {
     "data": {
      "text/html": [
       "<div>\n",
       "<style scoped>\n",
       "    .dataframe tbody tr th:only-of-type {\n",
       "        vertical-align: middle;\n",
       "    }\n",
       "\n",
       "    .dataframe tbody tr th {\n",
       "        vertical-align: top;\n",
       "    }\n",
       "\n",
       "    .dataframe thead th {\n",
       "        text-align: right;\n",
       "    }\n",
       "</style>\n",
       "<table border=\"1\" class=\"dataframe\">\n",
       "  <thead>\n",
       "    <tr style=\"text-align: right;\">\n",
       "      <th></th>\n",
       "      <th>Month</th>\n",
       "      <th>DayofMonth</th>\n",
       "      <th>DayOfWeek</th>\n",
       "      <th>UniqueCarrier</th>\n",
       "      <th>Origin</th>\n",
       "      <th>Dest</th>\n",
       "      <th>Distance</th>\n",
       "      <th>dep_delayed_15min</th>\n",
       "      <th>Hours</th>\n",
       "    </tr>\n",
       "  </thead>\n",
       "  <tbody>\n",
       "    <tr>\n",
       "      <th>0</th>\n",
       "      <td>8</td>\n",
       "      <td>21</td>\n",
       "      <td>7</td>\n",
       "      <td>AA</td>\n",
       "      <td>ATL</td>\n",
       "      <td>DFW</td>\n",
       "      <td>732</td>\n",
       "      <td>N</td>\n",
       "      <td>19</td>\n",
       "    </tr>\n",
       "    <tr>\n",
       "      <th>1</th>\n",
       "      <td>4</td>\n",
       "      <td>20</td>\n",
       "      <td>3</td>\n",
       "      <td>US</td>\n",
       "      <td>PIT</td>\n",
       "      <td>MCO</td>\n",
       "      <td>834</td>\n",
       "      <td>N</td>\n",
       "      <td>15</td>\n",
       "    </tr>\n",
       "    <tr>\n",
       "      <th>2</th>\n",
       "      <td>9</td>\n",
       "      <td>2</td>\n",
       "      <td>5</td>\n",
       "      <td>XE</td>\n",
       "      <td>RDU</td>\n",
       "      <td>CLE</td>\n",
       "      <td>416</td>\n",
       "      <td>N</td>\n",
       "      <td>14</td>\n",
       "    </tr>\n",
       "    <tr>\n",
       "      <th>3</th>\n",
       "      <td>11</td>\n",
       "      <td>25</td>\n",
       "      <td>6</td>\n",
       "      <td>OO</td>\n",
       "      <td>DEN</td>\n",
       "      <td>MEM</td>\n",
       "      <td>872</td>\n",
       "      <td>N</td>\n",
       "      <td>10</td>\n",
       "    </tr>\n",
       "    <tr>\n",
       "      <th>4</th>\n",
       "      <td>10</td>\n",
       "      <td>7</td>\n",
       "      <td>6</td>\n",
       "      <td>WN</td>\n",
       "      <td>MDW</td>\n",
       "      <td>OMA</td>\n",
       "      <td>423</td>\n",
       "      <td>Y</td>\n",
       "      <td>18</td>\n",
       "    </tr>\n",
       "  </tbody>\n",
       "</table>\n",
       "</div>"
      ],
      "text/plain": [
       "  Month DayofMonth DayOfWeek UniqueCarrier Origin Dest  Distance  \\\n",
       "0     8         21         7            AA    ATL  DFW       732   \n",
       "1     4         20         3            US    PIT  MCO       834   \n",
       "2     9          2         5            XE    RDU  CLE       416   \n",
       "3    11         25         6            OO    DEN  MEM       872   \n",
       "4    10          7         6            WN    MDW  OMA       423   \n",
       "\n",
       "  dep_delayed_15min Hours  \n",
       "0                 N    19  \n",
       "1                 N    15  \n",
       "2                 N    14  \n",
       "3                 N    10  \n",
       "4                 Y    18  "
      ]
     },
     "execution_count": 23,
     "metadata": {},
     "output_type": "execute_result"
    }
   ],
   "source": [
    "df=df.drop(['DepTime','Minutes'],axis=1)\n",
    "df.head()"
   ]
  },
  {
   "cell_type": "code",
   "execution_count": 24,
   "id": "8b98708f",
   "metadata": {},
   "outputs": [],
   "source": [
    "df= pd.get_dummies(df,columns=['DayOfWeek'])"
   ]
  },
  {
   "cell_type": "code",
   "execution_count": 25,
   "id": "9735b61e",
   "metadata": {},
   "outputs": [],
   "source": [
    "#Encode label column\n",
    "df['Target'] = df['dep_delayed_15min'].map({'N':0,'Y':1})\n",
    "df=df.drop('dep_delayed_15min',axis=1)"
   ]
  },
  {
   "cell_type": "markdown",
   "id": "2039ae4a",
   "metadata": {},
   "source": [
    "## Split data into train and test sets"
   ]
  },
  {
   "cell_type": "code",
   "execution_count": 26,
   "id": "49b08fae",
   "metadata": {},
   "outputs": [],
   "source": [
    "from sklearn.model_selection import train_test_split"
   ]
  },
  {
   "cell_type": "code",
   "execution_count": 27,
   "id": "e60790c0",
   "metadata": {},
   "outputs": [],
   "source": [
    "X=df.drop('Target',axis=1)\n",
    "y=df.Target\n",
    "X_train, X_test, y_train, y_test = train_test_split(X, y, test_size=0.20, random_state=42,stratify=y)"
   ]
  },
  {
   "cell_type": "code",
   "execution_count": 28,
   "id": "1ad57a00",
   "metadata": {},
   "outputs": [
    {
     "data": {
      "text/plain": [
       "0    0.809613\n",
       "1    0.190387\n",
       "Name: Target, dtype: float64"
      ]
     },
     "execution_count": 28,
     "metadata": {},
     "output_type": "execute_result"
    }
   ],
   "source": [
    "y_train.value_counts(normalize=True)"
   ]
  },
  {
   "cell_type": "code",
   "execution_count": 29,
   "id": "9ea6a5cc",
   "metadata": {},
   "outputs": [
    {
     "data": {
      "text/plain": [
       "0    0.80959\n",
       "1    0.19041\n",
       "Name: Target, dtype: float64"
      ]
     },
     "execution_count": 29,
     "metadata": {},
     "output_type": "execute_result"
    }
   ],
   "source": [
    "y_test.value_counts(normalize=True)"
   ]
  },
  {
   "cell_type": "code",
   "execution_count": 30,
   "id": "2b2617d4",
   "metadata": {},
   "outputs": [
    {
     "data": {
      "text/html": [
       "<div>\n",
       "<style scoped>\n",
       "    .dataframe tbody tr th:only-of-type {\n",
       "        vertical-align: middle;\n",
       "    }\n",
       "\n",
       "    .dataframe tbody tr th {\n",
       "        vertical-align: top;\n",
       "    }\n",
       "\n",
       "    .dataframe thead th {\n",
       "        text-align: right;\n",
       "    }\n",
       "</style>\n",
       "<table border=\"1\" class=\"dataframe\">\n",
       "  <thead>\n",
       "    <tr style=\"text-align: right;\">\n",
       "      <th></th>\n",
       "      <th>Month</th>\n",
       "      <th>DayofMonth</th>\n",
       "      <th>UniqueCarrier</th>\n",
       "      <th>Origin</th>\n",
       "      <th>Dest</th>\n",
       "      <th>Distance</th>\n",
       "      <th>Hours</th>\n",
       "      <th>DayOfWeek_1</th>\n",
       "      <th>DayOfWeek_2</th>\n",
       "      <th>DayOfWeek_3</th>\n",
       "      <th>DayOfWeek_4</th>\n",
       "      <th>DayOfWeek_5</th>\n",
       "      <th>DayOfWeek_6</th>\n",
       "      <th>DayOfWeek_7</th>\n",
       "    </tr>\n",
       "  </thead>\n",
       "  <tbody>\n",
       "    <tr>\n",
       "      <th>6735</th>\n",
       "      <td>2</td>\n",
       "      <td>28</td>\n",
       "      <td>HP</td>\n",
       "      <td>PHX</td>\n",
       "      <td>LAX</td>\n",
       "      <td>370</td>\n",
       "      <td>8</td>\n",
       "      <td>1</td>\n",
       "      <td>0</td>\n",
       "      <td>0</td>\n",
       "      <td>0</td>\n",
       "      <td>0</td>\n",
       "      <td>0</td>\n",
       "      <td>0</td>\n",
       "    </tr>\n",
       "    <tr>\n",
       "      <th>23941</th>\n",
       "      <td>3</td>\n",
       "      <td>14</td>\n",
       "      <td>DL</td>\n",
       "      <td>ATL</td>\n",
       "      <td>JAX</td>\n",
       "      <td>270</td>\n",
       "      <td>13</td>\n",
       "      <td>0</td>\n",
       "      <td>1</td>\n",
       "      <td>0</td>\n",
       "      <td>0</td>\n",
       "      <td>0</td>\n",
       "      <td>0</td>\n",
       "      <td>0</td>\n",
       "    </tr>\n",
       "    <tr>\n",
       "      <th>93429</th>\n",
       "      <td>10</td>\n",
       "      <td>19</td>\n",
       "      <td>AA</td>\n",
       "      <td>LAS</td>\n",
       "      <td>DFW</td>\n",
       "      <td>1055</td>\n",
       "      <td>6</td>\n",
       "      <td>0</td>\n",
       "      <td>0</td>\n",
       "      <td>1</td>\n",
       "      <td>0</td>\n",
       "      <td>0</td>\n",
       "      <td>0</td>\n",
       "      <td>0</td>\n",
       "    </tr>\n",
       "    <tr>\n",
       "      <th>47374</th>\n",
       "      <td>10</td>\n",
       "      <td>2</td>\n",
       "      <td>MQ</td>\n",
       "      <td>SJT</td>\n",
       "      <td>DFW</td>\n",
       "      <td>228</td>\n",
       "      <td>11</td>\n",
       "      <td>0</td>\n",
       "      <td>0</td>\n",
       "      <td>0</td>\n",
       "      <td>0</td>\n",
       "      <td>0</td>\n",
       "      <td>0</td>\n",
       "      <td>1</td>\n",
       "    </tr>\n",
       "    <tr>\n",
       "      <th>43718</th>\n",
       "      <td>9</td>\n",
       "      <td>14</td>\n",
       "      <td>XE</td>\n",
       "      <td>EWR</td>\n",
       "      <td>TYS</td>\n",
       "      <td>631</td>\n",
       "      <td>21</td>\n",
       "      <td>0</td>\n",
       "      <td>0</td>\n",
       "      <td>0</td>\n",
       "      <td>1</td>\n",
       "      <td>0</td>\n",
       "      <td>0</td>\n",
       "      <td>0</td>\n",
       "    </tr>\n",
       "  </tbody>\n",
       "</table>\n",
       "</div>"
      ],
      "text/plain": [
       "      Month DayofMonth UniqueCarrier Origin Dest  Distance Hours  DayOfWeek_1  \\\n",
       "6735      2         28            HP    PHX  LAX       370     8            1   \n",
       "23941     3         14            DL    ATL  JAX       270    13            0   \n",
       "93429    10         19            AA    LAS  DFW      1055     6            0   \n",
       "47374    10          2            MQ    SJT  DFW       228    11            0   \n",
       "43718     9         14            XE    EWR  TYS       631    21            0   \n",
       "\n",
       "       DayOfWeek_2  DayOfWeek_3  DayOfWeek_4  DayOfWeek_5  DayOfWeek_6  \\\n",
       "6735             0            0            0            0            0   \n",
       "23941            1            0            0            0            0   \n",
       "93429            0            1            0            0            0   \n",
       "47374            0            0            0            0            0   \n",
       "43718            0            0            1            0            0   \n",
       "\n",
       "       DayOfWeek_7  \n",
       "6735             0  \n",
       "23941            0  \n",
       "93429            0  \n",
       "47374            1  \n",
       "43718            0  "
      ]
     },
     "execution_count": 30,
     "metadata": {},
     "output_type": "execute_result"
    }
   ],
   "source": [
    "X_test.head()"
   ]
  },
  {
   "cell_type": "code",
   "execution_count": 31,
   "id": "7c642c49",
   "metadata": {},
   "outputs": [
    {
     "data": {
      "text/plain": [
       "6735      8\n",
       "23941    13\n",
       "93429     6\n",
       "47374    11\n",
       "43718    21\n",
       "         ..\n",
       "56410    18\n",
       "43657    14\n",
       "4460     11\n",
       "84683     6\n",
       "13454    11\n",
       "Name: Hours, Length: 19999, dtype: object"
      ]
     },
     "execution_count": 31,
     "metadata": {},
     "output_type": "execute_result"
    }
   ],
   "source": [
    "X_test['Hours']"
   ]
  },
  {
   "cell_type": "markdown",
   "id": "cd4b9595",
   "metadata": {},
   "source": [
    "## Encoding\n",
    "We will use target encoding for the high cardinality categorical fetaures."
   ]
  },
  {
   "cell_type": "code",
   "execution_count": 32,
   "id": "bfa545a6",
   "metadata": {},
   "outputs": [],
   "source": [
    "import category_encoders as ce"
   ]
  },
  {
   "cell_type": "code",
   "execution_count": 33,
   "id": "1dd4c928",
   "metadata": {},
   "outputs": [
    {
     "name": "stderr",
     "output_type": "stream",
     "text": [
      "C:\\Users\\pusha\\AppData\\Local\\Programs\\Python\\Python310\\lib\\site-packages\\category_encoders\\target_encoder.py:92: FutureWarning: Default parameter min_samples_leaf will change in version 2.6.See https://github.com/scikit-learn-contrib/category_encoders/issues/327\n",
      "  warnings.warn(\"Default parameter min_samples_leaf will change in version 2.6.\"\n",
      "C:\\Users\\pusha\\AppData\\Local\\Programs\\Python\\Python310\\lib\\site-packages\\category_encoders\\target_encoder.py:97: FutureWarning: Default parameter smoothing will change in version 2.6.See https://github.com/scikit-learn-contrib/category_encoders/issues/327\n",
      "  warnings.warn(\"Default parameter smoothing will change in version 2.6.\"\n"
     ]
    }
   ],
   "source": [
    "tenc=ce.TargetEncoder()\n",
    "X_train_ce=tenc.fit_transform(X_train,y_train)"
   ]
  },
  {
   "cell_type": "code",
   "execution_count": 34,
   "id": "f4d1d195",
   "metadata": {},
   "outputs": [],
   "source": [
    "X_test_ce=tenc.transform(X_test)"
   ]
  },
  {
   "cell_type": "code",
   "execution_count": 35,
   "id": "d24894c6",
   "metadata": {},
   "outputs": [
    {
     "data": {
      "text/html": [
       "<div>\n",
       "<style scoped>\n",
       "    .dataframe tbody tr th:only-of-type {\n",
       "        vertical-align: middle;\n",
       "    }\n",
       "\n",
       "    .dataframe tbody tr th {\n",
       "        vertical-align: top;\n",
       "    }\n",
       "\n",
       "    .dataframe thead th {\n",
       "        text-align: right;\n",
       "    }\n",
       "</style>\n",
       "<table border=\"1\" class=\"dataframe\">\n",
       "  <thead>\n",
       "    <tr style=\"text-align: right;\">\n",
       "      <th></th>\n",
       "      <th>Month</th>\n",
       "      <th>DayofMonth</th>\n",
       "      <th>UniqueCarrier</th>\n",
       "      <th>Origin</th>\n",
       "      <th>Dest</th>\n",
       "      <th>Distance</th>\n",
       "      <th>Hours</th>\n",
       "      <th>DayOfWeek_1</th>\n",
       "      <th>DayOfWeek_2</th>\n",
       "      <th>DayOfWeek_3</th>\n",
       "      <th>DayOfWeek_4</th>\n",
       "      <th>DayOfWeek_5</th>\n",
       "      <th>DayOfWeek_6</th>\n",
       "      <th>DayOfWeek_7</th>\n",
       "    </tr>\n",
       "  </thead>\n",
       "  <tbody>\n",
       "    <tr>\n",
       "      <th>6735</th>\n",
       "      <td>0.179885</td>\n",
       "      <td>0.213752</td>\n",
       "      <td>0.144029</td>\n",
       "      <td>0.180305</td>\n",
       "      <td>0.165299</td>\n",
       "      <td>370</td>\n",
       "      <td>0.075651</td>\n",
       "      <td>1</td>\n",
       "      <td>0</td>\n",
       "      <td>0</td>\n",
       "      <td>0</td>\n",
       "      <td>0</td>\n",
       "      <td>0</td>\n",
       "      <td>0</td>\n",
       "    </tr>\n",
       "    <tr>\n",
       "      <th>23941</th>\n",
       "      <td>0.196489</td>\n",
       "      <td>0.191187</td>\n",
       "      <td>0.168587</td>\n",
       "      <td>0.250740</td>\n",
       "      <td>0.211488</td>\n",
       "      <td>270</td>\n",
       "      <td>0.192300</td>\n",
       "      <td>0</td>\n",
       "      <td>1</td>\n",
       "      <td>0</td>\n",
       "      <td>0</td>\n",
       "      <td>0</td>\n",
       "      <td>0</td>\n",
       "      <td>0</td>\n",
       "    </tr>\n",
       "    <tr>\n",
       "      <th>93429</th>\n",
       "      <td>0.179250</td>\n",
       "      <td>0.190494</td>\n",
       "      <td>0.186427</td>\n",
       "      <td>0.219561</td>\n",
       "      <td>0.147829</td>\n",
       "      <td>1055</td>\n",
       "      <td>0.025321</td>\n",
       "      <td>0</td>\n",
       "      <td>0</td>\n",
       "      <td>1</td>\n",
       "      <td>0</td>\n",
       "      <td>0</td>\n",
       "      <td>0</td>\n",
       "      <td>0</td>\n",
       "    </tr>\n",
       "    <tr>\n",
       "      <th>47374</th>\n",
       "      <td>0.179250</td>\n",
       "      <td>0.191137</td>\n",
       "      <td>0.197020</td>\n",
       "      <td>0.050000</td>\n",
       "      <td>0.147829</td>\n",
       "      <td>228</td>\n",
       "      <td>0.149558</td>\n",
       "      <td>0</td>\n",
       "      <td>0</td>\n",
       "      <td>0</td>\n",
       "      <td>0</td>\n",
       "      <td>0</td>\n",
       "      <td>0</td>\n",
       "      <td>1</td>\n",
       "    </tr>\n",
       "    <tr>\n",
       "      <th>43718</th>\n",
       "      <td>0.158282</td>\n",
       "      <td>0.191187</td>\n",
       "      <td>0.177103</td>\n",
       "      <td>0.238259</td>\n",
       "      <td>0.228758</td>\n",
       "      <td>631</td>\n",
       "      <td>0.391135</td>\n",
       "      <td>0</td>\n",
       "      <td>0</td>\n",
       "      <td>0</td>\n",
       "      <td>1</td>\n",
       "      <td>0</td>\n",
       "      <td>0</td>\n",
       "      <td>0</td>\n",
       "    </tr>\n",
       "  </tbody>\n",
       "</table>\n",
       "</div>"
      ],
      "text/plain": [
       "          Month  DayofMonth  UniqueCarrier    Origin      Dest  Distance  \\\n",
       "6735   0.179885    0.213752       0.144029  0.180305  0.165299       370   \n",
       "23941  0.196489    0.191187       0.168587  0.250740  0.211488       270   \n",
       "93429  0.179250    0.190494       0.186427  0.219561  0.147829      1055   \n",
       "47374  0.179250    0.191137       0.197020  0.050000  0.147829       228   \n",
       "43718  0.158282    0.191187       0.177103  0.238259  0.228758       631   \n",
       "\n",
       "          Hours  DayOfWeek_1  DayOfWeek_2  DayOfWeek_3  DayOfWeek_4  \\\n",
       "6735   0.075651            1            0            0            0   \n",
       "23941  0.192300            0            1            0            0   \n",
       "93429  0.025321            0            0            1            0   \n",
       "47374  0.149558            0            0            0            0   \n",
       "43718  0.391135            0            0            0            1   \n",
       "\n",
       "       DayOfWeek_5  DayOfWeek_6  DayOfWeek_7  \n",
       "6735             0            0            0  \n",
       "23941            0            0            0  \n",
       "93429            0            0            0  \n",
       "47374            0            0            1  \n",
       "43718            0            0            0  "
      ]
     },
     "execution_count": 35,
     "metadata": {},
     "output_type": "execute_result"
    }
   ],
   "source": [
    "X_test_ce.head()"
   ]
  },
  {
   "cell_type": "code",
   "execution_count": 36,
   "id": "478bcebc",
   "metadata": {},
   "outputs": [
    {
     "data": {
      "image/png": "[encoded data removed]",
      "text/plain": [
       "<Figure size 1440x1440 with 2 Axes>"
      ]
     },
     "metadata": {
      "needs_background": "light"
     },
     "output_type": "display_data"
    }
   ],
   "source": [
    "corrmat=X_train_ce.corr()\n",
    "fig = plt.figure(figsize = (20, 20))\n",
    "sns.heatmap(corrmat, vmax = 1, square = True, cmap = \"YlGnBu\", annot = True)\n",
    "plt.show()"
   ]
  },
  {
   "cell_type": "markdown",
   "id": "25d00853",
   "metadata": {},
   "source": [
    "As expected some of the airport and carrier related information are somewhat corelated."
   ]
  },
  {
   "cell_type": "markdown",
   "id": "b24515dd",
   "metadata": {},
   "source": [
    "# Model Building \n",
    "## Case1: proceed without balancing the data by using PR AUC as the evaluation metric\n",
    "\n",
    "Since we are dealing with an imbalanced classification problem, we can take area under the precision recall curve as our metric. \n",
    "Also, we should use Stratified K-Fold for cross validation"
   ]
  },
  {
   "cell_type": "code",
   "execution_count": 63,
   "id": "c40e3587",
   "metadata": {},
   "outputs": [],
   "source": [
    "from sklearn.model_selection import cross_val_score\n",
    "from sklearn.metrics import precision_recall_curve\n",
    "from sklearn.metrics import auc\n",
    "from sklearn.metrics import make_scorer\n",
    "from sklearn.dummy import DummyClassifier\n",
    "\n",
    "from sklearn.linear_model import LogisticRegression\n",
    "from sklearn.metrics import accuracy_score,confusion_matrix,classification_report\n",
    "from sklearn.model_selection import StratifiedKFold\n",
    "from sklearn.ensemble import RandomForestClassifier\n",
    "from sklearn.naive_bayes import GaussianNB\n",
    "from sklearn.model_selection import GridSearchCV\n",
    "from sklearn.inspection import permutation_importance\n",
    "from sklearn.metrics import precision_score,recall_score,f1_score,mean_squared_error"
   ]
  },
  {
   "cell_type": "markdown",
   "id": "2edd5f7e",
   "metadata": {},
   "source": [
    "We should scale the data before feeding it into our model for better results."
   ]
  },
  {
   "cell_type": "code",
   "execution_count": 99,
   "id": "56f22093",
   "metadata": {},
   "outputs": [],
   "source": [
    "from sklearn.preprocessing import MinMaxScaler\n",
    "\n",
    "scaler = MinMaxScaler(feature_range = (0,1))\n",
    "scaler.fit(X_train_ce)\n",
    "X_train_ce = scaler.transform(X_train_ce)\n",
    "X_test_ce = scaler.transform(X_test_ce)"
   ]
  },
  {
   "cell_type": "code",
   "execution_count": 61,
   "id": "c3d96107",
   "metadata": {},
   "outputs": [],
   "source": [
    "# calculate precision-recall area under curve\n",
    "def pr_auc(y_true, probas_pred):\n",
    "    # calculate precision-recall curve\n",
    "    p, r, _ = precision_recall_curve(y_true, probas_pred)\n",
    "    # calculate area under curve\n",
    "    return auc(r, p)\n",
    " \n",
    "# evaluate a model\n",
    "def evaluate_model(X, y, model):\n",
    "    # define evaluation procedure\n",
    "    cv = StratifiedKFold(n_splits=5)\n",
    "    # define the model evaluation the metric\n",
    "    metric = make_scorer(pr_auc, needs_proba=True)\n",
    "    # evaluate model\n",
    "    scores = cross_val_score(model, X, y, scoring=metric, cv=cv, n_jobs=-1)\n",
    "    return scores"
   ]
  },
  {
   "cell_type": "markdown",
   "id": "78226414",
   "metadata": {},
   "source": [
    "### Baseline Model\n",
    "If we always predict the positive class. "
   ]
  },
  {
   "cell_type": "code",
   "execution_count": 101,
   "id": "dc38fca8",
   "metadata": {},
   "outputs": [
    {
     "name": "stdout",
     "output_type": "stream",
     "text": [
      "Mean PR AUC: 0.595 (0.000)\n"
     ]
    }
   ],
   "source": [
    "# define the baseline model\n",
    "model = DummyClassifier(strategy='constant', constant=1)\n",
    "# evaluate the model\n",
    "scores = evaluate_model(X_test_ce, y_test, model)\n",
    "# summarize performance\n",
    "print('Mean PR AUC: %.3f (%.3f)' % (np.mean(scores),np.std(scores)))"
   ]
  },
  {
   "cell_type": "code",
   "execution_count": 102,
   "id": "99bd529c",
   "metadata": {},
   "outputs": [],
   "source": [
    "def summarize_results(grid_result):\n",
    "    print(\"Best: %f using %s\" % (grid_result.best_score_, grid_result.best_params_))\n",
    "    means = grid_result.cv_results_['mean_test_score']\n",
    "    stds = grid_result.cv_results_['std_test_score']\n",
    "    params = grid_result.cv_results_['params']\n",
    "    for mean, stdev, param in zip(means, stds, params):\n",
    "        print(\"%f (%f) with: %r\" % (mean, stdev, param))"
   ]
  },
  {
   "cell_type": "code",
   "execution_count": 103,
   "id": "74babd92",
   "metadata": {},
   "outputs": [],
   "source": [
    "cv = StratifiedKFold(n_splits=5)\n",
    "scoring = make_scorer(pr_auc, needs_proba=True)"
   ]
  },
  {
   "cell_type": "markdown",
   "id": "afa5976f",
   "metadata": {},
   "source": [
    "## Logistic Regression"
   ]
  },
  {
   "cell_type": "code",
   "execution_count": 104,
   "id": "928e2204",
   "metadata": {},
   "outputs": [],
   "source": [
    "log_reg=LogisticRegression()\n",
    "grid={'C':10.0 **np.arange(-2,3),'penalty':['l1','l2'],\"solver\":['liblinear']}\n",
    "grid_search_lr = GridSearchCV(estimator=log_reg, param_grid=grid, n_jobs=-1, cv=cv, scoring=scoring)\n",
    "grid_result_lr = grid_search_lr.fit(X_train_ce, y_train)"
   ]
  },
  {
   "cell_type": "code",
   "execution_count": 105,
   "id": "a81b717c",
   "metadata": {},
   "outputs": [
    {
     "name": "stdout",
     "output_type": "stream",
     "text": [
      "Best: 0.375543 using {'C': 100.0, 'penalty': 'l2', 'solver': 'liblinear'}\n",
      "0.353055 (0.006102) with: {'C': 0.01, 'penalty': 'l1', 'solver': 'liblinear'}\n",
      "0.363787 (0.007003) with: {'C': 0.01, 'penalty': 'l2', 'solver': 'liblinear'}\n",
      "0.374859 (0.008071) with: {'C': 0.1, 'penalty': 'l1', 'solver': 'liblinear'}\n",
      "0.374460 (0.007744) with: {'C': 0.1, 'penalty': 'l2', 'solver': 'liblinear'}\n",
      "0.375476 (0.008214) with: {'C': 1.0, 'penalty': 'l1', 'solver': 'liblinear'}\n",
      "0.375465 (0.008166) with: {'C': 1.0, 'penalty': 'l2', 'solver': 'liblinear'}\n",
      "0.375531 (0.008231) with: {'C': 10.0, 'penalty': 'l1', 'solver': 'liblinear'}\n",
      "0.375536 (0.008229) with: {'C': 10.0, 'penalty': 'l2', 'solver': 'liblinear'}\n",
      "0.375538 (0.008232) with: {'C': 100.0, 'penalty': 'l1', 'solver': 'liblinear'}\n",
      "0.375543 (0.008236) with: {'C': 100.0, 'penalty': 'l2', 'solver': 'liblinear'}\n"
     ]
    }
   ],
   "source": [
    "summarize_results(grid_result_lr)"
   ]
  },
  {
   "cell_type": "code",
   "execution_count": 106,
   "id": "19da5205",
   "metadata": {},
   "outputs": [
    {
     "name": "stdout",
     "output_type": "stream",
     "text": [
      "Mean PR AUC: 0.370 (0.018)\n"
     ]
    }
   ],
   "source": [
    "y_pred = grid_result_lr.predict(X_test_ce)\n",
    "# evaluate the model\n",
    "scores = evaluate_model(X_test_ce, y_test, grid_result_lr)\n",
    "# summarize performance\n",
    "print('Mean PR AUC: %.3f (%.3f)' % (np.mean(scores),np.std(scores)))"
   ]
  },
  {
   "cell_type": "code",
   "execution_count": 107,
   "id": "5179ea5b",
   "metadata": {},
   "outputs": [
    {
     "name": "stdout",
     "output_type": "stream",
     "text": [
      "The root mean squared error is:  0.43452208283587107\n"
     ]
    }
   ],
   "source": [
    "rms = mean_squared_error(y_test, y_pred, squared=False)\n",
    "print('The root mean squared error is: ',rms)"
   ]
  },
  {
   "cell_type": "code",
   "execution_count": 108,
   "id": "e226c6fa",
   "metadata": {},
   "outputs": [
    {
     "name": "stdout",
     "output_type": "stream",
     "text": [
      "              precision    recall  f1-score   support\n",
      "\n",
      "           0       0.82      0.98      0.89     16191\n",
      "           1       0.53      0.08      0.14      3808\n",
      "\n",
      "    accuracy                           0.81     19999\n",
      "   macro avg       0.67      0.53      0.52     19999\n",
      "weighted avg       0.76      0.81      0.75     19999\n",
      "\n"
     ]
    }
   ],
   "source": [
    "print(classification_report(y_test,y_pred))"
   ]
  },
  {
   "cell_type": "markdown",
   "id": "f0c98725",
   "metadata": {},
   "source": [
    "## Random Forest Classifier\n"
   ]
  },
  {
   "cell_type": "code",
   "execution_count": 109,
   "id": "f12a9650",
   "metadata": {},
   "outputs": [],
   "source": [
    "rf = RandomForestClassifier()\n",
    "rf.fit(X_train_ce,y_train)\n",
    "y_pred=rf.predict(X_test_ce)"
   ]
  },
  {
   "cell_type": "code",
   "execution_count": 110,
   "id": "bdeb0a01",
   "metadata": {},
   "outputs": [
    {
     "name": "stdout",
     "output_type": "stream",
     "text": [
      "Mean PR AUC: 0.393 (0.003)\n"
     ]
    }
   ],
   "source": [
    "# evaluate the model on cross validation score using PR AUC \n",
    "scores = evaluate_model(X_train_ce, y_train, rf)\n",
    "# summarize performance\n",
    "print('Mean PR AUC: %.3f (%.3f)' % (np.mean(scores),np.std(scores)))"
   ]
  },
  {
   "cell_type": "code",
   "execution_count": 111,
   "id": "649dc735",
   "metadata": {},
   "outputs": [
    {
     "name": "stdout",
     "output_type": "stream",
     "text": [
      "The root mean squared error is:  0.42785412579248067\n"
     ]
    }
   ],
   "source": [
    "rms = mean_squared_error(y_test, y_pred, squared=False)\n",
    "print('The root mean squared error is: ',rms)"
   ]
  },
  {
   "cell_type": "markdown",
   "id": "d1804acf",
   "metadata": {},
   "source": [
    "## Naive Bayes"
   ]
  },
  {
   "cell_type": "code",
   "execution_count": 112,
   "id": "67154759",
   "metadata": {},
   "outputs": [],
   "source": [
    "gnb = GaussianNB()\n",
    "gnb.fit(X_train_ce,y_train)\n",
    "y_pred=gnb.predict(X_test_ce)"
   ]
  },
  {
   "cell_type": "code",
   "execution_count": 113,
   "id": "f6721a8a",
   "metadata": {},
   "outputs": [
    {
     "name": "stdout",
     "output_type": "stream",
     "text": [
      "Mean PR AUC: 0.368 (0.006)\n"
     ]
    }
   ],
   "source": [
    "# evaluate the model on cross validation score using PR AUC \n",
    "scores = evaluate_model(X_train_ce, y_train, gnb)\n",
    "# summarize performance\n",
    "print('Mean PR AUC: %.3f (%.3f)' % (np.mean(scores),np.std(scores)))"
   ]
  },
  {
   "cell_type": "code",
   "execution_count": 114,
   "id": "e6972215",
   "metadata": {},
   "outputs": [
    {
     "name": "stdout",
     "output_type": "stream",
     "text": [
      "The root mean squared error is:   0.4411459287883368\n"
     ]
    }
   ],
   "source": [
    "rms = mean_squared_error(y_test, y_pred, squared=False)\n",
    "print('The root mean squared error is:  ',rms)"
   ]
  },
  {
   "cell_type": "code",
   "execution_count": 115,
   "id": "c0a0774c",
   "metadata": {},
   "outputs": [
    {
     "name": "stdout",
     "output_type": "stream",
     "text": [
      "              precision    recall  f1-score   support\n",
      "\n",
      "           0       0.83      0.96      0.89     16191\n",
      "           1       0.47      0.16      0.24      3808\n",
      "\n",
      "    accuracy                           0.81     19999\n",
      "   macro avg       0.65      0.56      0.56     19999\n",
      "weighted avg       0.76      0.81      0.76     19999\n",
      "\n"
     ]
    }
   ],
   "source": [
    "print(classification_report(y_test,y_pred))"
   ]
  },
  {
   "cell_type": "markdown",
   "id": "5bc91ac7",
   "metadata": {},
   "source": [
    "## Neural Networks\n",
    "Let's now use a neural network model to solve the problem and see what results we get. We will be using TensorFlow in this instance."
   ]
  },
  {
   "cell_type": "code",
   "execution_count": 37,
   "id": "b1ea7863",
   "metadata": {},
   "outputs": [],
   "source": [
    "import tensorflow as tf\n",
    "from tensorflow.keras.models import Sequential\n",
    "from tensorflow.keras.layers import Dense, Activation,Dropout"
   ]
  },
  {
   "cell_type": "code",
   "execution_count": 38,
   "id": "5e320d4c",
   "metadata": {},
   "outputs": [
    {
     "data": {
      "text/plain": [
       "(79995, 14)"
      ]
     },
     "execution_count": 38,
     "metadata": {},
     "output_type": "execute_result"
    }
   ],
   "source": [
    "X_train_ce.shape"
   ]
  },
  {
   "cell_type": "markdown",
   "id": "aeb91848",
   "metadata": {},
   "source": [
    "Since our train set has 14 columns or 14 features, we will take the first layer of 14 units and a hidden layer with 7 units, both with activation function as Rectified Linear Unit or ReLU. Since this is a classification problem, with only one output which can take value 0 or 1, we will take the last layer of 1 unit with sigmoid function as activation."
   ]
  },
  {
   "cell_type": "code",
   "execution_count": 39,
   "id": "8ab08fea",
   "metadata": {},
   "outputs": [],
   "source": [
    "model = Sequential()\n",
    "\n",
    "model.add(Dense(units=14,activation='relu'))\n",
    "\n",
    "model.add(Dense(units=7,activation='relu'))\n",
    "\n",
    "\n",
    "model.add(Dense(units=1,activation='sigmoid'))\n",
    "\n",
    "model.compile(loss='binary_crossentropy', optimizer='adam')"
   ]
  },
  {
   "cell_type": "code",
   "execution_count": 45,
   "id": "83f0cddd",
   "metadata": {},
   "outputs": [
    {
     "name": "stdout",
     "output_type": "stream",
     "text": [
      "Epoch 1/600\n",
      "2500/2500 [==============================] - 3s 1ms/step - loss: 0.4407 - val_loss: 0.4385\n",
      "Epoch 2/600\n",
      "2500/2500 [==============================] - 3s 1ms/step - loss: 0.4401 - val_loss: 0.4389\n",
      "Epoch 3/600\n",
      "2500/2500 [==============================] - 3s 1ms/step - loss: 0.4403 - val_loss: 0.4402\n",
      "Epoch 4/600\n",
      "2500/2500 [==============================] - 3s 1ms/step - loss: 0.4410 - val_loss: 0.4400\n",
      "Epoch 5/600\n",
      "2500/2500 [==============================] - 4s 1ms/step - loss: 0.4405 - val_loss: 0.4462\n",
      "Epoch 6/600\n",
      "2500/2500 [==============================] - 3s 1ms/step - loss: 0.4409 - val_loss: 0.4385\n",
      "Epoch 7/600\n",
      "2500/2500 [==============================] - 3s 1ms/step - loss: 0.4405 - val_loss: 0.4383\n",
      "Epoch 8/600\n",
      "2500/2500 [==============================] - 3s 1ms/step - loss: 0.4403 - val_loss: 0.4413\n",
      "Epoch 9/600\n",
      "2500/2500 [==============================] - 4s 1ms/step - loss: 0.4407 - val_loss: 0.4413\n",
      "Epoch 10/600\n",
      "2500/2500 [==============================] - 5s 2ms/step - loss: 0.4407 - val_loss: 0.4442\n",
      "Epoch 11/600\n",
      "2500/2500 [==============================] - 4s 2ms/step - loss: 0.4407 - val_loss: 0.4410\n",
      "Epoch 12/600\n",
      "2500/2500 [==============================] - 3s 1ms/step - loss: 0.4409 - val_loss: 0.4600\n",
      "Epoch 13/600\n",
      "2500/2500 [==============================] - 3s 1ms/step - loss: 0.4400 - val_loss: 0.4411\n",
      "Epoch 14/600\n",
      "2500/2500 [==============================] - 3s 1ms/step - loss: 0.4403 - val_loss: 0.4381\n",
      "Epoch 15/600\n",
      "2500/2500 [==============================] - 4s 1ms/step - loss: 0.4404 - val_loss: 0.4439\n",
      "Epoch 16/600\n",
      "2500/2500 [==============================] - 3s 1ms/step - loss: 0.4399 - val_loss: 0.4412\n",
      "Epoch 17/600\n",
      "2500/2500 [==============================] - 3s 1ms/step - loss: 0.4401 - val_loss: 0.4389\n",
      "Epoch 18/600\n",
      "2500/2500 [==============================] - 3s 1ms/step - loss: 0.4402 - val_loss: 0.4419\n",
      "Epoch 19/600\n",
      "2500/2500 [==============================] - 3s 1ms/step - loss: 0.4407 - val_loss: 0.4489\n",
      "Epoch 20/600\n",
      "2500/2500 [==============================] - 3s 1ms/step - loss: 0.4407 - val_loss: 0.4434\n",
      "Epoch 21/600\n",
      "2500/2500 [==============================] - 3s 1ms/step - loss: 0.4408 - val_loss: 0.4407\n",
      "Epoch 22/600\n",
      "2500/2500 [==============================] - 3s 1ms/step - loss: 0.4403 - val_loss: 0.4391\n",
      "Epoch 23/600\n",
      "2500/2500 [==============================] - 3s 1ms/step - loss: 0.4400 - val_loss: 0.4431\n",
      "Epoch 24/600\n",
      "2500/2500 [==============================] - 3s 1ms/step - loss: 0.4403 - val_loss: 0.4405\n",
      "Epoch 25/600\n",
      "2500/2500 [==============================] - 3s 1ms/step - loss: 0.4401 - val_loss: 0.4426\n",
      "Epoch 26/600\n",
      "2500/2500 [==============================] - 3s 1ms/step - loss: 0.4406 - val_loss: 0.4412\n",
      "Epoch 27/600\n",
      "2500/2500 [==============================] - 3s 1ms/step - loss: 0.4402 - val_loss: 0.4394\n",
      "Epoch 28/600\n",
      "2500/2500 [==============================] - 3s 1ms/step - loss: 0.4409 - val_loss: 0.4397\n",
      "Epoch 29/600\n",
      "2500/2500 [==============================] - 3s 1ms/step - loss: 0.4406 - val_loss: 0.4409\n",
      "Epoch 30/600\n",
      "2500/2500 [==============================] - 3s 1ms/step - loss: 0.4401 - val_loss: 0.4433\n",
      "Epoch 31/600\n",
      "2500/2500 [==============================] - 3s 1ms/step - loss: 0.4404 - val_loss: 0.4400\n",
      "Epoch 32/600\n",
      "2500/2500 [==============================] - 3s 1ms/step - loss: 0.4404 - val_loss: 0.4521\n",
      "Epoch 33/600\n",
      "2500/2500 [==============================] - 3s 1ms/step - loss: 0.4399 - val_loss: 0.4401\n",
      "Epoch 34/600\n",
      "2500/2500 [==============================] - 3s 1ms/step - loss: 0.4403 - val_loss: 0.4428\n",
      "Epoch 35/600\n",
      "2500/2500 [==============================] - 3s 1ms/step - loss: 0.4400 - val_loss: 0.4401\n",
      "Epoch 36/600\n",
      "2500/2500 [==============================] - 3s 1ms/step - loss: 0.4403 - val_loss: 0.4401\n",
      "Epoch 37/600\n",
      "2500/2500 [==============================] - 3s 1ms/step - loss: 0.4400 - val_loss: 0.4502\n",
      "Epoch 38/600\n",
      "2500/2500 [==============================] - 3s 1ms/step - loss: 0.4403 - val_loss: 0.4403\n",
      "Epoch 39/600\n",
      "2500/2500 [==============================] - 3s 1ms/step - loss: 0.4401 - val_loss: 0.4407\n",
      "Epoch 40/600\n",
      "2500/2500 [==============================] - 3s 1ms/step - loss: 0.4402 - val_loss: 0.4401\n",
      "Epoch 41/600\n",
      "2500/2500 [==============================] - 3s 1ms/step - loss: 0.4403 - val_loss: 0.4403\n",
      "Epoch 42/600\n",
      "2500/2500 [==============================] - 3s 1ms/step - loss: 0.4397 - val_loss: 0.4394\n",
      "Epoch 43/600\n",
      "2500/2500 [==============================] - 3s 1ms/step - loss: 0.4403 - val_loss: 0.4394\n",
      "Epoch 44/600\n",
      "2500/2500 [==============================] - 3s 1ms/step - loss: 0.4405 - val_loss: 0.4389\n",
      "Epoch 45/600\n",
      "2500/2500 [==============================] - 3s 1ms/step - loss: 0.4398 - val_loss: 0.4383\n",
      "Epoch 46/600\n",
      "2500/2500 [==============================] - 3s 1ms/step - loss: 0.4404 - val_loss: 0.4380\n",
      "Epoch 47/600\n",
      "2500/2500 [==============================] - 3s 1ms/step - loss: 0.4398 - val_loss: 0.4383\n",
      "Epoch 48/600\n",
      "2500/2500 [==============================] - 3s 1ms/step - loss: 0.4402 - val_loss: 0.4404\n",
      "Epoch 49/600\n",
      "2500/2500 [==============================] - 3s 1ms/step - loss: 0.4404 - val_loss: 0.4419\n",
      "Epoch 50/600\n",
      "2500/2500 [==============================] - 3s 1ms/step - loss: 0.4398 - val_loss: 0.4386\n",
      "Epoch 51/600\n",
      "2500/2500 [==============================] - 3s 1ms/step - loss: 0.4399 - val_loss: 0.4382\n",
      "Epoch 52/600\n",
      "2500/2500 [==============================] - 3s 1ms/step - loss: 0.4402 - val_loss: 0.4381\n",
      "Epoch 53/600\n",
      "2500/2500 [==============================] - 3s 1ms/step - loss: 0.4398 - val_loss: 0.4386\n",
      "Epoch 54/600\n",
      "2500/2500 [==============================] - 3s 1ms/step - loss: 0.4399 - val_loss: 0.4396\n",
      "Epoch 55/600\n",
      "2500/2500 [==============================] - 3s 1ms/step - loss: 0.4403 - val_loss: 0.4433\n",
      "Epoch 56/600\n",
      "2500/2500 [==============================] - 3s 1ms/step - loss: 0.4398 - val_loss: 0.4404\n",
      "Epoch 57/600\n",
      "2500/2500 [==============================] - 3s 1ms/step - loss: 0.4401 - val_loss: 0.4400\n",
      "Epoch 58/600\n",
      "2500/2500 [==============================] - 3s 1ms/step - loss: 0.4401 - val_loss: 0.4392\n",
      "Epoch 59/600\n",
      "2500/2500 [==============================] - 3s 1ms/step - loss: 0.4398 - val_loss: 0.4731\n",
      "Epoch 60/600\n",
      "2500/2500 [==============================] - 3s 1ms/step - loss: 0.4395 - val_loss: 0.4473\n",
      "Epoch 61/600\n",
      "2500/2500 [==============================] - 3s 1ms/step - loss: 0.4404 - val_loss: 0.4416\n",
      "Epoch 62/600\n",
      "2500/2500 [==============================] - 4s 1ms/step - loss: 0.4408 - val_loss: 0.4512\n",
      "Epoch 63/600\n",
      "2500/2500 [==============================] - 3s 1ms/step - loss: 0.4401 - val_loss: 0.4427\n",
      "Epoch 64/600\n",
      "2500/2500 [==============================] - 3s 1ms/step - loss: 0.4399 - val_loss: 0.4396\n",
      "Epoch 65/600\n",
      "2500/2500 [==============================] - 3s 1ms/step - loss: 0.4402 - val_loss: 0.4398\n",
      "Epoch 66/600\n",
      "2500/2500 [==============================] - 3s 1ms/step - loss: 0.4401 - val_loss: 0.4390\n",
      "Epoch 67/600\n",
      "2500/2500 [==============================] - 3s 1ms/step - loss: 0.4401 - val_loss: 0.4389\n",
      "Epoch 68/600\n",
      "2500/2500 [==============================] - 3s 1ms/step - loss: 0.4399 - val_loss: 0.4397\n",
      "Epoch 69/600\n",
      "2500/2500 [==============================] - 3s 1ms/step - loss: 0.4404 - val_loss: 0.4431\n",
      "Epoch 70/600\n",
      "2500/2500 [==============================] - 3s 1ms/step - loss: 0.4399 - val_loss: 0.4434\n",
      "Epoch 71/600\n",
      "2500/2500 [==============================] - 3s 1ms/step - loss: 0.4402 - val_loss: 0.4450\n",
      "Epoch 72/600\n",
      "2500/2500 [==============================] - 3s 1ms/step - loss: 0.4401 - val_loss: 0.4378\n",
      "Epoch 73/600\n",
      "2500/2500 [==============================] - 3s 1ms/step - loss: 0.4400 - val_loss: 0.4402\n",
      "Epoch 74/600\n",
      "2500/2500 [==============================] - 3s 1ms/step - loss: 0.4393 - val_loss: 0.4381\n",
      "Epoch 75/600\n",
      "2500/2500 [==============================] - 3s 1ms/step - loss: 0.4394 - val_loss: 0.4383\n",
      "Epoch 76/600\n",
      "2500/2500 [==============================] - 3s 1ms/step - loss: 0.4395 - val_loss: 0.4376\n",
      "Epoch 77/600\n",
      "2500/2500 [==============================] - 3s 1ms/step - loss: 0.4395 - val_loss: 0.4393\n",
      "Epoch 78/600\n",
      "2500/2500 [==============================] - 3s 1ms/step - loss: 0.4396 - val_loss: 0.4416\n",
      "Epoch 79/600\n",
      "2500/2500 [==============================] - 3s 1ms/step - loss: 0.4393 - val_loss: 0.4434\n"
     ]
    },
    {
     "name": "stdout",
     "output_type": "stream",
     "text": [
      "Epoch 80/600\n",
      "2500/2500 [==============================] - 3s 1ms/step - loss: 0.4395 - val_loss: 0.4379\n",
      "Epoch 81/600\n",
      "2500/2500 [==============================] - 3s 1ms/step - loss: 0.4394 - val_loss: 0.4431\n",
      "Epoch 82/600\n",
      "2500/2500 [==============================] - 3s 1ms/step - loss: 0.4398 - val_loss: 0.4394\n",
      "Epoch 83/600\n",
      "2500/2500 [==============================] - 3s 1ms/step - loss: 0.4390 - val_loss: 0.4381\n",
      "Epoch 84/600\n",
      "2500/2500 [==============================] - 3s 1ms/step - loss: 0.4394 - val_loss: 0.4476\n",
      "Epoch 85/600\n",
      "2500/2500 [==============================] - 3s 1ms/step - loss: 0.4397 - val_loss: 0.4430\n",
      "Epoch 86/600\n",
      "2500/2500 [==============================] - 3s 1ms/step - loss: 0.4397 - val_loss: 0.4379\n",
      "Epoch 87/600\n",
      "2500/2500 [==============================] - 3s 1ms/step - loss: 0.4396 - val_loss: 0.4472\n",
      "Epoch 88/600\n",
      "2500/2500 [==============================] - 3s 1ms/step - loss: 0.4392 - val_loss: 0.4477\n",
      "Epoch 89/600\n",
      "2500/2500 [==============================] - 3s 1ms/step - loss: 0.4401 - val_loss: 0.4405\n",
      "Epoch 90/600\n",
      "2500/2500 [==============================] - 3s 1ms/step - loss: 0.4395 - val_loss: 0.4385\n",
      "Epoch 91/600\n",
      "2500/2500 [==============================] - 3s 1ms/step - loss: 0.4396 - val_loss: 0.4374\n",
      "Epoch 92/600\n",
      "2500/2500 [==============================] - 3s 1ms/step - loss: 0.4395 - val_loss: 0.4401\n",
      "Epoch 93/600\n",
      "2500/2500 [==============================] - 4s 1ms/step - loss: 0.4396 - val_loss: 0.4381\n",
      "Epoch 94/600\n",
      "2500/2500 [==============================] - 3s 1ms/step - loss: 0.4396 - val_loss: 0.4453\n",
      "Epoch 95/600\n",
      "2500/2500 [==============================] - 4s 1ms/step - loss: 0.4392 - val_loss: 0.4464\n",
      "Epoch 96/600\n",
      "2500/2500 [==============================] - 4s 2ms/step - loss: 0.4391 - val_loss: 0.4444\n",
      "Epoch 97/600\n",
      "2500/2500 [==============================] - 3s 1ms/step - loss: 0.4398 - val_loss: 0.4413\n",
      "Epoch 98/600\n",
      "2500/2500 [==============================] - 3s 1ms/step - loss: 0.4397 - val_loss: 0.4398\n",
      "Epoch 99/600\n",
      "2500/2500 [==============================] - 3s 1ms/step - loss: 0.4393 - val_loss: 0.4386\n",
      "Epoch 100/600\n",
      "2500/2500 [==============================] - 3s 1ms/step - loss: 0.4394 - val_loss: 0.4409\n",
      "Epoch 101/600\n",
      "2500/2500 [==============================] - 3s 1ms/step - loss: 0.4396 - val_loss: 0.4386\n",
      "Epoch 102/600\n",
      "2500/2500 [==============================] - 3s 1ms/step - loss: 0.4394 - val_loss: 0.4464\n",
      "Epoch 103/600\n",
      "2500/2500 [==============================] - 3s 1ms/step - loss: 0.4398 - val_loss: 0.4393\n",
      "Epoch 104/600\n",
      "2500/2500 [==============================] - 3s 1ms/step - loss: 0.4395 - val_loss: 0.4792\n",
      "Epoch 105/600\n",
      "2500/2500 [==============================] - 3s 1ms/step - loss: 0.4396 - val_loss: 0.4393\n",
      "Epoch 106/600\n",
      "2500/2500 [==============================] - 3s 1ms/step - loss: 0.4395 - val_loss: 0.4395\n",
      "Epoch 107/600\n",
      "2500/2500 [==============================] - 3s 1ms/step - loss: 0.4400 - val_loss: 0.4418\n",
      "Epoch 108/600\n",
      "2500/2500 [==============================] - 3s 1ms/step - loss: 0.4398 - val_loss: 0.4402\n",
      "Epoch 109/600\n",
      "2500/2500 [==============================] - 3s 1ms/step - loss: 0.4403 - val_loss: 0.4441\n",
      "Epoch 110/600\n",
      "2500/2500 [==============================] - 3s 1ms/step - loss: 0.4400 - val_loss: 0.4411\n",
      "Epoch 111/600\n",
      "2500/2500 [==============================] - 3s 1ms/step - loss: 0.4394 - val_loss: 0.4372\n",
      "Epoch 112/600\n",
      "2500/2500 [==============================] - 3s 1ms/step - loss: 0.4390 - val_loss: 0.4375\n",
      "Epoch 113/600\n",
      "2500/2500 [==============================] - 3s 1ms/step - loss: 0.4391 - val_loss: 0.4441\n",
      "Epoch 114/600\n",
      "2500/2500 [==============================] - 3s 1ms/step - loss: 0.4394 - val_loss: 0.4396\n",
      "Epoch 115/600\n",
      "2500/2500 [==============================] - 3s 1ms/step - loss: 0.4395 - val_loss: 0.4389\n",
      "Epoch 116/600\n",
      "2500/2500 [==============================] - 3s 1ms/step - loss: 0.4394 - val_loss: 0.4419\n",
      "Epoch 117/600\n",
      "2500/2500 [==============================] - 3s 1ms/step - loss: 0.4393 - val_loss: 0.4415\n",
      "Epoch 118/600\n",
      "2500/2500 [==============================] - 3s 1ms/step - loss: 0.4395 - val_loss: 0.4383\n",
      "Epoch 119/600\n",
      "2500/2500 [==============================] - 3s 1ms/step - loss: 0.4398 - val_loss: 0.4490\n",
      "Epoch 120/600\n",
      "2500/2500 [==============================] - 3s 1ms/step - loss: 0.4397 - val_loss: 0.4387\n",
      "Epoch 121/600\n",
      "2500/2500 [==============================] - 3s 1ms/step - loss: 0.4401 - val_loss: 0.4427\n",
      "Epoch 122/600\n",
      "2500/2500 [==============================] - 3s 1ms/step - loss: 0.4399 - val_loss: 0.4371\n",
      "Epoch 123/600\n",
      "2500/2500 [==============================] - 3s 1ms/step - loss: 0.4390 - val_loss: 0.4385\n",
      "Epoch 124/600\n",
      "2500/2500 [==============================] - 3s 1ms/step - loss: 0.4395 - val_loss: 0.4433\n",
      "Epoch 125/600\n",
      "2500/2500 [==============================] - 3s 1ms/step - loss: 0.4390 - val_loss: 0.4391\n",
      "Epoch 126/600\n",
      "2500/2500 [==============================] - 3s 1ms/step - loss: 0.4396 - val_loss: 0.4392\n",
      "Epoch 127/600\n",
      "2500/2500 [==============================] - 3s 1ms/step - loss: 0.4393 - val_loss: 0.4394\n",
      "Epoch 128/600\n",
      "2500/2500 [==============================] - 3s 1ms/step - loss: 0.4398 - val_loss: 0.4400\n",
      "Epoch 129/600\n",
      "2500/2500 [==============================] - 3s 1ms/step - loss: 0.4396 - val_loss: 0.4394\n",
      "Epoch 130/600\n",
      "2500/2500 [==============================] - 3s 1ms/step - loss: 0.4396 - val_loss: 0.4387\n",
      "Epoch 131/600\n",
      "2500/2500 [==============================] - 3s 1ms/step - loss: 0.4392 - val_loss: 0.4539\n",
      "Epoch 132/600\n",
      "2500/2500 [==============================] - 3s 1ms/step - loss: 0.4398 - val_loss: 0.4379\n",
      "Epoch 133/600\n",
      "2500/2500 [==============================] - 3s 1ms/step - loss: 0.4398 - val_loss: 0.4409\n",
      "Epoch 134/600\n",
      "2500/2500 [==============================] - 3s 1ms/step - loss: 0.4392 - val_loss: 0.4384\n",
      "Epoch 135/600\n",
      "2500/2500 [==============================] - 3s 1ms/step - loss: 0.4388 - val_loss: 0.4373\n",
      "Epoch 136/600\n",
      "2500/2500 [==============================] - 4s 2ms/step - loss: 0.4395 - val_loss: 0.4384\n",
      "Epoch 137/600\n",
      "2500/2500 [==============================] - 3s 1ms/step - loss: 0.4391 - val_loss: 0.4419\n",
      "Epoch 138/600\n",
      "2500/2500 [==============================] - 3s 1ms/step - loss: 0.4395 - val_loss: 0.4402\n",
      "Epoch 139/600\n",
      "2500/2500 [==============================] - 3s 1ms/step - loss: 0.4387 - val_loss: 0.4430\n",
      "Epoch 140/600\n",
      "2500/2500 [==============================] - 3s 1ms/step - loss: 0.4392 - val_loss: 0.4410\n",
      "Epoch 141/600\n",
      "2500/2500 [==============================] - 3s 1ms/step - loss: 0.4395 - val_loss: 0.4445\n",
      "Epoch 142/600\n",
      "2500/2500 [==============================] - 3s 1ms/step - loss: 0.4389 - val_loss: 0.4374\n",
      "Epoch 143/600\n",
      "2500/2500 [==============================] - 3s 1ms/step - loss: 0.4390 - val_loss: 0.4378\n",
      "Epoch 144/600\n",
      "2500/2500 [==============================] - 3s 1ms/step - loss: 0.4393 - val_loss: 0.4417\n",
      "Epoch 145/600\n",
      "2500/2500 [==============================] - 3s 1ms/step - loss: 0.4387 - val_loss: 0.4387\n",
      "Epoch 146/600\n",
      "2500/2500 [==============================] - 3s 1ms/step - loss: 0.4389 - val_loss: 0.4379\n",
      "Epoch 147/600\n",
      "2500/2500 [==============================] - 3s 1ms/step - loss: 0.4386 - val_loss: 0.4461\n",
      "Epoch 148/600\n",
      "2500/2500 [==============================] - 3s 1ms/step - loss: 0.4391 - val_loss: 0.4479\n",
      "Epoch 149/600\n",
      "2500/2500 [==============================] - 3s 1ms/step - loss: 0.4395 - val_loss: 0.4379\n",
      "Epoch 150/600\n",
      "2500/2500 [==============================] - 4s 2ms/step - loss: 0.4388 - val_loss: 0.4375\n",
      "Epoch 151/600\n",
      "2500/2500 [==============================] - 3s 1ms/step - loss: 0.4397 - val_loss: 0.4517\n",
      "Epoch 152/600\n",
      "2500/2500 [==============================] - 3s 1ms/step - loss: 0.4394 - val_loss: 0.4388\n",
      "Epoch 153/600\n",
      "2500/2500 [==============================] - 3s 1ms/step - loss: 0.4388 - val_loss: 0.4403\n",
      "Epoch 154/600\n",
      "2500/2500 [==============================] - 3s 1ms/step - loss: 0.4387 - val_loss: 0.4390\n",
      "Epoch 155/600\n",
      "2500/2500 [==============================] - 3s 1ms/step - loss: 0.4394 - val_loss: 0.4391\n",
      "Epoch 156/600\n",
      "2500/2500 [==============================] - 3s 1ms/step - loss: 0.4391 - val_loss: 0.4388\n",
      "Epoch 157/600\n",
      "2500/2500 [==============================] - 3s 1ms/step - loss: 0.4398 - val_loss: 0.4451\n",
      "Epoch 158/600\n",
      "2500/2500 [==============================] - 3s 1ms/step - loss: 0.4393 - val_loss: 0.4367\n",
      "Epoch 159/600\n",
      "2500/2500 [==============================] - 3s 1ms/step - loss: 0.4394 - val_loss: 0.4436\n",
      "Epoch 160/600\n",
      "2500/2500 [==============================] - 3s 1ms/step - loss: 0.4395 - val_loss: 0.4400\n",
      "Epoch 161/600\n",
      "2500/2500 [==============================] - 3s 1ms/step - loss: 0.4392 - val_loss: 0.4436\n",
      "Epoch 162/600\n",
      "2500/2500 [==============================] - 3s 1ms/step - loss: 0.4394 - val_loss: 0.4388\n",
      "Epoch 163/600\n",
      "2500/2500 [==============================] - 3s 1ms/step - loss: 0.4395 - val_loss: 0.4417\n",
      "Epoch 164/600\n",
      "2500/2500 [==============================] - 3s 1ms/step - loss: 0.4390 - val_loss: 0.4395\n",
      "Epoch 165/600\n",
      "2500/2500 [==============================] - 3s 1ms/step - loss: 0.4390 - val_loss: 0.4398\n",
      "Epoch 166/600\n",
      "2500/2500 [==============================] - 3s 1ms/step - loss: 0.4393 - val_loss: 0.4400\n",
      "Epoch 167/600\n",
      "2500/2500 [==============================] - 3s 1ms/step - loss: 0.4390 - val_loss: 0.4371\n",
      "Epoch 168/600\n",
      "2500/2500 [==============================] - 3s 1ms/step - loss: 0.4389 - val_loss: 0.4374\n",
      "Epoch 169/600\n",
      "2500/2500 [==============================] - 3s 1ms/step - loss: 0.4392 - val_loss: 0.4513\n",
      "Epoch 170/600\n",
      "2500/2500 [==============================] - 3s 1ms/step - loss: 0.4390 - val_loss: 0.4405\n",
      "Epoch 171/600\n",
      "2500/2500 [==============================] - 3s 1ms/step - loss: 0.4387 - val_loss: 0.4409\n",
      "Epoch 172/600\n",
      "2500/2500 [==============================] - 3s 1ms/step - loss: 0.4393 - val_loss: 0.4386\n",
      "Epoch 173/600\n",
      "2500/2500 [==============================] - 3s 1ms/step - loss: 0.4389 - val_loss: 0.4382\n",
      "Epoch 174/600\n",
      "2500/2500 [==============================] - 3s 1ms/step - loss: 0.4388 - val_loss: 0.4431\n",
      "Epoch 175/600\n",
      "2500/2500 [==============================] - 3s 1ms/step - loss: 0.4390 - val_loss: 0.4376\n",
      "Epoch 176/600\n",
      "2500/2500 [==============================] - 3s 1ms/step - loss: 0.4388 - val_loss: 0.4385\n",
      "Epoch 177/600\n",
      "2500/2500 [==============================] - 3s 1ms/step - loss: 0.4393 - val_loss: 0.4407\n",
      "Epoch 178/600\n",
      "2500/2500 [==============================] - 3s 1ms/step - loss: 0.4394 - val_loss: 0.4378\n",
      "Epoch 179/600\n",
      "2500/2500 [==============================] - 3s 1ms/step - loss: 0.4390 - val_loss: 0.4433\n",
      "Epoch 180/600\n",
      "2500/2500 [==============================] - 3s 1ms/step - loss: 0.4394 - val_loss: 0.4390\n",
      "Epoch 181/600\n",
      "2500/2500 [==============================] - 3s 1ms/step - loss: 0.4391 - val_loss: 0.4410\n",
      "Epoch 182/600\n",
      "2500/2500 [==============================] - 3s 1ms/step - loss: 0.4392 - val_loss: 0.4385\n",
      "Epoch 183/600\n",
      "2500/2500 [==============================] - 3s 1ms/step - loss: 0.4390 - val_loss: 0.4433\n",
      "Epoch 184/600\n",
      "2500/2500 [==============================] - 3s 1ms/step - loss: 0.4393 - val_loss: 0.4383\n",
      "Epoch 185/600\n",
      "2500/2500 [==============================] - 3s 1ms/step - loss: 0.4390 - val_loss: 0.4373\n",
      "Epoch 186/600\n",
      "2500/2500 [==============================] - 3s 1ms/step - loss: 0.4392 - val_loss: 0.4438\n",
      "Epoch 187/600\n",
      "2500/2500 [==============================] - 3s 1ms/step - loss: 0.4388 - val_loss: 0.4418\n",
      "Epoch 188/600\n",
      "2500/2500 [==============================] - 3s 1ms/step - loss: 0.4386 - val_loss: 0.4391\n",
      "Epoch 189/600\n",
      "2500/2500 [==============================] - 3s 1ms/step - loss: 0.4386 - val_loss: 0.4385\n",
      "Epoch 190/600\n",
      "2500/2500 [==============================] - 3s 1ms/step - loss: 0.4388 - val_loss: 0.4641\n",
      "Epoch 191/600\n",
      "2500/2500 [==============================] - 3s 1ms/step - loss: 0.4389 - val_loss: 0.4436\n",
      "Epoch 192/600\n",
      "2500/2500 [==============================] - 3s 1ms/step - loss: 0.4386 - val_loss: 0.4377\n",
      "Epoch 193/600\n",
      "2500/2500 [==============================] - 3s 1ms/step - loss: 0.4384 - val_loss: 0.4534\n",
      "Epoch 194/600\n",
      "2500/2500 [==============================] - 3s 1ms/step - loss: 0.4393 - val_loss: 0.4494\n",
      "Epoch 195/600\n",
      "2500/2500 [==============================] - 3s 1ms/step - loss: 0.4386 - val_loss: 0.4387\n",
      "Epoch 196/600\n",
      "2500/2500 [==============================] - 4s 2ms/step - loss: 0.4390 - val_loss: 0.4388\n",
      "Epoch 197/600\n",
      "2500/2500 [==============================] - 3s 1ms/step - loss: 0.4389 - val_loss: 0.4428\n",
      "Epoch 198/600\n",
      "2500/2500 [==============================] - 3s 1ms/step - loss: 0.4387 - val_loss: 0.4410\n",
      "Epoch 199/600\n",
      "2500/2500 [==============================] - 3s 1ms/step - loss: 0.4393 - val_loss: 0.4417\n",
      "Epoch 200/600\n",
      "2500/2500 [==============================] - 3s 1ms/step - loss: 0.4390 - val_loss: 0.4378\n",
      "Epoch 201/600\n",
      "2500/2500 [==============================] - 3s 1ms/step - loss: 0.4386 - val_loss: 0.4411\n",
      "Epoch 202/600\n",
      "2500/2500 [==============================] - 3s 1ms/step - loss: 0.4384 - val_loss: 0.4478\n",
      "Epoch 203/600\n",
      "2500/2500 [==============================] - 3s 1ms/step - loss: 0.4386 - val_loss: 0.4369\n",
      "Epoch 204/600\n",
      "2500/2500 [==============================] - 3s 1ms/step - loss: 0.4392 - val_loss: 0.4387\n",
      "Epoch 205/600\n",
      "2500/2500 [==============================] - 3s 1ms/step - loss: 0.4391 - val_loss: 0.4485\n",
      "Epoch 206/600\n",
      "2500/2500 [==============================] - 3s 1ms/step - loss: 0.4383 - val_loss: 0.4378\n",
      "Epoch 207/600\n",
      "2500/2500 [==============================] - 3s 1ms/step - loss: 0.4391 - val_loss: 0.4413\n",
      "Epoch 208/600\n",
      "2500/2500 [==============================] - 3s 1ms/step - loss: 0.4391 - val_loss: 0.4387\n",
      "Epoch 209/600\n",
      "2500/2500 [==============================] - 3s 1ms/step - loss: 0.4386 - val_loss: 0.4387\n",
      "Epoch 210/600\n",
      "2500/2500 [==============================] - 3s 1ms/step - loss: 0.4385 - val_loss: 0.4364\n",
      "Epoch 211/600\n",
      "2500/2500 [==============================] - 3s 1ms/step - loss: 0.4383 - val_loss: 0.4399\n",
      "Epoch 212/600\n",
      "2500/2500 [==============================] - 3s 1ms/step - loss: 0.4391 - val_loss: 0.4396\n",
      "Epoch 213/600\n",
      "2500/2500 [==============================] - 3s 1ms/step - loss: 0.4382 - val_loss: 0.4415\n",
      "Epoch 214/600\n",
      "2500/2500 [==============================] - 3s 1ms/step - loss: 0.4389 - val_loss: 0.4426\n",
      "Epoch 215/600\n",
      "2500/2500 [==============================] - 3s 1ms/step - loss: 0.4392 - val_loss: 0.4433\n",
      "Epoch 216/600\n",
      "2500/2500 [==============================] - 3s 1ms/step - loss: 0.4395 - val_loss: 0.4386\n",
      "Epoch 217/600\n",
      "2500/2500 [==============================] - 3s 1ms/step - loss: 0.4389 - val_loss: 0.4427\n",
      "Epoch 218/600\n",
      "2500/2500 [==============================] - 3s 1ms/step - loss: 0.4386 - val_loss: 0.4369\n",
      "Epoch 219/600\n",
      "2500/2500 [==============================] - 3s 1ms/step - loss: 0.4387 - val_loss: 0.4397\n",
      "Epoch 220/600\n",
      "2500/2500 [==============================] - 3s 1ms/step - loss: 0.4384 - val_loss: 0.4560\n",
      "Epoch 221/600\n",
      "2500/2500 [==============================] - 3s 1ms/step - loss: 0.4394 - val_loss: 0.4386\n",
      "Epoch 222/600\n",
      "2500/2500 [==============================] - 3s 1ms/step - loss: 0.4384 - val_loss: 0.4397\n",
      "Epoch 223/600\n",
      "2500/2500 [==============================] - 4s 1ms/step - loss: 0.4388 - val_loss: 0.4449\n",
      "Epoch 224/600\n",
      "2500/2500 [==============================] - 4s 1ms/step - loss: 0.4390 - val_loss: 0.4371\n",
      "Epoch 225/600\n",
      "2500/2500 [==============================] - 4s 1ms/step - loss: 0.4395 - val_loss: 0.4445\n",
      "Epoch 226/600\n",
      "2500/2500 [==============================] - 3s 1ms/step - loss: 0.4395 - val_loss: 0.4379\n",
      "Epoch 227/600\n",
      "2500/2500 [==============================] - 3s 1ms/step - loss: 0.4388 - val_loss: 0.4531\n",
      "Epoch 228/600\n",
      "2500/2500 [==============================] - 3s 1ms/step - loss: 0.4388 - val_loss: 0.4392\n",
      "Epoch 229/600\n",
      "2500/2500 [==============================] - 4s 1ms/step - loss: 0.4383 - val_loss: 0.4649\n",
      "Epoch 230/600\n",
      "2500/2500 [==============================] - 4s 1ms/step - loss: 0.4389 - val_loss: 0.4383\n",
      "Epoch 231/600\n",
      "2500/2500 [==============================] - 4s 1ms/step - loss: 0.4390 - val_loss: 0.4430\n",
      "Epoch 232/600\n",
      "2500/2500 [==============================] - 4s 2ms/step - loss: 0.4394 - val_loss: 0.4385\n",
      "Epoch 233/600\n",
      "2500/2500 [==============================] - 4s 1ms/step - loss: 0.4384 - val_loss: 0.4391\n",
      "Epoch 234/600\n",
      "2500/2500 [==============================] - 3s 1ms/step - loss: 0.4390 - val_loss: 0.4393\n",
      "Epoch 235/600\n",
      "2500/2500 [==============================] - 4s 1ms/step - loss: 0.4385 - val_loss: 0.4399\n",
      "Epoch 236/600\n"
     ]
    },
    {
     "name": "stdout",
     "output_type": "stream",
     "text": [
      "2500/2500 [==============================] - 3s 1ms/step - loss: 0.4388 - val_loss: 0.4640\n",
      "Epoch 237/600\n",
      "2500/2500 [==============================] - 4s 1ms/step - loss: 0.4384 - val_loss: 0.4416\n",
      "Epoch 238/600\n",
      "2500/2500 [==============================] - 4s 1ms/step - loss: 0.4390 - val_loss: 0.4397\n",
      "Epoch 239/600\n",
      "2500/2500 [==============================] - 3s 1ms/step - loss: 0.4383 - val_loss: 0.4381\n",
      "Epoch 240/600\n",
      "2500/2500 [==============================] - 3s 1ms/step - loss: 0.4385 - val_loss: 0.4495\n",
      "Epoch 241/600\n",
      "2500/2500 [==============================] - 3s 1ms/step - loss: 0.4389 - val_loss: 0.4385\n",
      "Epoch 242/600\n",
      "2500/2500 [==============================] - 3s 1ms/step - loss: 0.4385 - val_loss: 0.4376\n",
      "Epoch 243/600\n",
      "2500/2500 [==============================] - 4s 1ms/step - loss: 0.4387 - val_loss: 0.4381\n",
      "Epoch 244/600\n",
      "2500/2500 [==============================] - 3s 1ms/step - loss: 0.4388 - val_loss: 0.4371\n",
      "Epoch 245/600\n",
      "2500/2500 [==============================] - 3s 1ms/step - loss: 0.4384 - val_loss: 0.4387\n",
      "Epoch 246/600\n",
      "2500/2500 [==============================] - 3s 1ms/step - loss: 0.4388 - val_loss: 0.4420\n",
      "Epoch 247/600\n",
      "2500/2500 [==============================] - 3s 1ms/step - loss: 0.4383 - val_loss: 0.4451\n",
      "Epoch 248/600\n",
      "2500/2500 [==============================] - 3s 1ms/step - loss: 0.4384 - val_loss: 0.4371\n",
      "Epoch 249/600\n",
      "2500/2500 [==============================] - 3s 1ms/step - loss: 0.4391 - val_loss: 0.4543\n",
      "Epoch 250/600\n",
      "2500/2500 [==============================] - 3s 1ms/step - loss: 0.4388 - val_loss: 0.4382\n",
      "Epoch 251/600\n",
      "2500/2500 [==============================] - 3s 1ms/step - loss: 0.4383 - val_loss: 0.4411\n",
      "Epoch 252/600\n",
      "2500/2500 [==============================] - 3s 1ms/step - loss: 0.4387 - val_loss: 0.4389\n",
      "Epoch 253/600\n",
      "2500/2500 [==============================] - 3s 1ms/step - loss: 0.4381 - val_loss: 0.4381\n",
      "Epoch 254/600\n",
      "2500/2500 [==============================] - 3s 1ms/step - loss: 0.4386 - val_loss: 0.4403\n",
      "Epoch 255/600\n",
      "2500/2500 [==============================] - 3s 1ms/step - loss: 0.4384 - val_loss: 0.4376\n",
      "Epoch 256/600\n",
      "2500/2500 [==============================] - 3s 1ms/step - loss: 0.4381 - val_loss: 0.4379\n",
      "Epoch 257/600\n",
      "2500/2500 [==============================] - 4s 1ms/step - loss: 0.4390 - val_loss: 0.4414\n",
      "Epoch 258/600\n",
      "2500/2500 [==============================] - 3s 1ms/step - loss: 0.4385 - val_loss: 0.4376\n",
      "Epoch 259/600\n",
      "2500/2500 [==============================] - 3s 1ms/step - loss: 0.4382 - val_loss: 0.4429\n",
      "Epoch 260/600\n",
      "2500/2500 [==============================] - 3s 1ms/step - loss: 0.4386 - val_loss: 0.4368\n",
      "Epoch 261/600\n",
      "2500/2500 [==============================] - 3s 1ms/step - loss: 0.4384 - val_loss: 0.4447\n",
      "Epoch 262/600\n",
      "2500/2500 [==============================] - 3s 1ms/step - loss: 0.4383 - val_loss: 0.4380\n",
      "Epoch 263/600\n",
      "2500/2500 [==============================] - 3s 1ms/step - loss: 0.4385 - val_loss: 0.4392\n",
      "Epoch 264/600\n",
      "2500/2500 [==============================] - 3s 1ms/step - loss: 0.4386 - val_loss: 0.4395\n",
      "Epoch 265/600\n",
      "2500/2500 [==============================] - 3s 1ms/step - loss: 0.4391 - val_loss: 0.4468\n",
      "Epoch 266/600\n",
      "2500/2500 [==============================] - 3s 1ms/step - loss: 0.4389 - val_loss: 0.4390\n",
      "Epoch 267/600\n",
      "2500/2500 [==============================] - 3s 1ms/step - loss: 0.4387 - val_loss: 0.4379\n",
      "Epoch 268/600\n",
      "2500/2500 [==============================] - 3s 1ms/step - loss: 0.4388 - val_loss: 0.4387\n",
      "Epoch 269/600\n",
      "2500/2500 [==============================] - 4s 1ms/step - loss: 0.4383 - val_loss: 0.4378\n",
      "Epoch 270/600\n",
      "2500/2500 [==============================] - 3s 1ms/step - loss: 0.4380 - val_loss: 0.4498\n",
      "Epoch 271/600\n",
      "2500/2500 [==============================] - 3s 1ms/step - loss: 0.4384 - val_loss: 0.4374\n",
      "Epoch 272/600\n",
      "2500/2500 [==============================] - 3s 1ms/step - loss: 0.4384 - val_loss: 0.4382\n",
      "Epoch 273/600\n",
      "2500/2500 [==============================] - 3s 1ms/step - loss: 0.4385 - val_loss: 0.4445\n",
      "Epoch 274/600\n",
      "2500/2500 [==============================] - 4s 1ms/step - loss: 0.4388 - val_loss: 0.4423\n",
      "Epoch 275/600\n",
      "2500/2500 [==============================] - 3s 1ms/step - loss: 0.4384 - val_loss: 0.4371\n",
      "Epoch 276/600\n",
      "2500/2500 [==============================] - 3s 1ms/step - loss: 0.4383 - val_loss: 0.4411\n",
      "Epoch 277/600\n",
      "2500/2500 [==============================] - 3s 1ms/step - loss: 0.4386 - val_loss: 0.4373\n",
      "Epoch 278/600\n",
      "2500/2500 [==============================] - 3s 1ms/step - loss: 0.4381 - val_loss: 0.4395\n",
      "Epoch 279/600\n",
      "2500/2500 [==============================] - 3s 1ms/step - loss: 0.4383 - val_loss: 0.4376\n",
      "Epoch 280/600\n",
      "2500/2500 [==============================] - 3s 1ms/step - loss: 0.4382 - val_loss: 0.4381\n",
      "Epoch 281/600\n",
      "2500/2500 [==============================] - 3s 1ms/step - loss: 0.4386 - val_loss: 0.4389\n",
      "Epoch 282/600\n",
      "2500/2500 [==============================] - 3s 1ms/step - loss: 0.4386 - val_loss: 0.4369\n",
      "Epoch 283/600\n",
      "2500/2500 [==============================] - 3s 1ms/step - loss: 0.4382 - val_loss: 0.4428\n",
      "Epoch 284/600\n",
      "2500/2500 [==============================] - 4s 1ms/step - loss: 0.4383 - val_loss: 0.4371\n",
      "Epoch 285/600\n",
      "2500/2500 [==============================] - 3s 1ms/step - loss: 0.4381 - val_loss: 0.4410\n",
      "Epoch 286/600\n",
      "2500/2500 [==============================] - 3s 1ms/step - loss: 0.4388 - val_loss: 0.4368\n",
      "Epoch 287/600\n",
      "2500/2500 [==============================] - 3s 1ms/step - loss: 0.4382 - val_loss: 0.4410\n",
      "Epoch 288/600\n",
      "2500/2500 [==============================] - 3s 1ms/step - loss: 0.4387 - val_loss: 0.4405\n",
      "Epoch 289/600\n",
      "2500/2500 [==============================] - 3s 1ms/step - loss: 0.4382 - val_loss: 0.4436\n",
      "Epoch 290/600\n",
      "2500/2500 [==============================] - 3s 1ms/step - loss: 0.4378 - val_loss: 0.4384\n",
      "Epoch 291/600\n",
      "2500/2500 [==============================] - 3s 1ms/step - loss: 0.4385 - val_loss: 0.4380\n",
      "Epoch 292/600\n",
      "2500/2500 [==============================] - 3s 1ms/step - loss: 0.4384 - val_loss: 0.4379\n",
      "Epoch 293/600\n",
      "2500/2500 [==============================] - 3s 1ms/step - loss: 0.4385 - val_loss: 0.4392\n",
      "Epoch 294/600\n",
      "2500/2500 [==============================] - 3s 1ms/step - loss: 0.4382 - val_loss: 0.4420\n",
      "Epoch 295/600\n",
      "2500/2500 [==============================] - 3s 1ms/step - loss: 0.4380 - val_loss: 0.4392\n",
      "Epoch 296/600\n",
      "2500/2500 [==============================] - 3s 1ms/step - loss: 0.4384 - val_loss: 0.4375\n",
      "Epoch 297/600\n",
      "2500/2500 [==============================] - 3s 1ms/step - loss: 0.4378 - val_loss: 0.4389\n",
      "Epoch 298/600\n",
      "2500/2500 [==============================] - 3s 1ms/step - loss: 0.4385 - val_loss: 0.4375\n",
      "Epoch 299/600\n",
      "2500/2500 [==============================] - 3s 1ms/step - loss: 0.4384 - val_loss: 0.4388\n",
      "Epoch 300/600\n",
      "2500/2500 [==============================] - 3s 1ms/step - loss: 0.4381 - val_loss: 0.4450\n",
      "Epoch 301/600\n",
      "2500/2500 [==============================] - 3s 1ms/step - loss: 0.4382 - val_loss: 0.4365\n",
      "Epoch 302/600\n",
      "2500/2500 [==============================] - 3s 1ms/step - loss: 0.4383 - val_loss: 0.4373\n",
      "Epoch 303/600\n",
      "2500/2500 [==============================] - 3s 1ms/step - loss: 0.4384 - val_loss: 0.4377\n",
      "Epoch 304/600\n",
      "2500/2500 [==============================] - 3s 1ms/step - loss: 0.4380 - val_loss: 0.4369\n",
      "Epoch 305/600\n",
      "2500/2500 [==============================] - 3s 1ms/step - loss: 0.4382 - val_loss: 0.4375\n",
      "Epoch 306/600\n",
      "2500/2500 [==============================] - 3s 1ms/step - loss: 0.4382 - val_loss: 0.4381\n",
      "Epoch 307/600\n",
      "2500/2500 [==============================] - 3s 1ms/step - loss: 0.4385 - val_loss: 0.4372\n",
      "Epoch 308/600\n",
      "2500/2500 [==============================] - 3s 1ms/step - loss: 0.4378 - val_loss: 0.4497\n",
      "Epoch 309/600\n",
      "2500/2500 [==============================] - 3s 1ms/step - loss: 0.4386 - val_loss: 0.4371\n",
      "Epoch 310/600\n",
      "2500/2500 [==============================] - 3s 1ms/step - loss: 0.4382 - val_loss: 0.4364\n",
      "Epoch 311/600\n",
      "2500/2500 [==============================] - 3s 1ms/step - loss: 0.4383 - val_loss: 0.4370\n",
      "Epoch 312/600\n",
      "2500/2500 [==============================] - 3s 1ms/step - loss: 0.4383 - val_loss: 0.4382\n",
      "Epoch 313/600\n",
      "2500/2500 [==============================] - 3s 1ms/step - loss: 0.4386 - val_loss: 0.4399\n",
      "Epoch 314/600\n",
      "2500/2500 [==============================] - 3s 1ms/step - loss: 0.4380 - val_loss: 0.4466\n",
      "Epoch 315/600\n",
      "2500/2500 [==============================] - 3s 1ms/step - loss: 0.4385 - val_loss: 0.4375\n",
      "Epoch 316/600\n",
      "2500/2500 [==============================] - 3s 1ms/step - loss: 0.4380 - val_loss: 0.4430\n",
      "Epoch 317/600\n",
      "2500/2500 [==============================] - 3s 1ms/step - loss: 0.4382 - val_loss: 0.4401\n",
      "Epoch 318/600\n",
      "2500/2500 [==============================] - 3s 1ms/step - loss: 0.4384 - val_loss: 0.4374\n",
      "Epoch 319/600\n",
      "2500/2500 [==============================] - 3s 1ms/step - loss: 0.4384 - val_loss: 0.4382\n",
      "Epoch 320/600\n",
      "2500/2500 [==============================] - 3s 1ms/step - loss: 0.4379 - val_loss: 0.4390\n",
      "Epoch 321/600\n",
      "2500/2500 [==============================] - 3s 1ms/step - loss: 0.4385 - val_loss: 0.4379\n",
      "Epoch 322/600\n",
      "2500/2500 [==============================] - 3s 1ms/step - loss: 0.4382 - val_loss: 0.4376\n",
      "Epoch 323/600\n",
      "2500/2500 [==============================] - 3s 1ms/step - loss: 0.4381 - val_loss: 0.4403\n",
      "Epoch 324/600\n",
      "2500/2500 [==============================] - 3s 1ms/step - loss: 0.4381 - val_loss: 0.4370\n",
      "Epoch 325/600\n",
      "2500/2500 [==============================] - 3s 1ms/step - loss: 0.4381 - val_loss: 0.4373\n",
      "Epoch 326/600\n",
      "2500/2500 [==============================] - 3s 1ms/step - loss: 0.4385 - val_loss: 0.4376\n",
      "Epoch 327/600\n",
      "2500/2500 [==============================] - 3s 1ms/step - loss: 0.4381 - val_loss: 0.4382\n",
      "Epoch 328/600\n",
      "2500/2500 [==============================] - 3s 1ms/step - loss: 0.4377 - val_loss: 0.4385\n",
      "Epoch 329/600\n",
      "2500/2500 [==============================] - 3s 1ms/step - loss: 0.4387 - val_loss: 0.4385\n",
      "Epoch 330/600\n",
      "2500/2500 [==============================] - 3s 1ms/step - loss: 0.4382 - val_loss: 0.4431\n",
      "Epoch 331/600\n",
      "2500/2500 [==============================] - 3s 1ms/step - loss: 0.4383 - val_loss: 0.4368\n",
      "Epoch 332/600\n",
      "2500/2500 [==============================] - 3s 1ms/step - loss: 0.4380 - val_loss: 0.4389\n",
      "Epoch 333/600\n",
      "2500/2500 [==============================] - 3s 1ms/step - loss: 0.4380 - val_loss: 0.4410\n",
      "Epoch 334/600\n",
      "2500/2500 [==============================] - 3s 1ms/step - loss: 0.4386 - val_loss: 0.4381\n",
      "Epoch 335/600\n",
      "2500/2500 [==============================] - 3s 1ms/step - loss: 0.4384 - val_loss: 0.4385\n",
      "Epoch 336/600\n",
      "2500/2500 [==============================] - 3s 1ms/step - loss: 0.4380 - val_loss: 0.4409\n",
      "Epoch 337/600\n",
      "2500/2500 [==============================] - 3s 1ms/step - loss: 0.4384 - val_loss: 0.4372\n",
      "Epoch 338/600\n",
      "2500/2500 [==============================] - 3s 1ms/step - loss: 0.4382 - val_loss: 0.4371\n",
      "Epoch 339/600\n",
      "2500/2500 [==============================] - 3s 1ms/step - loss: 0.4380 - val_loss: 0.4413\n",
      "Epoch 340/600\n",
      "2500/2500 [==============================] - 3s 1ms/step - loss: 0.4381 - val_loss: 0.4423\n",
      "Epoch 341/600\n",
      "2500/2500 [==============================] - 3s 1ms/step - loss: 0.4381 - val_loss: 0.4394\n",
      "Epoch 342/600\n",
      "2500/2500 [==============================] - 3s 1ms/step - loss: 0.4379 - val_loss: 0.4374\n",
      "Epoch 343/600\n",
      "2500/2500 [==============================] - 3s 1ms/step - loss: 0.4380 - val_loss: 0.4392\n",
      "Epoch 344/600\n",
      "2500/2500 [==============================] - 3s 1ms/step - loss: 0.4378 - val_loss: 0.4392\n",
      "Epoch 345/600\n",
      "2500/2500 [==============================] - 3s 1ms/step - loss: 0.4378 - val_loss: 0.4380\n",
      "Epoch 346/600\n",
      "2500/2500 [==============================] - 3s 1ms/step - loss: 0.4381 - val_loss: 0.4369\n",
      "Epoch 347/600\n",
      "2500/2500 [==============================] - 3s 1ms/step - loss: 0.4383 - val_loss: 0.4379\n",
      "Epoch 348/600\n",
      "2500/2500 [==============================] - 3s 1ms/step - loss: 0.4378 - val_loss: 0.4378\n",
      "Epoch 349/600\n",
      "2500/2500 [==============================] - 3s 1ms/step - loss: 0.4382 - val_loss: 0.4368\n",
      "Epoch 350/600\n",
      "2500/2500 [==============================] - 3s 1ms/step - loss: 0.4380 - val_loss: 0.4420\n",
      "Epoch 351/600\n",
      "2500/2500 [==============================] - 3s 1ms/step - loss: 0.4381 - val_loss: 0.4388\n",
      "Epoch 352/600\n",
      "2500/2500 [==============================] - 3s 1ms/step - loss: 0.4379 - val_loss: 0.4371\n",
      "Epoch 353/600\n",
      "2500/2500 [==============================] - 3s 1ms/step - loss: 0.4377 - val_loss: 0.4405\n",
      "Epoch 354/600\n",
      "2500/2500 [==============================] - 3s 1ms/step - loss: 0.4383 - val_loss: 0.4367\n",
      "Epoch 355/600\n",
      "2500/2500 [==============================] - 3s 1ms/step - loss: 0.4378 - val_loss: 0.4377\n",
      "Epoch 356/600\n",
      "2500/2500 [==============================] - 3s 1ms/step - loss: 0.4379 - val_loss: 0.4397\n",
      "Epoch 357/600\n",
      "2500/2500 [==============================] - 3s 1ms/step - loss: 0.4379 - val_loss: 0.4372\n",
      "Epoch 358/600\n",
      "2500/2500 [==============================] - 3s 1ms/step - loss: 0.4387 - val_loss: 0.4391\n",
      "Epoch 359/600\n",
      "2500/2500 [==============================] - 3s 1ms/step - loss: 0.4376 - val_loss: 0.4397\n",
      "Epoch 360/600\n",
      "2500/2500 [==============================] - 3s 1ms/step - loss: 0.4378 - val_loss: 0.4412\n",
      "Epoch 361/600\n",
      "2500/2500 [==============================] - 3s 1ms/step - loss: 0.4379 - val_loss: 0.4385\n",
      "Epoch 362/600\n",
      "2500/2500 [==============================] - 3s 1ms/step - loss: 0.4379 - val_loss: 0.4377\n",
      "Epoch 363/600\n",
      "2500/2500 [==============================] - 3s 1ms/step - loss: 0.4383 - val_loss: 0.4410\n",
      "Epoch 364/600\n",
      "2500/2500 [==============================] - 3s 1ms/step - loss: 0.4379 - val_loss: 0.4378\n",
      "Epoch 365/600\n",
      "2500/2500 [==============================] - 4s 1ms/step - loss: 0.4380 - val_loss: 0.4456\n",
      "Epoch 366/600\n",
      "2500/2500 [==============================] - 3s 1ms/step - loss: 0.4383 - val_loss: 0.4454\n",
      "Epoch 367/600\n",
      "2500/2500 [==============================] - 3s 1ms/step - loss: 0.4383 - val_loss: 0.4372\n",
      "Epoch 368/600\n",
      "2500/2500 [==============================] - 3s 1ms/step - loss: 0.4382 - val_loss: 0.4379\n",
      "Epoch 369/600\n",
      "2500/2500 [==============================] - 3s 1ms/step - loss: 0.4378 - val_loss: 0.4389\n",
      "Epoch 370/600\n",
      "2500/2500 [==============================] - 3s 1ms/step - loss: 0.4382 - val_loss: 0.4387\n",
      "Epoch 371/600\n",
      "2500/2500 [==============================] - 3s 1ms/step - loss: 0.4379 - val_loss: 0.4400\n",
      "Epoch 372/600\n",
      "2500/2500 [==============================] - 3s 1ms/step - loss: 0.4379 - val_loss: 0.4375\n",
      "Epoch 373/600\n",
      "2500/2500 [==============================] - 3s 1ms/step - loss: 0.4379 - val_loss: 0.4417\n",
      "Epoch 374/600\n",
      "2500/2500 [==============================] - 3s 1ms/step - loss: 0.4379 - val_loss: 0.4431\n",
      "Epoch 375/600\n",
      "2500/2500 [==============================] - 3s 1ms/step - loss: 0.4380 - val_loss: 0.4402\n",
      "Epoch 376/600\n",
      "2500/2500 [==============================] - 3s 1ms/step - loss: 0.4383 - val_loss: 0.4398\n",
      "Epoch 377/600\n",
      "2500/2500 [==============================] - 3s 1ms/step - loss: 0.4380 - val_loss: 0.4370\n",
      "Epoch 378/600\n",
      "2500/2500 [==============================] - 3s 1ms/step - loss: 0.4385 - val_loss: 0.4400\n",
      "Epoch 379/600\n",
      "2500/2500 [==============================] - 3s 1ms/step - loss: 0.4382 - val_loss: 0.4466\n",
      "Epoch 380/600\n",
      "2500/2500 [==============================] - 3s 1ms/step - loss: 0.4379 - val_loss: 0.4373\n",
      "Epoch 381/600\n",
      "2500/2500 [==============================] - 3s 1ms/step - loss: 0.4374 - val_loss: 0.4439\n",
      "Epoch 382/600\n",
      "2500/2500 [==============================] - 3s 1ms/step - loss: 0.4382 - val_loss: 0.4380\n",
      "Epoch 383/600\n",
      "2500/2500 [==============================] - 3s 1ms/step - loss: 0.4377 - val_loss: 0.4454\n",
      "Epoch 384/600\n",
      "2500/2500 [==============================] - 3s 1ms/step - loss: 0.4381 - val_loss: 0.4384\n",
      "Epoch 385/600\n",
      "2500/2500 [==============================] - 3s 1ms/step - loss: 0.4380 - val_loss: 0.4386\n",
      "Epoch 386/600\n",
      "2500/2500 [==============================] - 3s 1ms/step - loss: 0.4375 - val_loss: 0.4400\n",
      "Epoch 387/600\n",
      "2500/2500 [==============================] - 3s 1ms/step - loss: 0.4381 - val_loss: 0.4384\n",
      "Epoch 388/600\n",
      "2500/2500 [==============================] - 3s 1ms/step - loss: 0.4380 - val_loss: 0.4384\n",
      "Epoch 389/600\n",
      "2500/2500 [==============================] - 3s 1ms/step - loss: 0.4376 - val_loss: 0.4372\n",
      "Epoch 390/600\n",
      "2500/2500 [==============================] - 3s 1ms/step - loss: 0.4378 - val_loss: 0.4371\n",
      "Epoch 391/600\n",
      "2500/2500 [==============================] - 3s 1ms/step - loss: 0.4376 - val_loss: 0.4374\n",
      "Epoch 392/600\n"
     ]
    },
    {
     "name": "stdout",
     "output_type": "stream",
     "text": [
      "2500/2500 [==============================] - 4s 2ms/step - loss: 0.4383 - val_loss: 0.4374\n",
      "Epoch 393/600\n",
      "2500/2500 [==============================] - 3s 1ms/step - loss: 0.4380 - val_loss: 0.4423\n",
      "Epoch 394/600\n",
      "2500/2500 [==============================] - 3s 1ms/step - loss: 0.4386 - val_loss: 0.4390\n",
      "Epoch 395/600\n",
      "2500/2500 [==============================] - 3s 1ms/step - loss: 0.4382 - val_loss: 0.4384\n",
      "Epoch 396/600\n",
      "2500/2500 [==============================] - 3s 1ms/step - loss: 0.4380 - val_loss: 0.4473\n",
      "Epoch 397/600\n",
      "2500/2500 [==============================] - 3s 1ms/step - loss: 0.4377 - val_loss: 0.4387\n",
      "Epoch 398/600\n",
      "2500/2500 [==============================] - 3s 1ms/step - loss: 0.4379 - val_loss: 0.4392\n",
      "Epoch 399/600\n",
      "2500/2500 [==============================] - 3s 1ms/step - loss: 0.4381 - val_loss: 0.4414\n",
      "Epoch 400/600\n",
      "2500/2500 [==============================] - 3s 1ms/step - loss: 0.4378 - val_loss: 0.4406\n",
      "Epoch 401/600\n",
      "2500/2500 [==============================] - 3s 1ms/step - loss: 0.4378 - val_loss: 0.4385\n",
      "Epoch 402/600\n",
      "2500/2500 [==============================] - 3s 1ms/step - loss: 0.4377 - val_loss: 0.4402\n",
      "Epoch 403/600\n",
      "2500/2500 [==============================] - 3s 1ms/step - loss: 0.4384 - val_loss: 0.4389\n",
      "Epoch 404/600\n",
      "2500/2500 [==============================] - 3s 1ms/step - loss: 0.4382 - val_loss: 0.4367\n",
      "Epoch 405/600\n",
      "2500/2500 [==============================] - 3s 1ms/step - loss: 0.4385 - val_loss: 0.4378\n",
      "Epoch 406/600\n",
      "2500/2500 [==============================] - 3s 1ms/step - loss: 0.4382 - val_loss: 0.4384\n",
      "Epoch 407/600\n",
      "2500/2500 [==============================] - 3s 1ms/step - loss: 0.4378 - val_loss: 0.4366\n",
      "Epoch 408/600\n",
      "2500/2500 [==============================] - 3s 1ms/step - loss: 0.4376 - val_loss: 0.4379\n",
      "Epoch 409/600\n",
      "2500/2500 [==============================] - 3s 1ms/step - loss: 0.4379 - val_loss: 0.4375\n",
      "Epoch 410/600\n",
      "2500/2500 [==============================] - 3s 1ms/step - loss: 0.4381 - val_loss: 0.4379\n",
      "Epoch 411/600\n",
      "2500/2500 [==============================] - 3s 1ms/step - loss: 0.4375 - val_loss: 0.4368\n",
      "Epoch 412/600\n",
      "2500/2500 [==============================] - 3s 1ms/step - loss: 0.4375 - val_loss: 0.4391\n",
      "Epoch 413/600\n",
      "2500/2500 [==============================] - 3s 1ms/step - loss: 0.4378 - val_loss: 0.4385\n",
      "Epoch 414/600\n",
      "2500/2500 [==============================] - 3s 1ms/step - loss: 0.4381 - val_loss: 0.4485\n",
      "Epoch 415/600\n",
      "2500/2500 [==============================] - 3s 1ms/step - loss: 0.4385 - val_loss: 0.4376\n",
      "Epoch 416/600\n",
      "2500/2500 [==============================] - 3s 1ms/step - loss: 0.4379 - val_loss: 0.4378\n",
      "Epoch 417/600\n",
      "2500/2500 [==============================] - 3s 1ms/step - loss: 0.4384 - val_loss: 0.4387\n",
      "Epoch 418/600\n",
      "2500/2500 [==============================] - 3s 1ms/step - loss: 0.4380 - val_loss: 0.4407\n",
      "Epoch 419/600\n",
      "2500/2500 [==============================] - 3s 1ms/step - loss: 0.4380 - val_loss: 0.4507\n",
      "Epoch 420/600\n",
      "2500/2500 [==============================] - 3s 1ms/step - loss: 0.4383 - val_loss: 0.4393\n",
      "Epoch 421/600\n",
      "2500/2500 [==============================] - 3s 1ms/step - loss: 0.4380 - val_loss: 0.4378\n",
      "Epoch 422/600\n",
      "2500/2500 [==============================] - 3s 1ms/step - loss: 0.4379 - val_loss: 0.4460\n",
      "Epoch 423/600\n",
      "2500/2500 [==============================] - 3s 1ms/step - loss: 0.4382 - val_loss: 0.4459\n",
      "Epoch 424/600\n",
      "2500/2500 [==============================] - 3s 1ms/step - loss: 0.4379 - val_loss: 0.4379\n",
      "Epoch 425/600\n",
      "2500/2500 [==============================] - 3s 1ms/step - loss: 0.4378 - val_loss: 0.4380\n",
      "Epoch 426/600\n",
      "2500/2500 [==============================] - 3s 1ms/step - loss: 0.4381 - val_loss: 0.4395\n",
      "Epoch 427/600\n",
      "2500/2500 [==============================] - 3s 1ms/step - loss: 0.4378 - val_loss: 0.4376\n",
      "Epoch 428/600\n",
      "2500/2500 [==============================] - 4s 1ms/step - loss: 0.4382 - val_loss: 0.4368\n",
      "Epoch 429/600\n",
      "2500/2500 [==============================] - 3s 1ms/step - loss: 0.4380 - val_loss: 0.4408\n",
      "Epoch 430/600\n",
      "2500/2500 [==============================] - 3s 1ms/step - loss: 0.4375 - val_loss: 0.4402\n",
      "Epoch 431/600\n",
      "2500/2500 [==============================] - 3s 1ms/step - loss: 0.4379 - val_loss: 0.4384\n",
      "Epoch 432/600\n",
      "2500/2500 [==============================] - 3s 1ms/step - loss: 0.4378 - val_loss: 0.4422\n",
      "Epoch 433/600\n",
      "2500/2500 [==============================] - 3s 1ms/step - loss: 0.4383 - val_loss: 0.4414\n",
      "Epoch 434/600\n",
      "2500/2500 [==============================] - 3s 1ms/step - loss: 0.4377 - val_loss: 0.4388\n",
      "Epoch 435/600\n",
      "2500/2500 [==============================] - 3s 1ms/step - loss: 0.4379 - val_loss: 0.4377\n",
      "Epoch 436/600\n",
      "2500/2500 [==============================] - 3s 1ms/step - loss: 0.4378 - val_loss: 0.4367\n",
      "Epoch 437/600\n",
      "2500/2500 [==============================] - 3s 1ms/step - loss: 0.4378 - val_loss: 0.4377\n",
      "Epoch 438/600\n",
      "2500/2500 [==============================] - 3s 1ms/step - loss: 0.4381 - val_loss: 0.4367\n",
      "Epoch 439/600\n",
      "2500/2500 [==============================] - 3s 1ms/step - loss: 0.4377 - val_loss: 0.4504\n",
      "Epoch 440/600\n",
      "2500/2500 [==============================] - 3s 1ms/step - loss: 0.4378 - val_loss: 0.4379\n",
      "Epoch 441/600\n",
      "2500/2500 [==============================] - 3s 1ms/step - loss: 0.4379 - val_loss: 0.4372\n",
      "Epoch 442/600\n",
      "2500/2500 [==============================] - 3s 1ms/step - loss: 0.4377 - val_loss: 0.4376\n",
      "Epoch 443/600\n",
      "2500/2500 [==============================] - 3s 1ms/step - loss: 0.4377 - val_loss: 0.4432\n",
      "Epoch 444/600\n",
      "2500/2500 [==============================] - 3s 1ms/step - loss: 0.4381 - val_loss: 0.4388\n",
      "Epoch 445/600\n",
      "2500/2500 [==============================] - 3s 1ms/step - loss: 0.4374 - val_loss: 0.4380\n",
      "Epoch 446/600\n",
      "2500/2500 [==============================] - 3s 1ms/step - loss: 0.4377 - val_loss: 0.4456\n",
      "Epoch 447/600\n",
      "2500/2500 [==============================] - 3s 1ms/step - loss: 0.4376 - val_loss: 0.4427\n",
      "Epoch 448/600\n",
      "2500/2500 [==============================] - 3s 1ms/step - loss: 0.4379 - val_loss: 0.4414\n",
      "Epoch 449/600\n",
      "2500/2500 [==============================] - 3s 1ms/step - loss: 0.4376 - val_loss: 0.4373\n",
      "Epoch 450/600\n",
      "2500/2500 [==============================] - 3s 1ms/step - loss: 0.4380 - val_loss: 0.4416\n",
      "Epoch 451/600\n",
      "2500/2500 [==============================] - 3s 1ms/step - loss: 0.4374 - val_loss: 0.4386\n",
      "Epoch 452/600\n",
      "2500/2500 [==============================] - 3s 1ms/step - loss: 0.4379 - val_loss: 0.4390\n",
      "Epoch 453/600\n",
      "2500/2500 [==============================] - 3s 1ms/step - loss: 0.4375 - val_loss: 0.4394\n",
      "Epoch 454/600\n",
      "2500/2500 [==============================] - 3s 1ms/step - loss: 0.4374 - val_loss: 0.4383\n",
      "Epoch 455/600\n",
      "2500/2500 [==============================] - 3s 1ms/step - loss: 0.4376 - val_loss: 0.4398\n",
      "Epoch 456/600\n",
      "2500/2500 [==============================] - 3s 1ms/step - loss: 0.4378 - val_loss: 0.4369\n",
      "Epoch 457/600\n",
      "2500/2500 [==============================] - 3s 1ms/step - loss: 0.4380 - val_loss: 0.4385\n",
      "Epoch 458/600\n",
      "2500/2500 [==============================] - 3s 1ms/step - loss: 0.4380 - val_loss: 0.4378\n",
      "Epoch 459/600\n",
      "2500/2500 [==============================] - 3s 1ms/step - loss: 0.4376 - val_loss: 0.4373\n",
      "Epoch 460/600\n",
      "2500/2500 [==============================] - 3s 1ms/step - loss: 0.4376 - val_loss: 0.4425\n",
      "Epoch 461/600\n",
      "2500/2500 [==============================] - 3s 1ms/step - loss: 0.4377 - val_loss: 0.4373\n",
      "Epoch 462/600\n",
      "2500/2500 [==============================] - 3s 1ms/step - loss: 0.4376 - val_loss: 0.4364\n",
      "Epoch 463/600\n",
      "2500/2500 [==============================] - 3s 1ms/step - loss: 0.4378 - val_loss: 0.4406\n",
      "Epoch 464/600\n",
      "2500/2500 [==============================] - 3s 1ms/step - loss: 0.4374 - val_loss: 0.4374\n",
      "Epoch 465/600\n",
      "2500/2500 [==============================] - 3s 1ms/step - loss: 0.4380 - val_loss: 0.4367\n",
      "Epoch 466/600\n",
      "2500/2500 [==============================] - 3s 1ms/step - loss: 0.4376 - val_loss: 0.4382\n",
      "Epoch 467/600\n",
      "2500/2500 [==============================] - 3s 1ms/step - loss: 0.4379 - val_loss: 0.4410\n",
      "Epoch 468/600\n",
      "2500/2500 [==============================] - 3s 1ms/step - loss: 0.4377 - val_loss: 0.4400\n",
      "Epoch 469/600\n",
      "2500/2500 [==============================] - 3s 1ms/step - loss: 0.4381 - val_loss: 0.4392\n",
      "Epoch 470/600\n",
      "2500/2500 [==============================] - 3s 1ms/step - loss: 0.4374 - val_loss: 0.4378\n",
      "Epoch 471/600\n",
      "2500/2500 [==============================] - 3s 1ms/step - loss: 0.4375 - val_loss: 0.4381\n",
      "Epoch 472/600\n",
      "2500/2500 [==============================] - 3s 1ms/step - loss: 0.4379 - val_loss: 0.4392\n",
      "Epoch 473/600\n",
      "2500/2500 [==============================] - 3s 1ms/step - loss: 0.4371 - val_loss: 0.4414\n",
      "Epoch 474/600\n",
      "2500/2500 [==============================] - 3s 1ms/step - loss: 0.4378 - val_loss: 0.4387\n",
      "Epoch 475/600\n",
      "2500/2500 [==============================] - 3s 1ms/step - loss: 0.4374 - val_loss: 0.4376\n",
      "Epoch 476/600\n",
      "2500/2500 [==============================] - 3s 1ms/step - loss: 0.4381 - val_loss: 0.4452\n",
      "Epoch 477/600\n",
      "2500/2500 [==============================] - 3s 1ms/step - loss: 0.4375 - val_loss: 0.4403\n",
      "Epoch 478/600\n",
      "2500/2500 [==============================] - 3s 1ms/step - loss: 0.4377 - val_loss: 0.4366\n",
      "Epoch 479/600\n",
      "2500/2500 [==============================] - 3s 1ms/step - loss: 0.4377 - val_loss: 0.4362\n",
      "Epoch 480/600\n",
      "2500/2500 [==============================] - 3s 1ms/step - loss: 0.4375 - val_loss: 0.4374\n",
      "Epoch 481/600\n",
      "2500/2500 [==============================] - 3s 1ms/step - loss: 0.4381 - val_loss: 0.4376\n",
      "Epoch 482/600\n",
      "2500/2500 [==============================] - 3s 1ms/step - loss: 0.4382 - val_loss: 0.4368\n",
      "Epoch 483/600\n",
      "2500/2500 [==============================] - 3s 1ms/step - loss: 0.4374 - val_loss: 0.4371\n",
      "Epoch 484/600\n",
      "2500/2500 [==============================] - 3s 1ms/step - loss: 0.4378 - val_loss: 0.4372\n",
      "Epoch 485/600\n",
      "2500/2500 [==============================] - 3s 1ms/step - loss: 0.4376 - val_loss: 0.4368\n",
      "Epoch 486/600\n",
      "2500/2500 [==============================] - 3s 1ms/step - loss: 0.4381 - val_loss: 0.4408\n",
      "Epoch 487/600\n",
      "2500/2500 [==============================] - 3s 1ms/step - loss: 0.4375 - val_loss: 0.4382\n",
      "Epoch 488/600\n",
      "2500/2500 [==============================] - 3s 1ms/step - loss: 0.4374 - val_loss: 0.4385\n",
      "Epoch 489/600\n",
      "2500/2500 [==============================] - 3s 1ms/step - loss: 0.4379 - val_loss: 0.4468\n",
      "Epoch 490/600\n",
      "2500/2500 [==============================] - 3s 1ms/step - loss: 0.4375 - val_loss: 0.4387\n",
      "Epoch 491/600\n",
      "2500/2500 [==============================] - 3s 1ms/step - loss: 0.4381 - val_loss: 0.4381\n",
      "Epoch 492/600\n",
      "2500/2500 [==============================] - 3s 1ms/step - loss: 0.4376 - val_loss: 0.4461\n",
      "Epoch 493/600\n",
      "2500/2500 [==============================] - 3s 1ms/step - loss: 0.4380 - val_loss: 0.4383\n",
      "Epoch 494/600\n",
      "2500/2500 [==============================] - 3s 1ms/step - loss: 0.4379 - val_loss: 0.4384\n",
      "Epoch 495/600\n",
      "2500/2500 [==============================] - 3s 1ms/step - loss: 0.4380 - val_loss: 0.4414\n",
      "Epoch 496/600\n",
      "2500/2500 [==============================] - 3s 1ms/step - loss: 0.4382 - val_loss: 0.4390\n",
      "Epoch 497/600\n",
      "2500/2500 [==============================] - 3s 1ms/step - loss: 0.4378 - val_loss: 0.4365\n",
      "Epoch 498/600\n",
      "2500/2500 [==============================] - 3s 1ms/step - loss: 0.4377 - val_loss: 0.4371\n",
      "Epoch 499/600\n",
      "2500/2500 [==============================] - 3s 1ms/step - loss: 0.4379 - val_loss: 0.4413\n",
      "Epoch 500/600\n",
      "2500/2500 [==============================] - 3s 1ms/step - loss: 0.4373 - val_loss: 0.4417\n",
      "Epoch 501/600\n",
      "2500/2500 [==============================] - 3s 1ms/step - loss: 0.4379 - val_loss: 0.4389\n",
      "Epoch 502/600\n",
      "2500/2500 [==============================] - 3s 1ms/step - loss: 0.4378 - val_loss: 0.4394\n",
      "Epoch 503/600\n",
      "2500/2500 [==============================] - 3s 1ms/step - loss: 0.4375 - val_loss: 0.4410\n",
      "Epoch 504/600\n",
      "2500/2500 [==============================] - 3s 1ms/step - loss: 0.4379 - val_loss: 0.4367\n",
      "Epoch 505/600\n",
      "2500/2500 [==============================] - 3s 1ms/step - loss: 0.4377 - val_loss: 0.4371\n",
      "Epoch 506/600\n",
      "2500/2500 [==============================] - 3s 1ms/step - loss: 0.4372 - val_loss: 0.4371\n",
      "Epoch 507/600\n",
      "2500/2500 [==============================] - 3s 1ms/step - loss: 0.4379 - val_loss: 0.4368\n",
      "Epoch 508/600\n",
      "2500/2500 [==============================] - 3s 1ms/step - loss: 0.4381 - val_loss: 0.4415\n",
      "Epoch 509/600\n",
      "2500/2500 [==============================] - 3s 1ms/step - loss: 0.4377 - val_loss: 0.4365\n",
      "Epoch 510/600\n",
      "2500/2500 [==============================] - 3s 1ms/step - loss: 0.4378 - val_loss: 0.4384\n",
      "Epoch 511/600\n",
      "2500/2500 [==============================] - 3s 1ms/step - loss: 0.4378 - val_loss: 0.4362\n",
      "Epoch 512/600\n",
      "2500/2500 [==============================] - 3s 1ms/step - loss: 0.4375 - val_loss: 0.4423\n",
      "Epoch 513/600\n",
      "2500/2500 [==============================] - 3s 1ms/step - loss: 0.4379 - val_loss: 0.4368\n",
      "Epoch 514/600\n",
      "2500/2500 [==============================] - 3s 1ms/step - loss: 0.4373 - val_loss: 0.4386\n",
      "Epoch 515/600\n",
      "2500/2500 [==============================] - 3s 1ms/step - loss: 0.4378 - val_loss: 0.4390\n",
      "Epoch 516/600\n",
      "2500/2500 [==============================] - 3s 1ms/step - loss: 0.4372 - val_loss: 0.4409\n",
      "Epoch 517/600\n",
      "2500/2500 [==============================] - 3s 1ms/step - loss: 0.4375 - val_loss: 0.4369\n",
      "Epoch 518/600\n",
      "2500/2500 [==============================] - 3s 1ms/step - loss: 0.4375 - val_loss: 0.4411\n",
      "Epoch 519/600\n",
      "2500/2500 [==============================] - 3s 1ms/step - loss: 0.4377 - val_loss: 0.4371\n",
      "Epoch 520/600\n",
      "2500/2500 [==============================] - 3s 1ms/step - loss: 0.4379 - val_loss: 0.4374\n",
      "Epoch 521/600\n",
      "2500/2500 [==============================] - 3s 1ms/step - loss: 0.4378 - val_loss: 0.4381\n",
      "Epoch 522/600\n",
      "2500/2500 [==============================] - 3s 1ms/step - loss: 0.4377 - val_loss: 0.4390\n",
      "Epoch 523/600\n",
      "2500/2500 [==============================] - 3s 1ms/step - loss: 0.4375 - val_loss: 0.4504\n",
      "Epoch 524/600\n",
      "2500/2500 [==============================] - 3s 1ms/step - loss: 0.4374 - val_loss: 0.4431\n",
      "Epoch 525/600\n",
      "2500/2500 [==============================] - 3s 1ms/step - loss: 0.4377 - val_loss: 0.4374\n",
      "Epoch 526/600\n",
      "2500/2500 [==============================] - 3s 1ms/step - loss: 0.4377 - val_loss: 0.4362\n",
      "Epoch 527/600\n",
      "2500/2500 [==============================] - 3s 1ms/step - loss: 0.4376 - val_loss: 0.4397\n",
      "Epoch 528/600\n",
      "2500/2500 [==============================] - 3s 1ms/step - loss: 0.4381 - val_loss: 0.4385\n",
      "Epoch 529/600\n",
      "2500/2500 [==============================] - 3s 1ms/step - loss: 0.4375 - val_loss: 0.4365\n",
      "Epoch 530/600\n",
      "2500/2500 [==============================] - 4s 2ms/step - loss: 0.4377 - val_loss: 0.4381\n",
      "Epoch 531/600\n",
      "2500/2500 [==============================] - 4s 1ms/step - loss: 0.4379 - val_loss: 0.4386\n",
      "Epoch 532/600\n",
      "2500/2500 [==============================] - 4s 1ms/step - loss: 0.4376 - val_loss: 0.4384\n",
      "Epoch 533/600\n",
      "2500/2500 [==============================] - 3s 1ms/step - loss: 0.4377 - val_loss: 0.4383\n",
      "Epoch 534/600\n",
      "2500/2500 [==============================] - 3s 1ms/step - loss: 0.4374 - val_loss: 0.4372\n",
      "Epoch 535/600\n",
      "2500/2500 [==============================] - 3s 1ms/step - loss: 0.4378 - val_loss: 0.4362\n",
      "Epoch 536/600\n",
      "2500/2500 [==============================] - 3s 1ms/step - loss: 0.4378 - val_loss: 0.4448\n",
      "Epoch 537/600\n",
      "2500/2500 [==============================] - 3s 1ms/step - loss: 0.4375 - val_loss: 0.4438\n",
      "Epoch 538/600\n",
      "2500/2500 [==============================] - 3s 1ms/step - loss: 0.4377 - val_loss: 0.4383\n",
      "Epoch 539/600\n",
      "2500/2500 [==============================] - 3s 1ms/step - loss: 0.4375 - val_loss: 0.4376\n",
      "Epoch 540/600\n",
      "2500/2500 [==============================] - 3s 1ms/step - loss: 0.4379 - val_loss: 0.4402\n",
      "Epoch 541/600\n",
      "2500/2500 [==============================] - 3s 1ms/step - loss: 0.4374 - val_loss: 0.4380\n",
      "Epoch 542/600\n",
      "2500/2500 [==============================] - 3s 1ms/step - loss: 0.4377 - val_loss: 0.4365\n",
      "Epoch 543/600\n",
      "2500/2500 [==============================] - 3s 1ms/step - loss: 0.4377 - val_loss: 0.4364\n",
      "Epoch 544/600\n",
      "2500/2500 [==============================] - 3s 1ms/step - loss: 0.4377 - val_loss: 0.4384\n",
      "Epoch 545/600\n",
      "2500/2500 [==============================] - 3s 1ms/step - loss: 0.4378 - val_loss: 0.4381\n",
      "Epoch 546/600\n",
      "2500/2500 [==============================] - 3s 1ms/step - loss: 0.4371 - val_loss: 0.4365\n",
      "Epoch 547/600\n",
      "2500/2500 [==============================] - 3s 1ms/step - loss: 0.4372 - val_loss: 0.4392\n",
      "Epoch 548/600\n"
     ]
    },
    {
     "name": "stdout",
     "output_type": "stream",
     "text": [
      "2500/2500 [==============================] - 3s 1ms/step - loss: 0.4378 - val_loss: 0.4378\n",
      "Epoch 549/600\n",
      "2500/2500 [==============================] - 3s 1ms/step - loss: 0.4376 - val_loss: 0.4614\n",
      "Epoch 550/600\n",
      "2500/2500 [==============================] - 3s 1ms/step - loss: 0.4377 - val_loss: 0.4385\n",
      "Epoch 551/600\n",
      "2500/2500 [==============================] - 3s 1ms/step - loss: 0.4373 - val_loss: 0.4418\n",
      "Epoch 552/600\n",
      "2500/2500 [==============================] - 3s 1ms/step - loss: 0.4379 - val_loss: 0.4371\n",
      "Epoch 553/600\n",
      "2500/2500 [==============================] - 3s 1ms/step - loss: 0.4374 - val_loss: 0.4366\n",
      "Epoch 554/600\n",
      "2500/2500 [==============================] - 3s 1ms/step - loss: 0.4377 - val_loss: 0.4378\n",
      "Epoch 555/600\n",
      "2500/2500 [==============================] - 3s 1ms/step - loss: 0.4378 - val_loss: 0.4374\n",
      "Epoch 556/600\n",
      "2500/2500 [==============================] - 3s 1ms/step - loss: 0.4376 - val_loss: 0.4416\n",
      "Epoch 557/600\n",
      "2500/2500 [==============================] - 3s 1ms/step - loss: 0.4376 - val_loss: 0.4376\n",
      "Epoch 558/600\n",
      "2500/2500 [==============================] - 3s 1ms/step - loss: 0.4377 - val_loss: 0.4390\n",
      "Epoch 559/600\n",
      "2500/2500 [==============================] - 3s 1ms/step - loss: 0.4375 - val_loss: 0.4406\n",
      "Epoch 560/600\n",
      "2500/2500 [==============================] - 4s 1ms/step - loss: 0.4372 - val_loss: 0.4387\n",
      "Epoch 561/600\n",
      "2500/2500 [==============================] - 3s 1ms/step - loss: 0.4375 - val_loss: 0.4378\n",
      "Epoch 562/600\n",
      "2500/2500 [==============================] - 3s 1ms/step - loss: 0.4369 - val_loss: 0.4414\n",
      "Epoch 563/600\n",
      "2500/2500 [==============================] - 4s 1ms/step - loss: 0.4378 - val_loss: 0.4391\n",
      "Epoch 564/600\n",
      "2500/2500 [==============================] - 4s 2ms/step - loss: 0.4377 - val_loss: 0.4379\n",
      "Epoch 565/600\n",
      "2500/2500 [==============================] - 3s 1ms/step - loss: 0.4379 - val_loss: 0.4372\n",
      "Epoch 566/600\n",
      "2500/2500 [==============================] - 4s 2ms/step - loss: 0.4377 - val_loss: 0.4388\n",
      "Epoch 567/600\n",
      "2500/2500 [==============================] - 3s 1ms/step - loss: 0.4378 - val_loss: 0.4375\n",
      "Epoch 568/600\n",
      "2500/2500 [==============================] - 3s 1ms/step - loss: 0.4375 - val_loss: 0.4378\n",
      "Epoch 569/600\n",
      "2500/2500 [==============================] - 3s 1ms/step - loss: 0.4374 - val_loss: 0.4381\n",
      "Epoch 570/600\n",
      "2500/2500 [==============================] - 3s 1ms/step - loss: 0.4378 - val_loss: 0.4394\n",
      "Epoch 571/600\n",
      "2500/2500 [==============================] - 3s 1ms/step - loss: 0.4375 - val_loss: 0.4370\n",
      "Epoch 572/600\n",
      "2500/2500 [==============================] - 3s 1ms/step - loss: 0.4381 - val_loss: 0.4379\n",
      "Epoch 573/600\n",
      "2500/2500 [==============================] - 3s 1ms/step - loss: 0.4372 - val_loss: 0.4374\n",
      "Epoch 574/600\n",
      "2500/2500 [==============================] - 3s 1ms/step - loss: 0.4371 - val_loss: 0.4377\n",
      "Epoch 575/600\n",
      "2500/2500 [==============================] - 3s 1ms/step - loss: 0.4374 - val_loss: 0.4550\n",
      "Epoch 576/600\n",
      "2500/2500 [==============================] - 3s 1ms/step - loss: 0.4377 - val_loss: 0.4375\n",
      "Epoch 577/600\n",
      "2500/2500 [==============================] - 3s 1ms/step - loss: 0.4374 - val_loss: 0.4362\n",
      "Epoch 578/600\n",
      "2500/2500 [==============================] - 3s 1ms/step - loss: 0.4372 - val_loss: 0.4571\n",
      "Epoch 579/600\n",
      "2500/2500 [==============================] - 3s 1ms/step - loss: 0.4376 - val_loss: 0.4383\n",
      "Epoch 580/600\n",
      "2500/2500 [==============================] - 3s 1ms/step - loss: 0.4373 - val_loss: 0.4370\n",
      "Epoch 581/600\n",
      "2500/2500 [==============================] - 3s 1ms/step - loss: 0.4372 - val_loss: 0.4376\n",
      "Epoch 582/600\n",
      "2500/2500 [==============================] - 3s 1ms/step - loss: 0.4376 - val_loss: 0.4379\n",
      "Epoch 583/600\n",
      "2500/2500 [==============================] - 4s 1ms/step - loss: 0.4370 - val_loss: 0.4499\n",
      "Epoch 584/600\n",
      "2500/2500 [==============================] - 3s 1ms/step - loss: 0.4375 - val_loss: 0.4365\n",
      "Epoch 585/600\n",
      "2500/2500 [==============================] - 3s 1ms/step - loss: 0.4374 - val_loss: 0.4377\n",
      "Epoch 586/600\n",
      "2500/2500 [==============================] - 3s 1ms/step - loss: 0.4371 - val_loss: 0.4418\n",
      "Epoch 587/600\n",
      "2500/2500 [==============================] - 3s 1ms/step - loss: 0.4376 - val_loss: 0.4380\n",
      "Epoch 588/600\n",
      "2500/2500 [==============================] - 3s 1ms/step - loss: 0.4372 - val_loss: 0.4378\n",
      "Epoch 589/600\n",
      "2500/2500 [==============================] - 3s 1ms/step - loss: 0.4376 - val_loss: 0.4375\n",
      "Epoch 590/600\n",
      "2500/2500 [==============================] - 3s 1ms/step - loss: 0.4373 - val_loss: 0.4372\n",
      "Epoch 591/600\n",
      "2500/2500 [==============================] - 3s 1ms/step - loss: 0.4376 - val_loss: 0.4439\n",
      "Epoch 592/600\n",
      "2500/2500 [==============================] - 3s 1ms/step - loss: 0.4373 - val_loss: 0.4393\n",
      "Epoch 593/600\n",
      "2500/2500 [==============================] - 3s 1ms/step - loss: 0.4372 - val_loss: 0.4472\n",
      "Epoch 594/600\n",
      "2500/2500 [==============================] - 3s 1ms/step - loss: 0.4379 - val_loss: 0.4460\n",
      "Epoch 595/600\n",
      "2500/2500 [==============================] - 3s 1ms/step - loss: 0.4375 - val_loss: 0.4380\n",
      "Epoch 596/600\n",
      "2500/2500 [==============================] - 3s 1ms/step - loss: 0.4377 - val_loss: 0.4381\n",
      "Epoch 597/600\n",
      "2500/2500 [==============================] - 4s 2ms/step - loss: 0.4376 - val_loss: 0.4401\n",
      "Epoch 598/600\n",
      "2500/2500 [==============================] - 3s 1ms/step - loss: 0.4374 - val_loss: 0.4387\n",
      "Epoch 599/600\n",
      "2500/2500 [==============================] - 4s 1ms/step - loss: 0.4371 - val_loss: 0.4374\n",
      "Epoch 600/600\n",
      "2500/2500 [==============================] - 3s 1ms/step - loss: 0.4379 - val_loss: 0.4380\n"
     ]
    },
    {
     "data": {
      "text/plain": [
       "<keras.callbacks.History at 0x1d16d86df00>"
      ]
     },
     "execution_count": 45,
     "metadata": {},
     "output_type": "execute_result"
    }
   ],
   "source": [
    "model.fit(x=X_train_ce, \n",
    "          y=y_train, \n",
    "          epochs=600,\n",
    "          validation_data=(X_test_ce, y_test), verbose=1\n",
    "          )"
   ]
  },
  {
   "cell_type": "code",
   "execution_count": 46,
   "id": "71403fd8",
   "metadata": {},
   "outputs": [],
   "source": [
    "#model.history.history"
   ]
  },
  {
   "cell_type": "code",
   "execution_count": 47,
   "id": "4431aece",
   "metadata": {},
   "outputs": [
    {
     "data": {
      "text/html": [
       "<div>\n",
       "<style scoped>\n",
       "    .dataframe tbody tr th:only-of-type {\n",
       "        vertical-align: middle;\n",
       "    }\n",
       "\n",
       "    .dataframe tbody tr th {\n",
       "        vertical-align: top;\n",
       "    }\n",
       "\n",
       "    .dataframe thead th {\n",
       "        text-align: right;\n",
       "    }\n",
       "</style>\n",
       "<table border=\"1\" class=\"dataframe\">\n",
       "  <thead>\n",
       "    <tr style=\"text-align: right;\">\n",
       "      <th></th>\n",
       "      <th>loss</th>\n",
       "      <th>val_loss</th>\n",
       "    </tr>\n",
       "  </thead>\n",
       "  <tbody>\n",
       "    <tr>\n",
       "      <th>0</th>\n",
       "      <td>0.440706</td>\n",
       "      <td>0.438525</td>\n",
       "    </tr>\n",
       "    <tr>\n",
       "      <th>1</th>\n",
       "      <td>0.440116</td>\n",
       "      <td>0.438926</td>\n",
       "    </tr>\n",
       "    <tr>\n",
       "      <th>2</th>\n",
       "      <td>0.440325</td>\n",
       "      <td>0.440220</td>\n",
       "    </tr>\n",
       "    <tr>\n",
       "      <th>3</th>\n",
       "      <td>0.441031</td>\n",
       "      <td>0.439963</td>\n",
       "    </tr>\n",
       "    <tr>\n",
       "      <th>4</th>\n",
       "      <td>0.440520</td>\n",
       "      <td>0.446185</td>\n",
       "    </tr>\n",
       "  </tbody>\n",
       "</table>\n",
       "</div>"
      ],
      "text/plain": [
       "       loss  val_loss\n",
       "0  0.440706  0.438525\n",
       "1  0.440116  0.438926\n",
       "2  0.440325  0.440220\n",
       "3  0.441031  0.439963\n",
       "4  0.440520  0.446185"
      ]
     },
     "execution_count": 47,
     "metadata": {},
     "output_type": "execute_result"
    }
   ],
   "source": [
    "model_loss = pd.DataFrame(model.history.history)\n",
    "model_loss.head()"
   ]
  },
  {
   "cell_type": "code",
   "execution_count": 48,
   "id": "7df5e8f0",
   "metadata": {},
   "outputs": [
    {
     "data": {
      "text/plain": [
       "<AxesSubplot:>"
      ]
     },
     "execution_count": 48,
     "metadata": {},
     "output_type": "execute_result"
    },
    {
     "data": {
      "image/png": "[encoded data removed]",
      "text/plain": [
       "<Figure size 432x288 with 1 Axes>"
      ]
     },
     "metadata": {
      "needs_background": "light"
     },
     "output_type": "display_data"
    }
   ],
   "source": [
    "model_loss.plot()"
   ]
  },
  {
   "cell_type": "markdown",
   "id": "6c6104f7",
   "metadata": {},
   "source": [
    "The above plot shows that there is not really an advantage for keeping the epochs large in this model. Let's use early stopping to track the val_loss and stop training once it begins increasing too much!"
   ]
  },
  {
   "cell_type": "code",
   "execution_count": 49,
   "id": "6dc090cc",
   "metadata": {},
   "outputs": [],
   "source": [
    "model = Sequential()\n",
    "model.add(Dense(units=14,activation='relu'))\n",
    "model.add(Dense(units=7,activation='relu'))\n",
    "model.add(Dense(units=1,activation='sigmoid'))\n",
    "model.compile(loss='binary_crossentropy', optimizer='adam')"
   ]
  },
  {
   "cell_type": "code",
   "execution_count": 50,
   "id": "8de69f83",
   "metadata": {},
   "outputs": [],
   "source": [
    "from tensorflow.keras.callbacks import EarlyStopping"
   ]
  },
  {
   "cell_type": "code",
   "execution_count": 51,
   "id": "36d75e92",
   "metadata": {},
   "outputs": [],
   "source": [
    "early_stop = EarlyStopping(monitor='val_loss', mode='min', verbose=1, patience=25)"
   ]
  },
  {
   "cell_type": "code",
   "execution_count": 52,
   "id": "78a01b68",
   "metadata": {},
   "outputs": [
    {
     "name": "stdout",
     "output_type": "stream",
     "text": [
      "Epoch 1/200\n",
      "2500/2500 [==============================] - 4s 2ms/step - loss: 0.5235 - val_loss: 0.4961\n",
      "Epoch 2/200\n",
      "2500/2500 [==============================] - 4s 1ms/step - loss: 0.4999 - val_loss: 0.5060\n",
      "Epoch 3/200\n",
      "2500/2500 [==============================] - 3s 1ms/step - loss: 0.4921 - val_loss: 0.4742\n",
      "Epoch 4/200\n",
      "2500/2500 [==============================] - 3s 1ms/step - loss: 0.4871 - val_loss: 0.4791\n",
      "Epoch 5/200\n",
      "2500/2500 [==============================] - 3s 1ms/step - loss: 0.4852 - val_loss: 0.4668\n",
      "Epoch 6/200\n",
      "2500/2500 [==============================] - 3s 1ms/step - loss: 0.4801 - val_loss: 0.4705\n",
      "Epoch 7/200\n",
      "2500/2500 [==============================] - 3s 1ms/step - loss: 0.4763 - val_loss: 0.4833\n",
      "Epoch 8/200\n",
      "2500/2500 [==============================] - 3s 1ms/step - loss: 0.4742 - val_loss: 0.4625\n",
      "Epoch 9/200\n",
      "2500/2500 [==============================] - 3s 1ms/step - loss: 0.4721 - val_loss: 0.4558\n",
      "Epoch 10/200\n",
      "2500/2500 [==============================] - 3s 1ms/step - loss: 0.4684 - val_loss: 0.4539\n",
      "Epoch 11/200\n",
      "2500/2500 [==============================] - 3s 1ms/step - loss: 0.4682 - val_loss: 0.4589\n",
      "Epoch 12/200\n",
      "2500/2500 [==============================] - 3s 1ms/step - loss: 0.4646 - val_loss: 0.4589\n",
      "Epoch 13/200\n",
      "2500/2500 [==============================] - 3s 1ms/step - loss: 0.4652 - val_loss: 0.4519\n",
      "Epoch 14/200\n",
      "2500/2500 [==============================] - 3s 1ms/step - loss: 0.4625 - val_loss: 0.4588\n",
      "Epoch 15/200\n",
      "2500/2500 [==============================] - 3s 1ms/step - loss: 0.4614 - val_loss: 0.4588\n",
      "Epoch 16/200\n",
      "2500/2500 [==============================] - 3s 1ms/step - loss: 0.4619 - val_loss: 0.4535\n",
      "Epoch 17/200\n",
      "2500/2500 [==============================] - 3s 1ms/step - loss: 0.4609 - val_loss: 0.4503\n",
      "Epoch 18/200\n",
      "2500/2500 [==============================] - 3s 1ms/step - loss: 0.4588 - val_loss: 0.4626\n",
      "Epoch 19/200\n",
      "2500/2500 [==============================] - 3s 1ms/step - loss: 0.4585 - val_loss: 0.4493\n",
      "Epoch 20/200\n",
      "2500/2500 [==============================] - 3s 1ms/step - loss: 0.4580 - val_loss: 0.4506\n",
      "Epoch 21/200\n",
      "2500/2500 [==============================] - 3s 1ms/step - loss: 0.4575 - val_loss: 0.4560\n",
      "Epoch 22/200\n",
      "2500/2500 [==============================] - 4s 1ms/step - loss: 0.4570 - val_loss: 0.4487\n",
      "Epoch 23/200\n",
      "2500/2500 [==============================] - 3s 1ms/step - loss: 0.4556 - val_loss: 0.4528\n",
      "Epoch 24/200\n",
      "2500/2500 [==============================] - 3s 1ms/step - loss: 0.4557 - val_loss: 0.4753\n",
      "Epoch 25/200\n",
      "2500/2500 [==============================] - 3s 1ms/step - loss: 0.4554 - val_loss: 0.4481\n",
      "Epoch 26/200\n",
      "2500/2500 [==============================] - 3s 1ms/step - loss: 0.4549 - val_loss: 0.4506\n",
      "Epoch 27/200\n",
      "2500/2500 [==============================] - 3s 1ms/step - loss: 0.4550 - val_loss: 0.4511\n",
      "Epoch 28/200\n",
      "2500/2500 [==============================] - 3s 1ms/step - loss: 0.4536 - val_loss: 0.4493\n",
      "Epoch 29/200\n",
      "2500/2500 [==============================] - 3s 1ms/step - loss: 0.4542 - val_loss: 0.4485\n",
      "Epoch 30/200\n",
      "2500/2500 [==============================] - 3s 1ms/step - loss: 0.4533 - val_loss: 0.4468\n",
      "Epoch 31/200\n",
      "2500/2500 [==============================] - 4s 1ms/step - loss: 0.4537 - val_loss: 0.4508\n",
      "Epoch 32/200\n",
      "2500/2500 [==============================] - 3s 1ms/step - loss: 0.4533 - val_loss: 0.4471\n",
      "Epoch 33/200\n",
      "2500/2500 [==============================] - 3s 1ms/step - loss: 0.4529 - val_loss: 0.4496\n",
      "Epoch 34/200\n",
      "2500/2500 [==============================] - 3s 1ms/step - loss: 0.4517 - val_loss: 0.4499\n",
      "Epoch 35/200\n",
      "2500/2500 [==============================] - 3s 1ms/step - loss: 0.4522 - val_loss: 0.4570\n",
      "Epoch 36/200\n",
      "2500/2500 [==============================] - 3s 1ms/step - loss: 0.4507 - val_loss: 0.4568\n",
      "Epoch 37/200\n",
      "2500/2500 [==============================] - 4s 1ms/step - loss: 0.4510 - val_loss: 0.4479\n",
      "Epoch 38/200\n",
      "2500/2500 [==============================] - 3s 1ms/step - loss: 0.4493 - val_loss: 0.4592\n",
      "Epoch 39/200\n",
      "2500/2500 [==============================] - 3s 1ms/step - loss: 0.4491 - val_loss: 0.4473\n",
      "Epoch 40/200\n",
      "2500/2500 [==============================] - 3s 1ms/step - loss: 0.4495 - val_loss: 0.4459\n",
      "Epoch 41/200\n",
      "2500/2500 [==============================] - 3s 1ms/step - loss: 0.4488 - val_loss: 0.4437\n",
      "Epoch 42/200\n",
      "2500/2500 [==============================] - 4s 2ms/step - loss: 0.4487 - val_loss: 0.4465\n",
      "Epoch 43/200\n",
      "2500/2500 [==============================] - 3s 1ms/step - loss: 0.4499 - val_loss: 0.4492\n",
      "Epoch 44/200\n",
      "2500/2500 [==============================] - 3s 1ms/step - loss: 0.4487 - val_loss: 0.4457\n",
      "Epoch 45/200\n",
      "2500/2500 [==============================] - 3s 1ms/step - loss: 0.4483 - val_loss: 0.4461\n",
      "Epoch 46/200\n",
      "2500/2500 [==============================] - 3s 1ms/step - loss: 0.4480 - val_loss: 0.4433\n",
      "Epoch 47/200\n",
      "2500/2500 [==============================] - 3s 1ms/step - loss: 0.4487 - val_loss: 0.4436\n",
      "Epoch 48/200\n",
      "2500/2500 [==============================] - 3s 1ms/step - loss: 0.4483 - val_loss: 0.4439\n",
      "Epoch 49/200\n",
      "2500/2500 [==============================] - 3s 1ms/step - loss: 0.4480 - val_loss: 0.4433\n",
      "Epoch 50/200\n",
      "2500/2500 [==============================] - 3s 1ms/step - loss: 0.4474 - val_loss: 0.4473\n",
      "Epoch 51/200\n",
      "2500/2500 [==============================] - 3s 1ms/step - loss: 0.4486 - val_loss: 0.4486\n",
      "Epoch 52/200\n",
      "2500/2500 [==============================] - 3s 1ms/step - loss: 0.4482 - val_loss: 0.4430\n",
      "Epoch 53/200\n",
      "2500/2500 [==============================] - 3s 1ms/step - loss: 0.4484 - val_loss: 0.4542\n",
      "Epoch 54/200\n",
      "2500/2500 [==============================] - 3s 1ms/step - loss: 0.4476 - val_loss: 0.4468\n",
      "Epoch 55/200\n",
      "2500/2500 [==============================] - 3s 1ms/step - loss: 0.4471 - val_loss: 0.4717\n",
      "Epoch 56/200\n",
      "2500/2500 [==============================] - 3s 1ms/step - loss: 0.4480 - val_loss: 0.4419\n",
      "Epoch 57/200\n",
      "2500/2500 [==============================] - 3s 1ms/step - loss: 0.4484 - val_loss: 0.4465\n",
      "Epoch 58/200\n",
      "2500/2500 [==============================] - 3s 1ms/step - loss: 0.4474 - val_loss: 0.4641\n",
      "Epoch 59/200\n",
      "2500/2500 [==============================] - 3s 1ms/step - loss: 0.4468 - val_loss: 0.4445\n",
      "Epoch 60/200\n",
      "2500/2500 [==============================] - 3s 1ms/step - loss: 0.4469 - val_loss: 0.4422\n",
      "Epoch 61/200\n",
      "2500/2500 [==============================] - 3s 1ms/step - loss: 0.4466 - val_loss: 0.4453\n",
      "Epoch 62/200\n",
      "2500/2500 [==============================] - 3s 1ms/step - loss: 0.4479 - val_loss: 0.4436\n",
      "Epoch 63/200\n",
      "2500/2500 [==============================] - 3s 1ms/step - loss: 0.4474 - val_loss: 0.4554\n",
      "Epoch 64/200\n",
      "2500/2500 [==============================] - 3s 1ms/step - loss: 0.4467 - val_loss: 0.4573\n",
      "Epoch 65/200\n",
      "2500/2500 [==============================] - 3s 1ms/step - loss: 0.4464 - val_loss: 0.4422\n",
      "Epoch 66/200\n",
      "2500/2500 [==============================] - 3s 1ms/step - loss: 0.4468 - val_loss: 0.4477\n",
      "Epoch 67/200\n",
      "2500/2500 [==============================] - 3s 1ms/step - loss: 0.4464 - val_loss: 0.4438\n",
      "Epoch 68/200\n",
      "2500/2500 [==============================] - 3s 1ms/step - loss: 0.4468 - val_loss: 0.4439\n",
      "Epoch 69/200\n",
      "2500/2500 [==============================] - 3s 1ms/step - loss: 0.4465 - val_loss: 0.4427\n",
      "Epoch 70/200\n",
      "2500/2500 [==============================] - 3s 1ms/step - loss: 0.4458 - val_loss: 0.4469\n",
      "Epoch 71/200\n",
      "2500/2500 [==============================] - 3s 1ms/step - loss: 0.4462 - val_loss: 0.4429\n",
      "Epoch 72/200\n",
      "2500/2500 [==============================] - 3s 1ms/step - loss: 0.4468 - val_loss: 0.4474\n",
      "Epoch 73/200\n",
      "2500/2500 [==============================] - 3s 1ms/step - loss: 0.4457 - val_loss: 0.4457\n",
      "Epoch 74/200\n",
      "2500/2500 [==============================] - 3s 1ms/step - loss: 0.4459 - val_loss: 0.4429\n",
      "Epoch 75/200\n",
      "2500/2500 [==============================] - 4s 2ms/step - loss: 0.4456 - val_loss: 0.4421\n",
      "Epoch 76/200\n",
      "2500/2500 [==============================] - 5s 2ms/step - loss: 0.4456 - val_loss: 0.4418\n",
      "Epoch 77/200\n",
      "2500/2500 [==============================] - 4s 2ms/step - loss: 0.4456 - val_loss: 0.4450\n",
      "Epoch 78/200\n",
      "2500/2500 [==============================] - 3s 1ms/step - loss: 0.4447 - val_loss: 0.4440\n",
      "Epoch 79/200\n",
      "2500/2500 [==============================] - 3s 1ms/step - loss: 0.4452 - val_loss: 0.4409\n"
     ]
    },
    {
     "name": "stdout",
     "output_type": "stream",
     "text": [
      "Epoch 80/200\n",
      "2500/2500 [==============================] - 3s 1ms/step - loss: 0.4460 - val_loss: 0.4421\n",
      "Epoch 81/200\n",
      "2500/2500 [==============================] - 3s 1ms/step - loss: 0.4448 - val_loss: 0.4449\n",
      "Epoch 82/200\n",
      "2500/2500 [==============================] - 3s 1ms/step - loss: 0.4454 - val_loss: 0.4437\n",
      "Epoch 83/200\n",
      "2500/2500 [==============================] - 3s 1ms/step - loss: 0.4453 - val_loss: 0.4424\n",
      "Epoch 84/200\n",
      "2500/2500 [==============================] - 3s 1ms/step - loss: 0.4448 - val_loss: 0.4477\n",
      "Epoch 85/200\n",
      "2500/2500 [==============================] - 3s 1ms/step - loss: 0.4447 - val_loss: 0.4443\n",
      "Epoch 86/200\n",
      "2500/2500 [==============================] - 3s 1ms/step - loss: 0.4445 - val_loss: 0.4473\n",
      "Epoch 87/200\n",
      "2500/2500 [==============================] - 3s 1ms/step - loss: 0.4441 - val_loss: 0.4420\n",
      "Epoch 88/200\n",
      "2500/2500 [==============================] - 3s 1ms/step - loss: 0.4443 - val_loss: 0.4405\n",
      "Epoch 89/200\n",
      "2500/2500 [==============================] - 3s 1ms/step - loss: 0.4453 - val_loss: 0.4448\n",
      "Epoch 90/200\n",
      "2500/2500 [==============================] - 3s 1ms/step - loss: 0.4439 - val_loss: 0.4411\n",
      "Epoch 91/200\n",
      "2500/2500 [==============================] - 3s 1ms/step - loss: 0.4446 - val_loss: 0.4445\n",
      "Epoch 92/200\n",
      "2500/2500 [==============================] - 3s 1ms/step - loss: 0.4439 - val_loss: 0.4552\n",
      "Epoch 93/200\n",
      "2500/2500 [==============================] - 3s 1ms/step - loss: 0.4441 - val_loss: 0.4507\n",
      "Epoch 94/200\n",
      "2500/2500 [==============================] - 3s 1ms/step - loss: 0.4446 - val_loss: 0.4507\n",
      "Epoch 95/200\n",
      "2500/2500 [==============================] - 3s 1ms/step - loss: 0.4447 - val_loss: 0.4460\n",
      "Epoch 96/200\n",
      "2500/2500 [==============================] - 3s 1ms/step - loss: 0.4448 - val_loss: 0.4419\n",
      "Epoch 97/200\n",
      "2500/2500 [==============================] - 3s 1ms/step - loss: 0.4446 - val_loss: 0.4407\n",
      "Epoch 98/200\n",
      "2500/2500 [==============================] - 3s 1ms/step - loss: 0.4445 - val_loss: 0.4400\n",
      "Epoch 99/200\n",
      "2500/2500 [==============================] - 3s 1ms/step - loss: 0.4440 - val_loss: 0.4463\n",
      "Epoch 100/200\n",
      "2500/2500 [==============================] - 3s 1ms/step - loss: 0.4445 - val_loss: 0.4421\n",
      "Epoch 101/200\n",
      "2500/2500 [==============================] - 3s 1ms/step - loss: 0.4442 - val_loss: 0.4426\n",
      "Epoch 102/200\n",
      "2500/2500 [==============================] - 3s 1ms/step - loss: 0.4435 - val_loss: 0.4479\n",
      "Epoch 103/200\n",
      "2500/2500 [==============================] - 3s 1ms/step - loss: 0.4440 - val_loss: 0.4407\n",
      "Epoch 104/200\n",
      "2500/2500 [==============================] - 3s 1ms/step - loss: 0.4440 - val_loss: 0.4431\n",
      "Epoch 105/200\n",
      "2500/2500 [==============================] - 3s 1ms/step - loss: 0.4440 - val_loss: 0.4433\n",
      "Epoch 106/200\n",
      "2500/2500 [==============================] - 3s 1ms/step - loss: 0.4442 - val_loss: 0.4423\n",
      "Epoch 107/200\n",
      "2500/2500 [==============================] - 4s 1ms/step - loss: 0.4432 - val_loss: 0.4510\n",
      "Epoch 108/200\n",
      "2500/2500 [==============================] - 3s 1ms/step - loss: 0.4439 - val_loss: 0.4426\n",
      "Epoch 109/200\n",
      "2500/2500 [==============================] - 3s 1ms/step - loss: 0.4444 - val_loss: 0.4425\n",
      "Epoch 110/200\n",
      "2500/2500 [==============================] - 3s 1ms/step - loss: 0.4441 - val_loss: 0.4431\n",
      "Epoch 111/200\n",
      "2500/2500 [==============================] - 3s 1ms/step - loss: 0.4441 - val_loss: 0.4422\n",
      "Epoch 112/200\n",
      "2500/2500 [==============================] - 4s 1ms/step - loss: 0.4431 - val_loss: 0.4439\n",
      "Epoch 113/200\n",
      "2500/2500 [==============================] - 3s 1ms/step - loss: 0.4435 - val_loss: 0.4432\n",
      "Epoch 114/200\n",
      "2500/2500 [==============================] - 3s 1ms/step - loss: 0.4436 - val_loss: 0.4402\n",
      "Epoch 115/200\n",
      "2500/2500 [==============================] - 3s 1ms/step - loss: 0.4435 - val_loss: 0.4415\n",
      "Epoch 116/200\n",
      "2500/2500 [==============================] - 3s 1ms/step - loss: 0.4438 - val_loss: 0.4448\n",
      "Epoch 117/200\n",
      "2500/2500 [==============================] - 3s 1ms/step - loss: 0.4429 - val_loss: 0.4401\n",
      "Epoch 118/200\n",
      "2500/2500 [==============================] - 3s 1ms/step - loss: 0.4435 - val_loss: 0.4466\n",
      "Epoch 119/200\n",
      "2500/2500 [==============================] - 3s 1ms/step - loss: 0.4435 - val_loss: 0.4413\n",
      "Epoch 120/200\n",
      "2500/2500 [==============================] - 3s 1ms/step - loss: 0.4432 - val_loss: 0.4543\n",
      "Epoch 121/200\n",
      "2500/2500 [==============================] - 3s 1ms/step - loss: 0.4431 - val_loss: 0.4420\n",
      "Epoch 122/200\n",
      "2500/2500 [==============================] - 3s 1ms/step - loss: 0.4428 - val_loss: 0.4414\n",
      "Epoch 123/200\n",
      "2500/2500 [==============================] - 3s 1ms/step - loss: 0.4431 - val_loss: 0.4418\n",
      "Epoch 123: early stopping\n"
     ]
    },
    {
     "data": {
      "text/plain": [
       "<keras.callbacks.History at 0x1d16e8ebf70>"
      ]
     },
     "execution_count": 52,
     "metadata": {},
     "output_type": "execute_result"
    }
   ],
   "source": [
    "model.fit(x=X_train_ce, \n",
    "          y=y_train, \n",
    "          epochs=200,\n",
    "          validation_data=(X_test_ce, y_test), verbose=1,\n",
    "          callbacks=[early_stop]\n",
    "          )"
   ]
  },
  {
   "cell_type": "code",
   "execution_count": 53,
   "id": "f504084d",
   "metadata": {},
   "outputs": [
    {
     "data": {
      "text/plain": [
       "<AxesSubplot:>"
      ]
     },
     "execution_count": 53,
     "metadata": {},
     "output_type": "execute_result"
    },
    {
     "data": {
      "image/png": "[encoded data removed]",
      "text/plain": [
       "<Figure size 432x288 with 1 Axes>"
      ]
     },
     "metadata": {
      "needs_background": "light"
     },
     "output_type": "display_data"
    }
   ],
   "source": [
    "model_loss = pd.DataFrame(model.history.history)\n",
    "model_loss.plot()"
   ]
  },
  {
   "cell_type": "markdown",
   "id": "1b55404f",
   "metadata": {},
   "source": [
    "We can see that we stopped out early using early stopping as our model didn't train for a full 600 epochs. Let's also try adding in dropout layers."
   ]
  },
  {
   "cell_type": "code",
   "execution_count": 54,
   "id": "d4877d8d",
   "metadata": {},
   "outputs": [],
   "source": [
    "from tensorflow.keras.layers import Dropout"
   ]
  },
  {
   "cell_type": "code",
   "execution_count": 55,
   "id": "122c3d13",
   "metadata": {},
   "outputs": [],
   "source": [
    "model_dp = Sequential()\n",
    "model_dp.add(Dense(units=14,activation='relu'))\n",
    "model_dp.add(Dropout(0.5))\n",
    "\n",
    "model_dp.add(Dense(units=7,activation='relu'))\n",
    "model_dp.add(Dropout(0.5))\n",
    "\n",
    "model_dp.add(Dense(units=1,activation='sigmoid'))\n",
    "model_dp.compile(loss='binary_crossentropy', optimizer='adam')"
   ]
  },
  {
   "cell_type": "code",
   "execution_count": 56,
   "id": "2d66ccfc",
   "metadata": {},
   "outputs": [
    {
     "name": "stdout",
     "output_type": "stream",
     "text": [
      "Epoch 1/200\n",
      "2500/2500 [==============================] - 3s 1ms/step - loss: 5.9503 - val_loss: 0.4883\n",
      "Epoch 2/200\n",
      "2500/2500 [==============================] - 3s 1ms/step - loss: 0.5133 - val_loss: 0.4869\n",
      "Epoch 3/200\n",
      "2500/2500 [==============================] - 3s 1ms/step - loss: 0.4875 - val_loss: 0.4868\n",
      "Epoch 4/200\n",
      "2500/2500 [==============================] - 3s 1ms/step - loss: 0.4872 - val_loss: 0.4868\n",
      "Epoch 5/200\n",
      "2500/2500 [==============================] - 3s 1ms/step - loss: 0.4869 - val_loss: 0.4868\n",
      "Epoch 6/200\n",
      "2500/2500 [==============================] - 3s 1ms/step - loss: 0.4868 - val_loss: 0.4868\n",
      "Epoch 7/200\n",
      "2500/2500 [==============================] - 3s 1ms/step - loss: 0.4868 - val_loss: 0.4869\n",
      "Epoch 8/200\n",
      "2500/2500 [==============================] - 3s 1ms/step - loss: 0.4868 - val_loss: 0.4868\n",
      "Epoch 9/200\n",
      "2500/2500 [==============================] - 3s 1ms/step - loss: 0.4868 - val_loss: 0.4868\n",
      "Epoch 10/200\n",
      "2500/2500 [==============================] - 3s 1ms/step - loss: 0.4868 - val_loss: 0.4868\n",
      "Epoch 11/200\n",
      "2500/2500 [==============================] - 3s 1ms/step - loss: 0.4868 - val_loss: 0.4868\n",
      "Epoch 12/200\n",
      "2500/2500 [==============================] - 3s 1ms/step - loss: 0.4868 - val_loss: 0.4868\n",
      "Epoch 13/200\n",
      "2500/2500 [==============================] - 3s 1ms/step - loss: 0.4868 - val_loss: 0.4868\n",
      "Epoch 14/200\n",
      "2500/2500 [==============================] - 3s 1ms/step - loss: 0.4868 - val_loss: 0.4868\n",
      "Epoch 15/200\n",
      "2500/2500 [==============================] - 3s 1ms/step - loss: 0.4868 - val_loss: 0.4868\n",
      "Epoch 16/200\n",
      "2500/2500 [==============================] - 3s 1ms/step - loss: 0.4868 - val_loss: 0.4868\n",
      "Epoch 17/200\n",
      "2500/2500 [==============================] - 3s 1ms/step - loss: 0.4868 - val_loss: 0.4868\n",
      "Epoch 18/200\n",
      "2500/2500 [==============================] - 3s 1ms/step - loss: 0.4868 - val_loss: 0.4868\n",
      "Epoch 19/200\n",
      "2500/2500 [==============================] - 3s 1ms/step - loss: 0.4868 - val_loss: 0.4868\n",
      "Epoch 20/200\n",
      "2500/2500 [==============================] - 4s 1ms/step - loss: 0.4868 - val_loss: 0.4868\n",
      "Epoch 21/200\n",
      "2500/2500 [==============================] - 3s 1ms/step - loss: 0.4868 - val_loss: 0.4868\n",
      "Epoch 22/200\n",
      "2500/2500 [==============================] - 3s 1ms/step - loss: 0.4868 - val_loss: 0.4869\n",
      "Epoch 23/200\n",
      "2500/2500 [==============================] - 3s 1ms/step - loss: 0.4868 - val_loss: 0.4868\n",
      "Epoch 24/200\n",
      "2500/2500 [==============================] - 3s 1ms/step - loss: 0.4868 - val_loss: 0.4868\n",
      "Epoch 25/200\n",
      "2500/2500 [==============================] - 3s 1ms/step - loss: 0.4868 - val_loss: 0.4868\n",
      "Epoch 26/200\n",
      "2500/2500 [==============================] - 3s 1ms/step - loss: 0.4868 - val_loss: 0.4868\n",
      "Epoch 27/200\n",
      "2500/2500 [==============================] - 3s 1ms/step - loss: 0.4868 - val_loss: 0.4868\n",
      "Epoch 28/200\n",
      "2500/2500 [==============================] - 3s 1ms/step - loss: 0.4868 - val_loss: 0.4868\n",
      "Epoch 29/200\n",
      "2500/2500 [==============================] - 3s 1ms/step - loss: 0.4868 - val_loss: 0.4868\n",
      "Epoch 29: early stopping\n"
     ]
    },
    {
     "data": {
      "text/plain": [
       "<keras.callbacks.History at 0x1d1011aa530>"
      ]
     },
     "execution_count": 56,
     "metadata": {},
     "output_type": "execute_result"
    }
   ],
   "source": [
    "model_dp.fit(x=X_train_ce, \n",
    "          y=y_train, \n",
    "          epochs=200,\n",
    "          validation_data=(X_test_ce, y_test), verbose=1,\n",
    "          callbacks=[early_stop]\n",
    "          )"
   ]
  },
  {
   "cell_type": "code",
   "execution_count": 57,
   "id": "a8841304",
   "metadata": {},
   "outputs": [
    {
     "data": {
      "text/plain": [
       "<AxesSubplot:>"
      ]
     },
     "execution_count": 57,
     "metadata": {},
     "output_type": "execute_result"
    },
    {
     "data": {
      "image/png": "[encoded data removed]",
      "text/plain": [
       "<Figure size 432x288 with 1 Axes>"
      ]
     },
     "metadata": {
      "needs_background": "light"
     },
     "output_type": "display_data"
    }
   ],
   "source": [
    "model_loss = pd.DataFrame(model_dp.history.history)\n",
    "model_loss.plot()"
   ]
  },
  {
   "cell_type": "code",
   "execution_count": 65,
   "id": "aa0a891f",
   "metadata": {},
   "outputs": [
    {
     "name": "stdout",
     "output_type": "stream",
     "text": [
      "625/625 [==============================] - 0s 660us/step\n"
     ]
    }
   ],
   "source": [
    "predictions=(model.predict(X_test_ce) > 0.5).astype(\"int32\")"
   ]
  },
  {
   "cell_type": "markdown",
   "id": "6c147a9b",
   "metadata": {},
   "source": [
    "## Model Evaluation\n"
   ]
  },
  {
   "cell_type": "code",
   "execution_count": 66,
   "id": "0dd34cb1",
   "metadata": {},
   "outputs": [
    {
     "name": "stdout",
     "output_type": "stream",
     "text": [
      "The root mean squared error is:  0.4330812602374968\n"
     ]
    }
   ],
   "source": [
    "rms = mean_squared_error(y_test, predictions, squared=False)\n",
    "print('The root mean squared error is: ',rms)"
   ]
  },
  {
   "cell_type": "code",
   "execution_count": 67,
   "id": "6852ebb5",
   "metadata": {},
   "outputs": [
    {
     "name": "stdout",
     "output_type": "stream",
     "text": [
      "              precision    recall  f1-score   support\n",
      "\n",
      "           0       0.82      0.99      0.90     16191\n",
      "           1       0.61      0.04      0.08      3808\n",
      "\n",
      "    accuracy                           0.81     19999\n",
      "   macro avg       0.71      0.52      0.49     19999\n",
      "weighted avg       0.78      0.81      0.74     19999\n",
      "\n"
     ]
    }
   ],
   "source": [
    "print(classification_report(y_test,predictions))"
   ]
  },
  {
   "cell_type": "markdown",
   "id": "b05f56c2",
   "metadata": {},
   "source": [
    "# Final Comments\n",
    "We see that the random forest classifier is giving us the best results, although all four models are performing roughly the same. Obviously there is a lot more that we still could've done with this project, like hyperparameter tuning, trying different classifiers and maybe more feature engineering."
   ]
  }
 ],
 "metadata": {
  "kernelspec": {
   "display_name": "Python 3 (ipykernel)",
   "language": "python",
   "name": "python3"
  },
  "language_info": {
   "codemirror_mode": {
    "name": "ipython",
    "version": 3
   },
   "file_extension": ".py",
   "mimetype": "text/x-python",
   "name": "python",
   "nbconvert_exporter": "python",
   "pygments_lexer": "ipython3",
   "version": "3.9.12"
  }
 },
 "nbformat": 4,
 "nbformat_minor": 5
}
